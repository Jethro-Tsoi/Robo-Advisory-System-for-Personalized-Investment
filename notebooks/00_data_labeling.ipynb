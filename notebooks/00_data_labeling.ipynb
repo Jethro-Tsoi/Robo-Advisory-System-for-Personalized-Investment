{
 "cells": [
  {
   "cell_type": "code",
   "execution_count": 29,
   "metadata": {},
   "outputs": [
    {
     "name": "stdout",
     "output_type": "stream",
     "text": [
      "Requirement already satisfied: polars in /Users/jethrotsoi/anaconda3/envs/PIRAS/lib/python3.11/site-packages (1.26.0)\n",
      "Requirement already satisfied: requests in /Users/jethrotsoi/anaconda3/envs/PIRAS/lib/python3.11/site-packages (2.32.3)\n",
      "Requirement already satisfied: tqdm in /Users/jethrotsoi/anaconda3/envs/PIRAS/lib/python3.11/site-packages (4.67.1)\n",
      "Requirement already satisfied: charset-normalizer<4,>=2 in /Users/jethrotsoi/anaconda3/envs/PIRAS/lib/python3.11/site-packages (from requests) (3.4.1)\n",
      "Requirement already satisfied: idna<4,>=2.5 in /Users/jethrotsoi/anaconda3/envs/PIRAS/lib/python3.11/site-packages (from requests) (3.10)\n",
      "Requirement already satisfied: urllib3<3,>=1.21.1 in /Users/jethrotsoi/anaconda3/envs/PIRAS/lib/python3.11/site-packages (from requests) (2.3.0)\n",
      "Requirement already satisfied: certifi>=2017.4.17 in /Users/jethrotsoi/anaconda3/envs/PIRAS/lib/python3.11/site-packages (from requests) (2025.1.31)\n"
     ]
    },
    {
     "ename": "OSError",
     "evalue": "[Errno 5] Input/output error",
     "output_type": "error",
     "traceback": [
      "\u001b[31m---------------------------------------------------------------------------\u001b[39m",
      "\u001b[31mKeyboardInterrupt\u001b[39m                         Traceback (most recent call last)",
      "\u001b[36mFile \u001b[39m\u001b[32m~/anaconda3/envs/PIRAS/lib/python3.11/site-packages/IPython/utils/_process_posix.py:130\u001b[39m, in \u001b[36mProcessHandler.system\u001b[39m\u001b[34m(self, cmd)\u001b[39m\n\u001b[32m    127\u001b[39m \u001b[38;5;28;01mwhile\u001b[39;00m \u001b[38;5;28;01mTrue\u001b[39;00m:\n\u001b[32m    128\u001b[39m     \u001b[38;5;66;03m# res is the index of the pattern that caused the match, so we\u001b[39;00m\n\u001b[32m    129\u001b[39m     \u001b[38;5;66;03m# know whether we've finished (if we matched EOF) or not\u001b[39;00m\n\u001b[32m--> \u001b[39m\u001b[32m130\u001b[39m     res_idx = \u001b[43mchild\u001b[49m\u001b[43m.\u001b[49m\u001b[43mexpect_list\u001b[49m\u001b[43m(\u001b[49m\u001b[43mpatterns\u001b[49m\u001b[43m,\u001b[49m\u001b[43m \u001b[49m\u001b[38;5;28;43mself\u001b[39;49m\u001b[43m.\u001b[49m\u001b[43mread_timeout\u001b[49m\u001b[43m)\u001b[49m\n\u001b[32m    131\u001b[39m     \u001b[38;5;28mprint\u001b[39m(child.before[out_size:].decode(enc, \u001b[33m'\u001b[39m\u001b[33mreplace\u001b[39m\u001b[33m'\u001b[39m), end=\u001b[33m'\u001b[39m\u001b[33m'\u001b[39m)\n",
      "\u001b[36mFile \u001b[39m\u001b[32m~/anaconda3/envs/PIRAS/lib/python3.11/site-packages/pexpect/spawnbase.py:383\u001b[39m, in \u001b[36mSpawnBase.expect_list\u001b[39m\u001b[34m(self, pattern_list, timeout, searchwindowsize, async_, **kw)\u001b[39m\n\u001b[32m    382\u001b[39m \u001b[38;5;28;01melse\u001b[39;00m:\n\u001b[32m--> \u001b[39m\u001b[32m383\u001b[39m     \u001b[38;5;28;01mreturn\u001b[39;00m \u001b[43mexp\u001b[49m\u001b[43m.\u001b[49m\u001b[43mexpect_loop\u001b[49m\u001b[43m(\u001b[49m\u001b[43mtimeout\u001b[49m\u001b[43m)\u001b[49m\n",
      "\u001b[36mFile \u001b[39m\u001b[32m~/anaconda3/envs/PIRAS/lib/python3.11/site-packages/pexpect/expect.py:169\u001b[39m, in \u001b[36mExpecter.expect_loop\u001b[39m\u001b[34m(self, timeout)\u001b[39m\n\u001b[32m    168\u001b[39m \u001b[38;5;66;03m# Still have time left, so read more data\u001b[39;00m\n\u001b[32m--> \u001b[39m\u001b[32m169\u001b[39m incoming = \u001b[43mspawn\u001b[49m\u001b[43m.\u001b[49m\u001b[43mread_nonblocking\u001b[49m\u001b[43m(\u001b[49m\u001b[43mspawn\u001b[49m\u001b[43m.\u001b[49m\u001b[43mmaxread\u001b[49m\u001b[43m,\u001b[49m\u001b[43m \u001b[49m\u001b[43mtimeout\u001b[49m\u001b[43m)\u001b[49m\n\u001b[32m    170\u001b[39m \u001b[38;5;28;01mif\u001b[39;00m \u001b[38;5;28mself\u001b[39m.spawn.delayafterread \u001b[38;5;129;01mis\u001b[39;00m \u001b[38;5;129;01mnot\u001b[39;00m \u001b[38;5;28;01mNone\u001b[39;00m:\n",
      "\u001b[36mFile \u001b[39m\u001b[32m~/anaconda3/envs/PIRAS/lib/python3.11/site-packages/pexpect/pty_spawn.py:500\u001b[39m, in \u001b[36mspawn.read_nonblocking\u001b[39m\u001b[34m(self, size, timeout)\u001b[39m\n\u001b[32m    497\u001b[39m \u001b[38;5;66;03m# Because of the select(0) check above, we know that no data\u001b[39;00m\n\u001b[32m    498\u001b[39m \u001b[38;5;66;03m# is available right now. But if a non-zero timeout is given\u001b[39;00m\n\u001b[32m    499\u001b[39m \u001b[38;5;66;03m# (possibly timeout=None), we call select() with a timeout.\u001b[39;00m\n\u001b[32m--> \u001b[39m\u001b[32m500\u001b[39m \u001b[38;5;28;01mif\u001b[39;00m (timeout != \u001b[32m0\u001b[39m) \u001b[38;5;129;01mand\u001b[39;00m \u001b[43mselect\u001b[49m\u001b[43m(\u001b[49m\u001b[43mtimeout\u001b[49m\u001b[43m)\u001b[49m:\n\u001b[32m    501\u001b[39m     \u001b[38;5;28;01mreturn\u001b[39;00m \u001b[38;5;28msuper\u001b[39m(spawn, \u001b[38;5;28mself\u001b[39m).read_nonblocking(size)\n",
      "\u001b[36mFile \u001b[39m\u001b[32m~/anaconda3/envs/PIRAS/lib/python3.11/site-packages/pexpect/pty_spawn.py:450\u001b[39m, in \u001b[36mspawn.read_nonblocking.<locals>.select\u001b[39m\u001b[34m(timeout)\u001b[39m\n\u001b[32m    449\u001b[39m \u001b[38;5;28;01mdef\u001b[39;00m\u001b[38;5;250m \u001b[39m\u001b[34mselect\u001b[39m(timeout):\n\u001b[32m--> \u001b[39m\u001b[32m450\u001b[39m     \u001b[38;5;28;01mreturn\u001b[39;00m \u001b[43mselect_ignore_interrupts\u001b[49m\u001b[43m(\u001b[49m\u001b[43m[\u001b[49m\u001b[38;5;28;43mself\u001b[39;49m\u001b[43m.\u001b[49m\u001b[43mchild_fd\u001b[49m\u001b[43m]\u001b[49m\u001b[43m,\u001b[49m\u001b[43m \u001b[49m\u001b[43m[\u001b[49m\u001b[43m]\u001b[49m\u001b[43m,\u001b[49m\u001b[43m \u001b[49m\u001b[43m[\u001b[49m\u001b[43m]\u001b[49m\u001b[43m,\u001b[49m\u001b[43m \u001b[49m\u001b[43mtimeout\u001b[49m\u001b[43m)\u001b[49m[\u001b[32m0\u001b[39m]\n",
      "\u001b[36mFile \u001b[39m\u001b[32m~/anaconda3/envs/PIRAS/lib/python3.11/site-packages/pexpect/utils.py:143\u001b[39m, in \u001b[36mselect_ignore_interrupts\u001b[39m\u001b[34m(iwtd, owtd, ewtd, timeout)\u001b[39m\n\u001b[32m    142\u001b[39m \u001b[38;5;28;01mtry\u001b[39;00m:\n\u001b[32m--> \u001b[39m\u001b[32m143\u001b[39m     \u001b[38;5;28;01mreturn\u001b[39;00m select.select(iwtd, owtd, ewtd, timeout)\n\u001b[32m    144\u001b[39m \u001b[38;5;28;01mexcept\u001b[39;00m \u001b[38;5;167;01mInterruptedError\u001b[39;00m:\n",
      "\u001b[31mKeyboardInterrupt\u001b[39m: ",
      "\nDuring handling of the above exception, another exception occurred:\n",
      "\u001b[31mOSError\u001b[39m                                   Traceback (most recent call last)",
      "\u001b[36mCell\u001b[39m\u001b[36m \u001b[39m\u001b[32mIn[29]\u001b[39m\u001b[32m, line 1\u001b[39m\n\u001b[32m----> \u001b[39m\u001b[32m1\u001b[39m \u001b[43mget_ipython\u001b[49m\u001b[43m(\u001b[49m\u001b[43m)\u001b[49m\u001b[43m.\u001b[49m\u001b[43msystem\u001b[49m\u001b[43m(\u001b[49m\u001b[33;43m'\u001b[39;49m\u001b[33;43mpip install polars requests tqdm\u001b[39;49m\u001b[33;43m'\u001b[39;49m\u001b[43m)\u001b[49m\n",
      "\u001b[36mFile \u001b[39m\u001b[32m~/anaconda3/envs/PIRAS/lib/python3.11/site-packages/ipykernel/zmqshell.py:657\u001b[39m, in \u001b[36mZMQInteractiveShell.system_piped\u001b[39m\u001b[34m(self, cmd)\u001b[39m\n\u001b[32m    655\u001b[39m         \u001b[38;5;28mself\u001b[39m.user_ns[\u001b[33m\"\u001b[39m\u001b[33m_exit_code\u001b[39m\u001b[33m\"\u001b[39m] = system(cmd)\n\u001b[32m    656\u001b[39m \u001b[38;5;28;01melse\u001b[39;00m:\n\u001b[32m--> \u001b[39m\u001b[32m657\u001b[39m     \u001b[38;5;28mself\u001b[39m.user_ns[\u001b[33m\"\u001b[39m\u001b[33m_exit_code\u001b[39m\u001b[33m\"\u001b[39m] = \u001b[43msystem\u001b[49m\u001b[43m(\u001b[49m\u001b[38;5;28;43mself\u001b[39;49m\u001b[43m.\u001b[49m\u001b[43mvar_expand\u001b[49m\u001b[43m(\u001b[49m\u001b[43mcmd\u001b[49m\u001b[43m,\u001b[49m\u001b[43m \u001b[49m\u001b[43mdepth\u001b[49m\u001b[43m=\u001b[49m\u001b[32;43m1\u001b[39;49m\u001b[43m)\u001b[49m\u001b[43m)\u001b[49m\n",
      "\u001b[36mFile \u001b[39m\u001b[32m~/anaconda3/envs/PIRAS/lib/python3.11/site-packages/IPython/utils/_process_posix.py:141\u001b[39m, in \u001b[36mProcessHandler.system\u001b[39m\u001b[34m(self, cmd)\u001b[39m\n\u001b[32m    136\u001b[39m         out_size = \u001b[38;5;28mlen\u001b[39m(child.before)\n\u001b[32m    137\u001b[39m \u001b[38;5;28;01mexcept\u001b[39;00m \u001b[38;5;167;01mKeyboardInterrupt\u001b[39;00m:\n\u001b[32m    138\u001b[39m     \u001b[38;5;66;03m# We need to send ^C to the process.  The ascii code for '^C' is 3\u001b[39;00m\n\u001b[32m    139\u001b[39m     \u001b[38;5;66;03m# (the character is known as ETX for 'End of Text', see\u001b[39;00m\n\u001b[32m    140\u001b[39m     \u001b[38;5;66;03m# curses.ascii.ETX).\u001b[39;00m\n\u001b[32m--> \u001b[39m\u001b[32m141\u001b[39m     \u001b[43mchild\u001b[49m\u001b[43m.\u001b[49m\u001b[43msendline\u001b[49m\u001b[43m(\u001b[49m\u001b[38;5;28;43mchr\u001b[39;49m\u001b[43m(\u001b[49m\u001b[32;43m3\u001b[39;49m\u001b[43m)\u001b[49m\u001b[43m)\u001b[49m\n\u001b[32m    142\u001b[39m     \u001b[38;5;66;03m# Read and print any more output the program might produce on its\u001b[39;00m\n\u001b[32m    143\u001b[39m     \u001b[38;5;66;03m# way out.\u001b[39;00m\n\u001b[32m    144\u001b[39m     \u001b[38;5;28;01mtry\u001b[39;00m:\n",
      "\u001b[36mFile \u001b[39m\u001b[32m~/anaconda3/envs/PIRAS/lib/python3.11/site-packages/pexpect/pty_spawn.py:578\u001b[39m, in \u001b[36mspawn.sendline\u001b[39m\u001b[34m(self, s)\u001b[39m\n\u001b[32m    572\u001b[39m \u001b[38;5;250m\u001b[39m\u001b[33;03m'''Wraps send(), sending string ``s`` to child process, with\u001b[39;00m\n\u001b[32m    573\u001b[39m \u001b[33;03m``os.linesep`` automatically appended. Returns number of bytes\u001b[39;00m\n\u001b[32m    574\u001b[39m \u001b[33;03mwritten.  Only a limited number of bytes may be sent for each\u001b[39;00m\n\u001b[32m    575\u001b[39m \u001b[33;03mline in the default terminal mode, see docstring of :meth:`send`.\u001b[39;00m\n\u001b[32m    576\u001b[39m \u001b[33;03m'''\u001b[39;00m\n\u001b[32m    577\u001b[39m s = \u001b[38;5;28mself\u001b[39m._coerce_send_string(s)\n\u001b[32m--> \u001b[39m\u001b[32m578\u001b[39m \u001b[38;5;28;01mreturn\u001b[39;00m \u001b[38;5;28;43mself\u001b[39;49m\u001b[43m.\u001b[49m\u001b[43msend\u001b[49m\u001b[43m(\u001b[49m\u001b[43ms\u001b[49m\u001b[43m \u001b[49m\u001b[43m+\u001b[49m\u001b[43m \u001b[49m\u001b[38;5;28;43mself\u001b[39;49m\u001b[43m.\u001b[49m\u001b[43mlinesep\u001b[49m\u001b[43m)\u001b[49m\n",
      "\u001b[36mFile \u001b[39m\u001b[32m~/anaconda3/envs/PIRAS/lib/python3.11/site-packages/pexpect/pty_spawn.py:569\u001b[39m, in \u001b[36mspawn.send\u001b[39m\u001b[34m(self, s)\u001b[39m\n\u001b[32m    566\u001b[39m \u001b[38;5;28mself\u001b[39m._log(s, \u001b[33m'\u001b[39m\u001b[33msend\u001b[39m\u001b[33m'\u001b[39m)\n\u001b[32m    568\u001b[39m b = \u001b[38;5;28mself\u001b[39m._encoder.encode(s, final=\u001b[38;5;28;01mFalse\u001b[39;00m)\n\u001b[32m--> \u001b[39m\u001b[32m569\u001b[39m \u001b[38;5;28;01mreturn\u001b[39;00m \u001b[43mos\u001b[49m\u001b[43m.\u001b[49m\u001b[43mwrite\u001b[49m\u001b[43m(\u001b[49m\u001b[38;5;28;43mself\u001b[39;49m\u001b[43m.\u001b[49m\u001b[43mchild_fd\u001b[49m\u001b[43m,\u001b[49m\u001b[43m \u001b[49m\u001b[43mb\u001b[49m\u001b[43m)\u001b[49m\n",
      "\u001b[31mOSError\u001b[39m: [Errno 5] Input/output error"
     ]
    }
   ],
   "source": [
    "!pip install polars requests tqdm"
   ]
  },
  {
   "cell_type": "code",
   "execution_count": 16,
   "id": "7d595140",
   "metadata": {},
   "outputs": [],
   "source": [
    "import os\n",
    "import polars as pl\n",
    "import requests\n",
    "import json\n",
    "from tqdm import tqdm\n",
    "import time\n",
    "import re\n",
    "# Removed: # Removed: import google.generativeai as genai\n",
    "from concurrent.futures import ThreadPoolExecutor"
   ]
  },
  {
   "cell_type": "code",
   "execution_count": 17,
   "id": "e855cc1e",
   "metadata": {},
   "outputs": [],
   "source": [
    "class KeyManager:\n",
    "    \"\"\"Manages multiple API keys and rotates them when rate limits are reached\"\"\"\n",
    "    \n",
    "    def __init__(self, env_prefix='MISTRAL_API_KEY'):\n",
    "        \"\"\"\n",
    "        Initialize the key manager\n",
    "        \n",
    "        Parameters:\n",
    "        -----------\n",
    "        env_prefix : str\n",
    "            Prefix for environment variables storing API keys.\n",
    "            Keys should be named like MISTRAL_API_KEY, MISTRAL_API_KEY_1, MISTRAL_API_KEY_2, etc.\n",
    "        \"\"\"\n",
    "        self.env_prefix = env_prefix\n",
    "        self.api_keys = self._load_api_keys()\n",
    "        self.current_index = 0\n",
    "        self.rate_limited_keys = {}  # Track which keys hit rate limits and when they can be used again\n",
    "        self.base_url = \"https://api.mistral.ai/v1/chat/completions\"\n",
    "        self.headers = {\n",
    "            \"Content-Type\": \"application/json\"\n",
    "        }\n",
    "        \n",
    "        if not self.api_keys:\n",
    "            print(\"⚠️ No API keys found. Please set at least one API key.\")\n",
    "            key = input(f\"Enter your Mistral AI API key: \")\n",
    "            if key:\n",
    "                self.api_keys.append(key)\n",
    "            else:\n",
    "                raise ValueError(\"No API key provided. Cannot continue.\")\n",
    "        \n",
    "        print(f\"Loaded {len(self.api_keys)} Mistral API keys.\")\n",
    "        \n",
    "    def _load_api_keys(self):\n",
    "        \"\"\"Load API keys from environment variables\"\"\"\n",
    "        api_keys = []\n",
    "        \n",
    "        # Try the base key first\n",
    "        base_key = os.getenv(self.env_prefix)\n",
    "        if base_key:\n",
    "            api_keys.append(base_key)\n",
    "        \n",
    "        # Try numbered keys (MISTRAL_API_KEY_1, MISTRAL_API_KEY_2, etc.)\n",
    "        for i in range(1, 10):  # Check for up to 10 keys\n",
    "            key = os.getenv(f\"{self.env_prefix}_{i}\")\n",
    "            if key:\n",
    "                api_keys.append(key)\n",
    "        \n",
    "        return api_keys\n",
    "    \n",
    "    def get_current_key(self):\n",
    "        \"\"\"Get the current active API key\"\"\"\n",
    "        return self.api_keys[self.current_index]\n",
    "    \n",
    "    def get_current_headers(self):\n",
    "        \"\"\"Get headers with the current API key\"\"\"\n",
    "        headers = self.headers.copy()\n",
    "        headers[\"Authorization\"] = f\"Bearer {self.get_current_key()}\"\n",
    "        return headers\n",
    "    \n",
    "    def rotate_key(self, rate_limited=False, retry_after=60):\n",
    "        \"\"\"\n",
    "        Rotate to the next available API key\n",
    "        \n",
    "        Parameters:\n",
    "        -----------\n",
    "        rate_limited : bool\n",
    "            Whether the current key hit a rate limit\n",
    "        retry_after : int\n",
    "            Seconds until the rate-limited key can be used again\n",
    "        \n",
    "        Returns:\n",
    "        --------\n",
    "        str : The new API key\n",
    "        \"\"\"\n",
    "        # Mark the current key as rate limited if needed\n",
    "        if rate_limited:\n",
    "            self.rate_limited_keys[self.current_index] = time.time() + retry_after\n",
    "            print(f\"API key {self.current_index + 1} rate limited. Will retry after {retry_after} seconds.\")\n",
    "        \n",
    "        # Try to find a key that's not rate limited\n",
    "        original_index = self.current_index\n",
    "        while True:\n",
    "            self.current_index = (self.current_index + 1) % len(self.api_keys)\n",
    "            \n",
    "            # Check if this key is rate limited\n",
    "            if self.current_index in self.rate_limited_keys:\n",
    "                # Check if enough time has passed\n",
    "                if time.time() > self.rate_limited_keys[self.current_index]:\n",
    "                    # Key is no longer rate limited\n",
    "                    del self.rate_limited_keys[self.current_index]\n",
    "                    break\n",
    "            else:\n",
    "                # Key is not rate limited\n",
    "                break\n",
    "                \n",
    "            # If we've checked all keys and they're all rate limited, use the least recently rate limited one\n",
    "            if self.current_index == original_index:\n",
    "                # Find the key that will be available soonest\n",
    "                soonest_available = min(self.rate_limited_keys.items(), key=lambda x: x[1])\n",
    "                self.current_index = soonest_available[0]\n",
    "                wait_time = max(0, self.rate_limited_keys[self.current_index] - time.time())\n",
    "                \n",
    "                if wait_time > 0:\n",
    "                    print(f\"All API keys are rate limited. Waiting {wait_time:.1f} seconds for the next available key.\")\n",
    "                    time.sleep(wait_time)\n",
    "                    del self.rate_limited_keys[self.current_index]\n",
    "                break\n",
    "        \n",
    "        # Return the new key\n",
    "        key = self.api_keys[self.current_index]\n",
    "        print(f\"Switched to Mistral API key {self.current_index + 1}\")\n",
    "        return key"
   ]
  },
  {
   "cell_type": "code",
   "execution_count": 18,
   "id": "8e42b84c",
   "metadata": {},
   "outputs": [
    {
     "name": "stdout",
     "output_type": "stream",
     "text": [
      "Loaded 2 Mistral API keys.\n"
     ]
    }
   ],
   "source": [
    "# Initialize the Key Manager\n",
    "key_manager = KeyManager()\n",
    "\n",
    "# Set the model name\n",
    "MODEL = \"mistral-small-latest\"  # Using Mistral's large model instead of Gemini\n"
   ]
  },
  {
   "cell_type": "markdown",
   "id": "c2c9bc61",
   "metadata": {},
   "source": [
    "\n",
    "> **⚠️ API Key Setup**\n",
    ">\n",
    "> This notebook uses the Mistral AI API with support for multiple API keys:\n",
    ">\n",
    "> 1. Set your primary API key as `MISTRAL_API_KEY` environment variable\n",
    "> 2. For additional keys, use `MISTRAL_API_KEY_1`, `MISTRAL_API_KEY_2`, etc.\n",
    "> 3. The system will automatically rotate between keys if rate limits are encountered\n",
    ">\n",
    "> Keys can be created at [Mistral AI Platform](https://console.mistral.ai/)\n",
    ">\n",
    "> **Mistral AI Free Tier Limits:**\n",
    "> - 1 request per second (60 requests per minute)\n",
    "> - 500,000 tokens per minute\n",
    "> - 1 billion tokens per month\n"
   ]
  },
  {
   "cell_type": "code",
   "execution_count": 19,
   "id": "700448bb",
   "metadata": {},
   "outputs": [],
   "source": [
    "def setup_prompt(text):\n",
    "    \"\"\"Configure the prompt for Mistral\"\"\"\n",
    "    return [\n",
    "        {\"role\": \"system\", \"content\": \"\"\"\n",
    "            You are a financial sentiment analyzer. Classify the given tweet's sentiment into one of these categories:\n",
    "\n",
    "            STRONGLY_POSITIVE - Very bullish, highly confident optimistic outlook\n",
    "            POSITIVE - Generally optimistic, bullish view\n",
    "            NEUTRAL - Factual, balanced, or no clear sentiment\n",
    "            NEGATIVE - Generally pessimistic, bearish view\n",
    "            STRONGLY_NEGATIVE - Very bearish, highly confident pessimistic outlook\n",
    "\n",
    "            Examples:\n",
    "            \"Breaking: Company XYZ doubles profit forecast!\" -> STRONGLY_POSITIVE\n",
    "            \"Expecting modest gains next quarter\" -> POSITIVE\n",
    "            \"Market closed at 35,000\" -> NEUTRAL\n",
    "            \"Concerned about rising rates\" -> NEGATIVE\n",
    "            \"Crash incoming, sell everything!\" -> STRONGLY_NEGATIVE\n",
    "\n",
    "            Format: Return only one word from: STRONGLY_POSITIVE, POSITIVE, NEUTRAL, NEGATIVE, STRONGLY_NEGATIVE\n",
    "        \"\"\"},\n",
    "        {\"role\": \"user\", \"content\": f\"Analyze the sentiment of this tweet: {text}\"}\n",
    "    ]"
   ]
  },
  {
   "cell_type": "code",
   "execution_count": 20,
   "id": "fbf82b2f",
   "metadata": {},
   "outputs": [],
   "source": [
    "def get_sentiment(text, retries=3):\n",
    "    \"\"\"Get sentiment from Mistral AI with retry logic\"\"\"\n",
    "    if not text or len(str(text).strip()) < 3:\n",
    "        return 'NEUTRAL'\n",
    "    \n",
    "    for attempt in range(retries):\n",
    "        try:\n",
    "            # Setup the API request for Mistral\n",
    "            headers = key_manager.get_current_headers()\n",
    "            payload = {\n",
    "                \"model\": MODEL,\n",
    "                \"temperature\": 0.0,  # Deterministic output\n",
    "                \"max_tokens\": 10,    # We only need one word\n",
    "                \"messages\": setup_prompt(text)\n",
    "            }\n",
    "            \n",
    "            # Make the API request\n",
    "            response = requests.post(\n",
    "                key_manager.base_url,\n",
    "                headers=headers,\n",
    "                json=payload\n",
    "            )\n",
    "            \n",
    "            if response.status_code == 200:\n",
    "                # Extract sentiment from Mistral's response\n",
    "                response_json = response.json()\n",
    "                sentiment = response_json['choices'][0]['message']['content'].strip().upper()\n",
    "                \n",
    "                # Validate the response\n",
    "                valid_labels = [\n",
    "                    'STRONGLY_POSITIVE', 'POSITIVE', 'NEUTRAL', 'NEGATIVE', 'STRONGLY_NEGATIVE'\n",
    "                ]\n",
    "                \n",
    "                if sentiment in valid_labels:\n",
    "                    return sentiment\n",
    "                else:\n",
    "                    print(f\"Invalid sentiment received: {sentiment}, defaulting to NEUTRAL\")\n",
    "                    return 'NEUTRAL'\n",
    "            elif response.status_code == 429:  # Rate limit\n",
    "                # Get retry_after time if provided\n",
    "                retry_after = int(response.headers.get('Retry-After', 5))\n",
    "                key_manager.rotate_key(rate_limited=True, retry_after=retry_after)\n",
    "                if attempt < retries - 1:\n",
    "                    continue\n",
    "                else:\n",
    "                    return 'NEUTRAL'\n",
    "            else:\n",
    "                print(f\"API error: {response.status_code} - {response.text}\")\n",
    "                if attempt < retries - 1:\n",
    "                    time.sleep(2)  # Wait before retry\n",
    "                    continue\n",
    "                else:\n",
    "                    return 'NEUTRAL'\n",
    "                \n",
    "        except Exception as e:\n",
    "            error_str = str(e).lower()\n",
    "            # Check for rate limiting errors\n",
    "            if \"quota\" in error_str or \"rate\" in error_str or \"429\" in error_str:\n",
    "                # Extract retry time if available (default to 5 seconds if not found)\n",
    "                retry_after = 0\n",
    "                if \"retryafter\" in error_str or \"retry-after\" in error_str or \"retry_after\" in error_str:\n",
    "                    try:\n",
    "                        # Try to extract the retry time\n",
    "                        matches = re.findall(r'retry.*?(\\\\d+)', error_str)\n",
    "                        if matches:\n",
    "                            retry_after = int(matches[0])\n",
    "                    except:\n",
    "                        pass\n",
    "                \n",
    "                # Switch to another API key if there are multiple keys\n",
    "                if len(key_manager.api_keys) > 1:\n",
    "                    key_manager.rotate_key(rate_limited=True, retry_after=retry_after)\n",
    "                    if attempt < retries - 1:\n",
    "                        continue\n",
    "                else:\n",
    "                    # Only one key, just wait\n",
    "                    wait_time = min(2 ** attempt * 5, retry_after)  # Exponential backoff with max retry_after\n",
    "                    print(f\"Rate limit hit - waiting {wait_time}s before retry ({attempt+1}/{retries})\")\n",
    "                    time.sleep(wait_time)\n",
    "                    if attempt < retries - 1:\n",
    "                        continue\n",
    "                    \n",
    "            if attempt == retries - 1:\n",
    "                print(f\"Error processing text: {str(text)[:50]}...\\nError: {str(e)}\")\n",
    "                return 'NEUTRAL'\n",
    "            time.sleep(2)  # Wait before retry\n",
    "    \n",
    "    return 'NEUTRAL'\n"
   ]
  },
  {
   "cell_type": "code",
   "execution_count": 21,
   "id": "7cc0b913",
   "metadata": {},
   "outputs": [
    {
     "name": "stdout",
     "output_type": "stream",
     "text": [
      "Test tweet: 'Breaking: Tesla stock hits all-time high after unexpected profit surge'\n",
      "Sentiment: STRONGLY_POSITIVE\n",
      "Using Mistral API key index: 0\n"
     ]
    }
   ],
   "source": [
    "# Test the sentiment analysis with key rotation\n",
    "test_tweet = \"Breaking: Tesla stock hits all-time high after unexpected profit surge\"\n",
    "sentiment = get_sentiment(test_tweet)\n",
    "print(f\"Test tweet: '{test_tweet}'\")\n",
    "print(f\"Sentiment: {sentiment}\")\n",
    "print(f\"Using Mistral API key index: {key_manager.current_index}\")\n"
   ]
  },
  {
   "cell_type": "code",
   "execution_count": 22,
   "metadata": {},
   "outputs": [
    {
     "name": "stdout",
     "output_type": "stream",
     "text": [
      "Loading stock market tweets dataset from Hugging Face...\n",
      "Loaded 28172 tweets\n",
      "\n",
      "Sample tweets:\n"
     ]
    },
    {
     "data": {
      "text/html": [
       "<div><style>\n",
       ".dataframe > thead > tr,\n",
       ".dataframe > tbody > tr {\n",
       "  text-align: right;\n",
       "  white-space: pre-wrap;\n",
       "}\n",
       "</style>\n",
       "<small>shape: (5, 13)</small><table border=\"1\" class=\"dataframe\"><thead><tr><th>image_url</th><th>proxy_image_url</th><th>image_dimensions</th><th>thumbnail_url</th><th>proxy_thumbnail_url</th><th>thumbnail_dimensions</th><th>timestamp</th><th>description</th><th>url</th><th>embed_title</th><th>tweet_type</th><th>financial_info</th><th>sentiment</th></tr><tr><td>str</td><td>str</td><td>str</td><td>str</td><td>str</td><td>str</td><td>str</td><td>str</td><td>str</td><td>str</td><td>str</td><td>str</td><td>str</td></tr></thead><tbody><tr><td>&quot;https://pbs.twimg.com/media/F-…</td><td>&quot;https://images-ext-1.discordap…</td><td>&quot;(749, 1085)&quot;</td><td>&quot;https://pbs.twimg.com/profile_…</td><td>&quot;https://images-ext-1.discordap…</td><td>&quot;(48, 48)&quot;</td><td>&quot;2023-11-15T01:06:39.739000+00:…</td><td>&quot;Currently at $2860--Documentin…</td><td>&quot;https://twitter.com/user/statu…</td><td>&quot;&lt;:quote_tweet:1130467736133316…</td><td>&quot;quote tweet&quot;</td><td>&quot;[{&#x27;ticker&#x27;: &#x27;$AI&#x27;, &#x27;exchanges&#x27;…</td><td>&quot;Bullish&quot;</td></tr><tr><td>&quot;https://pbs.twimg.com/media/F-…</td><td>&quot;https://images-ext-1.discordap…</td><td>&quot;(653, 1199)&quot;</td><td>&quot;https://pbs.twimg.com/profile_…</td><td>&quot;https://images-ext-1.discordap…</td><td>&quot;(48, 48)&quot;</td><td>&quot;2023-11-15T02:11:41.182000+00:…</td><td>&quot;$NET \n",
       "\n",
       "Was waiting on Cloudfla…</td><td>&quot;https://twitter.com/user/statu…</td><td>&quot;Don&#x27;t follow Shardi B If You H…</td><td>&quot;tweet&quot;</td><td>&quot;[{&#x27;ticker&#x27;: &#x27;$NET&#x27;, &#x27;exchanges…</td><td>&quot;Neutral&quot;</td></tr><tr><td>&quot;https://pbs.twimg.com/media/F-…</td><td>&quot;https://images-ext-1.discordap…</td><td>&quot;(1200, 591)&quot;</td><td>&quot;https://pbs.twimg.com/profile_…</td><td>&quot;https://images-ext-1.discordap…</td><td>&quot;(48, 48)&quot;</td><td>&quot;2023-11-15T02:11:47.180000+00:…</td><td>&quot;RT @TrendSpider: $SPY, $QQQ an…</td><td>&quot;https://twitter.com/user/statu…</td><td>&quot;&lt;:retweet:1130467740306657360&gt;…</td><td>&quot;retweet&quot;</td><td>&quot;[{&#x27;ticker&#x27;: &#x27;$QQQ&#x27;, &#x27;exchanges…</td><td>&quot;Bearish&quot;</td></tr><tr><td>&quot;https://pbs.twimg.com/media/F-…</td><td>&quot;https://images-ext-1.discordap…</td><td>&quot;(1200, 653)&quot;</td><td>&quot;https://pbs.twimg.com/profile_…</td><td>&quot;https://images-ext-1.discordap…</td><td>&quot;(48, 48)&quot;</td><td>&quot;2023-11-15T04:01:40.263000+00:…</td><td>&quot;RT @TriggerTrades: $SPX remain…</td><td>&quot;https://twitter.com/user/statu…</td><td>&quot;&lt;:retweet:1130467740306657360&gt;…</td><td>&quot;retweet&quot;</td><td>&quot;[{&#x27;ticker&#x27;: &#x27;$SPX&#x27;, &#x27;exchanges…</td><td>&quot;Bearish&quot;</td></tr><tr><td>&quot;https://pbs.twimg.com/media/F-…</td><td>&quot;https://images-ext-1.discordap…</td><td>&quot;(884, 665)&quot;</td><td>&quot;https://pbs.twimg.com/profile_…</td><td>&quot;https://images-ext-1.discordap…</td><td>&quot;(48, 48)&quot;</td><td>&quot;2023-11-15T04:01:44.817000+00:…</td><td>&quot;RT @coiledspringcap: #SPX equa…</td><td>&quot;https://twitter.com/user/statu…</td><td>&quot;&lt;:retweet:1130467740306657360&gt;…</td><td>&quot;retweet&quot;</td><td>&quot;[{&#x27;ticker&#x27;: &#x27;$SPX&#x27;, &#x27;exchanges…</td><td>&quot;Bullish&quot;</td></tr></tbody></table></div>"
      ],
      "text/plain": [
       "shape: (5, 13)\n",
       "┌───────────┬───────────┬───────────┬───────────┬───┬───────────┬───────────┬───────────┬──────────┐\n",
       "│ image_url ┆ proxy_ima ┆ image_dim ┆ thumbnail ┆ … ┆ embed_tit ┆ tweet_typ ┆ financial ┆ sentimen │\n",
       "│ ---       ┆ ge_url    ┆ ensions   ┆ _url      ┆   ┆ le        ┆ e         ┆ _info     ┆ t        │\n",
       "│ str       ┆ ---       ┆ ---       ┆ ---       ┆   ┆ ---       ┆ ---       ┆ ---       ┆ ---      │\n",
       "│           ┆ str       ┆ str       ┆ str       ┆   ┆ str       ┆ str       ┆ str       ┆ str      │\n",
       "╞═══════════╪═══════════╪═══════════╪═══════════╪═══╪═══════════╪═══════════╪═══════════╪══════════╡\n",
       "│ https://p ┆ https://i ┆ (749,     ┆ https://p ┆ … ┆ <:quote_t ┆ quote     ┆ [{'ticker ┆ Bullish  │\n",
       "│ bs.twimg. ┆ mages-ext ┆ 1085)     ┆ bs.twimg. ┆   ┆ weet:1130 ┆ tweet     ┆ ': '$AI', ┆          │\n",
       "│ com/media ┆ -1.discor ┆           ┆ com/profi ┆   ┆ 467736133 ┆           ┆ 'exchange ┆          │\n",
       "│ /F-…      ┆ dap…      ┆           ┆ le_…      ┆   ┆ 316…      ┆           ┆ s'…       ┆          │\n",
       "│ https://p ┆ https://i ┆ (653,     ┆ https://p ┆ … ┆ Don't     ┆ tweet     ┆ [{'ticker ┆ Neutral  │\n",
       "│ bs.twimg. ┆ mages-ext ┆ 1199)     ┆ bs.twimg. ┆   ┆ follow    ┆           ┆ ':        ┆          │\n",
       "│ com/media ┆ -1.discor ┆           ┆ com/profi ┆   ┆ Shardi B  ┆           ┆ '$NET',   ┆          │\n",
       "│ /F-…      ┆ dap…      ┆           ┆ le_…      ┆   ┆ If You H… ┆           ┆ 'exchange ┆          │\n",
       "│           ┆           ┆           ┆           ┆   ┆           ┆           ┆ s…        ┆          │\n",
       "│ https://p ┆ https://i ┆ (1200,    ┆ https://p ┆ … ┆ <:retweet ┆ retweet   ┆ [{'ticker ┆ Bearish  │\n",
       "│ bs.twimg. ┆ mages-ext ┆ 591)      ┆ bs.twimg. ┆   ┆ :11304677 ┆           ┆ ':        ┆          │\n",
       "│ com/media ┆ -1.discor ┆           ┆ com/profi ┆   ┆ 403066573 ┆           ┆ '$QQQ',   ┆          │\n",
       "│ /F-…      ┆ dap…      ┆           ┆ le_…      ┆   ┆ 60>…      ┆           ┆ 'exchange ┆          │\n",
       "│           ┆           ┆           ┆           ┆   ┆           ┆           ┆ s…        ┆          │\n",
       "│ https://p ┆ https://i ┆ (1200,    ┆ https://p ┆ … ┆ <:retweet ┆ retweet   ┆ [{'ticker ┆ Bearish  │\n",
       "│ bs.twimg. ┆ mages-ext ┆ 653)      ┆ bs.twimg. ┆   ┆ :11304677 ┆           ┆ ':        ┆          │\n",
       "│ com/media ┆ -1.discor ┆           ┆ com/profi ┆   ┆ 403066573 ┆           ┆ '$SPX',   ┆          │\n",
       "│ /F-…      ┆ dap…      ┆           ┆ le_…      ┆   ┆ 60>…      ┆           ┆ 'exchange ┆          │\n",
       "│           ┆           ┆           ┆           ┆   ┆           ┆           ┆ s…        ┆          │\n",
       "│ https://p ┆ https://i ┆ (884,     ┆ https://p ┆ … ┆ <:retweet ┆ retweet   ┆ [{'ticker ┆ Bullish  │\n",
       "│ bs.twimg. ┆ mages-ext ┆ 665)      ┆ bs.twimg. ┆   ┆ :11304677 ┆           ┆ ':        ┆          │\n",
       "│ com/media ┆ -1.discor ┆           ┆ com/profi ┆   ┆ 403066573 ┆           ┆ '$SPX',   ┆          │\n",
       "│ /F-…      ┆ dap…      ┆           ┆ le_…      ┆   ┆ 60>…      ┆           ┆ 'exchange ┆          │\n",
       "│           ┆           ┆           ┆           ┆   ┆           ┆           ┆ s…        ┆          │\n",
       "└───────────┴───────────┴───────────┴───────────┴───┴───────────┴───────────┴───────────┴──────────┘"
      ]
     },
     "execution_count": 22,
     "metadata": {},
     "output_type": "execute_result"
    }
   ],
   "source": [
    "# Load data from Hugging Face\n",
    "print(\"Loading stock market tweets dataset from Hugging Face...\")\n",
    "\n",
    "# Check if the huggingface datasets library is installed\n",
    "try:\n",
    "    import huggingface_hub\n",
    "except ImportError:\n",
    "    print(\"Installing huggingface_hub...\")\n",
    "    !pip install huggingface_hub\n",
    "    import huggingface_hub\n",
    "\n",
    "# Load the dataset using Polars\n",
    "df = pl.read_csv('hf://datasets/StephanAkkerman/financial-tweets-stocks/stock.csv')\n",
    "\n",
    "\n",
    "print(f\"Loaded {df.shape[0]} tweets\")\n",
    "print(\"\\nSample tweets:\")\n",
    "df.head(5)"
   ]
  },
  {
   "cell_type": "code",
   "execution_count": 23,
   "metadata": {},
   "outputs": [
    {
     "name": "stdout",
     "output_type": "stream",
     "text": [
      "Using 'description' column for tweet text\n",
      "\n",
      "Analyzing sentiment for 28172 tweets\n"
     ]
    }
   ],
   "source": [
    "# Prepare the dataset for sentiment analysis\n",
    "# Let's make sure we have the 'body' column which contains the tweet text\n",
    "if 'description' in df.columns:\n",
    "    tweet_column = 'description'\n",
    "# elif 'full_text' in df.columns:\n",
    "#     tweet_column = 'full_text'\n",
    "else:\n",
    "    raise ValueError(\"Could not find tweet text column in the dataset\")\n",
    "\n",
    "print(f\"Using '{tweet_column}' column for tweet text\")\n",
    "\n",
    "# For demonstration, let's use a small subset of the data\n",
    "# Use all data instead of a sample - WARNING: This will process 1.7M tweets!\n",
    "sample_size = df.shape[0]  # Adjust based on your needs\n",
    "sample_df = df.sample(sample_size, seed=42)\n",
    "\n",
    "print(f\"\\nAnalyzing sentiment for {sample_size} tweets\")"
   ]
  },
  {
   "cell_type": "markdown",
   "id": "2ecb1756",
   "metadata": {},
   "source": [
    "\n",
    "## Rate Limits for Mistral AI API\n",
    "\n",
    "Mistral AI's free tier has the following limits:\n",
    "- 1 request per second (60 requests per minute)\n",
    "- 500,000 tokens per minute\n",
    "- 1 billion tokens per month\n",
    "\n",
    "This notebook implements:\n",
    "1. Key rotation to handle multiple API keys\n",
    "2. Automatic retry with exponential backoff\n",
    "3. Batch processing to optimize throughput\n",
    "4. Error handling to ensure robust processing\n",
    "\n",
    "If you need to process many tweets, consider:\n",
    "- Creating multiple API keys\n",
    "- Adjusting batch size and workers based on your needs\n",
    "- Processing tweets in smaller batches with appropriate delays\n"
   ]
  },
  {
   "cell_type": "code",
   "execution_count": 24,
   "id": "c0a0cf98",
   "metadata": {},
   "outputs": [],
   "source": [
    "def process_tweets(tweets, batch_size=4, max_workers=2):\n",
    "    \"\"\"Process tweets in batches with Mistral AI API\n",
    "    \n",
    "    Mistral AI free tier allows:\n",
    "    - 1 request per second (60 requests per minute)\n",
    "    - 500,000 tokens per minute\n",
    "    - 1 billion tokens per month\n",
    "    \"\"\"\n",
    "    all_sentiments = []\n",
    "    \n",
    "    # For demonstration, we'll process a reasonable number of tweets\n",
    "    # Adjust max_tweets if needed - 200 is safe for the free tier\n",
    "    max_tweets = min(200, len(tweets))\n",
    "    tweets = tweets[:max_tweets]\n",
    "    \n",
    "    print(f\"Processing {max_tweets} tweets using Mistral AI API with {len(key_manager.api_keys)} API keys\")\n",
    "    \n",
    "    with ThreadPoolExecutor(max_workers=max_workers) as executor:\n",
    "        for i in tqdm(range(0, len(tweets), batch_size), desc=\"Processing tweet batches\"):\n",
    "            batch = tweets[i:i+batch_size]\n",
    "            \n",
    "            try:\n",
    "                # Process tweets in parallel\n",
    "                results = list(executor.map(get_sentiment, batch))\n",
    "                all_sentiments.extend(results)\n",
    "                \n",
    "                # Add a short delay between batches to avoid rate limiting\n",
    "                time.sleep(2)\n",
    "                \n",
    "            except Exception as e:\n",
    "                print(f\"Error processing batch: {e}\")\n",
    "                # Add neutral sentiments for this batch in case of failure\n",
    "                all_sentiments.extend(['NEUTRAL'] * len(batch))\n",
    "                time.sleep(5)  # Wait a bit longer after an error\n",
    "                \n",
    "    # If we didn't get enough sentiments (due to errors), fill with NEUTRAL\n",
    "    if len(all_sentiments) < len(tweets):\n",
    "        all_sentiments.extend(['NEUTRAL'] * (len(tweets) - len(all_sentiments)))\n",
    "            \n",
    "    return all_sentiments\n"
   ]
  },
  {
   "cell_type": "code",
   "execution_count": 25,
   "id": "48ef2b4f",
   "metadata": {},
   "outputs": [
    {
     "name": "stdout",
     "output_type": "stream",
     "text": [
      "Test tweet: 'Breaking: Tesla stock hits all-time high after unexpected profit surge'\n",
      "Sentiment: STRONGLY_POSITIVE\n",
      "Using API key index: 0\n"
     ]
    }
   ],
   "source": [
    "\n",
    "# Test the sentiment analysis with key rotation\n",
    "test_tweet = \"Breaking: Tesla stock hits all-time high after unexpected profit surge\"\n",
    "sentiment = get_sentiment(test_tweet)\n",
    "print(f\"Test tweet: '{test_tweet}'\")\n",
    "print(f\"Sentiment: {sentiment}\")\n",
    "print(f\"Using API key index: {key_manager.current_index}\")\n"
   ]
  },
  {
   "cell_type": "code",
   "execution_count": 26,
   "id": "b23691ac",
   "metadata": {},
   "outputs": [],
   "source": [
    "def process_tweets(tweets, batch_size=4, max_workers=2):\n",
    "    \"\"\"Process tweets in batches with Mistral AI API\n",
    "    \n",
    "    Mistral AI free tier allows:\n",
    "    - 1 request per second (60 requests per minute)\n",
    "    - 500,000 tokens per minute\n",
    "    - 1 billion tokens per month\n",
    "    \"\"\"\n",
    "    all_sentiments = []\n",
    "    \n",
    "    # Process all tweets\n",
    "    # Removed limitation: max_tweets = min(200, len(tweets))\n",
    "    # Removed limitation: tweets = tweets[:max_tweets]\n",
    "    \n",
    "    print(f\"Processing {len(tweets)} tweets using Mistral AI API with {len(key_manager.api_keys)} API keys\")\n",
    "    \n",
    "    with ThreadPoolExecutor(max_workers=max_workers) as executor:\n",
    "        for i in tqdm(range(0, len(tweets), batch_size), desc=\"Processing tweet batches\"):\n",
    "            batch = tweets[i:i+batch_size]\n",
    "            \n",
    "            try:\n",
    "                # Process tweets in parallel\n",
    "                results = list(executor.map(get_sentiment, batch))\n",
    "                all_sentiments.extend(results)\n",
    "                \n",
    "                # Add a delay between batches to respect Mistral's 1 req/sec rate limit\n",
    "                # With batch_size and max_workers, adjust sleep time accordingly\n",
    "                time.sleep(batch_size * max_workers)  # Conservative approach\n",
    "                \n",
    "            except Exception as e:\n",
    "                print(f\"Error processing batch: {e}\")\n",
    "                # Add neutral sentiments for this batch in case of failure\n",
    "                all_sentiments.extend(['NEUTRAL'] * len(batch))\n",
    "                time.sleep(5)  # Wait a bit longer after an error\n",
    "                \n",
    "    # If we didn't get enough sentiments (due to errors), fill with NEUTRAL\n",
    "    if len(all_sentiments) < len(tweets):\n",
    "        all_sentiments.extend(['NEUTRAL'] * (len(tweets) - len(all_sentiments)))\n",
    "            \n",
    "    return all_sentiments"
   ]
  },
  {
   "cell_type": "code",
   "execution_count": 27,
   "id": "concurrent_function_cell",
   "metadata": {},
   "outputs": [],
   "source": [
    "def process_tweets_concurrent(tweets, batch_size=4, max_workers=2, save_every=1000, rate_limit_wait=5):\n",
    "    \"\"\"Process tweets in batches with Mistral AI API using concurrent API keys\n",
    "    \n",
    "    Parameters:\n",
    "    -----------\n",
    "    tweets : list\n",
    "        List of tweets to process\n",
    "    batch_size : int\n",
    "        Number of tweets to process in each batch\n",
    "    max_workers : int\n",
    "        Number of concurrent workers\n",
    "    save_every : int\n",
    "        Save results after processing this many tweets\n",
    "    rate_limit_wait : int\n",
    "        Default wait time in seconds when rate limited (default: 5)\n",
    "        \n",
    "    Returns:\n",
    "    --------\n",
    "    list : Sentiment labels for each tweet\n",
    "    \"\"\"\n",
    "    all_sentiments = [None] * len(tweets)  # Pre-allocate results array\n",
    "    \n",
    "    # Sort tweet indices in descending order (process larger row numbers first)\n",
    "    tweet_indices = list(range(len(tweets)))\n",
    "    tweet_indices.sort(reverse=True)\n",
    "    \n",
    "    # Create a KeyManager for each worker\n",
    "    key_managers = []\n",
    "    \n",
    "    # Check how many API keys we have available\n",
    "    available_keys = key_manager.api_keys.copy()\n",
    "    num_keys = len(available_keys)\n",
    "    \n",
    "    print(f\"Using {num_keys} API keys concurrently for processing {len(tweets)} tweets\")\n",
    "    \n",
    "    if num_keys == 0:\n",
    "        raise ValueError(\"No API keys available\")\n",
    "    \n",
    "    # Create a manager for each key\n",
    "    for i, key in enumerate(available_keys):\n",
    "        # Create a separate manager for each key\n",
    "        km = KeyManager()\n",
    "        # Replace the API keys with just one key\n",
    "        km.api_keys = [key]\n",
    "        km.current_index = 0\n",
    "        key_managers.append(km)\n",
    "    \n",
    "    # Function to process a tweet with a specific key manager\n",
    "    def process_tweet_with_key(args):\n",
    "        idx, tweet, key_idx = args\n",
    "        # Get the key manager for this worker\n",
    "        km = key_managers[key_idx % num_keys]\n",
    "        \n",
    "        # Define a local get_sentiment function that uses this specific key manager\n",
    "        def local_get_sentiment(text, retries=3):\n",
    "            if not text or len(str(text).strip()) < 3:\n",
    "                return 'NEUTRAL'\n",
    "            \n",
    "            for attempt in range(retries):\n",
    "                try:\n",
    "                    # Setup the API request for Mistral\n",
    "                    headers = km.get_current_headers()\n",
    "                    payload = {\n",
    "                        \"model\": MODEL,\n",
    "                        \"temperature\": 0.0,  # Deterministic output\n",
    "                        \"max_tokens\": 10,    # We only need one word\n",
    "                        \"messages\": setup_prompt(text)\n",
    "                    }\n",
    "                    \n",
    "                    # Make the API request\n",
    "                    response = requests.post(\n",
    "                        km.base_url,\n",
    "                        headers=headers,\n",
    "                        json=payload\n",
    "                    )\n",
    "                    \n",
    "                    if response.status_code == 200:\n",
    "                        # Extract sentiment from Mistral's response\n",
    "                        response_json = response.json()\n",
    "                        sentiment = response_json['choices'][0]['message']['content'].strip().upper()\n",
    "                        \n",
    "                        # Validate the response\n",
    "                        valid_labels = [\n",
    "                            'STRONGLY_POSITIVE', 'POSITIVE', 'NEUTRAL', 'NEGATIVE', 'STRONGLY_NEGATIVE'\n",
    "                        ]\n",
    "                        \n",
    "                        if sentiment in valid_labels:\n",
    "                            return sentiment\n",
    "                        else:\n",
    "                            print(f\"Invalid sentiment received: {sentiment}, defaulting to NEUTRAL\")\n",
    "                            return 'NEUTRAL'\n",
    "                    elif response.status_code == 429:  # Rate limit\n",
    "                        # If rate limited, just wait instead of switching keys\n",
    "                        # Always use rate_limit_wait as fallback\n",
    "                        retry_after = int(response.headers.get('Retry-After', rate_limit_wait))\n",
    "                        print(f\"API key {key_idx+1} rate limited. Waiting {retry_after} seconds.\")\n",
    "                        time.sleep(retry_after)\n",
    "                        if attempt < retries - 1:\n",
    "                            continue\n",
    "                        else:\n",
    "                            return 'NEUTRAL'\n",
    "                    else:\n",
    "                        print(f\"API error: {response.status_code} - {response.text}\")\n",
    "                        if attempt < retries - 1:\n",
    "                            time.sleep(2)  # Wait before retry\n",
    "                            continue\n",
    "                        else:\n",
    "                            return 'NEUTRAL'\n",
    "                        \n",
    "                except Exception as e:\n",
    "                    error_str = str(e).lower()\n",
    "                    # Check for rate limiting errors\n",
    "                    if \"quota\" in error_str or \"rate\" in error_str or \"429\" in error_str:\n",
    "                        # Extract retry time if available (default to rate_limit_wait if not found)\n",
    "                        retry_after = rate_limit_wait\n",
    "                        if \"retryafter\" in error_str or \"retry-after\" in error_str or \"retry_after\" in error_str:\n",
    "                            try:\n",
    "                                # Try to extract the retry time\n",
    "                                matches = re.findall(r'retry.*?(\\d+)', error_str)\n",
    "                                if matches:\n",
    "                                    retry_after = int(matches[0])\n",
    "                            except:\n",
    "                                pass\n",
    "                        \n",
    "                        # Just wait instead of switching keys\n",
    "                        wait_time = min(2 ** attempt * 2, retry_after)  # Use smaller exponential backoff\n",
    "                        print(f\"Rate limit hit for key {key_idx+1} - waiting {wait_time}s before retry ({attempt+1}/{retries})\")\n",
    "                        time.sleep(wait_time)\n",
    "                        if attempt < retries - 1:\n",
    "                            continue\n",
    "                            \n",
    "                    if attempt == retries - 1:\n",
    "                        print(f\"Error processing text: {str(text)[:50]}...\\nError: {str(e)}\")\n",
    "                        return 'NEUTRAL'\n",
    "                    time.sleep(2)  # Wait before retry\n",
    "            \n",
    "            return 'NEUTRAL'\n",
    "        \n",
    "        # Process the tweet\n",
    "        try:\n",
    "            result = local_get_sentiment(tweet)\n",
    "            return (idx, result)\n",
    "        except Exception as e:\n",
    "            print(f\"Error processing tweet {idx}: {e}\")\n",
    "            return (idx, 'NEUTRAL')\n",
    "    \n",
    "    # Create batches for processing\n",
    "    batches = []\n",
    "    for i in range(0, len(tweet_indices), batch_size):\n",
    "        batch_indices = tweet_indices[i:i+batch_size]\n",
    "        # More balanced key assignment - round robin style\n",
    "        batch = [(idx, tweets[idx], (i + idx) % num_keys) for idx in batch_indices]\n",
    "        batches.append(batch)\n",
    "    \n",
    "    # Process batches and periodically save results\n",
    "    processed_count = 0\n",
    "    save_path = \"../data/labeled_stock_tweets_partial.csv\"\n",
    "    os.makedirs(os.path.dirname(save_path), exist_ok=True)\n",
    "    \n",
    "    with ThreadPoolExecutor(max_workers=max_workers) as executor:\n",
    "        for batch_idx, batch in enumerate(tqdm(batches, desc=\"Processing tweet batches\")):\n",
    "            try:\n",
    "                # Process batch\n",
    "                results = list(executor.map(process_tweet_with_key, batch))\n",
    "                \n",
    "                # Update results\n",
    "                for idx, sentiment in results:\n",
    "                    all_sentiments[idx] = sentiment\n",
    "                    processed_count += 1\n",
    "                \n",
    "                # Periodically save results\n",
    "                if processed_count % save_every < batch_size:\n",
    "                    # Create a temporary dataframe with current results\n",
    "                    temp_df = df.clone()\n",
    "                    # Only include processed tweets (non-None sentiments)\n",
    "                    valid_sentiments = [s if s is not None else 'NEUTRAL' for s in all_sentiments]\n",
    "                    temp_df = temp_df.with_columns(pl.Series(name='sentiment', values=valid_sentiments))\n",
    "                    # Save to CSV\n",
    "                    temp_df.write_csv(save_path)\n",
    "                    print(f\"\\nSaved {processed_count} processed tweets to {save_path}\")\n",
    "                \n",
    "                # Add a short delay between batches to avoid API overload\n",
    "                time.sleep(0.5)\n",
    "                \n",
    "            except Exception as e:\n",
    "                print(f\"Error processing batch: {e}\")\n",
    "                # Continue with the next batch\n",
    "                time.sleep(5)  # Wait a bit longer after an error\n",
    "    \n",
    "    # Replace any None values with NEUTRAL\n",
    "    all_sentiments = [s if s is not None else 'NEUTRAL' for s in all_sentiments]\n",
    "    \n",
    "    return all_sentiments\n"
   ]
  },
  {
   "cell_type": "code",
   "execution_count": 28,
   "id": "10544ce6",
   "metadata": {},
   "outputs": [
    {
     "name": "stdout",
     "output_type": "stream",
     "text": [
      "Using 2 API keys concurrently for processing 28172 tweets\n",
      "Loaded 2 Mistral API keys.\n",
      "Loaded 2 Mistral API keys.\n"
     ]
    },
    {
     "name": "stderr",
     "output_type": "stream",
     "text": [
      "Processing tweet batches:   0%|          | 1/7043 [00:02<4:36:35,  2.36s/it]"
     ]
    },
    {
     "name": "stdout",
     "output_type": "stream",
     "text": [
      "API key 1 rate limited. Waiting 0 seconds.\n"
     ]
    },
    {
     "name": "stderr",
     "output_type": "stream",
     "text": [
      "Processing tweet batches:   0%|          | 3/7043 [00:07<4:51:50,  2.49s/it]"
     ]
    },
    {
     "name": "stdout",
     "output_type": "stream",
     "text": [
      "API key 1 rate limited. Waiting 0 seconds.\n"
     ]
    },
    {
     "name": "stderr",
     "output_type": "stream",
     "text": [
      "Processing tweet batches:   0%|          | 6/7043 [00:15<4:54:56,  2.51s/it]"
     ]
    },
    {
     "name": "stdout",
     "output_type": "stream",
     "text": [
      "API key 1 rate limited. Waiting 0 seconds.\n"
     ]
    },
    {
     "name": "stderr",
     "output_type": "stream",
     "text": [
      "Processing tweet batches:   0%|          | 7/7043 [00:17<4:40:51,  2.40s/it]"
     ]
    },
    {
     "name": "stdout",
     "output_type": "stream",
     "text": [
      "API key 2 rate limited. Waiting 0 seconds.\n"
     ]
    },
    {
     "name": "stderr",
     "output_type": "stream",
     "text": [
      "Processing tweet batches:   0%|          | 10/7043 [00:23<4:23:14,  2.25s/it]"
     ]
    },
    {
     "name": "stdout",
     "output_type": "stream",
     "text": [
      "API key 2 rate limited. Waiting 0 seconds.\n",
      "API key 2 rate limited. Waiting 0 seconds.\n",
      "API key 2 rate limited. Waiting 0 seconds.\n"
     ]
    },
    {
     "name": "stderr",
     "output_type": "stream",
     "text": [
      "Processing tweet batches:   0%|          | 11/7043 [00:25<4:14:43,  2.17s/it]"
     ]
    },
    {
     "name": "stdout",
     "output_type": "stream",
     "text": [
      "API key 2 rate limited. Waiting 0 seconds.\n"
     ]
    },
    {
     "name": "stderr",
     "output_type": "stream",
     "text": [
      "Processing tweet batches:   0%|          | 12/7043 [00:27<3:58:34,  2.04s/it]"
     ]
    },
    {
     "name": "stdout",
     "output_type": "stream",
     "text": [
      "API key 1 rate limited. Waiting 0 seconds.\n",
      "API key 1 rate limited. Waiting 0 seconds.\n",
      "API key 1 rate limited. Waiting 0 seconds.\n"
     ]
    },
    {
     "name": "stderr",
     "output_type": "stream",
     "text": [
      "Processing tweet batches:   0%|          | 14/7043 [00:31<3:48:57,  1.95s/it]"
     ]
    },
    {
     "name": "stdout",
     "output_type": "stream",
     "text": [
      "API key 1 rate limited. Waiting 0 seconds.\n",
      "API key 2 rate limited. Waiting 0 seconds.\n"
     ]
    },
    {
     "name": "stderr",
     "output_type": "stream",
     "text": [
      "Processing tweet batches:   0%|          | 15/7043 [00:32<3:39:23,  1.87s/it]"
     ]
    },
    {
     "name": "stdout",
     "output_type": "stream",
     "text": [
      "API key 1 rate limited. Waiting 0 seconds.\n",
      "API key 1 rate limited. Waiting 0 seconds.\n"
     ]
    },
    {
     "name": "stderr",
     "output_type": "stream",
     "text": [
      "Processing tweet batches:   0%|          | 18/7043 [00:38<3:40:03,  1.88s/it]"
     ]
    },
    {
     "name": "stdout",
     "output_type": "stream",
     "text": [
      "API key 1 rate limited. Waiting 0 seconds.\n"
     ]
    },
    {
     "name": "stderr",
     "output_type": "stream",
     "text": [
      "Processing tweet batches:   0%|          | 24/7043 [00:48<3:19:31,  1.71s/it]"
     ]
    },
    {
     "name": "stdout",
     "output_type": "stream",
     "text": [
      "API key 1 rate limited. Waiting 0 seconds.\n",
      "\n",
      "Saved 100 processed tweets to ../data/labeled_stock_tweets_partial.csv\n"
     ]
    },
    {
     "name": "stderr",
     "output_type": "stream",
     "text": [
      "Processing tweet batches:   0%|          | 27/7043 [00:55<3:46:58,  1.94s/it]"
     ]
    },
    {
     "name": "stdout",
     "output_type": "stream",
     "text": [
      "API key 2 rate limited. Waiting 0 seconds.\n",
      "API key 1 rate limited. Waiting 0 seconds.\n"
     ]
    },
    {
     "name": "stderr",
     "output_type": "stream",
     "text": [
      "Processing tweet batches:   0%|          | 28/7043 [00:57<3:51:35,  1.98s/it]"
     ]
    },
    {
     "name": "stdout",
     "output_type": "stream",
     "text": [
      "API key 2 rate limited. Waiting 0 seconds.\n",
      "API key 2 rate limited. Waiting 0 seconds.\n"
     ]
    },
    {
     "name": "stderr",
     "output_type": "stream",
     "text": [
      "Processing tweet batches:   0%|          | 29/7043 [00:59<4:00:16,  2.06s/it]"
     ]
    },
    {
     "name": "stdout",
     "output_type": "stream",
     "text": [
      "API key 2 rate limited. Waiting 0 seconds.\n"
     ]
    },
    {
     "name": "stderr",
     "output_type": "stream",
     "text": [
      "Processing tweet batches:   0%|          | 30/7043 [01:01<3:50:38,  1.97s/it]"
     ]
    },
    {
     "name": "stdout",
     "output_type": "stream",
     "text": [
      "API key 2 rate limited. Waiting 0 seconds.\n",
      "API key 2 rate limited. Waiting 0 seconds.\n",
      "API key 1 rate limited. Waiting 0 seconds.\n",
      "API key 2 rate limited. Waiting 0 seconds.\n",
      "API key 1 rate limited. Waiting 0 seconds.\n",
      "API key 1 rate limited. Waiting 0 seconds.\n"
     ]
    },
    {
     "name": "stderr",
     "output_type": "stream",
     "text": [
      "Processing tweet batches:   0%|          | 31/7043 [01:03<3:56:11,  2.02s/it]"
     ]
    },
    {
     "name": "stdout",
     "output_type": "stream",
     "text": [
      "API key 2 rate limited. Waiting 0 seconds.\n",
      "API key 2 rate limited. Waiting 0 seconds.\n"
     ]
    },
    {
     "name": "stderr",
     "output_type": "stream",
     "text": [
      "Processing tweet batches:   0%|          | 33/7043 [01:07<3:58:29,  2.04s/it]"
     ]
    },
    {
     "name": "stdout",
     "output_type": "stream",
     "text": [
      "API key 1 rate limited. Waiting 0 seconds.\n"
     ]
    },
    {
     "name": "stderr",
     "output_type": "stream",
     "text": [
      "Processing tweet batches:   1%|          | 36/7043 [01:13<3:29:25,  1.79s/it]"
     ]
    },
    {
     "name": "stdout",
     "output_type": "stream",
     "text": [
      "API key 2 rate limited. Waiting 0 seconds.\n"
     ]
    },
    {
     "name": "stderr",
     "output_type": "stream",
     "text": [
      "Processing tweet batches:   1%|          | 37/7043 [01:14<3:22:04,  1.73s/it]"
     ]
    },
    {
     "name": "stdout",
     "output_type": "stream",
     "text": [
      "API key 1 rate limited. Waiting 0 seconds.\n",
      "API key 2 rate limited. Waiting 0 seconds.\n",
      "API key 1 rate limited. Waiting 0 seconds.\n",
      "API key 1 rate limited. Waiting 0 seconds.\n"
     ]
    },
    {
     "name": "stderr",
     "output_type": "stream",
     "text": [
      "Processing tweet batches:   1%|          | 39/7043 [01:18<3:47:31,  1.95s/it]"
     ]
    },
    {
     "name": "stdout",
     "output_type": "stream",
     "text": [
      "API key 2 rate limited. Waiting 0 seconds.\n"
     ]
    },
    {
     "name": "stderr",
     "output_type": "stream",
     "text": [
      "Processing tweet batches:   1%|          | 40/7043 [01:20<3:35:13,  1.84s/it]"
     ]
    },
    {
     "name": "stdout",
     "output_type": "stream",
     "text": [
      "API key 2 rate limited. Waiting 0 seconds.\n",
      "API key 2 rate limited. Waiting 0 seconds.\n",
      "API key 1 rate limited. Waiting 0 seconds.\n"
     ]
    },
    {
     "name": "stderr",
     "output_type": "stream",
     "text": [
      "Processing tweet batches:   1%|          | 41/7043 [01:22<3:40:21,  1.89s/it]"
     ]
    },
    {
     "name": "stdout",
     "output_type": "stream",
     "text": [
      "API key 2 rate limited. Waiting 0 seconds.\n",
      "API key 2 rate limited. Waiting 0 seconds.\n",
      "API key 1 rate limited. Waiting 0 seconds.\n"
     ]
    },
    {
     "name": "stderr",
     "output_type": "stream",
     "text": [
      "Processing tweet batches:   1%|          | 42/7043 [01:24<3:58:20,  2.04s/it]"
     ]
    },
    {
     "name": "stdout",
     "output_type": "stream",
     "text": [
      "API key 1 rate limited. Waiting 0 seconds.API key 2 rate limited. Waiting 0 seconds.\n",
      "\n"
     ]
    },
    {
     "name": "stderr",
     "output_type": "stream",
     "text": [
      "Processing tweet batches:   1%|          | 45/7043 [01:31<4:02:12,  2.08s/it]"
     ]
    },
    {
     "name": "stdout",
     "output_type": "stream",
     "text": [
      "API key 2 rate limited. Waiting 0 seconds.\n",
      "API key 1 rate limited. Waiting 0 seconds.\n"
     ]
    },
    {
     "name": "stderr",
     "output_type": "stream",
     "text": [
      "Processing tweet batches:   1%|          | 46/7043 [01:33<4:15:23,  2.19s/it]"
     ]
    },
    {
     "name": "stdout",
     "output_type": "stream",
     "text": [
      "API key 1 rate limited. Waiting 0 seconds.\n"
     ]
    },
    {
     "name": "stderr",
     "output_type": "stream",
     "text": [
      "Processing tweet batches:   1%|          | 48/7043 [01:37<3:48:00,  1.96s/it]"
     ]
    },
    {
     "name": "stdout",
     "output_type": "stream",
     "text": [
      "API key 2 rate limited. Waiting 0 seconds.\n"
     ]
    },
    {
     "name": "stderr",
     "output_type": "stream",
     "text": [
      "Processing tweet batches:   1%|          | 49/7043 [01:39<3:39:15,  1.88s/it]"
     ]
    },
    {
     "name": "stdout",
     "output_type": "stream",
     "text": [
      "API key 2 rate limited. Waiting 0 seconds.\n",
      "API key 1 rate limited. Waiting 0 seconds.\n",
      "\n",
      "Saved 200 processed tweets to ../data/labeled_stock_tweets_partial.csv\n"
     ]
    },
    {
     "name": "stderr",
     "output_type": "stream",
     "text": [
      "Processing tweet batches:   1%|          | 50/7043 [01:41<4:11:09,  2.15s/it]"
     ]
    },
    {
     "name": "stdout",
     "output_type": "stream",
     "text": [
      "API key 2 rate limited. Waiting 0 seconds.API key 1 rate limited. Waiting 0 seconds.\n",
      "\n",
      "API key 2 rate limited. Waiting 0 seconds.\n"
     ]
    },
    {
     "name": "stderr",
     "output_type": "stream",
     "text": [
      "Processing tweet batches:   1%|          | 52/7043 [01:45<3:40:36,  1.89s/it]"
     ]
    },
    {
     "name": "stdout",
     "output_type": "stream",
     "text": [
      "API key 2 rate limited. Waiting 0 seconds.\n"
     ]
    },
    {
     "name": "stderr",
     "output_type": "stream",
     "text": [
      "Processing tweet batches:   1%|          | 53/7043 [01:47<3:45:52,  1.94s/it]"
     ]
    },
    {
     "name": "stdout",
     "output_type": "stream",
     "text": [
      "API key 1 rate limited. Waiting 0 seconds.\n",
      "API key 1 rate limited. Waiting 0 seconds.\n",
      "API key 1 rate limited. Waiting 0 seconds.\n"
     ]
    },
    {
     "name": "stderr",
     "output_type": "stream",
     "text": [
      "Processing tweet batches:   1%|          | 54/7043 [01:49<3:40:34,  1.89s/it]"
     ]
    },
    {
     "name": "stdout",
     "output_type": "stream",
     "text": [
      "API key 2 rate limited. Waiting 0 seconds.\n"
     ]
    },
    {
     "name": "stderr",
     "output_type": "stream",
     "text": [
      "Processing tweet batches:   1%|          | 56/7043 [01:52<3:22:06,  1.74s/it]"
     ]
    },
    {
     "name": "stdout",
     "output_type": "stream",
     "text": [
      "API key 1 rate limited. Waiting 0 seconds.\n"
     ]
    },
    {
     "name": "stderr",
     "output_type": "stream",
     "text": [
      "Processing tweet batches:   1%|          | 58/7043 [01:55<3:18:04,  1.70s/it]"
     ]
    },
    {
     "name": "stdout",
     "output_type": "stream",
     "text": [
      "API key 2 rate limited. Waiting 0 seconds.\n",
      "API key 2 rate limited. Waiting 0 seconds.\n",
      "API key 2 rate limited. Waiting 0 seconds.\n"
     ]
    },
    {
     "name": "stderr",
     "output_type": "stream",
     "text": [
      "Processing tweet batches:   1%|          | 61/7043 [02:01<3:43:17,  1.92s/it]"
     ]
    },
    {
     "name": "stdout",
     "output_type": "stream",
     "text": [
      "API key 2 rate limited. Waiting 0 seconds.\n"
     ]
    },
    {
     "name": "stderr",
     "output_type": "stream",
     "text": [
      "Processing tweet batches:   1%|          | 63/7043 [02:05<3:44:28,  1.93s/it]"
     ]
    },
    {
     "name": "stdout",
     "output_type": "stream",
     "text": [
      "API key 2 rate limited. Waiting 0 seconds.\n",
      "API key 2 rate limited. Waiting 0 seconds.\n"
     ]
    },
    {
     "name": "stderr",
     "output_type": "stream",
     "text": [
      "Processing tweet batches:   1%|          | 64/7043 [02:08<4:15:40,  2.20s/it]"
     ]
    },
    {
     "name": "stdout",
     "output_type": "stream",
     "text": [
      "API key 1 rate limited. Waiting 0 seconds.\n"
     ]
    },
    {
     "name": "stderr",
     "output_type": "stream",
     "text": [
      "Processing tweet batches:   1%|          | 66/7043 [02:13<4:16:08,  2.20s/it]"
     ]
    },
    {
     "name": "stdout",
     "output_type": "stream",
     "text": [
      "API key 1 rate limited. Waiting 0 seconds.\n"
     ]
    },
    {
     "name": "stderr",
     "output_type": "stream",
     "text": [
      "Processing tweet batches:   1%|          | 68/7043 [02:16<3:50:46,  1.99s/it]"
     ]
    },
    {
     "name": "stdout",
     "output_type": "stream",
     "text": [
      "API key 1 rate limited. Waiting 0 seconds.\n",
      "API key 1 rate limited. Waiting 0 seconds.\n"
     ]
    },
    {
     "name": "stderr",
     "output_type": "stream",
     "text": [
      "Processing tweet batches:   1%|          | 69/7043 [02:28<9:14:47,  4.77s/it]"
     ]
    },
    {
     "name": "stdout",
     "output_type": "stream",
     "text": [
      "API key 2 rate limited. Waiting 0 seconds.\n",
      "API key 2 rate limited. Waiting 0 seconds.\n"
     ]
    },
    {
     "name": "stderr",
     "output_type": "stream",
     "text": [
      "Processing tweet batches:   1%|          | 70/7043 [02:30<7:52:45,  4.07s/it]"
     ]
    },
    {
     "name": "stdout",
     "output_type": "stream",
     "text": [
      "API key 1 rate limited. Waiting 0 seconds.\n"
     ]
    },
    {
     "name": "stderr",
     "output_type": "stream",
     "text": [
      "Processing tweet batches:   1%|          | 71/7043 [02:32<6:41:20,  3.45s/it]"
     ]
    },
    {
     "name": "stdout",
     "output_type": "stream",
     "text": [
      "API key 2 rate limited. Waiting 0 seconds.\n"
     ]
    },
    {
     "name": "stderr",
     "output_type": "stream",
     "text": [
      "Processing tweet batches:   1%|          | 72/7043 [02:34<5:40:14,  2.93s/it]"
     ]
    },
    {
     "name": "stdout",
     "output_type": "stream",
     "text": [
      "API key 2 rate limited. Waiting 0 seconds.\n",
      "API key 2 rate limited. Waiting 0 seconds.\n"
     ]
    },
    {
     "name": "stderr",
     "output_type": "stream",
     "text": [
      "Processing tweet batches:   1%|          | 74/7043 [02:38<4:44:27,  2.45s/it]"
     ]
    },
    {
     "name": "stdout",
     "output_type": "stream",
     "text": [
      "API key 2 rate limited. Waiting 0 seconds.\n",
      "\n",
      "Saved 300 processed tweets to ../data/labeled_stock_tweets_partial.csv\n"
     ]
    },
    {
     "name": "stderr",
     "output_type": "stream",
     "text": [
      "Processing tweet batches:   1%|          | 75/7043 [02:40<4:20:08,  2.24s/it]"
     ]
    },
    {
     "name": "stdout",
     "output_type": "stream",
     "text": [
      "API key 1 rate limited. Waiting 0 seconds.\n",
      "API key 1 rate limited. Waiting 0 seconds.\n"
     ]
    },
    {
     "name": "stderr",
     "output_type": "stream",
     "text": [
      "Processing tweet batches:   1%|          | 76/7043 [02:43<4:45:18,  2.46s/it]"
     ]
    },
    {
     "name": "stdout",
     "output_type": "stream",
     "text": [
      "API key 1 rate limited. Waiting 0 seconds.\n",
      "API key 2 rate limited. Waiting 0 seconds.\n"
     ]
    },
    {
     "name": "stderr",
     "output_type": "stream",
     "text": [
      "Processing tweet batches:   1%|          | 79/7043 [02:52<5:25:33,  2.80s/it]"
     ]
    },
    {
     "name": "stdout",
     "output_type": "stream",
     "text": [
      "API key 2 rate limited. Waiting 0 seconds.\n",
      "API key 2 rate limited. Waiting 0 seconds.\n"
     ]
    },
    {
     "name": "stderr",
     "output_type": "stream",
     "text": [
      "Processing tweet batches:   1%|          | 80/7043 [02:54<5:05:11,  2.63s/it]"
     ]
    },
    {
     "name": "stdout",
     "output_type": "stream",
     "text": [
      "API key 2 rate limited. Waiting 0 seconds.\n",
      "API key 2 rate limited. Waiting 0 seconds.\n"
     ]
    },
    {
     "name": "stderr",
     "output_type": "stream",
     "text": [
      "Processing tweet batches:   1%|          | 82/7043 [02:59<4:44:26,  2.45s/it]"
     ]
    },
    {
     "name": "stdout",
     "output_type": "stream",
     "text": [
      "API key 1 rate limited. Waiting 0 seconds.API key 2 rate limited. Waiting 0 seconds.\n",
      "\n",
      "API key 1 rate limited. Waiting 0 seconds.\n"
     ]
    },
    {
     "name": "stderr",
     "output_type": "stream",
     "text": [
      "Processing tweet batches:   1%|          | 83/7043 [03:01<4:33:46,  2.36s/it]"
     ]
    },
    {
     "name": "stdout",
     "output_type": "stream",
     "text": [
      "API key 1 rate limited. Waiting 0 seconds.\n"
     ]
    },
    {
     "name": "stderr",
     "output_type": "stream",
     "text": [
      "Processing tweet batches:   1%|          | 84/7043 [03:02<4:07:21,  2.13s/it]"
     ]
    },
    {
     "name": "stdout",
     "output_type": "stream",
     "text": [
      "API key 1 rate limited. Waiting 0 seconds.API key 2 rate limited. Waiting 0 seconds.\n",
      "\n",
      "API key 1 rate limited. Waiting 0 seconds.API key 2 rate limited. Waiting 0 seconds.\n",
      "\n"
     ]
    },
    {
     "name": "stderr",
     "output_type": "stream",
     "text": [
      "Processing tweet batches:   1%|          | 85/7043 [03:05<4:34:16,  2.37s/it]"
     ]
    },
    {
     "name": "stdout",
     "output_type": "stream",
     "text": [
      "API key 1 rate limited. Waiting 0 seconds.\n"
     ]
    },
    {
     "name": "stderr",
     "output_type": "stream",
     "text": [
      "Processing tweet batches:   1%|          | 86/7043 [03:07<4:13:48,  2.19s/it]"
     ]
    },
    {
     "name": "stdout",
     "output_type": "stream",
     "text": [
      "API key 2 rate limited. Waiting 0 seconds.\n"
     ]
    },
    {
     "name": "stderr",
     "output_type": "stream",
     "text": [
      "Processing tweet batches:   1%|          | 87/7043 [03:09<3:56:56,  2.04s/it]"
     ]
    },
    {
     "name": "stdout",
     "output_type": "stream",
     "text": [
      "API key 1 rate limited. Waiting 0 seconds.\n",
      "API key 2 rate limited. Waiting 0 seconds.\n"
     ]
    },
    {
     "name": "stderr",
     "output_type": "stream",
     "text": [
      "Processing tweet batches:   1%|          | 88/7043 [03:10<3:41:48,  1.91s/it]"
     ]
    },
    {
     "name": "stdout",
     "output_type": "stream",
     "text": [
      "API key 1 rate limited. Waiting 0 seconds.\n"
     ]
    },
    {
     "name": "stderr",
     "output_type": "stream",
     "text": [
      "Processing tweet batches:   1%|▏         | 89/7043 [03:12<3:42:14,  1.92s/it]"
     ]
    },
    {
     "name": "stdout",
     "output_type": "stream",
     "text": [
      "API key 2 rate limited. Waiting 0 seconds.\n",
      "API key 1 rate limited. Waiting 0 seconds.\n"
     ]
    },
    {
     "name": "stderr",
     "output_type": "stream",
     "text": [
      "Processing tweet batches:   1%|▏         | 90/7043 [03:14<3:39:51,  1.90s/it]"
     ]
    },
    {
     "name": "stdout",
     "output_type": "stream",
     "text": [
      "API key 2 rate limited. Waiting 0 seconds.\n",
      "API key 2 rate limited. Waiting 0 seconds.\n"
     ]
    },
    {
     "name": "stderr",
     "output_type": "stream",
     "text": [
      "Processing tweet batches:   1%|▏         | 91/7043 [03:16<3:39:09,  1.89s/it]"
     ]
    },
    {
     "name": "stdout",
     "output_type": "stream",
     "text": [
      "API key 1 rate limited. Waiting 0 seconds.\n",
      "API key 1 rate limited. Waiting 0 seconds.\n",
      "API key 1 rate limited. Waiting 0 seconds.\n"
     ]
    },
    {
     "name": "stderr",
     "output_type": "stream",
     "text": [
      "Processing tweet batches:   1%|▏         | 93/7043 [03:20<3:33:33,  1.84s/it]"
     ]
    },
    {
     "name": "stdout",
     "output_type": "stream",
     "text": [
      "API key 2 rate limited. Waiting 0 seconds.API key 1 rate limited. Waiting 0 seconds.\n",
      "\n"
     ]
    },
    {
     "name": "stderr",
     "output_type": "stream",
     "text": [
      "Processing tweet batches:   1%|▏         | 95/7043 [03:24<3:34:09,  1.85s/it]"
     ]
    },
    {
     "name": "stdout",
     "output_type": "stream",
     "text": [
      "API key 2 rate limited. Waiting 0 seconds.\n"
     ]
    },
    {
     "name": "stderr",
     "output_type": "stream",
     "text": [
      "Processing tweet batches:   1%|▏         | 96/7043 [03:26<3:49:08,  1.98s/it]"
     ]
    },
    {
     "name": "stdout",
     "output_type": "stream",
     "text": [
      "API key 2 rate limited. Waiting 0 seconds.\n"
     ]
    },
    {
     "name": "stderr",
     "output_type": "stream",
     "text": [
      "Processing tweet batches:   1%|▏         | 99/7043 [03:31<3:35:41,  1.86s/it]"
     ]
    },
    {
     "name": "stdout",
     "output_type": "stream",
     "text": [
      "API key 2 rate limited. Waiting 0 seconds.\n",
      "API key 2 rate limited. Waiting 0 seconds.\n",
      "API key 2 rate limited. Waiting 0 seconds.\n",
      "\n",
      "Saved 400 processed tweets to ../data/labeled_stock_tweets_partial.csv\n"
     ]
    },
    {
     "name": "stderr",
     "output_type": "stream",
     "text": [
      "Processing tweet batches:   1%|▏         | 101/7043 [03:35<3:38:43,  1.89s/it]"
     ]
    },
    {
     "name": "stdout",
     "output_type": "stream",
     "text": [
      "API key 2 rate limited. Waiting 0 seconds.\n",
      "API key 2 rate limited. Waiting 0 seconds.\n",
      "API key 2 rate limited. Waiting 0 seconds.\n"
     ]
    },
    {
     "name": "stderr",
     "output_type": "stream",
     "text": [
      "Processing tweet batches:   1%|▏         | 102/7043 [03:37<3:43:29,  1.93s/it]"
     ]
    },
    {
     "name": "stdout",
     "output_type": "stream",
     "text": [
      "API key 1 rate limited. Waiting 0 seconds.\n"
     ]
    },
    {
     "name": "stderr",
     "output_type": "stream",
     "text": [
      "Processing tweet batches:   1%|▏         | 103/7043 [03:39<3:36:29,  1.87s/it]"
     ]
    },
    {
     "name": "stdout",
     "output_type": "stream",
     "text": [
      "API key 2 rate limited. Waiting 0 seconds.\n",
      "API key 2 rate limited. Waiting 0 seconds.\n"
     ]
    },
    {
     "name": "stderr",
     "output_type": "stream",
     "text": [
      "Processing tweet batches:   1%|▏         | 105/7043 [03:43<3:40:01,  1.90s/it]"
     ]
    },
    {
     "name": "stdout",
     "output_type": "stream",
     "text": [
      "API key 2 rate limited. Waiting 0 seconds.\n"
     ]
    },
    {
     "name": "stderr",
     "output_type": "stream",
     "text": [
      "Processing tweet batches:   2%|▏         | 106/7043 [03:45<3:53:24,  2.02s/it]"
     ]
    },
    {
     "name": "stdout",
     "output_type": "stream",
     "text": [
      "API key 1 rate limited. Waiting 0 seconds.\n",
      "API key 1 rate limited. Waiting 0 seconds.\n"
     ]
    },
    {
     "name": "stderr",
     "output_type": "stream",
     "text": [
      "Processing tweet batches:   2%|▏         | 107/7043 [03:48<4:10:00,  2.16s/it]"
     ]
    },
    {
     "name": "stdout",
     "output_type": "stream",
     "text": [
      "API key 2 rate limited. Waiting 0 seconds.API key 1 rate limited. Waiting 0 seconds.\n",
      "\n",
      "API key 2 rate limited. Waiting 0 seconds.\n"
     ]
    },
    {
     "name": "stderr",
     "output_type": "stream",
     "text": [
      "Processing tweet batches:   2%|▏         | 109/7043 [03:52<3:54:19,  2.03s/it]"
     ]
    },
    {
     "name": "stdout",
     "output_type": "stream",
     "text": [
      "API key 2 rate limited. Waiting 0 seconds.\n"
     ]
    },
    {
     "name": "stderr",
     "output_type": "stream",
     "text": [
      "Processing tweet batches:   2%|▏         | 112/7043 [03:57<3:25:56,  1.78s/it]"
     ]
    },
    {
     "name": "stdout",
     "output_type": "stream",
     "text": [
      "API key 2 rate limited. Waiting 0 seconds.\n",
      "API key 2 rate limited. Waiting 0 seconds.\n",
      "API key 1 rate limited. Waiting 0 seconds.\n",
      "API key 2 rate limited. Waiting 0 seconds.\n",
      "API key 1 rate limited. Waiting 0 seconds.\n",
      "API key 2 rate limited. Waiting 0 seconds.\n"
     ]
    },
    {
     "name": "stderr",
     "output_type": "stream",
     "text": [
      "Processing tweet batches:   2%|▏         | 114/7043 [04:01<3:38:31,  1.89s/it]"
     ]
    },
    {
     "name": "stdout",
     "output_type": "stream",
     "text": [
      "API key 1 rate limited. Waiting 0 seconds.API key 2 rate limited. Waiting 0 seconds.\n",
      "\n",
      "API key 1 rate limited. Waiting 0 seconds.\n"
     ]
    },
    {
     "name": "stderr",
     "output_type": "stream",
     "text": [
      "Processing tweet batches:   2%|▏         | 115/7043 [04:03<4:01:26,  2.09s/it]"
     ]
    },
    {
     "name": "stdout",
     "output_type": "stream",
     "text": [
      "API key 2 rate limited. Waiting 0 seconds.\n"
     ]
    },
    {
     "name": "stderr",
     "output_type": "stream",
     "text": [
      "Processing tweet batches:   2%|▏         | 117/7043 [04:07<3:41:56,  1.92s/it]"
     ]
    },
    {
     "name": "stdout",
     "output_type": "stream",
     "text": [
      "API key 2 rate limited. Waiting 0 seconds.\n",
      "API key 2 rate limited. Waiting 0 seconds.\n"
     ]
    },
    {
     "name": "stderr",
     "output_type": "stream",
     "text": [
      "Processing tweet batches:   2%|▏         | 120/7043 [04:13<3:39:14,  1.90s/it]"
     ]
    },
    {
     "name": "stdout",
     "output_type": "stream",
     "text": [
      "API key 1 rate limited. Waiting 0 seconds.\n",
      "API key 1 rate limited. Waiting 0 seconds.\n"
     ]
    },
    {
     "name": "stderr",
     "output_type": "stream",
     "text": [
      "Processing tweet batches:   2%|▏         | 122/7043 [04:17<3:30:38,  1.83s/it]"
     ]
    },
    {
     "name": "stdout",
     "output_type": "stream",
     "text": [
      "API key 2 rate limited. Waiting 0 seconds.API key 1 rate limited. Waiting 0 seconds.\n",
      "\n",
      "API key 2 rate limited. Waiting 0 seconds.\n",
      "API key 1 rate limited. Waiting 0 seconds.\n",
      "API key 1 rate limited. Waiting 0 seconds.\n"
     ]
    },
    {
     "name": "stderr",
     "output_type": "stream",
     "text": [
      "Processing tweet batches:   2%|▏         | 123/7043 [04:19<3:51:20,  2.01s/it]"
     ]
    },
    {
     "name": "stdout",
     "output_type": "stream",
     "text": [
      "API key 1 rate limited. Waiting 0 seconds.\n",
      "API key 1 rate limited. Waiting 0 seconds.\n"
     ]
    },
    {
     "name": "stderr",
     "output_type": "stream",
     "text": [
      "Processing tweet batches:   2%|▏         | 124/7043 [04:21<3:51:50,  2.01s/it]"
     ]
    },
    {
     "name": "stdout",
     "output_type": "stream",
     "text": [
      "\n",
      "Saved 500 processed tweets to ../data/labeled_stock_tweets_partial.csv\n"
     ]
    },
    {
     "name": "stderr",
     "output_type": "stream",
     "text": [
      "Processing tweet batches:   2%|▏         | 125/7043 [04:23<3:42:52,  1.93s/it]"
     ]
    },
    {
     "name": "stdout",
     "output_type": "stream",
     "text": [
      "API key 2 rate limited. Waiting 0 seconds.\n"
     ]
    },
    {
     "name": "stderr",
     "output_type": "stream",
     "text": [
      "Processing tweet batches:   2%|▏         | 126/7043 [04:25<3:38:37,  1.90s/it]"
     ]
    },
    {
     "name": "stdout",
     "output_type": "stream",
     "text": [
      "API key 2 rate limited. Waiting 0 seconds.\n"
     ]
    },
    {
     "name": "stderr",
     "output_type": "stream",
     "text": [
      "Processing tweet batches:   2%|▏         | 128/7043 [04:29<3:55:45,  2.05s/it]"
     ]
    },
    {
     "name": "stdout",
     "output_type": "stream",
     "text": [
      "API key 2 rate limited. Waiting 0 seconds.\n",
      "API key 2 rate limited. Waiting 0 seconds.\n"
     ]
    },
    {
     "name": "stderr",
     "output_type": "stream",
     "text": [
      "Processing tweet batches:   2%|▏         | 132/7043 [04:40<4:55:31,  2.57s/it]"
     ]
    },
    {
     "name": "stdout",
     "output_type": "stream",
     "text": [
      "API key 1 rate limited. Waiting 0 seconds.\n",
      "API key 1 rate limited. Waiting 0 seconds.\n"
     ]
    },
    {
     "name": "stderr",
     "output_type": "stream",
     "text": [
      "Processing tweet batches:   2%|▏         | 133/7043 [04:42<4:52:43,  2.54s/it]"
     ]
    },
    {
     "name": "stdout",
     "output_type": "stream",
     "text": [
      "API key 1 rate limited. Waiting 0 seconds.\n"
     ]
    },
    {
     "name": "stderr",
     "output_type": "stream",
     "text": [
      "Processing tweet batches:   2%|▏         | 135/7043 [04:46<4:00:27,  2.09s/it]"
     ]
    },
    {
     "name": "stdout",
     "output_type": "stream",
     "text": [
      "API key 2 rate limited. Waiting 0 seconds.\n",
      "API key 2 rate limited. Waiting 0 seconds.\n"
     ]
    },
    {
     "name": "stderr",
     "output_type": "stream",
     "text": [
      "Processing tweet batches:   2%|▏         | 136/7043 [04:48<4:19:35,  2.26s/it]"
     ]
    },
    {
     "name": "stdout",
     "output_type": "stream",
     "text": [
      "API key 1 rate limited. Waiting 0 seconds.\n"
     ]
    },
    {
     "name": "stderr",
     "output_type": "stream",
     "text": [
      "Processing tweet batches:   2%|▏         | 137/7043 [04:50<3:58:17,  2.07s/it]"
     ]
    },
    {
     "name": "stdout",
     "output_type": "stream",
     "text": [
      "API key 2 rate limited. Waiting 0 seconds.\n",
      "API key 1 rate limited. Waiting 0 seconds.\n"
     ]
    },
    {
     "name": "stderr",
     "output_type": "stream",
     "text": [
      "Processing tweet batches:   2%|▏         | 138/7043 [04:52<3:57:32,  2.06s/it]"
     ]
    },
    {
     "name": "stdout",
     "output_type": "stream",
     "text": [
      "API key 2 rate limited. Waiting 0 seconds.\n",
      "API key 1 rate limited. Waiting 0 seconds.\n",
      "API key 1 rate limited. Waiting 0 seconds.\n"
     ]
    },
    {
     "name": "stderr",
     "output_type": "stream",
     "text": [
      "Processing tweet batches:   2%|▏         | 139/7043 [04:54<3:57:00,  2.06s/it]"
     ]
    },
    {
     "name": "stdout",
     "output_type": "stream",
     "text": [
      "API key 1 rate limited. Waiting 0 seconds.\n",
      "API key 2 rate limited. Waiting 0 seconds.\n",
      "API key 1 rate limited. Waiting 0 seconds.\n",
      "API key 1 rate limited. Waiting 0 seconds.\n",
      "API key 1 rate limited. Waiting 0 seconds.\n"
     ]
    },
    {
     "name": "stderr",
     "output_type": "stream",
     "text": [
      "Processing tweet batches:   2%|▏         | 140/7043 [04:57<4:17:36,  2.24s/it]"
     ]
    },
    {
     "name": "stdout",
     "output_type": "stream",
     "text": [
      "API key 2 rate limited. Waiting 0 seconds.\n"
     ]
    },
    {
     "name": "stderr",
     "output_type": "stream",
     "text": [
      "Processing tweet batches:   2%|▏         | 141/7043 [04:58<4:01:19,  2.10s/it]"
     ]
    },
    {
     "name": "stdout",
     "output_type": "stream",
     "text": [
      "API key 2 rate limited. Waiting 0 seconds.\n"
     ]
    },
    {
     "name": "stderr",
     "output_type": "stream",
     "text": [
      "Processing tweet batches:   2%|▏         | 142/7043 [05:00<3:52:23,  2.02s/it]"
     ]
    },
    {
     "name": "stdout",
     "output_type": "stream",
     "text": [
      "API key 1 rate limited. Waiting 0 seconds.\n"
     ]
    },
    {
     "name": "stderr",
     "output_type": "stream",
     "text": [
      "Processing tweet batches:   2%|▏         | 143/7043 [05:07<6:34:53,  3.43s/it]"
     ]
    },
    {
     "name": "stdout",
     "output_type": "stream",
     "text": [
      "API key 2 rate limited. Waiting 0 seconds.\n",
      "API key 1 rate limited. Waiting 0 seconds.\n"
     ]
    },
    {
     "name": "stderr",
     "output_type": "stream",
     "text": [
      "Processing tweet batches:   2%|▏         | 144/7043 [05:09<5:47:01,  3.02s/it]"
     ]
    },
    {
     "name": "stdout",
     "output_type": "stream",
     "text": [
      "API key 2 rate limited. Waiting 0 seconds.\n"
     ]
    },
    {
     "name": "stderr",
     "output_type": "stream",
     "text": [
      "Processing tweet batches:   2%|▏         | 145/7043 [05:11<5:06:34,  2.67s/it]"
     ]
    },
    {
     "name": "stdout",
     "output_type": "stream",
     "text": [
      "API key 2 rate limited. Waiting 0 seconds.\n"
     ]
    },
    {
     "name": "stderr",
     "output_type": "stream",
     "text": [
      "Processing tweet batches:   2%|▏         | 146/7043 [05:13<4:59:39,  2.61s/it]"
     ]
    },
    {
     "name": "stdout",
     "output_type": "stream",
     "text": [
      "API key 2 rate limited. Waiting 0 seconds.\n",
      "API key 1 rate limited. Waiting 0 seconds.\n",
      "API key 2 rate limited. Waiting 0 seconds.\n"
     ]
    },
    {
     "name": "stderr",
     "output_type": "stream",
     "text": [
      "Processing tweet batches:   2%|▏         | 147/7043 [05:16<4:51:48,  2.54s/it]"
     ]
    },
    {
     "name": "stdout",
     "output_type": "stream",
     "text": [
      "API key 1 rate limited. Waiting 0 seconds.API key 2 rate limited. Waiting 0 seconds.\n",
      "\n"
     ]
    },
    {
     "name": "stderr",
     "output_type": "stream",
     "text": [
      "Processing tweet batches:   2%|▏         | 149/7043 [05:20<4:14:14,  2.21s/it]"
     ]
    },
    {
     "name": "stdout",
     "output_type": "stream",
     "text": [
      "API key 2 rate limited. Waiting 0 seconds.\n",
      "\n",
      "Saved 600 processed tweets to ../data/labeled_stock_tweets_partial.csv\n"
     ]
    },
    {
     "name": "stderr",
     "output_type": "stream",
     "text": [
      "Processing tweet batches:   2%|▏         | 151/7043 [05:23<3:52:11,  2.02s/it]"
     ]
    },
    {
     "name": "stdout",
     "output_type": "stream",
     "text": [
      "API key 2 rate limited. Waiting 0 seconds.\n",
      "API key 2 rate limited. Waiting 0 seconds.\n",
      "API key 2 rate limited. Waiting 0 seconds.\n",
      "API key 1 rate limited. Waiting 0 seconds.\n"
     ]
    },
    {
     "name": "stderr",
     "output_type": "stream",
     "text": [
      "Processing tweet batches:   2%|▏         | 152/7043 [05:26<4:14:48,  2.22s/it]"
     ]
    },
    {
     "name": "stdout",
     "output_type": "stream",
     "text": [
      "API key 2 rate limited. Waiting 0 seconds.\n",
      "API key 2 rate limited. Waiting 0 seconds.\n"
     ]
    },
    {
     "name": "stderr",
     "output_type": "stream",
     "text": [
      "Processing tweet batches:   2%|▏         | 157/7043 [05:35<3:20:37,  1.75s/it]"
     ]
    },
    {
     "name": "stdout",
     "output_type": "stream",
     "text": [
      "API key 2 rate limited. Waiting 0 seconds.\n",
      "API key 2 rate limited. Waiting 0 seconds.\n"
     ]
    },
    {
     "name": "stderr",
     "output_type": "stream",
     "text": [
      "Processing tweet batches:   2%|▏         | 158/7043 [05:36<3:21:56,  1.76s/it]"
     ]
    },
    {
     "name": "stdout",
     "output_type": "stream",
     "text": [
      "API key 2 rate limited. Waiting 0 seconds.\n"
     ]
    },
    {
     "name": "stderr",
     "output_type": "stream",
     "text": [
      "Processing tweet batches:   2%|▏         | 159/7043 [05:38<3:15:35,  1.70s/it]"
     ]
    },
    {
     "name": "stdout",
     "output_type": "stream",
     "text": [
      "API key 1 rate limited. Waiting 0 seconds.API key 2 rate limited. Waiting 0 seconds.\n",
      "\n",
      "API key 2 rate limited. Waiting 0 seconds.\n",
      "API key 2 rate limited. Waiting 0 seconds.\n",
      "API key 1 rate limited. Waiting 0 seconds.\n",
      "API key 1 rate limited. Waiting 0 seconds.\n",
      "API key 1 rate limited. Waiting 0 seconds.\n"
     ]
    },
    {
     "name": "stderr",
     "output_type": "stream",
     "text": [
      "Processing tweet batches:   2%|▏         | 160/7043 [05:41<3:58:20,  2.08s/it]"
     ]
    },
    {
     "name": "stdout",
     "output_type": "stream",
     "text": [
      "API key 1 rate limited. Waiting 0 seconds.\n",
      "API key 1 rate limited. Waiting 0 seconds.\n"
     ]
    },
    {
     "name": "stderr",
     "output_type": "stream",
     "text": [
      "Processing tweet batches:   2%|▏         | 161/7043 [05:43<4:06:26,  2.15s/it]"
     ]
    },
    {
     "name": "stdout",
     "output_type": "stream",
     "text": [
      "API key 1 rate limited. Waiting 0 seconds.\n",
      "API key 1 rate limited. Waiting 0 seconds.\n",
      "API key 1 rate limited. Waiting 0 seconds.\n"
     ]
    },
    {
     "name": "stderr",
     "output_type": "stream",
     "text": [
      "Processing tweet batches:   2%|▏         | 163/7043 [05:47<3:38:50,  1.91s/it]"
     ]
    },
    {
     "name": "stdout",
     "output_type": "stream",
     "text": [
      "API key 1 rate limited. Waiting 0 seconds.\n",
      "API key 2 rate limited. Waiting 0 seconds.\n",
      "API key 2 rate limited. Waiting 0 seconds.\n",
      "API key 2 rate limited. Waiting 0 seconds.\n"
     ]
    },
    {
     "name": "stderr",
     "output_type": "stream",
     "text": [
      "Processing tweet batches:   2%|▏         | 164/7043 [05:49<3:48:00,  1.99s/it]"
     ]
    },
    {
     "name": "stdout",
     "output_type": "stream",
     "text": [
      "API key 2 rate limited. Waiting 0 seconds.\n"
     ]
    },
    {
     "name": "stderr",
     "output_type": "stream",
     "text": [
      "Processing tweet batches:   2%|▏         | 166/7043 [05:52<3:39:20,  1.91s/it]"
     ]
    },
    {
     "name": "stdout",
     "output_type": "stream",
     "text": [
      "API key 1 rate limited. Waiting 0 seconds.\n",
      "API key 1 rate limited. Waiting 0 seconds.\n",
      "API key 1 rate limited. Waiting 0 seconds.\n"
     ]
    },
    {
     "name": "stderr",
     "output_type": "stream",
     "text": [
      "Processing tweet batches:   2%|▏         | 167/7043 [05:55<3:59:13,  2.09s/it]"
     ]
    },
    {
     "name": "stdout",
     "output_type": "stream",
     "text": [
      "API key 1 rate limited. Waiting 0 seconds.\n"
     ]
    },
    {
     "name": "stderr",
     "output_type": "stream",
     "text": [
      "Processing tweet batches:   2%|▏         | 168/7043 [05:57<3:45:02,  1.96s/it]"
     ]
    },
    {
     "name": "stdout",
     "output_type": "stream",
     "text": [
      "API key 1 rate limited. Waiting 0 seconds.\n",
      "API key 1 rate limited. Waiting 0 seconds.\n"
     ]
    },
    {
     "name": "stderr",
     "output_type": "stream",
     "text": [
      "Processing tweet batches:   2%|▏         | 170/7043 [06:01<3:51:48,  2.02s/it]"
     ]
    },
    {
     "name": "stdout",
     "output_type": "stream",
     "text": [
      "API key 2 rate limited. Waiting 0 seconds.\n",
      "API key 2 rate limited. Waiting 0 seconds.\n",
      "API key 2 rate limited. Waiting 0 seconds.\n"
     ]
    },
    {
     "name": "stderr",
     "output_type": "stream",
     "text": [
      "Processing tweet batches:   2%|▏         | 172/7043 [06:04<3:24:47,  1.79s/it]"
     ]
    },
    {
     "name": "stdout",
     "output_type": "stream",
     "text": [
      "API key 1 rate limited. Waiting 0 seconds.\n",
      "API key 1 rate limited. Waiting 0 seconds.\n",
      "API key 2 rate limited. Waiting 0 seconds.\n"
     ]
    },
    {
     "name": "stderr",
     "output_type": "stream",
     "text": [
      "Processing tweet batches:   2%|▏         | 173/7043 [06:07<3:44:47,  1.96s/it]"
     ]
    },
    {
     "name": "stdout",
     "output_type": "stream",
     "text": [
      "API key 1 rate limited. Waiting 0 seconds.API key 2 rate limited. Waiting 0 seconds.\n",
      "\n",
      "API key 2 rate limited. Waiting 0 seconds.\n"
     ]
    },
    {
     "name": "stderr",
     "output_type": "stream",
     "text": [
      "Processing tweet batches:   2%|▏         | 174/7043 [06:09<4:00:40,  2.10s/it]"
     ]
    },
    {
     "name": "stdout",
     "output_type": "stream",
     "text": [
      "API key 1 rate limited. Waiting 0 seconds.\n",
      "\n",
      "Saved 700 processed tweets to ../data/labeled_stock_tweets_partial.csv\n"
     ]
    },
    {
     "name": "stderr",
     "output_type": "stream",
     "text": [
      "Processing tweet batches:   2%|▏         | 175/7043 [06:11<4:07:47,  2.16s/it]"
     ]
    },
    {
     "name": "stdout",
     "output_type": "stream",
     "text": [
      "API key 2 rate limited. Waiting 0 seconds.\n",
      "API key 1 rate limited. Waiting 0 seconds.\n"
     ]
    },
    {
     "name": "stderr",
     "output_type": "stream",
     "text": [
      "Processing tweet batches:   2%|▏         | 176/7043 [06:13<3:47:58,  1.99s/it]"
     ]
    },
    {
     "name": "stdout",
     "output_type": "stream",
     "text": [
      "API key 1 rate limited. Waiting 0 seconds.\n"
     ]
    },
    {
     "name": "stderr",
     "output_type": "stream",
     "text": [
      "Processing tweet batches:   3%|▎         | 177/7043 [06:15<3:42:40,  1.95s/it]"
     ]
    },
    {
     "name": "stdout",
     "output_type": "stream",
     "text": [
      "API key 1 rate limited. Waiting 0 seconds.\n",
      "API key 1 rate limited. Waiting 0 seconds.\n"
     ]
    },
    {
     "name": "stderr",
     "output_type": "stream",
     "text": [
      "Processing tweet batches:   3%|▎         | 178/7043 [06:17<3:58:10,  2.08s/it]"
     ]
    },
    {
     "name": "stdout",
     "output_type": "stream",
     "text": [
      "API key 1 rate limited. Waiting 0 seconds.\n",
      "API key 1 rate limited. Waiting 0 seconds.\n",
      "API key 1 rate limited. Waiting 0 seconds.\n",
      "API key 1 rate limited. Waiting 0 seconds.\n"
     ]
    },
    {
     "name": "stderr",
     "output_type": "stream",
     "text": [
      "Processing tweet batches:   3%|▎         | 179/7043 [06:21<4:55:10,  2.58s/it]"
     ]
    },
    {
     "name": "stdout",
     "output_type": "stream",
     "text": [
      "API key 1 rate limited. Waiting 0 seconds.\n"
     ]
    },
    {
     "name": "stderr",
     "output_type": "stream",
     "text": [
      "Processing tweet batches:   3%|▎         | 180/7043 [06:23<4:33:25,  2.39s/it]"
     ]
    },
    {
     "name": "stdout",
     "output_type": "stream",
     "text": [
      "API key 2 rate limited. Waiting 0 seconds.\n"
     ]
    },
    {
     "name": "stderr",
     "output_type": "stream",
     "text": [
      "Processing tweet batches:   3%|▎         | 181/7043 [06:25<4:40:17,  2.45s/it]"
     ]
    },
    {
     "name": "stdout",
     "output_type": "stream",
     "text": [
      "API key 1 rate limited. Waiting 0 seconds.\n",
      "API key 1 rate limited. Waiting 0 seconds.\n"
     ]
    },
    {
     "name": "stderr",
     "output_type": "stream",
     "text": [
      "Processing tweet batches:   3%|▎         | 182/7043 [06:28<4:57:48,  2.60s/it]"
     ]
    },
    {
     "name": "stdout",
     "output_type": "stream",
     "text": [
      "API key 1 rate limited. Waiting 0 seconds.\n",
      "API key 1 rate limited. Waiting 0 seconds.\n",
      "API key 1 rate limited. Waiting 0 seconds.\n"
     ]
    },
    {
     "name": "stderr",
     "output_type": "stream",
     "text": [
      "Processing tweet batches:   3%|▎         | 184/7043 [06:32<4:00:53,  2.11s/it]"
     ]
    },
    {
     "name": "stdout",
     "output_type": "stream",
     "text": [
      "API key 1 rate limited. Waiting 0 seconds.\n",
      "API key 1 rate limited. Waiting 0 seconds.\n"
     ]
    },
    {
     "name": "stderr",
     "output_type": "stream",
     "text": [
      "Processing tweet batches:   3%|▎         | 185/7043 [06:34<3:53:52,  2.05s/it]"
     ]
    },
    {
     "name": "stdout",
     "output_type": "stream",
     "text": [
      "API key 1 rate limited. Waiting 0 seconds.API key 2 rate limited. Waiting 0 seconds.\n",
      "\n",
      "API key 2 rate limited. Waiting 0 seconds.\n"
     ]
    },
    {
     "name": "stderr",
     "output_type": "stream",
     "text": [
      "Processing tweet batches:   3%|▎         | 186/7043 [06:36<3:50:07,  2.01s/it]"
     ]
    },
    {
     "name": "stdout",
     "output_type": "stream",
     "text": [
      "API key 2 rate limited. Waiting 0 seconds.\n"
     ]
    },
    {
     "name": "stderr",
     "output_type": "stream",
     "text": [
      "Processing tweet batches:   3%|▎         | 188/7043 [06:39<3:39:27,  1.92s/it]"
     ]
    },
    {
     "name": "stdout",
     "output_type": "stream",
     "text": [
      "API key 1 rate limited. Waiting 0 seconds.\n",
      "API key 1 rate limited. Waiting 0 seconds.\n"
     ]
    },
    {
     "name": "stderr",
     "output_type": "stream",
     "text": [
      "Processing tweet batches:   3%|▎         | 190/7043 [06:44<3:51:25,  2.03s/it]"
     ]
    },
    {
     "name": "stdout",
     "output_type": "stream",
     "text": [
      "API key 2 rate limited. Waiting 0 seconds.API key 1 rate limited. Waiting 0 seconds.\n",
      "\n"
     ]
    },
    {
     "name": "stderr",
     "output_type": "stream",
     "text": [
      "Processing tweet batches:   3%|▎         | 191/7043 [06:46<3:42:27,  1.95s/it]"
     ]
    },
    {
     "name": "stdout",
     "output_type": "stream",
     "text": [
      "API key 1 rate limited. Waiting 0 seconds.\n"
     ]
    },
    {
     "name": "stderr",
     "output_type": "stream",
     "text": [
      "Processing tweet batches:   3%|▎         | 194/7043 [06:52<3:49:21,  2.01s/it]"
     ]
    },
    {
     "name": "stdout",
     "output_type": "stream",
     "text": [
      "API key 2 rate limited. Waiting 0 seconds.\n"
     ]
    },
    {
     "name": "stderr",
     "output_type": "stream",
     "text": [
      "Processing tweet batches:   3%|▎         | 195/7043 [06:54<4:01:10,  2.11s/it]"
     ]
    },
    {
     "name": "stdout",
     "output_type": "stream",
     "text": [
      "API key 1 rate limited. Waiting 0 seconds.\n"
     ]
    },
    {
     "name": "stderr",
     "output_type": "stream",
     "text": [
      "Processing tweet batches:   3%|▎         | 197/7043 [06:58<3:58:52,  2.09s/it]"
     ]
    },
    {
     "name": "stdout",
     "output_type": "stream",
     "text": [
      "API key 2 rate limited. Waiting 0 seconds.\n"
     ]
    },
    {
     "name": "stderr",
     "output_type": "stream",
     "text": [
      "Processing tweet batches:   3%|▎         | 199/7043 [07:02<3:48:35,  2.00s/it]"
     ]
    },
    {
     "name": "stdout",
     "output_type": "stream",
     "text": [
      "API key 1 rate limited. Waiting 0 seconds.\n",
      "API key 2 rate limited. Waiting 0 seconds.\n",
      "API key 1 rate limited. Waiting 0 seconds.API key 2 rate limited. Waiting 0 seconds.\n",
      "\n",
      "API key 2 rate limited. Waiting 0 seconds.\n",
      "\n",
      "Saved 800 processed tweets to ../data/labeled_stock_tweets_partial.csv\n"
     ]
    },
    {
     "name": "stderr",
     "output_type": "stream",
     "text": [
      "Processing tweet batches:   3%|▎         | 200/7043 [07:04<3:49:27,  2.01s/it]"
     ]
    },
    {
     "name": "stdout",
     "output_type": "stream",
     "text": [
      "API key 1 rate limited. Waiting 0 seconds.\n",
      "API key 1 rate limited. Waiting 0 seconds.\n",
      "API key 1 rate limited. Waiting 0 seconds.\n",
      "API key 1 rate limited. Waiting 0 seconds.\n"
     ]
    },
    {
     "name": "stderr",
     "output_type": "stream",
     "text": [
      "Processing tweet batches:   3%|▎         | 203/7043 [07:09<3:20:38,  1.76s/it]"
     ]
    },
    {
     "name": "stdout",
     "output_type": "stream",
     "text": [
      "API key 2 rate limited. Waiting 0 seconds.\n"
     ]
    },
    {
     "name": "stderr",
     "output_type": "stream",
     "text": [
      "Processing tweet batches:   3%|▎         | 204/7043 [07:11<3:19:53,  1.75s/it]"
     ]
    },
    {
     "name": "stdout",
     "output_type": "stream",
     "text": [
      "API key 2 rate limited. Waiting 0 seconds.API key 1 rate limited. Waiting 0 seconds.\n",
      "\n"
     ]
    },
    {
     "name": "stderr",
     "output_type": "stream",
     "text": [
      "Processing tweet batches:   3%|▎         | 205/7043 [07:14<3:56:37,  2.08s/it]"
     ]
    },
    {
     "name": "stdout",
     "output_type": "stream",
     "text": [
      "API key 2 rate limited. Waiting 0 seconds.\n"
     ]
    },
    {
     "name": "stderr",
     "output_type": "stream",
     "text": [
      "Processing tweet batches:   3%|▎         | 206/7043 [07:16<4:02:06,  2.12s/it]"
     ]
    },
    {
     "name": "stdout",
     "output_type": "stream",
     "text": [
      "API key 2 rate limited. Waiting 0 seconds.\n"
     ]
    },
    {
     "name": "stderr",
     "output_type": "stream",
     "text": [
      "Processing tweet batches:   3%|▎         | 207/7043 [07:19<4:46:05,  2.51s/it]"
     ]
    },
    {
     "name": "stdout",
     "output_type": "stream",
     "text": [
      "API key 1 rate limited. Waiting 0 seconds.\n",
      "API key 1 rate limited. Waiting 0 seconds.\n"
     ]
    },
    {
     "name": "stderr",
     "output_type": "stream",
     "text": [
      "Processing tweet batches:   3%|▎         | 209/7043 [07:24<4:19:19,  2.28s/it]"
     ]
    },
    {
     "name": "stdout",
     "output_type": "stream",
     "text": [
      "API key 1 rate limited. Waiting 0 seconds.\n"
     ]
    },
    {
     "name": "stderr",
     "output_type": "stream",
     "text": [
      "Processing tweet batches:   3%|▎         | 210/7043 [07:26<4:07:56,  2.18s/it]"
     ]
    },
    {
     "name": "stdout",
     "output_type": "stream",
     "text": [
      "API key 2 rate limited. Waiting 0 seconds.\n"
     ]
    },
    {
     "name": "stderr",
     "output_type": "stream",
     "text": [
      "Processing tweet batches:   3%|▎         | 211/7043 [07:27<3:52:33,  2.04s/it]"
     ]
    },
    {
     "name": "stdout",
     "output_type": "stream",
     "text": [
      "API key 1 rate limited. Waiting 0 seconds.\n"
     ]
    },
    {
     "name": "stderr",
     "output_type": "stream",
     "text": [
      "Processing tweet batches:   3%|▎         | 212/7043 [07:29<3:51:41,  2.04s/it]"
     ]
    },
    {
     "name": "stdout",
     "output_type": "stream",
     "text": [
      "API key 1 rate limited. Waiting 0 seconds.\n"
     ]
    },
    {
     "name": "stderr",
     "output_type": "stream",
     "text": [
      "Processing tweet batches:   3%|▎         | 215/7043 [07:35<3:44:31,  1.97s/it]"
     ]
    },
    {
     "name": "stdout",
     "output_type": "stream",
     "text": [
      "API key 2 rate limited. Waiting 0 seconds.\n"
     ]
    },
    {
     "name": "stderr",
     "output_type": "stream",
     "text": [
      "Processing tweet batches:   3%|▎         | 216/7043 [07:37<3:38:11,  1.92s/it]"
     ]
    },
    {
     "name": "stdout",
     "output_type": "stream",
     "text": [
      "API key 2 rate limited. Waiting 0 seconds.\n",
      "API key 2 rate limited. Waiting 0 seconds.\n"
     ]
    },
    {
     "name": "stderr",
     "output_type": "stream",
     "text": [
      "Processing tweet batches:   3%|▎         | 217/7043 [07:39<3:42:46,  1.96s/it]"
     ]
    },
    {
     "name": "stdout",
     "output_type": "stream",
     "text": [
      "API key 2 rate limited. Waiting 0 seconds.\n",
      "API key 2 rate limited. Waiting 0 seconds.\n"
     ]
    },
    {
     "name": "stderr",
     "output_type": "stream",
     "text": [
      "Processing tweet batches:   3%|▎         | 218/7043 [07:41<3:35:43,  1.90s/it]"
     ]
    },
    {
     "name": "stdout",
     "output_type": "stream",
     "text": [
      "API key 2 rate limited. Waiting 0 seconds.\n",
      "API key 2 rate limited. Waiting 0 seconds.\n",
      "API key 2 rate limited. Waiting 0 seconds.\n",
      "API key 1 rate limited. Waiting 0 seconds.\n"
     ]
    },
    {
     "name": "stderr",
     "output_type": "stream",
     "text": [
      "Processing tweet batches:   3%|▎         | 219/7043 [07:44<4:08:20,  2.18s/it]"
     ]
    },
    {
     "name": "stdout",
     "output_type": "stream",
     "text": [
      "API key 2 rate limited. Waiting 0 seconds.\n"
     ]
    },
    {
     "name": "stderr",
     "output_type": "stream",
     "text": [
      "Processing tweet batches:   3%|▎         | 220/7043 [07:45<3:53:12,  2.05s/it]"
     ]
    },
    {
     "name": "stdout",
     "output_type": "stream",
     "text": [
      "API key 1 rate limited. Waiting 0 seconds.\n",
      "API key 1 rate limited. Waiting 0 seconds.\n",
      "API key 1 rate limited. Waiting 0 seconds.\n"
     ]
    },
    {
     "name": "stderr",
     "output_type": "stream",
     "text": [
      "Processing tweet batches:   3%|▎         | 222/7043 [07:49<3:24:32,  1.80s/it]"
     ]
    },
    {
     "name": "stdout",
     "output_type": "stream",
     "text": [
      "API key 1 rate limited. Waiting 0 seconds.\n"
     ]
    },
    {
     "name": "stderr",
     "output_type": "stream",
     "text": [
      "Processing tweet batches:   3%|▎         | 223/7043 [07:51<3:29:04,  1.84s/it]"
     ]
    },
    {
     "name": "stdout",
     "output_type": "stream",
     "text": [
      "API key 2 rate limited. Waiting 0 seconds.\n"
     ]
    },
    {
     "name": "stderr",
     "output_type": "stream",
     "text": [
      "Processing tweet batches:   3%|▎         | 224/7043 [07:53<3:40:28,  1.94s/it]"
     ]
    },
    {
     "name": "stdout",
     "output_type": "stream",
     "text": [
      "API key 2 rate limited. Waiting 0 seconds.\n",
      "\n",
      "Saved 900 processed tweets to ../data/labeled_stock_tweets_partial.csv\n"
     ]
    },
    {
     "name": "stderr",
     "output_type": "stream",
     "text": [
      "Processing tweet batches:   3%|▎         | 225/7043 [07:55<3:38:59,  1.93s/it]"
     ]
    },
    {
     "name": "stdout",
     "output_type": "stream",
     "text": [
      "API key 2 rate limited. Waiting 0 seconds.\n"
     ]
    },
    {
     "name": "stderr",
     "output_type": "stream",
     "text": [
      "Processing tweet batches:   3%|▎         | 226/7043 [07:56<3:30:35,  1.85s/it]"
     ]
    },
    {
     "name": "stdout",
     "output_type": "stream",
     "text": [
      "API key 1 rate limited. Waiting 0 seconds.\n",
      "API key 1 rate limited. Waiting 0 seconds.\n",
      "API key 1 rate limited. Waiting 0 seconds.\n"
     ]
    },
    {
     "name": "stderr",
     "output_type": "stream",
     "text": [
      "Processing tweet batches:   3%|▎         | 228/7043 [08:00<3:29:34,  1.85s/it]"
     ]
    },
    {
     "name": "stdout",
     "output_type": "stream",
     "text": [
      "API key 1 rate limited. Waiting 0 seconds.\n"
     ]
    },
    {
     "name": "stderr",
     "output_type": "stream",
     "text": [
      "Processing tweet batches:   3%|▎         | 230/7043 [08:03<3:10:04,  1.67s/it]"
     ]
    },
    {
     "name": "stdout",
     "output_type": "stream",
     "text": [
      "API key 2 rate limited. Waiting 0 seconds.\n",
      "API key 1 rate limited. Waiting 0 seconds.\n"
     ]
    },
    {
     "name": "stderr",
     "output_type": "stream",
     "text": [
      "Processing tweet batches:   3%|▎         | 231/7043 [08:06<3:50:28,  2.03s/it]"
     ]
    },
    {
     "name": "stdout",
     "output_type": "stream",
     "text": [
      "API key 1 rate limited. Waiting 0 seconds.\n",
      "API key 2 rate limited. Waiting 0 seconds.\n",
      "API key 1 rate limited. Waiting 0 seconds.\n"
     ]
    },
    {
     "name": "stderr",
     "output_type": "stream",
     "text": [
      "Processing tweet batches:   3%|▎         | 232/7043 [08:08<3:57:25,  2.09s/it]"
     ]
    },
    {
     "name": "stdout",
     "output_type": "stream",
     "text": [
      "API key 2 rate limited. Waiting 0 seconds.\n"
     ]
    },
    {
     "name": "stderr",
     "output_type": "stream",
     "text": [
      "Processing tweet batches:   3%|▎         | 233/7043 [08:10<3:51:41,  2.04s/it]"
     ]
    },
    {
     "name": "stdout",
     "output_type": "stream",
     "text": [
      "API key 1 rate limited. Waiting 0 seconds.\n"
     ]
    },
    {
     "name": "stderr",
     "output_type": "stream",
     "text": [
      "Processing tweet batches:   3%|▎         | 234/7043 [08:12<3:53:53,  2.06s/it]"
     ]
    },
    {
     "name": "stdout",
     "output_type": "stream",
     "text": [
      "API key 2 rate limited. Waiting 0 seconds.API key 1 rate limited. Waiting 0 seconds.\n",
      "\n"
     ]
    },
    {
     "name": "stderr",
     "output_type": "stream",
     "text": [
      "Processing tweet batches:   3%|▎         | 235/7043 [08:14<3:43:04,  1.97s/it]"
     ]
    },
    {
     "name": "stdout",
     "output_type": "stream",
     "text": [
      "API key 1 rate limited. Waiting 0 seconds.\n",
      "API key 2 rate limited. Waiting 0 seconds.\n"
     ]
    },
    {
     "name": "stderr",
     "output_type": "stream",
     "text": [
      "Processing tweet batches:   3%|▎         | 238/7043 [08:20<3:24:53,  1.81s/it]"
     ]
    },
    {
     "name": "stdout",
     "output_type": "stream",
     "text": [
      "API key 2 rate limited. Waiting 0 seconds.\n"
     ]
    },
    {
     "name": "stderr",
     "output_type": "stream",
     "text": [
      "Processing tweet batches:   3%|▎         | 239/7043 [08:22<3:24:14,  1.80s/it]"
     ]
    },
    {
     "name": "stdout",
     "output_type": "stream",
     "text": [
      "API key 2 rate limited. Waiting 0 seconds.\n"
     ]
    },
    {
     "name": "stderr",
     "output_type": "stream",
     "text": [
      "Processing tweet batches:   3%|▎         | 240/7043 [08:23<3:27:39,  1.83s/it]"
     ]
    },
    {
     "name": "stdout",
     "output_type": "stream",
     "text": [
      "API key 1 rate limited. Waiting 0 seconds.\n"
     ]
    },
    {
     "name": "stderr",
     "output_type": "stream",
     "text": [
      "Processing tweet batches:   3%|▎         | 241/7043 [08:27<4:23:26,  2.32s/it]"
     ]
    },
    {
     "name": "stdout",
     "output_type": "stream",
     "text": [
      "API key 1 rate limited. Waiting 0 seconds.\n",
      "API key 1 rate limited. Waiting 0 seconds.\n"
     ]
    },
    {
     "name": "stderr",
     "output_type": "stream",
     "text": [
      "Processing tweet batches:   3%|▎         | 244/7043 [08:33<4:01:35,  2.13s/it]"
     ]
    },
    {
     "name": "stdout",
     "output_type": "stream",
     "text": [
      "API key 2 rate limited. Waiting 0 seconds.\n",
      "API key 2 rate limited. Waiting 0 seconds.\n",
      "API key 2 rate limited. Waiting 0 seconds.\n"
     ]
    },
    {
     "name": "stderr",
     "output_type": "stream",
     "text": [
      "Processing tweet batches:   3%|▎         | 245/7043 [08:35<3:55:28,  2.08s/it]"
     ]
    },
    {
     "name": "stdout",
     "output_type": "stream",
     "text": [
      "API key 1 rate limited. Waiting 0 seconds.\n",
      "API key 1 rate limited. Waiting 0 seconds.\n",
      "API key 1 rate limited. Waiting 0 seconds.\n"
     ]
    },
    {
     "name": "stderr",
     "output_type": "stream",
     "text": [
      "Processing tweet batches:   4%|▎         | 247/7043 [08:39<3:49:30,  2.03s/it]"
     ]
    },
    {
     "name": "stdout",
     "output_type": "stream",
     "text": [
      "API key 2 rate limited. Waiting 0 seconds.\n",
      "API key 2 rate limited. Waiting 0 seconds.\n",
      "API key 2 rate limited. Waiting 0 seconds.\n"
     ]
    },
    {
     "name": "stderr",
     "output_type": "stream",
     "text": [
      "Processing tweet batches:   4%|▎         | 249/7043 [08:44<4:00:39,  2.13s/it]"
     ]
    },
    {
     "name": "stdout",
     "output_type": "stream",
     "text": [
      "API key 2 rate limited. Waiting 0 seconds.API key 1 rate limited. Waiting 0 seconds.\n",
      "\n",
      "\n",
      "Saved 1000 processed tweets to ../data/labeled_stock_tweets_partial.csv\n"
     ]
    },
    {
     "name": "stderr",
     "output_type": "stream",
     "text": [
      "Processing tweet batches:   4%|▎         | 251/7043 [08:48<4:05:43,  2.17s/it]"
     ]
    },
    {
     "name": "stdout",
     "output_type": "stream",
     "text": [
      "API key 2 rate limited. Waiting 0 seconds.\n",
      "API key 2 rate limited. Waiting 0 seconds.\n"
     ]
    },
    {
     "name": "stderr",
     "output_type": "stream",
     "text": [
      "Processing tweet batches:   4%|▎         | 253/7043 [08:53<4:04:55,  2.16s/it]"
     ]
    },
    {
     "name": "stdout",
     "output_type": "stream",
     "text": [
      "API key 2 rate limited. Waiting 0 seconds.API key 1 rate limited. Waiting 0 seconds.\n",
      "\n",
      "API key 1 rate limited. Waiting 0 seconds.\n",
      "API key 2 rate limited. Waiting 0 seconds.API key 1 rate limited. Waiting 0 seconds.\n",
      "\n",
      "API key 2 rate limited. Waiting 0 seconds.\n",
      "API key 2 rate limited. Waiting 0 seconds.\n",
      "API key 1 rate limited. Waiting 0 seconds.\n"
     ]
    },
    {
     "name": "stderr",
     "output_type": "stream",
     "text": [
      "Processing tweet batches:   4%|▎         | 255/7043 [08:57<4:05:32,  2.17s/it]"
     ]
    },
    {
     "name": "stdout",
     "output_type": "stream",
     "text": [
      "API key 2 rate limited. Waiting 0 seconds.\n"
     ]
    },
    {
     "name": "stderr",
     "output_type": "stream",
     "text": [
      "Processing tweet batches:   4%|▎         | 256/7043 [08:59<3:51:03,  2.04s/it]"
     ]
    },
    {
     "name": "stdout",
     "output_type": "stream",
     "text": [
      "API key 1 rate limited. Waiting 0 seconds.\n",
      "API key 1 rate limited. Waiting 0 seconds.\n"
     ]
    },
    {
     "name": "stderr",
     "output_type": "stream",
     "text": [
      "Processing tweet batches:   4%|▎         | 257/7043 [09:01<3:57:20,  2.10s/it]"
     ]
    },
    {
     "name": "stdout",
     "output_type": "stream",
     "text": [
      "API key 1 rate limited. Waiting 0 seconds.\n"
     ]
    },
    {
     "name": "stderr",
     "output_type": "stream",
     "text": [
      "Processing tweet batches:   4%|▎         | 258/7043 [09:04<4:01:15,  2.13s/it]"
     ]
    },
    {
     "name": "stdout",
     "output_type": "stream",
     "text": [
      "API key 2 rate limited. Waiting 0 seconds.\n",
      "API key 2 rate limited. Waiting 0 seconds.\n"
     ]
    },
    {
     "name": "stderr",
     "output_type": "stream",
     "text": [
      "Processing tweet batches:   4%|▎         | 259/7043 [09:05<3:56:11,  2.09s/it]"
     ]
    },
    {
     "name": "stdout",
     "output_type": "stream",
     "text": [
      "API key 1 rate limited. Waiting 0 seconds.\n",
      "API key 2 rate limited. Waiting 0 seconds.\n",
      "API key 2 rate limited. Waiting 0 seconds.\n",
      "API key 1 rate limited. Waiting 0 seconds.\n"
     ]
    },
    {
     "name": "stderr",
     "output_type": "stream",
     "text": [
      "Processing tweet batches:   4%|▎         | 260/7043 [09:08<4:02:14,  2.14s/it]"
     ]
    },
    {
     "name": "stdout",
     "output_type": "stream",
     "text": [
      "API key 2 rate limited. Waiting 0 seconds.\n"
     ]
    },
    {
     "name": "stderr",
     "output_type": "stream",
     "text": [
      "Processing tweet batches:   4%|▎         | 261/7043 [09:09<3:45:51,  2.00s/it]"
     ]
    },
    {
     "name": "stdout",
     "output_type": "stream",
     "text": [
      "API key 2 rate limited. Waiting 0 seconds.\n",
      "API key 1 rate limited. Waiting 0 seconds.\n",
      "API key 1 rate limited. Waiting 0 seconds.\n",
      "API key 1 rate limited. Waiting 0 seconds.\n"
     ]
    },
    {
     "name": "stderr",
     "output_type": "stream",
     "text": [
      "Processing tweet batches:   4%|▎         | 262/7043 [09:11<3:37:28,  1.92s/it]"
     ]
    },
    {
     "name": "stdout",
     "output_type": "stream",
     "text": [
      "API key 1 rate limited. Waiting 0 seconds.\n"
     ]
    },
    {
     "name": "stderr",
     "output_type": "stream",
     "text": [
      "Processing tweet batches:   4%|▎         | 263/7043 [09:13<3:25:56,  1.82s/it]"
     ]
    },
    {
     "name": "stdout",
     "output_type": "stream",
     "text": [
      "API key 2 rate limited. Waiting 0 seconds.\n",
      "API key 2 rate limited. Waiting 0 seconds.\n",
      "API key 1 rate limited. Waiting 0 seconds.\n"
     ]
    },
    {
     "name": "stderr",
     "output_type": "stream",
     "text": [
      "Processing tweet batches:   4%|▍         | 265/7043 [09:17<3:33:41,  1.89s/it]"
     ]
    },
    {
     "name": "stdout",
     "output_type": "stream",
     "text": [
      "API key 2 rate limited. Waiting 0 seconds.API key 1 rate limited. Waiting 0 seconds.\n",
      "\n",
      "API key 1 rate limited. Waiting 0 seconds.\n"
     ]
    },
    {
     "name": "stderr",
     "output_type": "stream",
     "text": [
      "Processing tweet batches:   4%|▍         | 270/7043 [09:41<6:28:36,  3.44s/it] "
     ]
    },
    {
     "name": "stdout",
     "output_type": "stream",
     "text": [
      "API key 2 rate limited. Waiting 0 seconds.\n"
     ]
    },
    {
     "name": "stderr",
     "output_type": "stream",
     "text": [
      "Processing tweet batches:   4%|▍         | 272/7043 [09:45<4:46:39,  2.54s/it]"
     ]
    },
    {
     "name": "stdout",
     "output_type": "stream",
     "text": [
      "API key 2 rate limited. Waiting 0 seconds.API key 1 rate limited. Waiting 0 seconds.\n",
      "\n",
      "API key 2 rate limited. Waiting 0 seconds.\n",
      "API key 1 rate limited. Waiting 0 seconds.API key 2 rate limited. Waiting 0 seconds.\n",
      "\n",
      "API key 2 rate limited. Waiting 0 seconds.API key 1 rate limited. Waiting 0 seconds.\n",
      "\n"
     ]
    },
    {
     "name": "stderr",
     "output_type": "stream",
     "text": [
      "Processing tweet batches:   4%|▍         | 274/7043 [09:50<4:45:21,  2.53s/it]"
     ]
    },
    {
     "name": "stdout",
     "output_type": "stream",
     "text": [
      "API key 1 rate limited. Waiting 0 seconds.\n",
      "API key 2 rate limited. Waiting 0 seconds.\n",
      "API key 2 rate limited. Waiting 0 seconds.\n",
      "API key 1 rate limited. Waiting 0 seconds.\n",
      "API key 1 rate limited. Waiting 0 seconds.\n",
      "\n",
      "Saved 1100 processed tweets to ../data/labeled_stock_tweets_partial.csv\n"
     ]
    },
    {
     "name": "stderr",
     "output_type": "stream",
     "text": [
      "Processing tweet batches:   4%|▍         | 275/7043 [09:53<4:52:00,  2.59s/it]"
     ]
    },
    {
     "name": "stdout",
     "output_type": "stream",
     "text": [
      "API key 2 rate limited. Waiting 0 seconds.\n",
      "API key 2 rate limited. Waiting 0 seconds.\n"
     ]
    },
    {
     "name": "stderr",
     "output_type": "stream",
     "text": [
      "Processing tweet batches:   4%|▍         | 276/7043 [09:55<4:44:34,  2.52s/it]"
     ]
    },
    {
     "name": "stdout",
     "output_type": "stream",
     "text": [
      "API key 1 rate limited. Waiting 0 seconds.\n",
      "API key 1 rate limited. Waiting 0 seconds.\n"
     ]
    },
    {
     "name": "stderr",
     "output_type": "stream",
     "text": [
      "Processing tweet batches:   4%|▍         | 277/7043 [09:58<5:07:29,  2.73s/it]"
     ]
    },
    {
     "name": "stdout",
     "output_type": "stream",
     "text": [
      "API key 2 rate limited. Waiting 0 seconds.\n",
      "API key 2 rate limited. Waiting 0 seconds.\n",
      "API key 1 rate limited. Waiting 0 seconds.\n"
     ]
    },
    {
     "name": "stderr",
     "output_type": "stream",
     "text": [
      "Processing tweet batches:   4%|▍         | 278/7043 [10:00<4:48:53,  2.56s/it]"
     ]
    },
    {
     "name": "stdout",
     "output_type": "stream",
     "text": [
      "API key 1 rate limited. Waiting 0 seconds.API key 2 rate limited. Waiting 0 seconds.\n",
      "\n",
      "API key 1 rate limited. Waiting 0 seconds.\n",
      "API key 1 rate limited. Waiting 0 seconds.\n"
     ]
    },
    {
     "name": "stderr",
     "output_type": "stream",
     "text": [
      "Processing tweet batches:   4%|▍         | 279/7043 [10:03<4:58:10,  2.64s/it]"
     ]
    },
    {
     "name": "stdout",
     "output_type": "stream",
     "text": [
      "API key 1 rate limited. Waiting 0 seconds.\n",
      "API key 1 rate limited. Waiting 0 seconds.\n",
      "API key 2 rate limited. Waiting 0 seconds.\n"
     ]
    },
    {
     "name": "stderr",
     "output_type": "stream",
     "text": [
      "Processing tweet batches:   4%|▍         | 282/7043 [10:09<3:50:05,  2.04s/it]"
     ]
    },
    {
     "name": "stdout",
     "output_type": "stream",
     "text": [
      "API key 1 rate limited. Waiting 0 seconds.\n"
     ]
    },
    {
     "name": "stderr",
     "output_type": "stream",
     "text": [
      "Processing tweet batches:   4%|▍         | 283/7043 [10:11<3:48:15,  2.03s/it]"
     ]
    },
    {
     "name": "stdout",
     "output_type": "stream",
     "text": [
      "API key 2 rate limited. Waiting 0 seconds.\n"
     ]
    },
    {
     "name": "stderr",
     "output_type": "stream",
     "text": [
      "Processing tweet batches:   4%|▍         | 284/7043 [10:13<3:55:12,  2.09s/it]"
     ]
    },
    {
     "name": "stdout",
     "output_type": "stream",
     "text": [
      "API key 2 rate limited. Waiting 0 seconds.\n",
      "API key 2 rate limited. Waiting 0 seconds.\n",
      "API key 2 rate limited. Waiting 0 seconds.\n",
      "API key 2 rate limited. Waiting 0 seconds.\n",
      "API key 2 rate limited. Waiting 0 seconds.\n"
     ]
    },
    {
     "name": "stderr",
     "output_type": "stream",
     "text": [
      "Processing tweet batches:   4%|▍         | 286/7043 [10:17<3:58:30,  2.12s/it]"
     ]
    },
    {
     "name": "stdout",
     "output_type": "stream",
     "text": [
      "API key 1 rate limited. Waiting 0 seconds.\n"
     ]
    },
    {
     "name": "stderr",
     "output_type": "stream",
     "text": [
      "Processing tweet batches:   4%|▍         | 288/7043 [10:24<5:08:58,  2.74s/it]"
     ]
    },
    {
     "name": "stdout",
     "output_type": "stream",
     "text": [
      "API key 1 rate limited. Waiting 0 seconds.\n"
     ]
    },
    {
     "name": "stderr",
     "output_type": "stream",
     "text": [
      "Processing tweet batches:   4%|▍         | 289/7043 [10:26<4:44:39,  2.53s/it]"
     ]
    },
    {
     "name": "stdout",
     "output_type": "stream",
     "text": [
      "API key 2 rate limited. Waiting 0 seconds.\n",
      "API key 2 rate limited. Waiting 0 seconds.\n",
      "API key 2 rate limited. Waiting 0 seconds.\n"
     ]
    },
    {
     "name": "stderr",
     "output_type": "stream",
     "text": [
      "Processing tweet batches:   4%|▍         | 290/7043 [10:28<4:29:29,  2.39s/it]"
     ]
    },
    {
     "name": "stdout",
     "output_type": "stream",
     "text": [
      "API key 2 rate limited. Waiting 0 seconds.\n",
      "API key 2 rate limited. Waiting 0 seconds.\n",
      "API key 1 rate limited. Waiting 0 seconds.\n",
      "API key 2 rate limited. Waiting 0 seconds.\n"
     ]
    },
    {
     "name": "stderr",
     "output_type": "stream",
     "text": [
      "Processing tweet batches:   4%|▍         | 291/7043 [10:30<4:37:07,  2.46s/it]"
     ]
    },
    {
     "name": "stdout",
     "output_type": "stream",
     "text": [
      "API key 2 rate limited. Waiting 0 seconds.\n",
      "API key 1 rate limited. Waiting 0 seconds.\n"
     ]
    },
    {
     "name": "stderr",
     "output_type": "stream",
     "text": [
      "Processing tweet batches:   4%|▍         | 292/7043 [10:33<4:48:39,  2.57s/it]"
     ]
    },
    {
     "name": "stdout",
     "output_type": "stream",
     "text": [
      "API key 1 rate limited. Waiting 0 seconds.\n"
     ]
    },
    {
     "name": "stderr",
     "output_type": "stream",
     "text": [
      "Processing tweet batches:   4%|▍         | 293/7043 [10:36<4:44:20,  2.53s/it]"
     ]
    },
    {
     "name": "stdout",
     "output_type": "stream",
     "text": [
      "API key 1 rate limited. Waiting 0 seconds.\n"
     ]
    },
    {
     "name": "stderr",
     "output_type": "stream",
     "text": [
      "Processing tweet batches:   4%|▍         | 294/7043 [10:37<4:18:32,  2.30s/it]"
     ]
    },
    {
     "name": "stdout",
     "output_type": "stream",
     "text": [
      "API key 2 rate limited. Waiting 0 seconds.\n",
      "API key 1 rate limited. Waiting 0 seconds.\n",
      "API key 2 rate limited. Waiting 0 seconds.\n"
     ]
    },
    {
     "name": "stderr",
     "output_type": "stream",
     "text": [
      "Processing tweet batches:   4%|▍         | 296/7043 [10:42<4:26:21,  2.37s/it]"
     ]
    },
    {
     "name": "stdout",
     "output_type": "stream",
     "text": [
      "API key 1 rate limited. Waiting 0 seconds.\n"
     ]
    },
    {
     "name": "stderr",
     "output_type": "stream",
     "text": [
      "Processing tweet batches:   4%|▍         | 298/7043 [10:50<5:20:00,  2.85s/it]"
     ]
    },
    {
     "name": "stdout",
     "output_type": "stream",
     "text": [
      "API key 2 rate limited. Waiting 0 seconds.API key 1 rate limited. Waiting 0 seconds.\n",
      "\n"
     ]
    },
    {
     "name": "stderr",
     "output_type": "stream",
     "text": [
      "Processing tweet batches:   4%|▍         | 299/7043 [10:53<5:27:14,  2.91s/it]"
     ]
    },
    {
     "name": "stdout",
     "output_type": "stream",
     "text": [
      "\n",
      "Saved 1200 processed tweets to ../data/labeled_stock_tweets_partial.csv\n"
     ]
    },
    {
     "name": "stderr",
     "output_type": "stream",
     "text": [
      "Processing tweet batches:   4%|▍         | 300/7043 [10:55<5:02:14,  2.69s/it]"
     ]
    },
    {
     "name": "stdout",
     "output_type": "stream",
     "text": [
      "API key 1 rate limited. Waiting 0 seconds.\n"
     ]
    },
    {
     "name": "stderr",
     "output_type": "stream",
     "text": [
      "Processing tweet batches:   4%|▍         | 301/7043 [10:58<5:11:04,  2.77s/it]"
     ]
    },
    {
     "name": "stdout",
     "output_type": "stream",
     "text": [
      "API key 2 rate limited. Waiting 0 seconds.\n"
     ]
    },
    {
     "name": "stderr",
     "output_type": "stream",
     "text": [
      "Processing tweet batches:   4%|▍         | 303/7043 [11:02<4:29:34,  2.40s/it]"
     ]
    },
    {
     "name": "stdout",
     "output_type": "stream",
     "text": [
      "API key 1 rate limited. Waiting 0 seconds.\n",
      "API key 1 rate limited. Waiting 0 seconds.\n"
     ]
    },
    {
     "name": "stderr",
     "output_type": "stream",
     "text": [
      "Processing tweet batches:   4%|▍         | 304/7043 [11:04<4:24:34,  2.36s/it]"
     ]
    },
    {
     "name": "stdout",
     "output_type": "stream",
     "text": [
      "API key 2 rate limited. Waiting 0 seconds.\n",
      "API key 1 rate limited. Waiting 0 seconds.API key 2 rate limited. Waiting 0 seconds.\n",
      "\n"
     ]
    },
    {
     "name": "stderr",
     "output_type": "stream",
     "text": [
      "Processing tweet batches:   4%|▍         | 306/7043 [11:09<4:27:03,  2.38s/it]"
     ]
    },
    {
     "name": "stdout",
     "output_type": "stream",
     "text": [
      "API key 1 rate limited. Waiting 0 seconds.\n"
     ]
    },
    {
     "name": "stderr",
     "output_type": "stream",
     "text": [
      "Processing tweet batches:   4%|▍         | 307/7043 [11:11<4:10:51,  2.23s/it]"
     ]
    },
    {
     "name": "stdout",
     "output_type": "stream",
     "text": [
      "API key 1 rate limited. Waiting 0 seconds.\n",
      "API key 2 rate limited. Waiting 0 seconds.\n"
     ]
    },
    {
     "name": "stderr",
     "output_type": "stream",
     "text": [
      "Processing tweet batches:   4%|▍         | 308/7043 [11:13<4:00:45,  2.14s/it]"
     ]
    },
    {
     "name": "stdout",
     "output_type": "stream",
     "text": [
      "API key 2 rate limited. Waiting 0 seconds.\n",
      "API key 2 rate limited. Waiting 0 seconds.\n"
     ]
    },
    {
     "name": "stderr",
     "output_type": "stream",
     "text": [
      "Processing tweet batches:   4%|▍         | 312/7043 [11:21<3:42:07,  1.98s/it]"
     ]
    },
    {
     "name": "stdout",
     "output_type": "stream",
     "text": [
      "API key 2 rate limited. Waiting 0 seconds.\n"
     ]
    },
    {
     "name": "stderr",
     "output_type": "stream",
     "text": [
      "Processing tweet batches:   4%|▍         | 313/7043 [11:23<3:43:44,  1.99s/it]"
     ]
    },
    {
     "name": "stdout",
     "output_type": "stream",
     "text": [
      "API key 1 rate limited. Waiting 0 seconds.\n"
     ]
    },
    {
     "name": "stderr",
     "output_type": "stream",
     "text": [
      "Processing tweet batches:   4%|▍         | 314/7043 [11:25<3:44:35,  2.00s/it]"
     ]
    },
    {
     "name": "stdout",
     "output_type": "stream",
     "text": [
      "API key 1 rate limited. Waiting 0 seconds.\n",
      "API key 1 rate limited. Waiting 0 seconds.\n"
     ]
    },
    {
     "name": "stderr",
     "output_type": "stream",
     "text": [
      "Processing tweet batches:   4%|▍         | 315/7043 [11:28<4:03:19,  2.17s/it]"
     ]
    },
    {
     "name": "stdout",
     "output_type": "stream",
     "text": [
      "API key 1 rate limited. Waiting 0 seconds.\n",
      "API key 2 rate limited. Waiting 0 seconds.\n"
     ]
    },
    {
     "name": "stderr",
     "output_type": "stream",
     "text": [
      "Processing tweet batches:   5%|▍         | 318/7043 [11:34<3:51:43,  2.07s/it]"
     ]
    },
    {
     "name": "stdout",
     "output_type": "stream",
     "text": [
      "API key 2 rate limited. Waiting 0 seconds.\n"
     ]
    },
    {
     "name": "stderr",
     "output_type": "stream",
     "text": [
      "Processing tweet batches:   5%|▍         | 319/7043 [11:36<4:05:21,  2.19s/it]"
     ]
    },
    {
     "name": "stdout",
     "output_type": "stream",
     "text": [
      "API key 1 rate limited. Waiting 0 seconds.\n",
      "API key 1 rate limited. Waiting 0 seconds.\n",
      "API key 1 rate limited. Waiting 0 seconds.\n",
      "API key 1 rate limited. Waiting 0 seconds.\n"
     ]
    },
    {
     "name": "stderr",
     "output_type": "stream",
     "text": [
      "Processing tweet batches:   5%|▍         | 320/7043 [11:39<4:18:41,  2.31s/it]"
     ]
    },
    {
     "name": "stdout",
     "output_type": "stream",
     "text": [
      "API key 1 rate limited. Waiting 0 seconds.\n"
     ]
    },
    {
     "name": "stderr",
     "output_type": "stream",
     "text": [
      "Processing tweet batches:   5%|▍         | 322/7043 [11:43<3:59:37,  2.14s/it]"
     ]
    },
    {
     "name": "stdout",
     "output_type": "stream",
     "text": [
      "API key 2 rate limited. Waiting 0 seconds.\n",
      "API key 1 rate limited. Waiting 0 seconds.\n",
      "API key 1 rate limited. Waiting 0 seconds.\n",
      "API key 1 rate limited. Waiting 0 seconds.\n"
     ]
    },
    {
     "name": "stderr",
     "output_type": "stream",
     "text": [
      "Processing tweet batches:   5%|▍         | 324/7043 [11:47<3:52:47,  2.08s/it]"
     ]
    },
    {
     "name": "stdout",
     "output_type": "stream",
     "text": [
      "API key 1 rate limited. Waiting 0 seconds.\n",
      "API key 2 rate limited. Waiting 0 seconds.\n",
      "API key 2 rate limited. Waiting 0 seconds.\n",
      "\n",
      "Saved 1300 processed tweets to ../data/labeled_stock_tweets_partial.csv\n"
     ]
    },
    {
     "name": "stderr",
     "output_type": "stream",
     "text": [
      "Processing tweet batches:   5%|▍         | 325/7043 [11:49<3:59:07,  2.14s/it]"
     ]
    },
    {
     "name": "stdout",
     "output_type": "stream",
     "text": [
      "API key 2 rate limited. Waiting 0 seconds.\n",
      "API key 1 rate limited. Waiting 0 seconds.\n"
     ]
    },
    {
     "name": "stderr",
     "output_type": "stream",
     "text": [
      "Processing tweet batches:   5%|▍         | 327/7043 [11:54<4:00:26,  2.15s/it]"
     ]
    },
    {
     "name": "stdout",
     "output_type": "stream",
     "text": [
      "API key 1 rate limited. Waiting 0 seconds.\n",
      "API key 2 rate limited. Waiting 0 seconds.\n"
     ]
    },
    {
     "name": "stderr",
     "output_type": "stream",
     "text": [
      "Processing tweet batches:   5%|▍         | 329/7043 [11:58<3:46:06,  2.02s/it]"
     ]
    },
    {
     "name": "stdout",
     "output_type": "stream",
     "text": [
      "API key 2 rate limited. Waiting 0 seconds.\n"
     ]
    },
    {
     "name": "stderr",
     "output_type": "stream",
     "text": [
      "Processing tweet batches:   5%|▍         | 331/7043 [12:06<5:13:52,  2.81s/it]"
     ]
    },
    {
     "name": "stdout",
     "output_type": "stream",
     "text": [
      "API key 2 rate limited. Waiting 0 seconds.\n",
      "API key 1 rate limited. Waiting 0 seconds.\n"
     ]
    },
    {
     "name": "stderr",
     "output_type": "stream",
     "text": [
      "Processing tweet batches:   5%|▍         | 332/7043 [12:07<4:45:02,  2.55s/it]"
     ]
    },
    {
     "name": "stdout",
     "output_type": "stream",
     "text": [
      "API key 1 rate limited. Waiting 0 seconds.\n",
      "API key 2 rate limited. Waiting 0 seconds.\n"
     ]
    },
    {
     "name": "stderr",
     "output_type": "stream",
     "text": [
      "Processing tweet batches:   5%|▍         | 334/7043 [12:13<4:59:12,  2.68s/it]"
     ]
    },
    {
     "name": "stdout",
     "output_type": "stream",
     "text": [
      "API key 2 rate limited. Waiting 0 seconds.\n",
      "API key 1 rate limited. Waiting 0 seconds.\n"
     ]
    },
    {
     "name": "stderr",
     "output_type": "stream",
     "text": [
      "Processing tweet batches:   5%|▍         | 337/7043 [12:19<4:13:00,  2.26s/it]"
     ]
    },
    {
     "name": "stdout",
     "output_type": "stream",
     "text": [
      "API key 2 rate limited. Waiting 0 seconds.\n",
      "API key 2 rate limited. Waiting 0 seconds.\n"
     ]
    },
    {
     "name": "stderr",
     "output_type": "stream",
     "text": [
      "Processing tweet batches:   5%|▍         | 338/7043 [12:21<4:00:23,  2.15s/it]"
     ]
    },
    {
     "name": "stdout",
     "output_type": "stream",
     "text": [
      "API key 2 rate limited. Waiting 0 seconds.\n",
      "API key 2 rate limited. Waiting 0 seconds.\n",
      "API key 2 rate limited. Waiting 0 seconds.\n"
     ]
    },
    {
     "name": "stderr",
     "output_type": "stream",
     "text": [
      "Processing tweet batches:   5%|▍         | 339/7043 [12:24<4:37:39,  2.49s/it]"
     ]
    },
    {
     "name": "stdout",
     "output_type": "stream",
     "text": [
      "API key 2 rate limited. Waiting 0 seconds.\n"
     ]
    },
    {
     "name": "stderr",
     "output_type": "stream",
     "text": [
      "Processing tweet batches:   5%|▍         | 340/7043 [12:26<4:22:50,  2.35s/it]"
     ]
    },
    {
     "name": "stdout",
     "output_type": "stream",
     "text": [
      "API key 1 rate limited. Waiting 0 seconds.\n"
     ]
    },
    {
     "name": "stderr",
     "output_type": "stream",
     "text": [
      "Processing tweet batches:   5%|▍         | 342/7043 [12:29<3:33:17,  1.91s/it]"
     ]
    },
    {
     "name": "stdout",
     "output_type": "stream",
     "text": [
      "API key 2 rate limited. Waiting 0 seconds.\n",
      "API key 2 rate limited. Waiting 0 seconds.\n",
      "API key 1 rate limited. Waiting 0 seconds.\n",
      "API key 1 rate limited. Waiting 0 seconds.\n"
     ]
    },
    {
     "name": "stderr",
     "output_type": "stream",
     "text": [
      "Processing tweet batches:   5%|▍         | 343/7043 [12:32<4:07:21,  2.22s/it]"
     ]
    },
    {
     "name": "stdout",
     "output_type": "stream",
     "text": [
      "API key 2 rate limited. Waiting 0 seconds.\n"
     ]
    },
    {
     "name": "stderr",
     "output_type": "stream",
     "text": [
      "Processing tweet batches:   5%|▍         | 346/7043 [12:38<3:56:05,  2.12s/it]"
     ]
    },
    {
     "name": "stdout",
     "output_type": "stream",
     "text": [
      "API key 1 rate limited. Waiting 0 seconds.\n"
     ]
    },
    {
     "name": "stderr",
     "output_type": "stream",
     "text": [
      "Processing tweet batches:   5%|▍         | 347/7043 [12:40<3:57:51,  2.13s/it]"
     ]
    },
    {
     "name": "stdout",
     "output_type": "stream",
     "text": [
      "API key 1 rate limited. Waiting 0 seconds.\n"
     ]
    },
    {
     "name": "stderr",
     "output_type": "stream",
     "text": [
      "Processing tweet batches:   5%|▍         | 349/7043 [12:44<3:47:39,  2.04s/it]"
     ]
    },
    {
     "name": "stdout",
     "output_type": "stream",
     "text": [
      "API key 2 rate limited. Waiting 0 seconds.\n",
      "\n",
      "Saved 1400 processed tweets to ../data/labeled_stock_tweets_partial.csv\n"
     ]
    },
    {
     "name": "stderr",
     "output_type": "stream",
     "text": [
      "Processing tweet batches:   5%|▍         | 350/7043 [12:46<3:42:08,  1.99s/it]"
     ]
    },
    {
     "name": "stdout",
     "output_type": "stream",
     "text": [
      "API key 2 rate limited. Waiting 0 seconds.\n",
      "API key 2 rate limited. Waiting 0 seconds.\n"
     ]
    },
    {
     "name": "stderr",
     "output_type": "stream",
     "text": [
      "Processing tweet batches:   5%|▍         | 351/7043 [12:48<3:38:16,  1.96s/it]"
     ]
    },
    {
     "name": "stdout",
     "output_type": "stream",
     "text": [
      "API key 1 rate limited. Waiting 0 seconds.\n",
      "API key 1 rate limited. Waiting 0 seconds.\n",
      "API key 2 rate limited. Waiting 0 seconds.\n",
      "API key 1 rate limited. Waiting 0 seconds.\n"
     ]
    },
    {
     "name": "stderr",
     "output_type": "stream",
     "text": [
      "Processing tweet batches:   5%|▍         | 352/7043 [12:50<3:52:37,  2.09s/it]"
     ]
    },
    {
     "name": "stdout",
     "output_type": "stream",
     "text": [
      "API key 1 rate limited. Waiting 0 seconds.\n",
      "API key 1 rate limited. Waiting 0 seconds.\n"
     ]
    },
    {
     "name": "stderr",
     "output_type": "stream",
     "text": [
      "Processing tweet batches:   5%|▌         | 353/7043 [12:53<3:53:54,  2.10s/it]"
     ]
    },
    {
     "name": "stdout",
     "output_type": "stream",
     "text": [
      "API key 1 rate limited. Waiting 0 seconds.\n",
      "API key 1 rate limited. Waiting 0 seconds.\n",
      "API key 1 rate limited. Waiting 0 seconds.\n"
     ]
    },
    {
     "name": "stderr",
     "output_type": "stream",
     "text": [
      "Processing tweet batches:   5%|▌         | 354/7043 [12:55<3:55:43,  2.11s/it]"
     ]
    },
    {
     "name": "stdout",
     "output_type": "stream",
     "text": [
      "API key 2 rate limited. Waiting 0 seconds.\n"
     ]
    },
    {
     "name": "stderr",
     "output_type": "stream",
     "text": [
      "Processing tweet batches:   5%|▌         | 355/7043 [12:56<3:40:08,  1.97s/it]"
     ]
    },
    {
     "name": "stdout",
     "output_type": "stream",
     "text": [
      "API key 2 rate limited. Waiting 0 seconds.\n"
     ]
    },
    {
     "name": "stderr",
     "output_type": "stream",
     "text": [
      "Processing tweet batches:   5%|▌         | 356/7043 [12:58<3:33:50,  1.92s/it]"
     ]
    },
    {
     "name": "stdout",
     "output_type": "stream",
     "text": [
      "API key 2 rate limited. Waiting 0 seconds.\n",
      "API key 2 rate limited. Waiting 0 seconds.\n",
      "API key 2 rate limited. Waiting 0 seconds.\n",
      "API key 2 rate limited. Waiting 0 seconds.\n"
     ]
    },
    {
     "name": "stderr",
     "output_type": "stream",
     "text": [
      "Processing tweet batches:   5%|▌         | 357/7043 [13:01<3:50:47,  2.07s/it]"
     ]
    },
    {
     "name": "stdout",
     "output_type": "stream",
     "text": [
      "API key 1 rate limited. Waiting 0 seconds.\n",
      "API key 1 rate limited. Waiting 0 seconds.\n"
     ]
    },
    {
     "name": "stderr",
     "output_type": "stream",
     "text": [
      "Processing tweet batches:   5%|▌         | 358/7043 [13:03<3:56:41,  2.12s/it]"
     ]
    },
    {
     "name": "stdout",
     "output_type": "stream",
     "text": [
      "API key 2 rate limited. Waiting 0 seconds.\n",
      "API key 1 rate limited. Waiting 0 seconds.\n"
     ]
    },
    {
     "name": "stderr",
     "output_type": "stream",
     "text": [
      "Processing tweet batches:   5%|▌         | 359/7043 [13:05<4:00:54,  2.16s/it]"
     ]
    },
    {
     "name": "stdout",
     "output_type": "stream",
     "text": [
      "API key 1 rate limited. Waiting 0 seconds.\n",
      "API key 1 rate limited. Waiting 0 seconds.\n"
     ]
    },
    {
     "name": "stderr",
     "output_type": "stream",
     "text": [
      "Processing tweet batches:   5%|▌         | 361/7043 [13:09<3:44:04,  2.01s/it]"
     ]
    },
    {
     "name": "stdout",
     "output_type": "stream",
     "text": [
      "API key 1 rate limited. Waiting 0 seconds.\n",
      "API key 2 rate limited. Waiting 0 seconds.\n"
     ]
    },
    {
     "name": "stderr",
     "output_type": "stream",
     "text": [
      "Processing tweet batches:   5%|▌         | 362/7043 [13:11<3:44:17,  2.01s/it]"
     ]
    },
    {
     "name": "stdout",
     "output_type": "stream",
     "text": [
      "API key 2 rate limited. Waiting 0 seconds.\n",
      "API key 2 rate limited. Waiting 0 seconds.\n"
     ]
    },
    {
     "name": "stderr",
     "output_type": "stream",
     "text": [
      "Processing tweet batches:   5%|▌         | 364/7043 [13:15<3:43:47,  2.01s/it]"
     ]
    },
    {
     "name": "stdout",
     "output_type": "stream",
     "text": [
      "API key 1 rate limited. Waiting 0 seconds.\n"
     ]
    },
    {
     "name": "stderr",
     "output_type": "stream",
     "text": [
      "Processing tweet batches:   5%|▌         | 365/7043 [13:17<3:34:03,  1.92s/it]"
     ]
    },
    {
     "name": "stdout",
     "output_type": "stream",
     "text": [
      "API key 1 rate limited. Waiting 0 seconds.\n"
     ]
    },
    {
     "name": "stderr",
     "output_type": "stream",
     "text": [
      "Processing tweet batches:   5%|▌         | 366/7043 [13:18<3:31:55,  1.90s/it]"
     ]
    },
    {
     "name": "stdout",
     "output_type": "stream",
     "text": [
      "API key 2 rate limited. Waiting 0 seconds.API key 1 rate limited. Waiting 0 seconds.\n",
      "\n",
      "API key 1 rate limited. Waiting 0 seconds.\n",
      "API key 2 rate limited. Waiting 0 seconds.\n",
      "API key 1 rate limited. Waiting 0 seconds.\n"
     ]
    },
    {
     "name": "stderr",
     "output_type": "stream",
     "text": [
      "Processing tweet batches:   5%|▌         | 367/7043 [13:21<3:47:16,  2.04s/it]"
     ]
    },
    {
     "name": "stdout",
     "output_type": "stream",
     "text": [
      "API key 2 rate limited. Waiting 0 seconds.\n",
      "API key 1 rate limited. Waiting 0 seconds.\n",
      "API key 1 rate limited. Waiting 0 seconds.\n"
     ]
    },
    {
     "name": "stderr",
     "output_type": "stream",
     "text": [
      "Processing tweet batches:   5%|▌         | 368/7043 [13:23<4:04:02,  2.19s/it]"
     ]
    },
    {
     "name": "stdout",
     "output_type": "stream",
     "text": [
      "API key 2 rate limited. Waiting 0 seconds.\n"
     ]
    },
    {
     "name": "stderr",
     "output_type": "stream",
     "text": [
      "Processing tweet batches:   5%|▌         | 369/7043 [13:25<3:48:46,  2.06s/it]"
     ]
    },
    {
     "name": "stdout",
     "output_type": "stream",
     "text": [
      "API key 1 rate limited. Waiting 0 seconds.\n",
      "API key 1 rate limited. Waiting 0 seconds.\n",
      "API key 1 rate limited. Waiting 0 seconds.\n"
     ]
    },
    {
     "name": "stderr",
     "output_type": "stream",
     "text": [
      "Processing tweet batches:   5%|▌         | 371/7043 [13:29<3:38:06,  1.96s/it]"
     ]
    },
    {
     "name": "stdout",
     "output_type": "stream",
     "text": [
      "API key 2 rate limited. Waiting 0 seconds.\n"
     ]
    },
    {
     "name": "stderr",
     "output_type": "stream",
     "text": [
      "Processing tweet batches:   5%|▌         | 373/7043 [13:32<3:24:48,  1.84s/it]"
     ]
    },
    {
     "name": "stdout",
     "output_type": "stream",
     "text": [
      "API key 1 rate limited. Waiting 0 seconds.\n",
      "API key 1 rate limited. Waiting 0 seconds.\n"
     ]
    },
    {
     "name": "stderr",
     "output_type": "stream",
     "text": [
      "Processing tweet batches:   5%|▌         | 374/7043 [13:35<3:53:18,  2.10s/it]"
     ]
    },
    {
     "name": "stdout",
     "output_type": "stream",
     "text": [
      "API key 1 rate limited. Waiting 0 seconds.\n",
      "API key 1 rate limited. Waiting 0 seconds.\n",
      "\n",
      "Saved 1500 processed tweets to ../data/labeled_stock_tweets_partial.csv\n"
     ]
    },
    {
     "name": "stderr",
     "output_type": "stream",
     "text": [
      "Processing tweet batches:   5%|▌         | 375/7043 [13:37<3:54:30,  2.11s/it]"
     ]
    },
    {
     "name": "stdout",
     "output_type": "stream",
     "text": [
      "API key 1 rate limited. Waiting 0 seconds.\n",
      "API key 1 rate limited. Waiting 0 seconds.\n",
      "API key 1 rate limited. Waiting 0 seconds.\n"
     ]
    },
    {
     "name": "stderr",
     "output_type": "stream",
     "text": [
      "Processing tweet batches:   5%|▌         | 381/7043 [13:58<6:08:04,  3.32s/it]"
     ]
    },
    {
     "name": "stdout",
     "output_type": "stream",
     "text": [
      "API key 2 rate limited. Waiting 0 seconds.\n"
     ]
    },
    {
     "name": "stderr",
     "output_type": "stream",
     "text": [
      "Processing tweet batches:   5%|▌         | 384/7043 [14:03<4:09:50,  2.25s/it]"
     ]
    },
    {
     "name": "stdout",
     "output_type": "stream",
     "text": [
      "API key 2 rate limited. Waiting 0 seconds.\n",
      "API key 1 rate limited. Waiting 0 seconds.\n",
      "API key 2 rate limited. Waiting 0 seconds.\n"
     ]
    },
    {
     "name": "stderr",
     "output_type": "stream",
     "text": [
      "Processing tweet batches:   5%|▌         | 386/7043 [14:07<3:57:19,  2.14s/it]"
     ]
    },
    {
     "name": "stdout",
     "output_type": "stream",
     "text": [
      "API key 1 rate limited. Waiting 0 seconds.\n"
     ]
    },
    {
     "name": "stderr",
     "output_type": "stream",
     "text": [
      "Processing tweet batches:   6%|▌         | 388/7043 [14:12<3:52:53,  2.10s/it]"
     ]
    },
    {
     "name": "stdout",
     "output_type": "stream",
     "text": [
      "API key 2 rate limited. Waiting 0 seconds.\n",
      "API key 2 rate limited. Waiting 0 seconds.\n",
      "API key 1 rate limited. Waiting 0 seconds.\n"
     ]
    },
    {
     "name": "stderr",
     "output_type": "stream",
     "text": [
      "Processing tweet batches:   6%|▌         | 389/7043 [14:14<3:58:43,  2.15s/it]"
     ]
    },
    {
     "name": "stdout",
     "output_type": "stream",
     "text": [
      "API key 1 rate limited. Waiting 0 seconds.API key 2 rate limited. Waiting 0 seconds.\n",
      "\n"
     ]
    },
    {
     "name": "stderr",
     "output_type": "stream",
     "text": [
      "Processing tweet batches:   6%|▌         | 391/7043 [14:18<4:07:15,  2.23s/it]"
     ]
    },
    {
     "name": "stdout",
     "output_type": "stream",
     "text": [
      "API key 2 rate limited. Waiting 0 seconds.\n",
      "API key 2 rate limited. Waiting 0 seconds.\n",
      "API key 1 rate limited. Waiting 0 seconds.\n",
      "API key 2 rate limited. Waiting 0 seconds.\n"
     ]
    },
    {
     "name": "stderr",
     "output_type": "stream",
     "text": [
      "Processing tweet batches:   6%|▌         | 393/7043 [14:22<3:36:14,  1.95s/it]"
     ]
    },
    {
     "name": "stdout",
     "output_type": "stream",
     "text": [
      "API key 2 rate limited. Waiting 0 seconds.\n",
      "API key 2 rate limited. Waiting 0 seconds.\n",
      "API key 2 rate limited. Waiting 0 seconds.\n",
      "API key 2 rate limited. Waiting 0 seconds.\n"
     ]
    },
    {
     "name": "stderr",
     "output_type": "stream",
     "text": [
      "Processing tweet batches:   6%|▌         | 394/7043 [14:24<3:49:31,  2.07s/it]"
     ]
    },
    {
     "name": "stdout",
     "output_type": "stream",
     "text": [
      "API key 2 rate limited. Waiting 0 seconds.\n",
      "API key 1 rate limited. Waiting 0 seconds.\n"
     ]
    },
    {
     "name": "stderr",
     "output_type": "stream",
     "text": [
      "Processing tweet batches:   6%|▌         | 396/7043 [14:28<3:41:24,  2.00s/it]"
     ]
    },
    {
     "name": "stdout",
     "output_type": "stream",
     "text": [
      "API key 2 rate limited. Waiting 0 seconds.\n"
     ]
    },
    {
     "name": "stderr",
     "output_type": "stream",
     "text": [
      "Processing tweet batches:   6%|▌         | 398/7043 [14:51<10:57:43,  5.94s/it]"
     ]
    },
    {
     "name": "stdout",
     "output_type": "stream",
     "text": [
      "API key 2 rate limited. Waiting 0 seconds.\n",
      "API key 1 rate limited. Waiting 0 seconds.\n",
      "API key 2 rate limited. Waiting 0 seconds.API key 1 rate limited. Waiting 0 seconds.\n",
      "\n",
      "API key 2 rate limited. Waiting 0 seconds.\n"
     ]
    },
    {
     "name": "stderr",
     "output_type": "stream",
     "text": [
      "Processing tweet batches:   6%|▌         | 399/7043 [14:53<8:45:43,  4.75s/it] "
     ]
    },
    {
     "name": "stdout",
     "output_type": "stream",
     "text": [
      "API key 1 rate limited. Waiting 0 seconds.\n",
      "\n",
      "Saved 1600 processed tweets to ../data/labeled_stock_tweets_partial.csv\n"
     ]
    },
    {
     "name": "stderr",
     "output_type": "stream",
     "text": [
      "Processing tweet batches:   6%|▌         | 400/7043 [14:56<7:48:41,  4.23s/it]"
     ]
    },
    {
     "name": "stdout",
     "output_type": "stream",
     "text": [
      "API key 1 rate limited. Waiting 0 seconds.\n",
      "API key 1 rate limited. Waiting 0 seconds.\n"
     ]
    },
    {
     "name": "stderr",
     "output_type": "stream",
     "text": [
      "Processing tweet batches:   6%|▌         | 401/7043 [14:59<6:43:59,  3.65s/it]"
     ]
    },
    {
     "name": "stdout",
     "output_type": "stream",
     "text": [
      "API key 2 rate limited. Waiting 0 seconds.\n"
     ]
    },
    {
     "name": "stderr",
     "output_type": "stream",
     "text": [
      "Processing tweet batches:   6%|▌         | 402/7043 [15:00<5:43:20,  3.10s/it]"
     ]
    },
    {
     "name": "stdout",
     "output_type": "stream",
     "text": [
      "API key 1 rate limited. Waiting 0 seconds.\n",
      "API key 1 rate limited. Waiting 0 seconds.\n"
     ]
    },
    {
     "name": "stderr",
     "output_type": "stream",
     "text": [
      "Processing tweet batches:   6%|▌         | 403/7043 [15:02<5:06:40,  2.77s/it]"
     ]
    },
    {
     "name": "stdout",
     "output_type": "stream",
     "text": [
      "API key 1 rate limited. Waiting 0 seconds.\n"
     ]
    },
    {
     "name": "stderr",
     "output_type": "stream",
     "text": [
      "Processing tweet batches:   6%|▌         | 404/7043 [15:04<4:36:02,  2.49s/it]"
     ]
    },
    {
     "name": "stdout",
     "output_type": "stream",
     "text": [
      "API key 1 rate limited. Waiting 0 seconds.API key 2 rate limited. Waiting 0 seconds.\n",
      "\n",
      "API key 2 rate limited. Waiting 0 seconds.\n",
      "API key 2 rate limited. Waiting 0 seconds.\n"
     ]
    },
    {
     "name": "stderr",
     "output_type": "stream",
     "text": [
      "Processing tweet batches:   6%|▌         | 407/7043 [15:11<3:58:39,  2.16s/it]"
     ]
    },
    {
     "name": "stdout",
     "output_type": "stream",
     "text": [
      "API key 1 rate limited. Waiting 0 seconds.\n",
      "API key 2 rate limited. Waiting 0 seconds.\n",
      "API key 2 rate limited. Waiting 0 seconds.\n"
     ]
    },
    {
     "name": "stderr",
     "output_type": "stream",
     "text": [
      "Processing tweet batches:   6%|▌         | 408/7043 [15:13<4:05:16,  2.22s/it]"
     ]
    },
    {
     "name": "stdout",
     "output_type": "stream",
     "text": [
      "API key 1 rate limited. Waiting 0 seconds.\n"
     ]
    },
    {
     "name": "stderr",
     "output_type": "stream",
     "text": [
      "Processing tweet batches:   6%|▌         | 411/7043 [15:19<3:33:39,  1.93s/it]"
     ]
    },
    {
     "name": "stdout",
     "output_type": "stream",
     "text": [
      "API key 2 rate limited. Waiting 0 seconds.\n",
      "API key 2 rate limited. Waiting 0 seconds.\n"
     ]
    },
    {
     "name": "stderr",
     "output_type": "stream",
     "text": [
      "Processing tweet batches:   6%|▌         | 412/7043 [15:21<3:41:24,  2.00s/it]"
     ]
    },
    {
     "name": "stdout",
     "output_type": "stream",
     "text": [
      "API key 2 rate limited. Waiting 0 seconds.\n",
      "API key 1 rate limited. Waiting 0 seconds.\n",
      "API key 1 rate limited. Waiting 0 seconds.\n",
      "API key 2 rate limited. Waiting 0 seconds.\n",
      "API key 1 rate limited. Waiting 0 seconds.\n"
     ]
    },
    {
     "name": "stderr",
     "output_type": "stream",
     "text": [
      "Processing tweet batches:   6%|▌         | 413/7043 [15:23<3:58:00,  2.15s/it]"
     ]
    },
    {
     "name": "stdout",
     "output_type": "stream",
     "text": [
      "API key 2 rate limited. Waiting 0 seconds.\n",
      "API key 2 rate limited. Waiting 0 seconds.\n"
     ]
    },
    {
     "name": "stderr",
     "output_type": "stream",
     "text": [
      "Processing tweet batches:   6%|▌         | 414/7043 [15:26<4:05:06,  2.22s/it]"
     ]
    },
    {
     "name": "stdout",
     "output_type": "stream",
     "text": [
      "API key 2 rate limited. Waiting 0 seconds.\n",
      "API key 2 rate limited. Waiting 0 seconds.\n",
      "API key 1 rate limited. Waiting 0 seconds.\n",
      "API key 2 rate limited. Waiting 0 seconds.\n",
      "API key 1 rate limited. Waiting 0 seconds.\n"
     ]
    },
    {
     "name": "stderr",
     "output_type": "stream",
     "text": [
      "Processing tweet batches:   6%|▌         | 416/7043 [15:31<4:18:03,  2.34s/it]"
     ]
    },
    {
     "name": "stdout",
     "output_type": "stream",
     "text": [
      "API key 1 rate limited. Waiting 0 seconds.\n",
      "API key 2 rate limited. Waiting 0 seconds.\n",
      "API key 2 rate limited. Waiting 0 seconds.\n",
      "API key 2 rate limited. Waiting 0 seconds.\n"
     ]
    },
    {
     "name": "stderr",
     "output_type": "stream",
     "text": [
      "Processing tweet batches:   6%|▌         | 418/7043 [15:35<4:03:58,  2.21s/it]"
     ]
    },
    {
     "name": "stdout",
     "output_type": "stream",
     "text": [
      "API key 2 rate limited. Waiting 0 seconds.\n",
      "API key 2 rate limited. Waiting 0 seconds.\n"
     ]
    },
    {
     "name": "stderr",
     "output_type": "stream",
     "text": [
      "Processing tweet batches:   6%|▌         | 419/7043 [15:38<4:25:29,  2.40s/it]"
     ]
    },
    {
     "name": "stdout",
     "output_type": "stream",
     "text": [
      "API key 2 rate limited. Waiting 0 seconds.\n",
      "API key 1 rate limited. Waiting 0 seconds.\n"
     ]
    },
    {
     "name": "stderr",
     "output_type": "stream",
     "text": [
      "Processing tweet batches:   6%|▌         | 421/7043 [15:42<3:57:58,  2.16s/it]"
     ]
    },
    {
     "name": "stdout",
     "output_type": "stream",
     "text": [
      "API key 1 rate limited. Waiting 0 seconds.\n",
      "API key 2 rate limited. Waiting 0 seconds.\n",
      "API key 1 rate limited. Waiting 0 seconds.\n",
      "API key 2 rate limited. Waiting 0 seconds.\n"
     ]
    },
    {
     "name": "stderr",
     "output_type": "stream",
     "text": [
      "Processing tweet batches:   6%|▌         | 423/7043 [15:46<3:48:44,  2.07s/it]"
     ]
    },
    {
     "name": "stdout",
     "output_type": "stream",
     "text": [
      "API key 2 rate limited. Waiting 0 seconds.API key 1 rate limited. Waiting 0 seconds.\n",
      "\n",
      "API key 1 rate limited. Waiting 0 seconds.API key 2 rate limited. Waiting 0 seconds.\n",
      "\n",
      "API key 2 rate limited. Waiting 0 seconds.\n"
     ]
    },
    {
     "name": "stderr",
     "output_type": "stream",
     "text": [
      "Processing tweet batches:   6%|▌         | 424/7043 [15:48<3:42:43,  2.02s/it]"
     ]
    },
    {
     "name": "stdout",
     "output_type": "stream",
     "text": [
      "API key 2 rate limited. Waiting 0 seconds.\n",
      "API key 2 rate limited. Waiting 0 seconds.\n",
      "API key 2 rate limited. Waiting 0 seconds.\n",
      "\n",
      "Saved 1700 processed tweets to ../data/labeled_stock_tweets_partial.csv\n"
     ]
    },
    {
     "name": "stderr",
     "output_type": "stream",
     "text": [
      "Processing tweet batches:   6%|▌         | 426/7043 [15:52<3:28:02,  1.89s/it]"
     ]
    },
    {
     "name": "stdout",
     "output_type": "stream",
     "text": [
      "API key 2 rate limited. Waiting 0 seconds.\n"
     ]
    },
    {
     "name": "stderr",
     "output_type": "stream",
     "text": [
      "Processing tweet batches:   6%|▌         | 427/7043 [15:54<3:35:31,  1.95s/it]"
     ]
    },
    {
     "name": "stdout",
     "output_type": "stream",
     "text": [
      "API key 2 rate limited. Waiting 0 seconds.\n",
      "API key 1 rate limited. Waiting 0 seconds.\n"
     ]
    },
    {
     "name": "stderr",
     "output_type": "stream",
     "text": [
      "Processing tweet batches:   6%|▌         | 428/7043 [15:56<3:35:19,  1.95s/it]"
     ]
    },
    {
     "name": "stdout",
     "output_type": "stream",
     "text": [
      "API key 2 rate limited. Waiting 0 seconds.\n",
      "API key 2 rate limited. Waiting 0 seconds.\n",
      "API key 1 rate limited. Waiting 0 seconds.\n"
     ]
    },
    {
     "name": "stderr",
     "output_type": "stream",
     "text": [
      "Processing tweet batches:   6%|▌         | 429/7043 [15:59<4:23:06,  2.39s/it]"
     ]
    },
    {
     "name": "stdout",
     "output_type": "stream",
     "text": [
      "API key 2 rate limited. Waiting 0 seconds.\n"
     ]
    },
    {
     "name": "stderr",
     "output_type": "stream",
     "text": [
      "Processing tweet batches:   6%|▌         | 430/7043 [16:01<4:10:46,  2.28s/it]"
     ]
    },
    {
     "name": "stdout",
     "output_type": "stream",
     "text": [
      "API key 1 rate limited. Waiting 0 seconds.API key 2 rate limited. Waiting 0 seconds.\n",
      "\n",
      "API key 2 rate limited. Waiting 0 seconds.\n"
     ]
    },
    {
     "name": "stderr",
     "output_type": "stream",
     "text": [
      "Processing tweet batches:   6%|▌         | 431/7043 [16:03<4:13:36,  2.30s/it]"
     ]
    },
    {
     "name": "stdout",
     "output_type": "stream",
     "text": [
      "API key 2 rate limited. Waiting 0 seconds.\n"
     ]
    },
    {
     "name": "stderr",
     "output_type": "stream",
     "text": [
      "Processing tweet batches:   6%|▌         | 432/7043 [16:05<3:55:10,  2.13s/it]"
     ]
    },
    {
     "name": "stdout",
     "output_type": "stream",
     "text": [
      "API key 1 rate limited. Waiting 0 seconds.\n",
      "API key 1 rate limited. Waiting 0 seconds.\n",
      "API key 1 rate limited. Waiting 0 seconds.\n"
     ]
    },
    {
     "name": "stderr",
     "output_type": "stream",
     "text": [
      "Processing tweet batches:   6%|▌         | 435/7043 [16:10<3:28:22,  1.89s/it]"
     ]
    },
    {
     "name": "stdout",
     "output_type": "stream",
     "text": [
      "API key 1 rate limited. Waiting 0 seconds.\n",
      "API key 1 rate limited. Waiting 0 seconds.\n",
      "API key 2 rate limited. Waiting 0 seconds.\n",
      "API key 2 rate limited. Waiting 0 seconds.\n"
     ]
    },
    {
     "name": "stderr",
     "output_type": "stream",
     "text": [
      "Processing tweet batches:   6%|▌         | 438/7043 [16:18<3:55:36,  2.14s/it]"
     ]
    },
    {
     "name": "stdout",
     "output_type": "stream",
     "text": [
      "API key 1 rate limited. Waiting 0 seconds.\n",
      "API key 1 rate limited. Waiting 0 seconds.\n"
     ]
    },
    {
     "name": "stderr",
     "output_type": "stream",
     "text": [
      "Processing tweet batches:   6%|▌         | 439/7043 [16:20<3:57:08,  2.15s/it]"
     ]
    },
    {
     "name": "stdout",
     "output_type": "stream",
     "text": [
      "API key 1 rate limited. Waiting 0 seconds.\n",
      "API key 2 rate limited. Waiting 0 seconds.\n",
      "API key 2 rate limited. Waiting 0 seconds.\n",
      "API key 2 rate limited. Waiting 0 seconds.\n"
     ]
    },
    {
     "name": "stderr",
     "output_type": "stream",
     "text": [
      "Processing tweet batches:   6%|▌         | 440/7043 [16:23<4:03:24,  2.21s/it]"
     ]
    },
    {
     "name": "stdout",
     "output_type": "stream",
     "text": [
      "API key 1 rate limited. Waiting 0 seconds.\n"
     ]
    },
    {
     "name": "stderr",
     "output_type": "stream",
     "text": [
      "Processing tweet batches:   6%|▋         | 441/7043 [16:24<3:43:22,  2.03s/it]"
     ]
    },
    {
     "name": "stdout",
     "output_type": "stream",
     "text": [
      "API key 1 rate limited. Waiting 0 seconds.\n"
     ]
    },
    {
     "name": "stderr",
     "output_type": "stream",
     "text": [
      "Processing tweet batches:   6%|▋         | 442/7043 [16:26<3:31:34,  1.92s/it]"
     ]
    },
    {
     "name": "stdout",
     "output_type": "stream",
     "text": [
      "API key 2 rate limited. Waiting 0 seconds.\n"
     ]
    },
    {
     "name": "stderr",
     "output_type": "stream",
     "text": [
      "Processing tweet batches:   6%|▋         | 443/7043 [16:28<3:29:42,  1.91s/it]"
     ]
    },
    {
     "name": "stdout",
     "output_type": "stream",
     "text": [
      "API key 1 rate limited. Waiting 0 seconds.\n",
      "API key 1 rate limited. Waiting 0 seconds.\n"
     ]
    },
    {
     "name": "stderr",
     "output_type": "stream",
     "text": [
      "Processing tweet batches:   6%|▋         | 445/7043 [16:31<3:20:12,  1.82s/it]"
     ]
    },
    {
     "name": "stdout",
     "output_type": "stream",
     "text": [
      "API key 1 rate limited. Waiting 0 seconds.\n",
      "API key 1 rate limited. Waiting 0 seconds.\n",
      "API key 1 rate limited. Waiting 0 seconds.\n"
     ]
    },
    {
     "name": "stderr",
     "output_type": "stream",
     "text": [
      "Processing tweet batches:   6%|▋         | 449/7043 [16:39<3:29:53,  1.91s/it]"
     ]
    },
    {
     "name": "stdout",
     "output_type": "stream",
     "text": [
      "API key 2 rate limited. Waiting 0 seconds.\n",
      "API key 2 rate limited. Waiting 0 seconds.\n",
      "\n",
      "Saved 1800 processed tweets to ../data/labeled_stock_tweets_partial.csv\n"
     ]
    },
    {
     "name": "stderr",
     "output_type": "stream",
     "text": [
      "Processing tweet batches:   6%|▋         | 450/7043 [16:42<3:38:16,  1.99s/it]"
     ]
    },
    {
     "name": "stdout",
     "output_type": "stream",
     "text": [
      "API key 2 rate limited. Waiting 0 seconds.\n",
      "API key 2 rate limited. Waiting 0 seconds.\n"
     ]
    },
    {
     "name": "stderr",
     "output_type": "stream",
     "text": [
      "Processing tweet batches:   6%|▋         | 451/7043 [16:44<3:40:14,  2.00s/it]"
     ]
    },
    {
     "name": "stdout",
     "output_type": "stream",
     "text": [
      "API key 2 rate limited. Waiting 0 seconds.\n",
      "API key 1 rate limited. Waiting 0 seconds.\n",
      "API key 1 rate limited. Waiting 0 seconds.API key 2 rate limited. Waiting 0 seconds.\n",
      "\n"
     ]
    },
    {
     "name": "stderr",
     "output_type": "stream",
     "text": [
      "Processing tweet batches:   6%|▋         | 452/7043 [16:46<3:52:55,  2.12s/it]"
     ]
    },
    {
     "name": "stdout",
     "output_type": "stream",
     "text": [
      "API key 1 rate limited. Waiting 0 seconds.\n"
     ]
    },
    {
     "name": "stderr",
     "output_type": "stream",
     "text": [
      "Processing tweet batches:   6%|▋         | 453/7043 [16:48<3:55:40,  2.15s/it]"
     ]
    },
    {
     "name": "stdout",
     "output_type": "stream",
     "text": [
      "API key 2 rate limited. Waiting 0 seconds.\n"
     ]
    },
    {
     "name": "stderr",
     "output_type": "stream",
     "text": [
      "Processing tweet batches:   6%|▋         | 455/7043 [16:52<3:31:22,  1.93s/it]"
     ]
    },
    {
     "name": "stdout",
     "output_type": "stream",
     "text": [
      "API key 2 rate limited. Waiting 0 seconds.\n"
     ]
    },
    {
     "name": "stderr",
     "output_type": "stream",
     "text": [
      "Processing tweet batches:   6%|▋         | 456/7043 [16:54<3:47:48,  2.08s/it]"
     ]
    },
    {
     "name": "stdout",
     "output_type": "stream",
     "text": [
      "API key 2 rate limited. Waiting 0 seconds.\n",
      "API key 2 rate limited. Waiting 0 seconds.\n"
     ]
    },
    {
     "name": "stderr",
     "output_type": "stream",
     "text": [
      "Processing tweet batches:   7%|▋         | 459/7043 [17:05<5:26:05,  2.97s/it]"
     ]
    },
    {
     "name": "stdout",
     "output_type": "stream",
     "text": [
      "API key 1 rate limited. Waiting 0 seconds.\n"
     ]
    },
    {
     "name": "stderr",
     "output_type": "stream",
     "text": [
      "Processing tweet batches:   7%|▋         | 460/7043 [17:08<5:14:27,  2.87s/it]"
     ]
    },
    {
     "name": "stdout",
     "output_type": "stream",
     "text": [
      "API key 2 rate limited. Waiting 0 seconds.\n",
      "API key 1 rate limited. Waiting 0 seconds.\n",
      "API key 2 rate limited. Waiting 0 seconds.\n"
     ]
    },
    {
     "name": "stderr",
     "output_type": "stream",
     "text": [
      "Processing tweet batches:   7%|▋         | 461/7043 [17:10<5:00:16,  2.74s/it]"
     ]
    },
    {
     "name": "stdout",
     "output_type": "stream",
     "text": [
      "API key 1 rate limited. Waiting 0 seconds.\n",
      "API key 1 rate limited. Waiting 0 seconds.\n",
      "API key 1 rate limited. Waiting 0 seconds.\n"
     ]
    },
    {
     "name": "stderr",
     "output_type": "stream",
     "text": [
      "Processing tweet batches:   7%|▋         | 463/7043 [17:15<4:33:37,  2.50s/it]"
     ]
    },
    {
     "name": "stdout",
     "output_type": "stream",
     "text": [
      "API key 1 rate limited. Waiting 0 seconds.\n",
      "API key 2 rate limited. Waiting 0 seconds.\n"
     ]
    },
    {
     "name": "stderr",
     "output_type": "stream",
     "text": [
      "Processing tweet batches:   7%|▋         | 464/7043 [17:16<4:06:19,  2.25s/it]"
     ]
    },
    {
     "name": "stdout",
     "output_type": "stream",
     "text": [
      "API key 2 rate limited. Waiting 0 seconds.\n",
      "API key 2 rate limited. Waiting 0 seconds.\n"
     ]
    },
    {
     "name": "stderr",
     "output_type": "stream",
     "text": [
      "Processing tweet batches:   7%|▋         | 465/7043 [17:18<3:52:31,  2.12s/it]"
     ]
    },
    {
     "name": "stdout",
     "output_type": "stream",
     "text": [
      "API key 2 rate limited. Waiting 0 seconds.\n",
      "API key 1 rate limited. Waiting 0 seconds.\n",
      "API key 2 rate limited. Waiting 0 seconds.\n",
      "API key 1 rate limited. Waiting 0 seconds.\n",
      "API key 2 rate limited. Waiting 0 seconds.\n",
      "API key 1 rate limited. Waiting 0 seconds.\n"
     ]
    },
    {
     "name": "stderr",
     "output_type": "stream",
     "text": [
      "Processing tweet batches:   7%|▋         | 466/7043 [17:20<3:43:32,  2.04s/it]"
     ]
    },
    {
     "name": "stdout",
     "output_type": "stream",
     "text": [
      "API key 2 rate limited. Waiting 0 seconds.\n",
      "API key 2 rate limited. Waiting 0 seconds.\n",
      "API key 2 rate limited. Waiting 0 seconds.\n"
     ]
    },
    {
     "name": "stderr",
     "output_type": "stream",
     "text": [
      "Processing tweet batches:   7%|▋         | 468/7043 [17:24<3:28:48,  1.91s/it]"
     ]
    },
    {
     "name": "stdout",
     "output_type": "stream",
     "text": [
      "API key 2 rate limited. Waiting 0 seconds.\n",
      "API key 1 rate limited. Waiting 0 seconds.\n",
      "API key 2 rate limited. Waiting 0 seconds.\n",
      "API key 1 rate limited. Waiting 0 seconds.\n",
      "API key 2 rate limited. Waiting 0 seconds.\n",
      "API key 2 rate limited. Waiting 0 seconds.\n"
     ]
    },
    {
     "name": "stderr",
     "output_type": "stream",
     "text": [
      "Processing tweet batches:   7%|▋         | 469/7043 [17:26<3:47:11,  2.07s/it]"
     ]
    },
    {
     "name": "stdout",
     "output_type": "stream",
     "text": [
      "API key 1 rate limited. Waiting 0 seconds.\n"
     ]
    },
    {
     "name": "stderr",
     "output_type": "stream",
     "text": [
      "Processing tweet batches:   7%|▋         | 470/7043 [17:28<3:53:10,  2.13s/it]"
     ]
    },
    {
     "name": "stdout",
     "output_type": "stream",
     "text": [
      "API key 1 rate limited. Waiting 0 seconds.\n"
     ]
    },
    {
     "name": "stderr",
     "output_type": "stream",
     "text": [
      "Processing tweet batches:   7%|▋         | 471/7043 [17:31<4:23:34,  2.41s/it]"
     ]
    },
    {
     "name": "stdout",
     "output_type": "stream",
     "text": [
      "API key 1 rate limited. Waiting 0 seconds.\n",
      "API key 1 rate limited. Waiting 0 seconds.\n",
      "API key 1 rate limited. Waiting 0 seconds.\n"
     ]
    },
    {
     "name": "stderr",
     "output_type": "stream",
     "text": [
      "Processing tweet batches:   7%|▋         | 472/7043 [17:34<4:14:53,  2.33s/it]"
     ]
    },
    {
     "name": "stdout",
     "output_type": "stream",
     "text": [
      "API key 2 rate limited. Waiting 0 seconds.\n"
     ]
    },
    {
     "name": "stderr",
     "output_type": "stream",
     "text": [
      "Processing tweet batches:   7%|▋         | 474/7043 [17:37<3:40:42,  2.02s/it]"
     ]
    },
    {
     "name": "stdout",
     "output_type": "stream",
     "text": [
      "API key 2 rate limited. Waiting 0 seconds.\n",
      "\n",
      "Saved 1900 processed tweets to ../data/labeled_stock_tweets_partial.csv\n"
     ]
    },
    {
     "name": "stderr",
     "output_type": "stream",
     "text": [
      "Processing tweet batches:   7%|▋         | 475/7043 [17:39<3:33:30,  1.95s/it]"
     ]
    },
    {
     "name": "stdout",
     "output_type": "stream",
     "text": [
      "API key 2 rate limited. Waiting 0 seconds.\n",
      "API key 1 rate limited. Waiting 0 seconds.\n"
     ]
    },
    {
     "name": "stderr",
     "output_type": "stream",
     "text": [
      "Processing tweet batches:   7%|▋         | 476/7043 [17:41<3:38:37,  2.00s/it]"
     ]
    },
    {
     "name": "stdout",
     "output_type": "stream",
     "text": [
      "API key 2 rate limited. Waiting 0 seconds.\n",
      "API key 1 rate limited. Waiting 0 seconds.\n"
     ]
    },
    {
     "name": "stderr",
     "output_type": "stream",
     "text": [
      "Processing tweet batches:   7%|▋         | 477/7043 [17:43<3:49:54,  2.10s/it]"
     ]
    },
    {
     "name": "stdout",
     "output_type": "stream",
     "text": [
      "API key 1 rate limited. Waiting 0 seconds.\n",
      "API key 1 rate limited. Waiting 0 seconds.\n",
      "API key 1 rate limited. Waiting 0 seconds.\n",
      "API key 2 rate limited. Waiting 0 seconds.\n"
     ]
    },
    {
     "name": "stderr",
     "output_type": "stream",
     "text": [
      "Processing tweet batches:   7%|▋         | 479/7043 [17:48<3:51:36,  2.12s/it]"
     ]
    },
    {
     "name": "stdout",
     "output_type": "stream",
     "text": [
      "API key 1 rate limited. Waiting 0 seconds.\n"
     ]
    },
    {
     "name": "stderr",
     "output_type": "stream",
     "text": [
      "Processing tweet batches:   7%|▋         | 480/7043 [17:51<4:16:37,  2.35s/it]"
     ]
    },
    {
     "name": "stdout",
     "output_type": "stream",
     "text": [
      "API key 2 rate limited. Waiting 0 seconds.\n",
      "API key 2 rate limited. Waiting 0 seconds.\n",
      "API key 2 rate limited. Waiting 0 seconds.\n"
     ]
    },
    {
     "name": "stderr",
     "output_type": "stream",
     "text": [
      "Processing tweet batches:   7%|▋         | 483/7043 [17:56<3:30:11,  1.92s/it]"
     ]
    },
    {
     "name": "stdout",
     "output_type": "stream",
     "text": [
      "API key 1 rate limited. Waiting 0 seconds.API key 2 rate limited. Waiting 0 seconds.\n",
      "\n"
     ]
    },
    {
     "name": "stderr",
     "output_type": "stream",
     "text": [
      "Processing tweet batches:   7%|▋         | 484/7043 [17:58<3:29:08,  1.91s/it]"
     ]
    },
    {
     "name": "stdout",
     "output_type": "stream",
     "text": [
      "API key 1 rate limited. Waiting 0 seconds.\n"
     ]
    },
    {
     "name": "stderr",
     "output_type": "stream",
     "text": [
      "Processing tweet batches:   7%|▋         | 485/7043 [18:00<3:51:54,  2.12s/it]"
     ]
    },
    {
     "name": "stdout",
     "output_type": "stream",
     "text": [
      "API key 2 rate limited. Waiting 0 seconds.\n"
     ]
    },
    {
     "name": "stderr",
     "output_type": "stream",
     "text": [
      "Processing tweet batches:   7%|▋         | 486/7043 [18:02<3:40:55,  2.02s/it]"
     ]
    },
    {
     "name": "stdout",
     "output_type": "stream",
     "text": [
      "API key 1 rate limited. Waiting 0 seconds.API key 2 rate limited. Waiting 0 seconds.\n",
      "\n",
      "API key 2 rate limited. Waiting 0 seconds.API key 1 rate limited. Waiting 0 seconds.\n",
      "\n",
      "API key 2 rate limited. Waiting 0 seconds.\n"
     ]
    },
    {
     "name": "stderr",
     "output_type": "stream",
     "text": [
      "Processing tweet batches:   7%|▋         | 487/7043 [18:05<4:03:37,  2.23s/it]"
     ]
    },
    {
     "name": "stdout",
     "output_type": "stream",
     "text": [
      "API key 1 rate limited. Waiting 0 seconds.\n"
     ]
    },
    {
     "name": "stderr",
     "output_type": "stream",
     "text": [
      "Processing tweet batches:   7%|▋         | 489/7043 [18:08<3:22:48,  1.86s/it]"
     ]
    },
    {
     "name": "stdout",
     "output_type": "stream",
     "text": [
      "API key 1 rate limited. Waiting 0 seconds.\n",
      "API key 2 rate limited. Waiting 0 seconds.\n"
     ]
    },
    {
     "name": "stderr",
     "output_type": "stream",
     "text": [
      "Processing tweet batches:   7%|▋         | 490/7043 [18:10<3:15:50,  1.79s/it]"
     ]
    },
    {
     "name": "stdout",
     "output_type": "stream",
     "text": [
      "API key 1 rate limited. Waiting 0 seconds.\n",
      "API key 1 rate limited. Waiting 0 seconds.\n"
     ]
    },
    {
     "name": "stderr",
     "output_type": "stream",
     "text": [
      "Processing tweet batches:   7%|▋         | 493/7043 [18:15<3:16:13,  1.80s/it]"
     ]
    },
    {
     "name": "stdout",
     "output_type": "stream",
     "text": [
      "API key 2 rate limited. Waiting 0 seconds.\n"
     ]
    },
    {
     "name": "stderr",
     "output_type": "stream",
     "text": [
      "Processing tweet batches:   7%|▋         | 494/7043 [18:17<3:12:22,  1.76s/it]"
     ]
    },
    {
     "name": "stdout",
     "output_type": "stream",
     "text": [
      "API key 2 rate limited. Waiting 0 seconds.\n"
     ]
    },
    {
     "name": "stderr",
     "output_type": "stream",
     "text": [
      "Processing tweet batches:   7%|▋         | 496/7043 [18:23<3:59:10,  2.19s/it]"
     ]
    },
    {
     "name": "stdout",
     "output_type": "stream",
     "text": [
      "API key 2 rate limited. Waiting 0 seconds.API key 1 rate limited. Waiting 0 seconds.\n",
      "\n"
     ]
    },
    {
     "name": "stderr",
     "output_type": "stream",
     "text": [
      "Processing tweet batches:   7%|▋         | 497/7043 [18:25<3:52:32,  2.13s/it]"
     ]
    },
    {
     "name": "stdout",
     "output_type": "stream",
     "text": [
      "API key 2 rate limited. Waiting 0 seconds.\n"
     ]
    },
    {
     "name": "stderr",
     "output_type": "stream",
     "text": [
      "Processing tweet batches:   7%|▋         | 499/7043 [18:28<3:34:09,  1.96s/it]"
     ]
    },
    {
     "name": "stdout",
     "output_type": "stream",
     "text": [
      "\n",
      "Saved 2000 processed tweets to ../data/labeled_stock_tweets_partial.csv\n"
     ]
    },
    {
     "name": "stderr",
     "output_type": "stream",
     "text": [
      "Processing tweet batches:   7%|▋         | 501/7043 [18:32<3:21:35,  1.85s/it]"
     ]
    },
    {
     "name": "stdout",
     "output_type": "stream",
     "text": [
      "API key 2 rate limited. Waiting 0 seconds.\n"
     ]
    },
    {
     "name": "stderr",
     "output_type": "stream",
     "text": [
      "Processing tweet batches:   7%|▋         | 502/7043 [18:33<3:14:51,  1.79s/it]"
     ]
    },
    {
     "name": "stdout",
     "output_type": "stream",
     "text": [
      "API key 2 rate limited. Waiting 0 seconds.\n"
     ]
    },
    {
     "name": "stderr",
     "output_type": "stream",
     "text": [
      "Processing tweet batches:   7%|▋         | 503/7043 [18:35<3:15:29,  1.79s/it]"
     ]
    },
    {
     "name": "stdout",
     "output_type": "stream",
     "text": [
      "API key 2 rate limited. Waiting 0 seconds.\n",
      "API key 1 rate limited. Waiting 0 seconds.\n",
      "API key 1 rate limited. Waiting 0 seconds.\n",
      "API key 1 rate limited. Waiting 0 seconds.\n"
     ]
    },
    {
     "name": "stderr",
     "output_type": "stream",
     "text": [
      "Processing tweet batches:   7%|▋         | 504/7043 [18:38<3:39:38,  2.02s/it]"
     ]
    },
    {
     "name": "stdout",
     "output_type": "stream",
     "text": [
      "API key 1 rate limited. Waiting 0 seconds.\n"
     ]
    },
    {
     "name": "stderr",
     "output_type": "stream",
     "text": [
      "Processing tweet batches:   7%|▋         | 507/7043 [18:44<3:38:07,  2.00s/it]"
     ]
    },
    {
     "name": "stdout",
     "output_type": "stream",
     "text": [
      "API key 1 rate limited. Waiting 0 seconds.\n"
     ]
    },
    {
     "name": "stderr",
     "output_type": "stream",
     "text": [
      "Processing tweet batches:   7%|▋         | 509/7043 [18:48<3:37:27,  2.00s/it]"
     ]
    },
    {
     "name": "stdout",
     "output_type": "stream",
     "text": [
      "API key 1 rate limited. Waiting 0 seconds.\n"
     ]
    },
    {
     "name": "stderr",
     "output_type": "stream",
     "text": [
      "Processing tweet batches:   7%|▋         | 510/7043 [18:50<3:37:07,  1.99s/it]"
     ]
    },
    {
     "name": "stdout",
     "output_type": "stream",
     "text": [
      "API key 2 rate limited. Waiting 0 seconds.\n",
      "API key 2 rate limited. Waiting 0 seconds.\n"
     ]
    },
    {
     "name": "stderr",
     "output_type": "stream",
     "text": [
      "Processing tweet batches:   7%|▋         | 511/7043 [18:52<3:53:14,  2.14s/it]"
     ]
    },
    {
     "name": "stdout",
     "output_type": "stream",
     "text": [
      "API key 1 rate limited. Waiting 0 seconds.\n",
      "API key 1 rate limited. Waiting 0 seconds.\n"
     ]
    },
    {
     "name": "stderr",
     "output_type": "stream",
     "text": [
      "Processing tweet batches:   7%|▋         | 513/7043 [18:57<3:47:13,  2.09s/it]"
     ]
    },
    {
     "name": "stdout",
     "output_type": "stream",
     "text": [
      "API key 1 rate limited. Waiting 0 seconds.\n",
      "API key 1 rate limited. Waiting 0 seconds.\n"
     ]
    },
    {
     "name": "stderr",
     "output_type": "stream",
     "text": [
      "Processing tweet batches:   7%|▋         | 514/7043 [18:59<3:53:04,  2.14s/it]"
     ]
    },
    {
     "name": "stdout",
     "output_type": "stream",
     "text": [
      "API key 1 rate limited. Waiting 0 seconds.\n"
     ]
    },
    {
     "name": "stderr",
     "output_type": "stream",
     "text": [
      "Processing tweet batches:   7%|▋         | 515/7043 [19:01<3:46:01,  2.08s/it]"
     ]
    },
    {
     "name": "stdout",
     "output_type": "stream",
     "text": [
      "API key 2 rate limited. Waiting 0 seconds.\n"
     ]
    },
    {
     "name": "stderr",
     "output_type": "stream",
     "text": [
      "Processing tweet batches:   7%|▋         | 519/7043 [19:08<3:15:04,  1.79s/it]"
     ]
    },
    {
     "name": "stdout",
     "output_type": "stream",
     "text": [
      "API key 1 rate limited. Waiting 0 seconds.\n"
     ]
    },
    {
     "name": "stderr",
     "output_type": "stream",
     "text": [
      "Processing tweet batches:   7%|▋         | 520/7043 [19:10<3:15:58,  1.80s/it]"
     ]
    },
    {
     "name": "stdout",
     "output_type": "stream",
     "text": [
      "API key 2 rate limited. Waiting 0 seconds.\n"
     ]
    },
    {
     "name": "stderr",
     "output_type": "stream",
     "text": [
      "Processing tweet batches:   7%|▋         | 521/7043 [19:12<3:21:13,  1.85s/it]"
     ]
    },
    {
     "name": "stdout",
     "output_type": "stream",
     "text": [
      "API key 1 rate limited. Waiting 0 seconds.\n",
      "API key 1 rate limited. Waiting 0 seconds.\n",
      "API key 1 rate limited. Waiting 0 seconds.\n"
     ]
    },
    {
     "name": "stderr",
     "output_type": "stream",
     "text": [
      "Processing tweet batches:   7%|▋         | 522/7043 [19:15<3:54:59,  2.16s/it]"
     ]
    },
    {
     "name": "stdout",
     "output_type": "stream",
     "text": [
      "API key 1 rate limited. Waiting 0 seconds.\n",
      "API key 2 rate limited. Waiting 0 seconds.\n",
      "API key 2 rate limited. Waiting 0 seconds.\n"
     ]
    },
    {
     "name": "stderr",
     "output_type": "stream",
     "text": [
      "Processing tweet batches:   7%|▋         | 524/7043 [19:19<3:50:33,  2.12s/it]"
     ]
    },
    {
     "name": "stdout",
     "output_type": "stream",
     "text": [
      "\n",
      "Saved 2100 processed tweets to ../data/labeled_stock_tweets_partial.csv\n"
     ]
    },
    {
     "name": "stderr",
     "output_type": "stream",
     "text": [
      "Processing tweet batches:   7%|▋         | 526/7043 [19:23<3:51:36,  2.13s/it]"
     ]
    },
    {
     "name": "stdout",
     "output_type": "stream",
     "text": [
      "API key 1 rate limited. Waiting 0 seconds.\n",
      "API key 1 rate limited. Waiting 0 seconds.\n"
     ]
    },
    {
     "name": "stderr",
     "output_type": "stream",
     "text": [
      "Processing tweet batches:   7%|▋         | 527/7043 [19:25<3:58:53,  2.20s/it]"
     ]
    },
    {
     "name": "stdout",
     "output_type": "stream",
     "text": [
      "API key 1 rate limited. Waiting 0 seconds.\n"
     ]
    },
    {
     "name": "stderr",
     "output_type": "stream",
     "text": [
      "Processing tweet batches:   8%|▊         | 530/7043 [19:30<3:14:35,  1.79s/it]"
     ]
    },
    {
     "name": "stdout",
     "output_type": "stream",
     "text": [
      "API key 2 rate limited. Waiting 0 seconds.\n"
     ]
    },
    {
     "name": "stderr",
     "output_type": "stream",
     "text": [
      "Processing tweet batches:   8%|▊         | 531/7043 [19:32<3:12:57,  1.78s/it]"
     ]
    },
    {
     "name": "stdout",
     "output_type": "stream",
     "text": [
      "API key 2 rate limited. Waiting 0 seconds.\n",
      "API key 2 rate limited. Waiting 0 seconds.\n",
      "API key 2 rate limited. Waiting 0 seconds.\n",
      "API key 1 rate limited. Waiting 0 seconds.\n"
     ]
    },
    {
     "name": "stderr",
     "output_type": "stream",
     "text": [
      "Processing tweet batches:   8%|▊         | 533/7043 [19:37<3:32:20,  1.96s/it]"
     ]
    },
    {
     "name": "stdout",
     "output_type": "stream",
     "text": [
      "API key 1 rate limited. Waiting 0 seconds.\n"
     ]
    },
    {
     "name": "stderr",
     "output_type": "stream",
     "text": [
      "Processing tweet batches:   8%|▊         | 534/7043 [19:39<3:30:09,  1.94s/it]"
     ]
    },
    {
     "name": "stdout",
     "output_type": "stream",
     "text": [
      "API key 2 rate limited. Waiting 0 seconds.\n",
      "API key 2 rate limited. Waiting 0 seconds.\n"
     ]
    },
    {
     "name": "stderr",
     "output_type": "stream",
     "text": [
      "Processing tweet batches:   8%|▊         | 536/7043 [19:42<3:21:57,  1.86s/it]"
     ]
    },
    {
     "name": "stdout",
     "output_type": "stream",
     "text": [
      "API key 1 rate limited. Waiting 0 seconds.\n",
      "API key 2 rate limited. Waiting 0 seconds.\n"
     ]
    },
    {
     "name": "stderr",
     "output_type": "stream",
     "text": [
      "Processing tweet batches:   8%|▊         | 537/7043 [19:44<3:22:46,  1.87s/it]"
     ]
    },
    {
     "name": "stdout",
     "output_type": "stream",
     "text": [
      "API key 2 rate limited. Waiting 0 seconds.\n",
      "API key 2 rate limited. Waiting 0 seconds.\n",
      "API key 2 rate limited. Waiting 0 seconds.\n"
     ]
    },
    {
     "name": "stderr",
     "output_type": "stream",
     "text": [
      "Processing tweet batches:   8%|▊         | 538/7043 [19:46<3:37:36,  2.01s/it]"
     ]
    },
    {
     "name": "stdout",
     "output_type": "stream",
     "text": [
      "API key 1 rate limited. Waiting 0 seconds.\n",
      "API key 1 rate limited. Waiting 0 seconds.\n"
     ]
    },
    {
     "name": "stderr",
     "output_type": "stream",
     "text": [
      "Processing tweet batches:   8%|▊         | 540/7043 [19:51<3:43:51,  2.07s/it]"
     ]
    },
    {
     "name": "stdout",
     "output_type": "stream",
     "text": [
      "API key 2 rate limited. Waiting 0 seconds.\n"
     ]
    },
    {
     "name": "stderr",
     "output_type": "stream",
     "text": [
      "Processing tweet batches:   8%|▊         | 541/7043 [19:53<3:45:56,  2.08s/it]"
     ]
    },
    {
     "name": "stdout",
     "output_type": "stream",
     "text": [
      "API key 2 rate limited. Waiting 0 seconds.\n"
     ]
    },
    {
     "name": "stderr",
     "output_type": "stream",
     "text": [
      "Processing tweet batches:   8%|▊         | 542/7043 [19:54<3:33:24,  1.97s/it]"
     ]
    },
    {
     "name": "stdout",
     "output_type": "stream",
     "text": [
      "API key 2 rate limited. Waiting 0 seconds.\n"
     ]
    },
    {
     "name": "stderr",
     "output_type": "stream",
     "text": [
      "Processing tweet batches:   8%|▊         | 543/7043 [19:56<3:34:37,  1.98s/it]"
     ]
    },
    {
     "name": "stdout",
     "output_type": "stream",
     "text": [
      "API key 1 rate limited. Waiting 0 seconds.\n",
      "API key 1 rate limited. Waiting 0 seconds.\n"
     ]
    },
    {
     "name": "stderr",
     "output_type": "stream",
     "text": [
      "Processing tweet batches:   8%|▊         | 544/7043 [19:59<3:44:05,  2.07s/it]"
     ]
    },
    {
     "name": "stdout",
     "output_type": "stream",
     "text": [
      "API key 1 rate limited. Waiting 0 seconds.\n"
     ]
    },
    {
     "name": "stderr",
     "output_type": "stream",
     "text": [
      "Processing tweet batches:   8%|▊         | 547/7043 [20:04<3:19:22,  1.84s/it]"
     ]
    },
    {
     "name": "stdout",
     "output_type": "stream",
     "text": [
      "API key 2 rate limited. Waiting 0 seconds.\n"
     ]
    },
    {
     "name": "stderr",
     "output_type": "stream",
     "text": [
      "Processing tweet batches:   8%|▊         | 548/7043 [20:06<3:14:41,  1.80s/it]"
     ]
    },
    {
     "name": "stdout",
     "output_type": "stream",
     "text": [
      "API key 1 rate limited. Waiting 0 seconds.\n",
      "API key 2 rate limited. Waiting 0 seconds.\n",
      "API key 1 rate limited. Waiting 0 seconds.\n"
     ]
    },
    {
     "name": "stderr",
     "output_type": "stream",
     "text": [
      "Processing tweet batches:   8%|▊         | 549/7043 [20:08<3:23:00,  1.88s/it]"
     ]
    },
    {
     "name": "stdout",
     "output_type": "stream",
     "text": [
      "\n",
      "Saved 2200 processed tweets to ../data/labeled_stock_tweets_partial.csv\n"
     ]
    },
    {
     "name": "stderr",
     "output_type": "stream",
     "text": [
      "Processing tweet batches:   8%|▊         | 550/7043 [20:10<3:25:30,  1.90s/it]"
     ]
    },
    {
     "name": "stdout",
     "output_type": "stream",
     "text": [
      "API key 2 rate limited. Waiting 0 seconds.\n"
     ]
    },
    {
     "name": "stderr",
     "output_type": "stream",
     "text": [
      "Processing tweet batches:   8%|▊         | 551/7043 [20:11<3:16:43,  1.82s/it]"
     ]
    },
    {
     "name": "stdout",
     "output_type": "stream",
     "text": [
      "API key 1 rate limited. Waiting 0 seconds.\n"
     ]
    },
    {
     "name": "stderr",
     "output_type": "stream",
     "text": [
      "Processing tweet batches:   8%|▊         | 552/7043 [20:13<3:14:54,  1.80s/it]"
     ]
    },
    {
     "name": "stdout",
     "output_type": "stream",
     "text": [
      "API key 1 rate limited. Waiting 0 seconds.\n",
      "API key 2 rate limited. Waiting 0 seconds.\n"
     ]
    },
    {
     "name": "stderr",
     "output_type": "stream",
     "text": [
      "Processing tweet batches:   8%|▊         | 553/7043 [20:16<3:42:53,  2.06s/it]"
     ]
    },
    {
     "name": "stdout",
     "output_type": "stream",
     "text": [
      "API key 1 rate limited. Waiting 0 seconds.\n",
      "API key 1 rate limited. Waiting 0 seconds.\n",
      "API key 1 rate limited. Waiting 0 seconds.\n"
     ]
    },
    {
     "name": "stderr",
     "output_type": "stream",
     "text": [
      "Processing tweet batches:   8%|▊         | 554/7043 [20:18<4:06:16,  2.28s/it]"
     ]
    },
    {
     "name": "stdout",
     "output_type": "stream",
     "text": [
      "API key 1 rate limited. Waiting 0 seconds.\n",
      "API key 2 rate limited. Waiting 0 seconds.\n"
     ]
    },
    {
     "name": "stderr",
     "output_type": "stream",
     "text": [
      "Processing tweet batches:   8%|▊         | 557/7043 [20:24<3:44:26,  2.08s/it]"
     ]
    },
    {
     "name": "stdout",
     "output_type": "stream",
     "text": [
      "API key 1 rate limited. Waiting 0 seconds.\n",
      "API key 2 rate limited. Waiting 0 seconds.\n",
      "API key 2 rate limited. Waiting 0 seconds.\n",
      "API key 2 rate limited. Waiting 0 seconds.\n"
     ]
    },
    {
     "name": "stderr",
     "output_type": "stream",
     "text": [
      "Processing tweet batches:   8%|▊         | 560/7043 [20:30<3:22:07,  1.87s/it]"
     ]
    },
    {
     "name": "stdout",
     "output_type": "stream",
     "text": [
      "API key 2 rate limited. Waiting 0 seconds.\n",
      "API key 1 rate limited. Waiting 0 seconds.\n",
      "API key 1 rate limited. Waiting 0 seconds.\n"
     ]
    },
    {
     "name": "stderr",
     "output_type": "stream",
     "text": [
      "Processing tweet batches:   8%|▊         | 562/7043 [20:35<3:47:33,  2.11s/it]"
     ]
    },
    {
     "name": "stdout",
     "output_type": "stream",
     "text": [
      "API key 2 rate limited. Waiting 0 seconds.\n"
     ]
    },
    {
     "name": "stderr",
     "output_type": "stream",
     "text": [
      "Processing tweet batches:   8%|▊         | 563/7043 [20:37<3:35:03,  1.99s/it]"
     ]
    },
    {
     "name": "stdout",
     "output_type": "stream",
     "text": [
      "API key 2 rate limited. Waiting 0 seconds.API key 1 rate limited. Waiting 0 seconds.\n",
      "\n",
      "API key 2 rate limited. Waiting 0 seconds.\n"
     ]
    },
    {
     "name": "stderr",
     "output_type": "stream",
     "text": [
      "Processing tweet batches:   8%|▊         | 564/7043 [20:39<3:39:16,  2.03s/it]"
     ]
    },
    {
     "name": "stdout",
     "output_type": "stream",
     "text": [
      "API key 1 rate limited. Waiting 0 seconds.\n",
      "API key 2 rate limited. Waiting 0 seconds.\n",
      "API key 2 rate limited. Waiting 0 seconds.\n"
     ]
    },
    {
     "name": "stderr",
     "output_type": "stream",
     "text": [
      "Processing tweet batches:   8%|▊         | 567/7043 [20:45<3:40:59,  2.05s/it]"
     ]
    },
    {
     "name": "stdout",
     "output_type": "stream",
     "text": [
      "API key 1 rate limited. Waiting 0 seconds.\n"
     ]
    },
    {
     "name": "stderr",
     "output_type": "stream",
     "text": [
      "Processing tweet batches:   8%|▊         | 568/7043 [20:47<3:33:38,  1.98s/it]"
     ]
    },
    {
     "name": "stdout",
     "output_type": "stream",
     "text": [
      "API key 1 rate limited. Waiting 0 seconds.\n"
     ]
    },
    {
     "name": "stderr",
     "output_type": "stream",
     "text": [
      "Processing tweet batches:   8%|▊         | 570/7043 [20:51<3:38:18,  2.02s/it]"
     ]
    },
    {
     "name": "stdout",
     "output_type": "stream",
     "text": [
      "API key 2 rate limited. Waiting 0 seconds.\n"
     ]
    },
    {
     "name": "stderr",
     "output_type": "stream",
     "text": [
      "Processing tweet batches:   8%|▊         | 571/7043 [20:53<3:31:36,  1.96s/it]"
     ]
    },
    {
     "name": "stdout",
     "output_type": "stream",
     "text": [
      "API key 1 rate limited. Waiting 0 seconds.\n",
      "API key 2 rate limited. Waiting 0 seconds.\n"
     ]
    },
    {
     "name": "stderr",
     "output_type": "stream",
     "text": [
      "Processing tweet batches:   8%|▊         | 574/7043 [20:58<3:15:04,  1.81s/it]"
     ]
    },
    {
     "name": "stdout",
     "output_type": "stream",
     "text": [
      "\n",
      "Saved 2300 processed tweets to ../data/labeled_stock_tweets_partial.csv\n"
     ]
    },
    {
     "name": "stderr",
     "output_type": "stream",
     "text": [
      "Processing tweet batches:   8%|▊         | 575/7043 [21:00<3:11:39,  1.78s/it]"
     ]
    },
    {
     "name": "stdout",
     "output_type": "stream",
     "text": [
      "API key 2 rate limited. Waiting 0 seconds.\n",
      "API key 2 rate limited. Waiting 0 seconds.\n",
      "API key 2 rate limited. Waiting 0 seconds.\n"
     ]
    },
    {
     "name": "stderr",
     "output_type": "stream",
     "text": [
      "Processing tweet batches:   8%|▊         | 576/7043 [21:02<3:20:27,  1.86s/it]"
     ]
    },
    {
     "name": "stdout",
     "output_type": "stream",
     "text": [
      "API key 1 rate limited. Waiting 0 seconds.\n"
     ]
    },
    {
     "name": "stderr",
     "output_type": "stream",
     "text": [
      "Processing tweet batches:   8%|▊         | 578/7043 [21:11<5:12:12,  2.90s/it]"
     ]
    },
    {
     "name": "stdout",
     "output_type": "stream",
     "text": [
      "API key 2 rate limited. Waiting 0 seconds.\n"
     ]
    },
    {
     "name": "stderr",
     "output_type": "stream",
     "text": [
      "Processing tweet batches:   8%|▊         | 579/7043 [21:16<6:24:02,  3.56s/it]"
     ]
    },
    {
     "name": "stdout",
     "output_type": "stream",
     "text": [
      "API key 2 rate limited. Waiting 0 seconds.\n",
      "API key 2 rate limited. Waiting 0 seconds.\n",
      "API key 1 rate limited. Waiting 0 seconds.\n"
     ]
    },
    {
     "name": "stderr",
     "output_type": "stream",
     "text": [
      "Processing tweet batches:   8%|▊         | 582/7043 [21:23<4:34:20,  2.55s/it]"
     ]
    },
    {
     "name": "stdout",
     "output_type": "stream",
     "text": [
      "API key 1 rate limited. Waiting 0 seconds.\n",
      "API key 2 rate limited. Waiting 0 seconds.\n"
     ]
    },
    {
     "name": "stderr",
     "output_type": "stream",
     "text": [
      "Processing tweet batches:   8%|▊         | 589/7043 [21:47<7:23:42,  4.12s/it]"
     ]
    },
    {
     "name": "stdout",
     "output_type": "stream",
     "text": [
      "API key 2 rate limited. Waiting 0 seconds.\n"
     ]
    },
    {
     "name": "stderr",
     "output_type": "stream",
     "text": [
      "Processing tweet batches:   8%|▊         | 591/7043 [21:50<5:16:55,  2.95s/it]"
     ]
    },
    {
     "name": "stdout",
     "output_type": "stream",
     "text": [
      "API key 1 rate limited. Waiting 0 seconds.\n"
     ]
    },
    {
     "name": "stderr",
     "output_type": "stream",
     "text": [
      "Processing tweet batches:   8%|▊         | 594/7043 [21:57<4:16:03,  2.38s/it]"
     ]
    },
    {
     "name": "stdout",
     "output_type": "stream",
     "text": [
      "API key 1 rate limited. Waiting 0 seconds.\n",
      "API key 1 rate limited. Waiting 0 seconds.\n",
      "API key 1 rate limited. Waiting 0 seconds.\n"
     ]
    },
    {
     "name": "stderr",
     "output_type": "stream",
     "text": [
      "Processing tweet batches:   8%|▊         | 595/7043 [22:00<4:47:30,  2.68s/it]"
     ]
    },
    {
     "name": "stdout",
     "output_type": "stream",
     "text": [
      "API key 2 rate limited. Waiting 0 seconds.\n"
     ]
    },
    {
     "name": "stderr",
     "output_type": "stream",
     "text": [
      "Processing tweet batches:   8%|▊         | 597/7043 [22:04<3:59:39,  2.23s/it]"
     ]
    },
    {
     "name": "stdout",
     "output_type": "stream",
     "text": [
      "API key 2 rate limited. Waiting 0 seconds.\n"
     ]
    },
    {
     "name": "stderr",
     "output_type": "stream",
     "text": [
      "Processing tweet batches:   9%|▊         | 599/7043 [22:10<4:25:27,  2.47s/it]"
     ]
    },
    {
     "name": "stdout",
     "output_type": "stream",
     "text": [
      "API key 2 rate limited. Waiting 0 seconds.\n",
      "\n",
      "Saved 2400 processed tweets to ../data/labeled_stock_tweets_partial.csv\n"
     ]
    },
    {
     "name": "stderr",
     "output_type": "stream",
     "text": [
      "Processing tweet batches:   9%|▊         | 600/7043 [22:12<3:59:34,  2.23s/it]"
     ]
    },
    {
     "name": "stdout",
     "output_type": "stream",
     "text": [
      "API key 2 rate limited. Waiting 0 seconds.\n"
     ]
    },
    {
     "name": "stderr",
     "output_type": "stream",
     "text": [
      "Processing tweet batches:   9%|▊         | 602/7043 [22:15<3:39:18,  2.04s/it]"
     ]
    },
    {
     "name": "stdout",
     "output_type": "stream",
     "text": [
      "API key 1 rate limited. Waiting 0 seconds.\n",
      "API key 2 rate limited. Waiting 0 seconds.\n",
      "API key 1 rate limited. Waiting 0 seconds.\n"
     ]
    },
    {
     "name": "stderr",
     "output_type": "stream",
     "text": [
      "Processing tweet batches:   9%|▊         | 603/7043 [22:18<3:46:54,  2.11s/it]"
     ]
    },
    {
     "name": "stdout",
     "output_type": "stream",
     "text": [
      "API key 2 rate limited. Waiting 0 seconds.\n"
     ]
    },
    {
     "name": "stderr",
     "output_type": "stream",
     "text": [
      "Processing tweet batches:   9%|▊         | 604/7043 [22:21<4:17:26,  2.40s/it]"
     ]
    },
    {
     "name": "stdout",
     "output_type": "stream",
     "text": [
      "API key 1 rate limited. Waiting 0 seconds.\n"
     ]
    },
    {
     "name": "stderr",
     "output_type": "stream",
     "text": [
      "Processing tweet batches:   9%|▊         | 606/7043 [22:25<3:44:33,  2.09s/it]"
     ]
    },
    {
     "name": "stdout",
     "output_type": "stream",
     "text": [
      "API key 2 rate limited. Waiting 0 seconds.\n"
     ]
    },
    {
     "name": "stderr",
     "output_type": "stream",
     "text": [
      "Processing tweet batches:   9%|▊         | 609/7043 [22:33<4:21:50,  2.44s/it]"
     ]
    },
    {
     "name": "stdout",
     "output_type": "stream",
     "text": [
      "API key 1 rate limited. Waiting 0 seconds.\n"
     ]
    },
    {
     "name": "stderr",
     "output_type": "stream",
     "text": [
      "Processing tweet batches:   9%|▊         | 610/7043 [22:35<3:59:40,  2.24s/it]"
     ]
    },
    {
     "name": "stdout",
     "output_type": "stream",
     "text": [
      "API key 2 rate limited. Waiting 0 seconds.\n"
     ]
    },
    {
     "name": "stderr",
     "output_type": "stream",
     "text": [
      "Processing tweet batches:   9%|▊         | 612/7043 [22:39<3:57:37,  2.22s/it]"
     ]
    },
    {
     "name": "stdout",
     "output_type": "stream",
     "text": [
      "API key 2 rate limited. Waiting 0 seconds.API key 1 rate limited. Waiting 0 seconds.\n",
      "\n"
     ]
    },
    {
     "name": "stderr",
     "output_type": "stream",
     "text": [
      "Processing tweet batches:   9%|▊         | 613/7043 [22:41<3:48:30,  2.13s/it]"
     ]
    },
    {
     "name": "stdout",
     "output_type": "stream",
     "text": [
      "API key 2 rate limited. Waiting 0 seconds.\n",
      "API key 1 rate limited. Waiting 0 seconds.\n"
     ]
    },
    {
     "name": "stderr",
     "output_type": "stream",
     "text": [
      "Processing tweet batches:   9%|▊         | 614/7043 [22:43<3:40:02,  2.05s/it]"
     ]
    },
    {
     "name": "stdout",
     "output_type": "stream",
     "text": [
      "API key 1 rate limited. Waiting 0 seconds.\n",
      "API key 2 rate limited. Waiting 0 seconds.\n",
      "API key 1 rate limited. Waiting 0 seconds.\n"
     ]
    },
    {
     "name": "stderr",
     "output_type": "stream",
     "text": [
      "Processing tweet batches:   9%|▊         | 615/7043 [22:45<3:40:14,  2.06s/it]"
     ]
    },
    {
     "name": "stdout",
     "output_type": "stream",
     "text": [
      "API key 1 rate limited. Waiting 0 seconds.\n",
      "API key 1 rate limited. Waiting 0 seconds.\n"
     ]
    },
    {
     "name": "stderr",
     "output_type": "stream",
     "text": [
      "Processing tweet batches:   9%|▉         | 617/7043 [22:49<3:25:09,  1.92s/it]"
     ]
    },
    {
     "name": "stdout",
     "output_type": "stream",
     "text": [
      "API key 2 rate limited. Waiting 0 seconds.\n",
      "API key 2 rate limited. Waiting 0 seconds.\n"
     ]
    },
    {
     "name": "stderr",
     "output_type": "stream",
     "text": [
      "Processing tweet batches:   9%|▉         | 621/7043 [22:57<3:26:52,  1.93s/it]"
     ]
    },
    {
     "name": "stdout",
     "output_type": "stream",
     "text": [
      "API key 2 rate limited. Waiting 0 seconds.\n"
     ]
    },
    {
     "name": "stderr",
     "output_type": "stream",
     "text": [
      "Processing tweet batches:   9%|▉         | 622/7043 [23:00<3:56:27,  2.21s/it]"
     ]
    },
    {
     "name": "stdout",
     "output_type": "stream",
     "text": [
      "API key 1 rate limited. Waiting 0 seconds.\n"
     ]
    },
    {
     "name": "stderr",
     "output_type": "stream",
     "text": [
      "Processing tweet batches:   9%|▉         | 624/7043 [23:05<4:02:12,  2.26s/it]"
     ]
    },
    {
     "name": "stdout",
     "output_type": "stream",
     "text": [
      "API key 1 rate limited. Waiting 0 seconds.\n",
      "API key 1 rate limited. Waiting 0 seconds.\n",
      "\n",
      "Saved 2500 processed tweets to ../data/labeled_stock_tweets_partial.csv\n"
     ]
    },
    {
     "name": "stderr",
     "output_type": "stream",
     "text": [
      "Processing tweet batches:   9%|▉         | 625/7043 [23:07<4:07:28,  2.31s/it]"
     ]
    },
    {
     "name": "stdout",
     "output_type": "stream",
     "text": [
      "API key 2 rate limited. Waiting 0 seconds.\n",
      "API key 2 rate limited. Waiting 0 seconds.\n"
     ]
    },
    {
     "name": "stderr",
     "output_type": "stream",
     "text": [
      "Processing tweet batches:   9%|▉         | 626/7043 [23:09<3:50:52,  2.16s/it]"
     ]
    },
    {
     "name": "stdout",
     "output_type": "stream",
     "text": [
      "API key 2 rate limited. Waiting 0 seconds.\n",
      "API key 1 rate limited. Waiting 0 seconds.\n"
     ]
    },
    {
     "name": "stderr",
     "output_type": "stream",
     "text": [
      "Processing tweet batches:   9%|▉         | 627/7043 [23:11<3:32:28,  1.99s/it]"
     ]
    },
    {
     "name": "stdout",
     "output_type": "stream",
     "text": [
      "API key 2 rate limited. Waiting 0 seconds.\n"
     ]
    },
    {
     "name": "stderr",
     "output_type": "stream",
     "text": [
      "Processing tweet batches:   9%|▉         | 628/7043 [23:13<3:27:37,  1.94s/it]"
     ]
    },
    {
     "name": "stdout",
     "output_type": "stream",
     "text": [
      "API key 1 rate limited. Waiting 0 seconds.\n",
      "API key 1 rate limited. Waiting 0 seconds.\n"
     ]
    },
    {
     "name": "stderr",
     "output_type": "stream",
     "text": [
      "Processing tweet batches:   9%|▉         | 630/7043 [23:17<3:23:30,  1.90s/it]"
     ]
    },
    {
     "name": "stdout",
     "output_type": "stream",
     "text": [
      "API key 2 rate limited. Waiting 0 seconds.\n",
      "API key 1 rate limited. Waiting 0 seconds.\n",
      "API key 2 rate limited. Waiting 0 seconds.\n",
      "API key 1 rate limited. Waiting 0 seconds.\n"
     ]
    },
    {
     "name": "stderr",
     "output_type": "stream",
     "text": [
      "Processing tweet batches:   9%|▉         | 631/7043 [23:19<3:33:03,  1.99s/it]"
     ]
    },
    {
     "name": "stdout",
     "output_type": "stream",
     "text": [
      "API key 1 rate limited. Waiting 0 seconds.API key 2 rate limited. Waiting 0 seconds.\n",
      "\n",
      "API key 1 rate limited. Waiting 0 seconds.\n",
      "API key 1 rate limited. Waiting 0 seconds.\n"
     ]
    },
    {
     "name": "stderr",
     "output_type": "stream",
     "text": [
      "Processing tweet batches:   9%|▉         | 632/7043 [23:21<3:50:01,  2.15s/it]"
     ]
    },
    {
     "name": "stdout",
     "output_type": "stream",
     "text": [
      "API key 1 rate limited. Waiting 0 seconds.API key 2 rate limited. Waiting 0 seconds.\n",
      "\n",
      "API key 1 rate limited. Waiting 0 seconds.API key 2 rate limited. Waiting 0 seconds.\n",
      "\n",
      "API key 1 rate limited. Waiting 0 seconds.\n"
     ]
    },
    {
     "name": "stderr",
     "output_type": "stream",
     "text": [
      "Processing tweet batches:   9%|▉         | 633/7043 [23:24<4:20:14,  2.44s/it]"
     ]
    },
    {
     "name": "stdout",
     "output_type": "stream",
     "text": [
      "API key 1 rate limited. Waiting 0 seconds.API key 2 rate limited. Waiting 0 seconds.\n",
      "\n",
      "API key 1 rate limited. Waiting 0 seconds.\n",
      "API key 1 rate limited. Waiting 0 seconds.\n"
     ]
    },
    {
     "name": "stderr",
     "output_type": "stream",
     "text": [
      "Processing tweet batches:   9%|▉         | 634/7043 [23:26<4:01:16,  2.26s/it]"
     ]
    },
    {
     "name": "stdout",
     "output_type": "stream",
     "text": [
      "API key 2 rate limited. Waiting 0 seconds.\n",
      "API key 2 rate limited. Waiting 0 seconds.\n",
      "API key 2 rate limited. Waiting 0 seconds.\n"
     ]
    },
    {
     "name": "stderr",
     "output_type": "stream",
     "text": [
      "Processing tweet batches:   9%|▉         | 637/7043 [23:32<3:47:00,  2.13s/it]"
     ]
    },
    {
     "name": "stdout",
     "output_type": "stream",
     "text": [
      "API key 2 rate limited. Waiting 0 seconds.\n"
     ]
    },
    {
     "name": "stderr",
     "output_type": "stream",
     "text": [
      "Processing tweet batches:   9%|▉         | 641/7043 [23:39<3:05:53,  1.74s/it]"
     ]
    },
    {
     "name": "stdout",
     "output_type": "stream",
     "text": [
      "API key 2 rate limited. Waiting 0 seconds.\n",
      "API key 2 rate limited. Waiting 0 seconds.\n"
     ]
    },
    {
     "name": "stderr",
     "output_type": "stream",
     "text": [
      "Processing tweet batches:   9%|▉         | 642/7043 [23:41<3:07:16,  1.76s/it]"
     ]
    },
    {
     "name": "stdout",
     "output_type": "stream",
     "text": [
      "API key 2 rate limited. Waiting 0 seconds.\n",
      "API key 2 rate limited. Waiting 0 seconds.\n",
      "API key 2 rate limited. Waiting 0 seconds.\n",
      "API key 2 rate limited. Waiting 0 seconds.\n",
      "API key 1 rate limited. Waiting 0 seconds.\n"
     ]
    },
    {
     "name": "stderr",
     "output_type": "stream",
     "text": [
      "Processing tweet batches:   9%|▉         | 643/7043 [23:44<3:26:59,  1.94s/it]"
     ]
    },
    {
     "name": "stdout",
     "output_type": "stream",
     "text": [
      "API key 2 rate limited. Waiting 0 seconds.\n"
     ]
    },
    {
     "name": "stderr",
     "output_type": "stream",
     "text": [
      "Processing tweet batches:   9%|▉         | 644/7043 [23:45<3:18:30,  1.86s/it]"
     ]
    },
    {
     "name": "stdout",
     "output_type": "stream",
     "text": [
      "API key 2 rate limited. Waiting 0 seconds.\n"
     ]
    },
    {
     "name": "stderr",
     "output_type": "stream",
     "text": [
      "Processing tweet batches:   9%|▉         | 646/7043 [23:49<3:03:32,  1.72s/it]"
     ]
    },
    {
     "name": "stdout",
     "output_type": "stream",
     "text": [
      "API key 1 rate limited. Waiting 0 seconds.API key 2 rate limited. Waiting 0 seconds.\n",
      "\n"
     ]
    },
    {
     "name": "stderr",
     "output_type": "stream",
     "text": [
      "Processing tweet batches:   9%|▉         | 647/7043 [23:50<3:07:45,  1.76s/it]"
     ]
    },
    {
     "name": "stdout",
     "output_type": "stream",
     "text": [
      "API key 2 rate limited. Waiting 0 seconds.\n",
      "API key 2 rate limited. Waiting 0 seconds.\n",
      "API key 1 rate limited. Waiting 0 seconds.\n"
     ]
    },
    {
     "name": "stderr",
     "output_type": "stream",
     "text": [
      "Processing tweet batches:   9%|▉         | 648/7043 [23:53<3:22:28,  1.90s/it]"
     ]
    },
    {
     "name": "stdout",
     "output_type": "stream",
     "text": [
      "API key 1 rate limited. Waiting 0 seconds.\n"
     ]
    },
    {
     "name": "stderr",
     "output_type": "stream",
     "text": [
      "Processing tweet batches:   9%|▉         | 649/7043 [23:55<3:27:54,  1.95s/it]"
     ]
    },
    {
     "name": "stdout",
     "output_type": "stream",
     "text": [
      "API key 2 rate limited. Waiting 0 seconds.\n",
      "\n",
      "Saved 2600 processed tweets to ../data/labeled_stock_tweets_partial.csv\n"
     ]
    },
    {
     "name": "stderr",
     "output_type": "stream",
     "text": [
      "Processing tweet batches:   9%|▉         | 651/7043 [23:59<3:18:34,  1.86s/it]"
     ]
    },
    {
     "name": "stdout",
     "output_type": "stream",
     "text": [
      "API key 2 rate limited. Waiting 0 seconds.\n",
      "API key 2 rate limited. Waiting 0 seconds.\n",
      "API key 2 rate limited. Waiting 0 seconds.\n",
      "API key 1 rate limited. Waiting 0 seconds.\n",
      "API key 1 rate limited. Waiting 0 seconds.\n"
     ]
    },
    {
     "name": "stderr",
     "output_type": "stream",
     "text": [
      "Processing tweet batches:   9%|▉         | 652/7043 [24:01<3:45:50,  2.12s/it]"
     ]
    },
    {
     "name": "stdout",
     "output_type": "stream",
     "text": [
      "API key 1 rate limited. Waiting 0 seconds.\n",
      "API key 1 rate limited. Waiting 0 seconds.\n"
     ]
    },
    {
     "name": "stderr",
     "output_type": "stream",
     "text": [
      "Processing tweet batches:   9%|▉         | 653/7043 [24:04<4:10:29,  2.35s/it]"
     ]
    },
    {
     "name": "stdout",
     "output_type": "stream",
     "text": [
      "API key 1 rate limited. Waiting 0 seconds.\n",
      "API key 2 rate limited. Waiting 0 seconds.\n"
     ]
    },
    {
     "name": "stderr",
     "output_type": "stream",
     "text": [
      "Processing tweet batches:   9%|▉         | 655/7043 [24:08<3:56:42,  2.22s/it]"
     ]
    },
    {
     "name": "stdout",
     "output_type": "stream",
     "text": [
      "API key 1 rate limited. Waiting 0 seconds.\n",
      "API key 1 rate limited. Waiting 0 seconds.\n",
      "API key 2 rate limited. Waiting 0 seconds.\n"
     ]
    },
    {
     "name": "stderr",
     "output_type": "stream",
     "text": [
      "Processing tweet batches:   9%|▉         | 660/7043 [24:20<3:33:17,  2.00s/it]"
     ]
    },
    {
     "name": "stdout",
     "output_type": "stream",
     "text": [
      "API key 1 rate limited. Waiting 0 seconds.\n"
     ]
    },
    {
     "name": "stderr",
     "output_type": "stream",
     "text": [
      "Processing tweet batches:   9%|▉         | 661/7043 [24:21<3:19:12,  1.87s/it]"
     ]
    },
    {
     "name": "stdout",
     "output_type": "stream",
     "text": [
      "API key 2 rate limited. Waiting 0 seconds.\n",
      "API key 2 rate limited. Waiting 0 seconds.\n",
      "API key 2 rate limited. Waiting 0 seconds.\n"
     ]
    },
    {
     "name": "stderr",
     "output_type": "stream",
     "text": [
      "Processing tweet batches:   9%|▉         | 664/7043 [24:38<9:21:29,  5.28s/it]"
     ]
    },
    {
     "name": "stdout",
     "output_type": "stream",
     "text": [
      "API key 1 rate limited. Waiting 0 seconds.\n",
      "API key 1 rate limited. Waiting 0 seconds.\n"
     ]
    },
    {
     "name": "stderr",
     "output_type": "stream",
     "text": [
      "Processing tweet batches:   9%|▉         | 667/7043 [24:44<5:27:54,  3.09s/it]"
     ]
    },
    {
     "name": "stdout",
     "output_type": "stream",
     "text": [
      "API key 2 rate limited. Waiting 0 seconds.\n"
     ]
    },
    {
     "name": "stderr",
     "output_type": "stream",
     "text": [
      "Processing tweet batches:   9%|▉         | 669/7043 [24:48<4:32:19,  2.56s/it]"
     ]
    },
    {
     "name": "stdout",
     "output_type": "stream",
     "text": [
      "API key 2 rate limited. Waiting 0 seconds.\n"
     ]
    },
    {
     "name": "stderr",
     "output_type": "stream",
     "text": [
      "Processing tweet batches:  10%|▉         | 670/7043 [24:50<4:09:20,  2.35s/it]"
     ]
    },
    {
     "name": "stdout",
     "output_type": "stream",
     "text": [
      "API key 1 rate limited. Waiting 0 seconds.\n",
      "API key 2 rate limited. Waiting 0 seconds.\n",
      "API key 1 rate limited. Waiting 0 seconds.\n",
      "API key 1 rate limited. Waiting 0 seconds.\n",
      "API key 2 rate limited. Waiting 0 seconds.\n"
     ]
    },
    {
     "name": "stderr",
     "output_type": "stream",
     "text": [
      "Processing tweet batches:  10%|▉         | 673/7043 [24:57<3:57:39,  2.24s/it]"
     ]
    },
    {
     "name": "stdout",
     "output_type": "stream",
     "text": [
      "API key 2 rate limited. Waiting 0 seconds.\n",
      "API key 2 rate limited. Waiting 0 seconds.\n"
     ]
    },
    {
     "name": "stderr",
     "output_type": "stream",
     "text": [
      "Processing tweet batches:  10%|▉         | 674/7043 [24:59<4:01:12,  2.27s/it]"
     ]
    },
    {
     "name": "stdout",
     "output_type": "stream",
     "text": [
      "API key 2 rate limited. Waiting 0 seconds.\n",
      "\n",
      "Saved 2700 processed tweets to ../data/labeled_stock_tweets_partial.csv\n"
     ]
    },
    {
     "name": "stderr",
     "output_type": "stream",
     "text": [
      "Processing tweet batches:  10%|▉         | 680/7043 [25:11<3:19:38,  1.88s/it]"
     ]
    },
    {
     "name": "stdout",
     "output_type": "stream",
     "text": [
      "API key 2 rate limited. Waiting 0 seconds.\n"
     ]
    },
    {
     "name": "stderr",
     "output_type": "stream",
     "text": [
      "Processing tweet batches:  10%|▉         | 681/7043 [25:13<3:15:43,  1.85s/it]"
     ]
    },
    {
     "name": "stdout",
     "output_type": "stream",
     "text": [
      "API key 1 rate limited. Waiting 0 seconds.\n"
     ]
    },
    {
     "name": "stderr",
     "output_type": "stream",
     "text": [
      "Processing tweet batches:  10%|▉         | 685/7043 [25:21<3:23:01,  1.92s/it]"
     ]
    },
    {
     "name": "stdout",
     "output_type": "stream",
     "text": [
      "API key 1 rate limited. Waiting 0 seconds.\n"
     ]
    },
    {
     "name": "stderr",
     "output_type": "stream",
     "text": [
      "Processing tweet batches:  10%|▉         | 686/7043 [25:23<3:26:07,  1.95s/it]"
     ]
    },
    {
     "name": "stdout",
     "output_type": "stream",
     "text": [
      "API key 2 rate limited. Waiting 0 seconds.\n",
      "API key 2 rate limited. Waiting 0 seconds.\n"
     ]
    },
    {
     "name": "stderr",
     "output_type": "stream",
     "text": [
      "Processing tweet batches:  10%|▉         | 687/7043 [25:24<3:24:32,  1.93s/it]"
     ]
    },
    {
     "name": "stdout",
     "output_type": "stream",
     "text": [
      "API key 2 rate limited. Waiting 0 seconds.\n",
      "API key 2 rate limited. Waiting 0 seconds.\n",
      "API key 2 rate limited. Waiting 0 seconds.\n"
     ]
    },
    {
     "name": "stderr",
     "output_type": "stream",
     "text": [
      "Processing tweet batches:  10%|▉         | 690/7043 [25:30<3:16:44,  1.86s/it]"
     ]
    },
    {
     "name": "stdout",
     "output_type": "stream",
     "text": [
      "API key 1 rate limited. Waiting 0 seconds.\n",
      "API key 1 rate limited. Waiting 0 seconds.\n"
     ]
    },
    {
     "name": "stderr",
     "output_type": "stream",
     "text": [
      "Processing tweet batches:  10%|▉         | 691/7043 [25:32<3:22:58,  1.92s/it]"
     ]
    },
    {
     "name": "stdout",
     "output_type": "stream",
     "text": [
      "API key 2 rate limited. Waiting 0 seconds.\n",
      "API key 1 rate limited. Waiting 0 seconds.\n"
     ]
    },
    {
     "name": "stderr",
     "output_type": "stream",
     "text": [
      "Processing tweet batches:  10%|▉         | 692/7043 [25:34<3:22:21,  1.91s/it]"
     ]
    },
    {
     "name": "stdout",
     "output_type": "stream",
     "text": [
      "API key 2 rate limited. Waiting 0 seconds.\n",
      "API key 2 rate limited. Waiting 0 seconds.\n",
      "API key 2 rate limited. Waiting 0 seconds.\n"
     ]
    },
    {
     "name": "stderr",
     "output_type": "stream",
     "text": [
      "Processing tweet batches:  10%|▉         | 694/7043 [25:38<3:30:08,  1.99s/it]"
     ]
    },
    {
     "name": "stdout",
     "output_type": "stream",
     "text": [
      "API key 2 rate limited. Waiting 0 seconds.\n",
      "API key 2 rate limited. Waiting 0 seconds.\n"
     ]
    },
    {
     "name": "stderr",
     "output_type": "stream",
     "text": [
      "Processing tweet batches:  10%|▉         | 695/7043 [25:40<3:19:40,  1.89s/it]"
     ]
    },
    {
     "name": "stdout",
     "output_type": "stream",
     "text": [
      "API key 1 rate limited. Waiting 0 seconds.\n",
      "API key 1 rate limited. Waiting 0 seconds.\n"
     ]
    },
    {
     "name": "stderr",
     "output_type": "stream",
     "text": [
      "Processing tweet batches:  10%|▉         | 696/7043 [25:42<3:29:31,  1.98s/it]"
     ]
    },
    {
     "name": "stdout",
     "output_type": "stream",
     "text": [
      "API key 1 rate limited. Waiting 0 seconds.\n",
      "API key 2 rate limited. Waiting 0 seconds.\n",
      "API key 2 rate limited. Waiting 0 seconds.\n",
      "API key 2 rate limited. Waiting 0 seconds.\n"
     ]
    },
    {
     "name": "stderr",
     "output_type": "stream",
     "text": [
      "Processing tweet batches:  10%|▉         | 697/7043 [25:44<3:29:45,  1.98s/it]"
     ]
    },
    {
     "name": "stdout",
     "output_type": "stream",
     "text": [
      "API key 2 rate limited. Waiting 0 seconds.\n"
     ]
    },
    {
     "name": "stderr",
     "output_type": "stream",
     "text": [
      "Processing tweet batches:  10%|▉         | 699/7043 [25:48<3:16:30,  1.86s/it]"
     ]
    },
    {
     "name": "stdout",
     "output_type": "stream",
     "text": [
      "API key 1 rate limited. Waiting 0 seconds.\n",
      "\n",
      "Saved 2800 processed tweets to ../data/labeled_stock_tweets_partial.csv\n"
     ]
    },
    {
     "name": "stderr",
     "output_type": "stream",
     "text": [
      "Processing tweet batches:  10%|▉         | 700/7043 [25:50<3:23:57,  1.93s/it]"
     ]
    },
    {
     "name": "stdout",
     "output_type": "stream",
     "text": [
      "API key 1 rate limited. Waiting 0 seconds.\n"
     ]
    },
    {
     "name": "stderr",
     "output_type": "stream",
     "text": [
      "Processing tweet batches:  10%|▉         | 702/7043 [25:53<3:13:53,  1.83s/it]"
     ]
    },
    {
     "name": "stdout",
     "output_type": "stream",
     "text": [
      "API key 2 rate limited. Waiting 0 seconds.\n"
     ]
    },
    {
     "name": "stderr",
     "output_type": "stream",
     "text": [
      "Processing tweet batches:  10%|█         | 705/7043 [25:58<2:56:05,  1.67s/it]"
     ]
    },
    {
     "name": "stdout",
     "output_type": "stream",
     "text": [
      "API key 2 rate limited. Waiting 0 seconds.\n"
     ]
    },
    {
     "name": "stderr",
     "output_type": "stream",
     "text": [
      "Processing tweet batches:  10%|█         | 706/7043 [26:00<2:56:55,  1.68s/it]"
     ]
    },
    {
     "name": "stdout",
     "output_type": "stream",
     "text": [
      "API key 1 rate limited. Waiting 0 seconds.\n"
     ]
    },
    {
     "name": "stderr",
     "output_type": "stream",
     "text": [
      "Processing tweet batches:  10%|█         | 707/7043 [26:02<2:56:35,  1.67s/it]"
     ]
    },
    {
     "name": "stdout",
     "output_type": "stream",
     "text": [
      "API key 1 rate limited. Waiting 0 seconds.\n",
      "API key 1 rate limited. Waiting 0 seconds.\n"
     ]
    },
    {
     "name": "stderr",
     "output_type": "stream",
     "text": [
      "Processing tweet batches:  10%|█         | 710/7043 [26:07<2:57:45,  1.68s/it]"
     ]
    },
    {
     "name": "stdout",
     "output_type": "stream",
     "text": [
      "API key 1 rate limited. Waiting 0 seconds.\n",
      "API key 2 rate limited. Waiting 0 seconds.\n",
      "API key 2 rate limited. Waiting 0 seconds.\n",
      "API key 2 rate limited. Waiting 0 seconds.\n"
     ]
    },
    {
     "name": "stderr",
     "output_type": "stream",
     "text": [
      "Processing tweet batches:  10%|█         | 712/7043 [26:12<3:23:36,  1.93s/it]"
     ]
    },
    {
     "name": "stdout",
     "output_type": "stream",
     "text": [
      "API key 1 rate limited. Waiting 0 seconds.\n"
     ]
    },
    {
     "name": "stderr",
     "output_type": "stream",
     "text": [
      "Processing tweet batches:  10%|█         | 713/7043 [26:14<3:51:46,  2.20s/it]"
     ]
    },
    {
     "name": "stdout",
     "output_type": "stream",
     "text": [
      "API key 2 rate limited. Waiting 0 seconds.\n"
     ]
    },
    {
     "name": "stderr",
     "output_type": "stream",
     "text": [
      "Processing tweet batches:  10%|█         | 714/7043 [26:16<3:33:17,  2.02s/it]"
     ]
    },
    {
     "name": "stdout",
     "output_type": "stream",
     "text": [
      "API key 1 rate limited. Waiting 0 seconds.\n"
     ]
    },
    {
     "name": "stderr",
     "output_type": "stream",
     "text": [
      "Processing tweet batches:  10%|█         | 715/7043 [26:18<3:32:09,  2.01s/it]"
     ]
    },
    {
     "name": "stdout",
     "output_type": "stream",
     "text": [
      "API key 1 rate limited. Waiting 0 seconds.\n",
      "API key 2 rate limited. Waiting 0 seconds.\n",
      "API key 1 rate limited. Waiting 0 seconds.\n",
      "API key 1 rate limited. Waiting 0 seconds.\n"
     ]
    },
    {
     "name": "stderr",
     "output_type": "stream",
     "text": [
      "Processing tweet batches:  10%|█         | 717/7043 [26:21<3:11:22,  1.82s/it]"
     ]
    },
    {
     "name": "stdout",
     "output_type": "stream",
     "text": [
      "API key 2 rate limited. Waiting 0 seconds.API key 1 rate limited. Waiting 0 seconds.\n",
      "\n",
      "API key 2 rate limited. Waiting 0 seconds.\n",
      "API key 1 rate limited. Waiting 0 seconds.\n"
     ]
    },
    {
     "name": "stderr",
     "output_type": "stream",
     "text": [
      "Processing tweet batches:  10%|█         | 718/7043 [26:24<3:28:45,  1.98s/it]"
     ]
    },
    {
     "name": "stdout",
     "output_type": "stream",
     "text": [
      "API key 1 rate limited. Waiting 0 seconds.\n"
     ]
    },
    {
     "name": "stderr",
     "output_type": "stream",
     "text": [
      "Processing tweet batches:  10%|█         | 719/7043 [26:26<3:38:38,  2.07s/it]"
     ]
    },
    {
     "name": "stdout",
     "output_type": "stream",
     "text": [
      "API key 2 rate limited. Waiting 0 seconds.\n",
      "API key 2 rate limited. Waiting 0 seconds.\n"
     ]
    },
    {
     "name": "stderr",
     "output_type": "stream",
     "text": [
      "Processing tweet batches:  10%|█         | 720/7043 [26:29<4:00:50,  2.29s/it]"
     ]
    },
    {
     "name": "stdout",
     "output_type": "stream",
     "text": [
      "API key 2 rate limited. Waiting 0 seconds.\n",
      "API key 2 rate limited. Waiting 0 seconds.\n",
      "API key 2 rate limited. Waiting 0 seconds.\n"
     ]
    },
    {
     "name": "stderr",
     "output_type": "stream",
     "text": [
      "Processing tweet batches:  10%|█         | 721/7043 [26:31<3:52:32,  2.21s/it]"
     ]
    },
    {
     "name": "stdout",
     "output_type": "stream",
     "text": [
      "API key 2 rate limited. Waiting 0 seconds.\n"
     ]
    },
    {
     "name": "stderr",
     "output_type": "stream",
     "text": [
      "Processing tweet batches:  10%|█         | 723/7043 [26:34<3:33:06,  2.02s/it]"
     ]
    },
    {
     "name": "stdout",
     "output_type": "stream",
     "text": [
      "API key 1 rate limited. Waiting 0 seconds.\n"
     ]
    },
    {
     "name": "stderr",
     "output_type": "stream",
     "text": [
      "Processing tweet batches:  10%|█         | 724/7043 [26:36<3:25:24,  1.95s/it]"
     ]
    },
    {
     "name": "stdout",
     "output_type": "stream",
     "text": [
      "API key 2 rate limited. Waiting 0 seconds.\n",
      "API key 2 rate limited. Waiting 0 seconds.\n",
      "API key 2 rate limited. Waiting 0 seconds.\n",
      "\n",
      "Saved 2900 processed tweets to ../data/labeled_stock_tweets_partial.csv\n"
     ]
    },
    {
     "name": "stderr",
     "output_type": "stream",
     "text": [
      "Processing tweet batches:  10%|█         | 726/7043 [26:40<3:18:17,  1.88s/it]"
     ]
    },
    {
     "name": "stdout",
     "output_type": "stream",
     "text": [
      "API key 2 rate limited. Waiting 0 seconds.\n"
     ]
    },
    {
     "name": "stderr",
     "output_type": "stream",
     "text": [
      "Processing tweet batches:  10%|█         | 728/7043 [26:43<3:06:38,  1.77s/it]"
     ]
    },
    {
     "name": "stdout",
     "output_type": "stream",
     "text": [
      "API key 1 rate limited. Waiting 0 seconds.\n",
      "API key 1 rate limited. Waiting 0 seconds.\n",
      "API key 1 rate limited. Waiting 0 seconds.\n"
     ]
    },
    {
     "name": "stderr",
     "output_type": "stream",
     "text": [
      "Processing tweet batches:  10%|█         | 731/7043 [26:49<3:24:13,  1.94s/it]"
     ]
    },
    {
     "name": "stdout",
     "output_type": "stream",
     "text": [
      "API key 1 rate limited. Waiting 0 seconds.\n"
     ]
    },
    {
     "name": "stderr",
     "output_type": "stream",
     "text": [
      "Processing tweet batches:  10%|█         | 734/7043 [26:55<3:14:40,  1.85s/it]"
     ]
    },
    {
     "name": "stdout",
     "output_type": "stream",
     "text": [
      "API key 2 rate limited. Waiting 0 seconds.\n"
     ]
    },
    {
     "name": "stderr",
     "output_type": "stream",
     "text": [
      "Processing tweet batches:  10%|█         | 735/7043 [26:56<3:09:36,  1.80s/it]"
     ]
    },
    {
     "name": "stdout",
     "output_type": "stream",
     "text": [
      "API key 2 rate limited. Waiting 0 seconds.\n"
     ]
    },
    {
     "name": "stderr",
     "output_type": "stream",
     "text": [
      "Processing tweet batches:  10%|█         | 736/7043 [26:58<3:07:33,  1.78s/it]"
     ]
    },
    {
     "name": "stdout",
     "output_type": "stream",
     "text": [
      "API key 2 rate limited. Waiting 0 seconds.\n",
      "API key 2 rate limited. Waiting 0 seconds.\n",
      "API key 2 rate limited. Waiting 0 seconds.\n"
     ]
    },
    {
     "name": "stderr",
     "output_type": "stream",
     "text": [
      "Processing tweet batches:  10%|█         | 737/7043 [27:00<3:13:07,  1.84s/it]"
     ]
    },
    {
     "name": "stdout",
     "output_type": "stream",
     "text": [
      "API key 1 rate limited. Waiting 0 seconds.\n"
     ]
    },
    {
     "name": "stderr",
     "output_type": "stream",
     "text": [
      "Processing tweet batches:  11%|█         | 740/7043 [27:06<3:31:56,  2.02s/it]"
     ]
    },
    {
     "name": "stdout",
     "output_type": "stream",
     "text": [
      "API key 1 rate limited. Waiting 0 seconds.\n"
     ]
    },
    {
     "name": "stderr",
     "output_type": "stream",
     "text": [
      "Processing tweet batches:  11%|█         | 741/7043 [27:08<3:22:42,  1.93s/it]"
     ]
    },
    {
     "name": "stdout",
     "output_type": "stream",
     "text": [
      "API key 1 rate limited. Waiting 0 seconds.\n",
      "API key 1 rate limited. Waiting 0 seconds.\n"
     ]
    },
    {
     "name": "stderr",
     "output_type": "stream",
     "text": [
      "Processing tweet batches:  11%|█         | 743/7043 [27:12<3:33:25,  2.03s/it]"
     ]
    },
    {
     "name": "stdout",
     "output_type": "stream",
     "text": [
      "API key 2 rate limited. Waiting 0 seconds.\n",
      "API key 1 rate limited. Waiting 0 seconds.\n"
     ]
    },
    {
     "name": "stderr",
     "output_type": "stream",
     "text": [
      "Processing tweet batches:  11%|█         | 744/7043 [27:14<3:33:10,  2.03s/it]"
     ]
    },
    {
     "name": "stdout",
     "output_type": "stream",
     "text": [
      "API key 2 rate limited. Waiting 0 seconds.\n",
      "API key 2 rate limited. Waiting 0 seconds.\n",
      "API key 1 rate limited. Waiting 0 seconds.\n",
      "API key 1 rate limited. Waiting 0 seconds.\n",
      "API key 1 rate limited. Waiting 0 seconds.\n"
     ]
    },
    {
     "name": "stderr",
     "output_type": "stream",
     "text": [
      "Processing tweet batches:  11%|█         | 745/7043 [27:17<3:36:43,  2.06s/it]"
     ]
    },
    {
     "name": "stdout",
     "output_type": "stream",
     "text": [
      "API key 2 rate limited. Waiting 0 seconds.\n"
     ]
    },
    {
     "name": "stderr",
     "output_type": "stream",
     "text": [
      "Processing tweet batches:  11%|█         | 747/7043 [27:21<3:31:56,  2.02s/it]"
     ]
    },
    {
     "name": "stdout",
     "output_type": "stream",
     "text": [
      "API key 2 rate limited. Waiting 0 seconds.\n"
     ]
    },
    {
     "name": "stderr",
     "output_type": "stream",
     "text": [
      "Processing tweet batches:  11%|█         | 749/7043 [27:25<3:37:38,  2.07s/it]"
     ]
    },
    {
     "name": "stdout",
     "output_type": "stream",
     "text": [
      "API key 1 rate limited. Waiting 0 seconds.\n",
      "\n",
      "Saved 3000 processed tweets to ../data/labeled_stock_tweets_partial.csv\n"
     ]
    },
    {
     "name": "stderr",
     "output_type": "stream",
     "text": [
      "Processing tweet batches:  11%|█         | 750/7043 [27:27<3:35:02,  2.05s/it]"
     ]
    },
    {
     "name": "stdout",
     "output_type": "stream",
     "text": [
      "API key 1 rate limited. Waiting 0 seconds.API key 2 rate limited. Waiting 0 seconds.\n",
      "\n",
      "API key 1 rate limited. Waiting 0 seconds.\n",
      "API key 1 rate limited. Waiting 0 seconds.\n"
     ]
    },
    {
     "name": "stderr",
     "output_type": "stream",
     "text": [
      "Processing tweet batches:  11%|█         | 751/7043 [27:29<3:41:11,  2.11s/it]"
     ]
    },
    {
     "name": "stdout",
     "output_type": "stream",
     "text": [
      "API key 1 rate limited. Waiting 0 seconds.\n",
      "API key 1 rate limited. Waiting 0 seconds.\n",
      "API key 2 rate limited. Waiting 0 seconds.\n",
      "API key 2 rate limited. Waiting 0 seconds.\n"
     ]
    },
    {
     "name": "stderr",
     "output_type": "stream",
     "text": [
      "Processing tweet batches:  11%|█         | 752/7043 [27:31<3:36:14,  2.06s/it]"
     ]
    },
    {
     "name": "stdout",
     "output_type": "stream",
     "text": [
      "API key 2 rate limited. Waiting 0 seconds.\n",
      "API key 2 rate limited. Waiting 0 seconds.\n"
     ]
    },
    {
     "name": "stderr",
     "output_type": "stream",
     "text": [
      "Processing tweet batches:  11%|█         | 753/7043 [27:33<3:46:48,  2.16s/it]"
     ]
    },
    {
     "name": "stdout",
     "output_type": "stream",
     "text": [
      "API key 2 rate limited. Waiting 0 seconds.\n",
      "API key 1 rate limited. Waiting 0 seconds.\n",
      "API key 1 rate limited. Waiting 0 seconds.\n",
      "API key 1 rate limited. Waiting 0 seconds.\n",
      "API key 2 rate limited. Waiting 0 seconds.\n"
     ]
    },
    {
     "name": "stderr",
     "output_type": "stream",
     "text": [
      "Processing tweet batches:  11%|█         | 754/7043 [27:37<4:14:49,  2.43s/it]"
     ]
    },
    {
     "name": "stdout",
     "output_type": "stream",
     "text": [
      "API key 1 rate limited. Waiting 0 seconds.\n",
      "API key 2 rate limited. Waiting 0 seconds.\n",
      "API key 1 rate limited. Waiting 0 seconds.\n"
     ]
    },
    {
     "name": "stderr",
     "output_type": "stream",
     "text": [
      "Processing tweet batches:  11%|█         | 755/7043 [27:39<4:03:25,  2.32s/it]"
     ]
    },
    {
     "name": "stdout",
     "output_type": "stream",
     "text": [
      "API key 2 rate limited. Waiting 0 seconds.\n"
     ]
    },
    {
     "name": "stderr",
     "output_type": "stream",
     "text": [
      "Processing tweet batches:  11%|█         | 756/7043 [27:41<3:52:04,  2.21s/it]"
     ]
    },
    {
     "name": "stdout",
     "output_type": "stream",
     "text": [
      "API key 1 rate limited. Waiting 0 seconds.\n"
     ]
    },
    {
     "name": "stderr",
     "output_type": "stream",
     "text": [
      "Processing tweet batches:  11%|█         | 757/7043 [27:43<4:00:20,  2.29s/it]"
     ]
    },
    {
     "name": "stdout",
     "output_type": "stream",
     "text": [
      "API key 1 rate limited. Waiting 0 seconds.\n"
     ]
    },
    {
     "name": "stderr",
     "output_type": "stream",
     "text": [
      "Processing tweet batches:  11%|█         | 758/7043 [27:46<4:08:42,  2.37s/it]"
     ]
    },
    {
     "name": "stdout",
     "output_type": "stream",
     "text": [
      "API key 2 rate limited. Waiting 0 seconds.\n",
      "API key 2 rate limited. Waiting 0 seconds.\n"
     ]
    },
    {
     "name": "stderr",
     "output_type": "stream",
     "text": [
      "Processing tweet batches:  11%|█         | 759/7043 [27:48<3:55:51,  2.25s/it]"
     ]
    },
    {
     "name": "stdout",
     "output_type": "stream",
     "text": [
      "API key 2 rate limited. Waiting 0 seconds.\n",
      "API key 2 rate limited. Waiting 0 seconds.\n",
      "API key 2 rate limited. Waiting 0 seconds.\n"
     ]
    },
    {
     "name": "stderr",
     "output_type": "stream",
     "text": [
      "Processing tweet batches:  11%|█         | 760/7043 [27:50<3:49:24,  2.19s/it]"
     ]
    },
    {
     "name": "stdout",
     "output_type": "stream",
     "text": [
      "API key 1 rate limited. Waiting 0 seconds.API key 2 rate limited. Waiting 0 seconds.\n",
      "\n"
     ]
    },
    {
     "name": "stderr",
     "output_type": "stream",
     "text": [
      "Processing tweet batches:  11%|█         | 761/7043 [27:51<3:37:35,  2.08s/it]"
     ]
    },
    {
     "name": "stdout",
     "output_type": "stream",
     "text": [
      "API key 1 rate limited. Waiting 0 seconds.\n",
      "API key 1 rate limited. Waiting 0 seconds.\n"
     ]
    },
    {
     "name": "stderr",
     "output_type": "stream",
     "text": [
      "Processing tweet batches:  11%|█         | 762/7043 [27:54<3:37:32,  2.08s/it]"
     ]
    },
    {
     "name": "stdout",
     "output_type": "stream",
     "text": [
      "API key 2 rate limited. Waiting 0 seconds.API key 1 rate limited. Waiting 0 seconds.\n",
      "\n"
     ]
    },
    {
     "name": "stderr",
     "output_type": "stream",
     "text": [
      "Processing tweet batches:  11%|█         | 763/7043 [27:56<3:53:51,  2.23s/it]"
     ]
    },
    {
     "name": "stdout",
     "output_type": "stream",
     "text": [
      "API key 2 rate limited. Waiting 0 seconds.\n",
      "API key 2 rate limited. Waiting 0 seconds.\n",
      "API key 2 rate limited. Waiting 0 seconds.\n",
      "API key 1 rate limited. Waiting 0 seconds.\n",
      "API key 1 rate limited. Waiting 0 seconds.\n"
     ]
    },
    {
     "name": "stderr",
     "output_type": "stream",
     "text": [
      "Processing tweet batches:  11%|█         | 764/7043 [27:59<4:12:28,  2.41s/it]"
     ]
    },
    {
     "name": "stdout",
     "output_type": "stream",
     "text": [
      "API key 1 rate limited. Waiting 0 seconds.\n"
     ]
    },
    {
     "name": "stderr",
     "output_type": "stream",
     "text": [
      "Processing tweet batches:  11%|█         | 765/7043 [28:01<3:49:53,  2.20s/it]"
     ]
    },
    {
     "name": "stdout",
     "output_type": "stream",
     "text": [
      "API key 2 rate limited. Waiting 0 seconds.\n"
     ]
    },
    {
     "name": "stderr",
     "output_type": "stream",
     "text": [
      "Processing tweet batches:  11%|█         | 766/7043 [28:02<3:32:11,  2.03s/it]"
     ]
    },
    {
     "name": "stdout",
     "output_type": "stream",
     "text": [
      "API key 1 rate limited. Waiting 0 seconds.\n"
     ]
    },
    {
     "name": "stderr",
     "output_type": "stream",
     "text": [
      "Processing tweet batches:  11%|█         | 767/7043 [28:04<3:17:36,  1.89s/it]"
     ]
    },
    {
     "name": "stdout",
     "output_type": "stream",
     "text": [
      "API key 2 rate limited. Waiting 0 seconds.\n",
      "API key 2 rate limited. Waiting 0 seconds.\n",
      "API key 1 rate limited. Waiting 0 seconds.\n"
     ]
    },
    {
     "name": "stderr",
     "output_type": "stream",
     "text": [
      "Processing tweet batches:  11%|█         | 769/7043 [28:08<3:17:40,  1.89s/it]"
     ]
    },
    {
     "name": "stdout",
     "output_type": "stream",
     "text": [
      "API key 2 rate limited. Waiting 0 seconds.\n"
     ]
    },
    {
     "name": "stderr",
     "output_type": "stream",
     "text": [
      "Processing tweet batches:  11%|█         | 771/7043 [28:12<3:37:37,  2.08s/it]"
     ]
    },
    {
     "name": "stdout",
     "output_type": "stream",
     "text": [
      "API key 1 rate limited. Waiting 0 seconds.\n"
     ]
    },
    {
     "name": "stderr",
     "output_type": "stream",
     "text": [
      "Processing tweet batches:  11%|█         | 772/7043 [28:14<3:39:43,  2.10s/it]"
     ]
    },
    {
     "name": "stdout",
     "output_type": "stream",
     "text": [
      "API key 1 rate limited. Waiting 0 seconds.API key 2 rate limited. Waiting 0 seconds.\n",
      "\n",
      "API key 1 rate limited. Waiting 0 seconds.\n",
      "API key 1 rate limited. Waiting 0 seconds.\n"
     ]
    },
    {
     "name": "stderr",
     "output_type": "stream",
     "text": [
      "Processing tweet batches:  11%|█         | 773/7043 [28:17<3:54:39,  2.25s/it]"
     ]
    },
    {
     "name": "stdout",
     "output_type": "stream",
     "text": [
      "API key 1 rate limited. Waiting 0 seconds.\n"
     ]
    },
    {
     "name": "stderr",
     "output_type": "stream",
     "text": [
      "Processing tweet batches:  11%|█         | 774/7043 [28:19<3:51:41,  2.22s/it]"
     ]
    },
    {
     "name": "stdout",
     "output_type": "stream",
     "text": [
      "\n",
      "Saved 3100 processed tweets to ../data/labeled_stock_tweets_partial.csv\n"
     ]
    },
    {
     "name": "stderr",
     "output_type": "stream",
     "text": [
      "Processing tweet batches:  11%|█         | 776/7043 [28:22<3:12:16,  1.84s/it]"
     ]
    },
    {
     "name": "stdout",
     "output_type": "stream",
     "text": [
      "API key 2 rate limited. Waiting 0 seconds.API key 1 rate limited. Waiting 0 seconds.\n",
      "\n"
     ]
    },
    {
     "name": "stderr",
     "output_type": "stream",
     "text": [
      "Processing tweet batches:  11%|█         | 777/7043 [28:24<3:09:35,  1.82s/it]"
     ]
    },
    {
     "name": "stdout",
     "output_type": "stream",
     "text": [
      "API key 2 rate limited. Waiting 0 seconds.\n",
      "API key 2 rate limited. Waiting 0 seconds.\n"
     ]
    },
    {
     "name": "stderr",
     "output_type": "stream",
     "text": [
      "Processing tweet batches:  11%|█         | 778/7043 [28:26<3:22:42,  1.94s/it]"
     ]
    },
    {
     "name": "stdout",
     "output_type": "stream",
     "text": [
      "API key 1 rate limited. Waiting 0 seconds.\n"
     ]
    },
    {
     "name": "stderr",
     "output_type": "stream",
     "text": [
      "Processing tweet batches:  11%|█         | 779/7043 [28:28<3:36:33,  2.07s/it]"
     ]
    },
    {
     "name": "stdout",
     "output_type": "stream",
     "text": [
      "API key 2 rate limited. Waiting 0 seconds.\n"
     ]
    },
    {
     "name": "stderr",
     "output_type": "stream",
     "text": [
      "Processing tweet batches:  11%|█         | 780/7043 [28:30<3:36:29,  2.07s/it]"
     ]
    },
    {
     "name": "stdout",
     "output_type": "stream",
     "text": [
      "API key 2 rate limited. Waiting 0 seconds.\n"
     ]
    },
    {
     "name": "stderr",
     "output_type": "stream",
     "text": [
      "Processing tweet batches:  11%|█         | 781/7043 [28:32<3:34:07,  2.05s/it]"
     ]
    },
    {
     "name": "stdout",
     "output_type": "stream",
     "text": [
      "API key 2 rate limited. Waiting 0 seconds.\n",
      "API key 2 rate limited. Waiting 0 seconds.\n",
      "API key 2 rate limited. Waiting 0 seconds.\n"
     ]
    },
    {
     "name": "stderr",
     "output_type": "stream",
     "text": [
      "Processing tweet batches:  11%|█         | 782/7043 [28:34<3:24:04,  1.96s/it]"
     ]
    },
    {
     "name": "stdout",
     "output_type": "stream",
     "text": [
      "API key 2 rate limited. Waiting 0 seconds.API key 1 rate limited. Waiting 0 seconds.\n",
      "\n",
      "API key 1 rate limited. Waiting 0 seconds.\n"
     ]
    },
    {
     "name": "stderr",
     "output_type": "stream",
     "text": [
      "Processing tweet batches:  11%|█         | 785/7043 [28:39<2:52:19,  1.65s/it]"
     ]
    },
    {
     "name": "stdout",
     "output_type": "stream",
     "text": [
      "API key 1 rate limited. Waiting 0 seconds.\n"
     ]
    },
    {
     "name": "stderr",
     "output_type": "stream",
     "text": [
      "Processing tweet batches:  11%|█         | 786/7043 [28:41<3:01:29,  1.74s/it]"
     ]
    },
    {
     "name": "stdout",
     "output_type": "stream",
     "text": [
      "API key 1 rate limited. Waiting 0 seconds.\n"
     ]
    },
    {
     "name": "stderr",
     "output_type": "stream",
     "text": [
      "Processing tweet batches:  11%|█         | 789/7043 [28:48<3:43:33,  2.14s/it]"
     ]
    },
    {
     "name": "stdout",
     "output_type": "stream",
     "text": [
      "API key 2 rate limited. Waiting 0 seconds.\n"
     ]
    },
    {
     "name": "stderr",
     "output_type": "stream",
     "text": [
      "Processing tweet batches:  11%|█         | 791/7043 [28:51<3:13:53,  1.86s/it]"
     ]
    },
    {
     "name": "stdout",
     "output_type": "stream",
     "text": [
      "API key 2 rate limited. Waiting 0 seconds.\n"
     ]
    },
    {
     "name": "stderr",
     "output_type": "stream",
     "text": [
      "Processing tweet batches:  11%|█         | 792/7043 [28:54<3:23:10,  1.95s/it]"
     ]
    },
    {
     "name": "stdout",
     "output_type": "stream",
     "text": [
      "API key 2 rate limited. Waiting 0 seconds.\n",
      "API key 1 rate limited. Waiting 0 seconds.\n",
      "API key 1 rate limited. Waiting 0 seconds.\n",
      "API key 1 rate limited. Waiting 0 seconds.\n",
      "API key 1 rate limited. Waiting 0 seconds.\n"
     ]
    },
    {
     "name": "stderr",
     "output_type": "stream",
     "text": [
      "Processing tweet batches:  11%|█▏        | 793/7043 [28:57<4:01:07,  2.31s/it]"
     ]
    },
    {
     "name": "stdout",
     "output_type": "stream",
     "text": [
      "API key 1 rate limited. Waiting 0 seconds.\n",
      "API key 1 rate limited. Waiting 0 seconds.\n"
     ]
    },
    {
     "name": "stderr",
     "output_type": "stream",
     "text": [
      "Processing tweet batches:  11%|█▏        | 794/7043 [28:59<3:49:20,  2.20s/it]"
     ]
    },
    {
     "name": "stdout",
     "output_type": "stream",
     "text": [
      "API key 1 rate limited. Waiting 0 seconds.\n",
      "API key 2 rate limited. Waiting 0 seconds.\n"
     ]
    },
    {
     "name": "stderr",
     "output_type": "stream",
     "text": [
      "Processing tweet batches:  11%|█▏        | 795/7043 [29:01<3:50:20,  2.21s/it]"
     ]
    },
    {
     "name": "stdout",
     "output_type": "stream",
     "text": [
      "API key 2 rate limited. Waiting 0 seconds.\n",
      "API key 2 rate limited. Waiting 0 seconds.\n"
     ]
    },
    {
     "name": "stderr",
     "output_type": "stream",
     "text": [
      "Processing tweet batches:  11%|█▏        | 797/7043 [29:06<4:10:43,  2.41s/it]"
     ]
    },
    {
     "name": "stdout",
     "output_type": "stream",
     "text": [
      "API key 2 rate limited. Waiting 0 seconds.\n"
     ]
    },
    {
     "name": "stderr",
     "output_type": "stream",
     "text": [
      "Processing tweet batches:  11%|█▏        | 799/7043 [29:11<3:53:50,  2.25s/it]"
     ]
    },
    {
     "name": "stdout",
     "output_type": "stream",
     "text": [
      "API key 1 rate limited. Waiting 0 seconds.\n",
      "\n",
      "Saved 3200 processed tweets to ../data/labeled_stock_tweets_partial.csv\n"
     ]
    },
    {
     "name": "stderr",
     "output_type": "stream",
     "text": [
      "Processing tweet batches:  11%|█▏        | 800/7043 [29:12<3:40:24,  2.12s/it]"
     ]
    },
    {
     "name": "stdout",
     "output_type": "stream",
     "text": [
      "API key 2 rate limited. Waiting 0 seconds.\n",
      "API key 2 rate limited. Waiting 0 seconds.\n",
      "API key 2 rate limited. Waiting 0 seconds.\n"
     ]
    },
    {
     "name": "stderr",
     "output_type": "stream",
     "text": [
      "Processing tweet batches:  11%|█▏        | 801/7043 [29:15<3:55:35,  2.26s/it]"
     ]
    },
    {
     "name": "stdout",
     "output_type": "stream",
     "text": [
      "API key 1 rate limited. Waiting 0 seconds.\n"
     ]
    },
    {
     "name": "stderr",
     "output_type": "stream",
     "text": [
      "Processing tweet batches:  11%|█▏        | 805/7043 [29:23<3:33:58,  2.06s/it]"
     ]
    },
    {
     "name": "stdout",
     "output_type": "stream",
     "text": [
      "API key 1 rate limited. Waiting 0 seconds.\n",
      "API key 1 rate limited. Waiting 0 seconds.\n",
      "API key 2 rate limited. Waiting 0 seconds.\n"
     ]
    },
    {
     "name": "stderr",
     "output_type": "stream",
     "text": [
      "Processing tweet batches:  11%|█▏        | 806/7043 [29:26<3:49:17,  2.21s/it]"
     ]
    },
    {
     "name": "stdout",
     "output_type": "stream",
     "text": [
      "API key 1 rate limited. Waiting 0 seconds.\n",
      "API key 1 rate limited. Waiting 0 seconds.\n"
     ]
    },
    {
     "name": "stderr",
     "output_type": "stream",
     "text": [
      "Processing tweet batches:  11%|█▏        | 808/7043 [29:29<3:22:35,  1.95s/it]"
     ]
    },
    {
     "name": "stdout",
     "output_type": "stream",
     "text": [
      "API key 1 rate limited. Waiting 0 seconds.\n"
     ]
    },
    {
     "name": "stderr",
     "output_type": "stream",
     "text": [
      "Processing tweet batches:  11%|█▏        | 809/7043 [29:31<3:15:44,  1.88s/it]"
     ]
    },
    {
     "name": "stdout",
     "output_type": "stream",
     "text": [
      "API key 2 rate limited. Waiting 0 seconds.\n"
     ]
    },
    {
     "name": "stderr",
     "output_type": "stream",
     "text": [
      "Processing tweet batches:  12%|█▏        | 811/7043 [29:34<3:01:59,  1.75s/it]"
     ]
    },
    {
     "name": "stdout",
     "output_type": "stream",
     "text": [
      "API key 2 rate limited. Waiting 0 seconds.\n"
     ]
    },
    {
     "name": "stderr",
     "output_type": "stream",
     "text": [
      "Processing tweet batches:  12%|█▏        | 812/7043 [29:36<3:09:09,  1.82s/it]"
     ]
    },
    {
     "name": "stdout",
     "output_type": "stream",
     "text": [
      "API key 2 rate limited. Waiting 0 seconds.\n"
     ]
    },
    {
     "name": "stderr",
     "output_type": "stream",
     "text": [
      "Processing tweet batches:  12%|█▏        | 813/7043 [29:38<3:22:27,  1.95s/it]"
     ]
    },
    {
     "name": "stdout",
     "output_type": "stream",
     "text": [
      "API key 2 rate limited. Waiting 0 seconds.\n",
      "API key 1 rate limited. Waiting 0 seconds.\n"
     ]
    },
    {
     "name": "stderr",
     "output_type": "stream",
     "text": [
      "Processing tweet batches:  12%|█▏        | 816/7043 [29:45<3:58:35,  2.30s/it]"
     ]
    },
    {
     "name": "stdout",
     "output_type": "stream",
     "text": [
      "API key 2 rate limited. Waiting 0 seconds.\n",
      "API key 2 rate limited. Waiting 0 seconds.\n"
     ]
    },
    {
     "name": "stderr",
     "output_type": "stream",
     "text": [
      "Processing tweet batches:  12%|█▏        | 817/7043 [29:47<3:46:49,  2.19s/it]"
     ]
    },
    {
     "name": "stdout",
     "output_type": "stream",
     "text": [
      "API key 2 rate limited. Waiting 0 seconds.\n",
      "API key 1 rate limited. Waiting 0 seconds.\n",
      "API key 2 rate limited. Waiting 0 seconds.\n",
      "API key 1 rate limited. Waiting 0 seconds.\n",
      "API key 1 rate limited. Waiting 0 seconds.\n"
     ]
    },
    {
     "name": "stderr",
     "output_type": "stream",
     "text": [
      "Processing tweet batches:  12%|█▏        | 818/7043 [29:49<3:34:25,  2.07s/it]"
     ]
    },
    {
     "name": "stdout",
     "output_type": "stream",
     "text": [
      "API key 2 rate limited. Waiting 0 seconds.\n",
      "API key 2 rate limited. Waiting 0 seconds.\n",
      "API key 1 rate limited. Waiting 0 seconds.\n",
      "API key 2 rate limited. Waiting 0 seconds.\n",
      "API key 1 rate limited. Waiting 0 seconds.\n",
      "API key 1 rate limited. Waiting 0 seconds.\n",
      "API key 2 rate limited. Waiting 0 seconds.\n"
     ]
    },
    {
     "name": "stderr",
     "output_type": "stream",
     "text": [
      "Processing tweet batches:  12%|█▏        | 820/7043 [29:54<3:39:02,  2.11s/it]"
     ]
    },
    {
     "name": "stdout",
     "output_type": "stream",
     "text": [
      "API key 2 rate limited. Waiting 0 seconds.\n"
     ]
    },
    {
     "name": "stderr",
     "output_type": "stream",
     "text": [
      "Processing tweet batches:  12%|█▏        | 822/7043 [30:00<4:31:24,  2.62s/it]"
     ]
    },
    {
     "name": "stdout",
     "output_type": "stream",
     "text": [
      "API key 1 rate limited. Waiting 0 seconds.\n"
     ]
    },
    {
     "name": "stderr",
     "output_type": "stream",
     "text": [
      "Processing tweet batches:  12%|█▏        | 823/7043 [30:03<4:16:35,  2.48s/it]"
     ]
    },
    {
     "name": "stdout",
     "output_type": "stream",
     "text": [
      "API key 1 rate limited. Waiting 0 seconds.\n"
     ]
    },
    {
     "name": "stderr",
     "output_type": "stream",
     "text": [
      "Processing tweet batches:  12%|█▏        | 824/7043 [30:05<4:03:35,  2.35s/it]"
     ]
    },
    {
     "name": "stdout",
     "output_type": "stream",
     "text": [
      "API key 1 rate limited. Waiting 0 seconds.\n",
      "\n",
      "Saved 3300 processed tweets to ../data/labeled_stock_tweets_partial.csv\n"
     ]
    },
    {
     "name": "stderr",
     "output_type": "stream",
     "text": [
      "Processing tweet batches:  12%|█▏        | 825/7043 [30:08<4:26:48,  2.57s/it]"
     ]
    },
    {
     "name": "stdout",
     "output_type": "stream",
     "text": [
      "API key 1 rate limited. Waiting 0 seconds.\n",
      "API key 1 rate limited. Waiting 0 seconds.\n"
     ]
    },
    {
     "name": "stderr",
     "output_type": "stream",
     "text": [
      "Processing tweet batches:  12%|█▏        | 826/7043 [30:10<4:12:45,  2.44s/it]"
     ]
    },
    {
     "name": "stdout",
     "output_type": "stream",
     "text": [
      "API key 1 rate limited. Waiting 0 seconds.\n"
     ]
    },
    {
     "name": "stderr",
     "output_type": "stream",
     "text": [
      "Processing tweet batches:  12%|█▏        | 827/7043 [30:12<4:10:31,  2.42s/it]"
     ]
    },
    {
     "name": "stdout",
     "output_type": "stream",
     "text": [
      "API key 1 rate limited. Waiting 0 seconds.\n"
     ]
    },
    {
     "name": "stderr",
     "output_type": "stream",
     "text": [
      "Processing tweet batches:  12%|█▏        | 830/7043 [30:19<3:51:35,  2.24s/it]"
     ]
    },
    {
     "name": "stdout",
     "output_type": "stream",
     "text": [
      "API key 1 rate limited. Waiting 0 seconds.\n"
     ]
    },
    {
     "name": "stderr",
     "output_type": "stream",
     "text": [
      "Processing tweet batches:  12%|█▏        | 831/7043 [30:21<3:46:37,  2.19s/it]"
     ]
    },
    {
     "name": "stdout",
     "output_type": "stream",
     "text": [
      "API key 1 rate limited. Waiting 0 seconds.\n"
     ]
    },
    {
     "name": "stderr",
     "output_type": "stream",
     "text": [
      "Processing tweet batches:  12%|█▏        | 832/7043 [30:23<3:33:30,  2.06s/it]"
     ]
    },
    {
     "name": "stdout",
     "output_type": "stream",
     "text": [
      "API key 1 rate limited. Waiting 0 seconds.API key 2 rate limited. Waiting 0 seconds.\n",
      "\n",
      "API key 1 rate limited. Waiting 0 seconds.\n",
      "API key 1 rate limited. Waiting 0 seconds.\n"
     ]
    },
    {
     "name": "stderr",
     "output_type": "stream",
     "text": [
      "Processing tweet batches:  12%|█▏        | 833/7043 [30:25<3:27:51,  2.01s/it]"
     ]
    },
    {
     "name": "stdout",
     "output_type": "stream",
     "text": [
      "API key 1 rate limited. Waiting 0 seconds.\n",
      "API key 1 rate limited. Waiting 0 seconds.\n"
     ]
    },
    {
     "name": "stderr",
     "output_type": "stream",
     "text": [
      "Processing tweet batches:  12%|█▏        | 834/7043 [30:27<3:25:17,  1.98s/it]"
     ]
    },
    {
     "name": "stdout",
     "output_type": "stream",
     "text": [
      "API key 1 rate limited. Waiting 0 seconds.\n"
     ]
    },
    {
     "name": "stderr",
     "output_type": "stream",
     "text": [
      "Processing tweet batches:  12%|█▏        | 835/7043 [30:29<3:37:23,  2.10s/it]"
     ]
    },
    {
     "name": "stdout",
     "output_type": "stream",
     "text": [
      "API key 1 rate limited. Waiting 0 seconds.\n"
     ]
    },
    {
     "name": "stderr",
     "output_type": "stream",
     "text": [
      "Processing tweet batches:  12%|█▏        | 837/7043 [30:33<3:23:00,  1.96s/it]"
     ]
    },
    {
     "name": "stdout",
     "output_type": "stream",
     "text": [
      "API key 1 rate limited. Waiting 0 seconds.API key 2 rate limited. Waiting 0 seconds.\n",
      "\n"
     ]
    },
    {
     "name": "stderr",
     "output_type": "stream",
     "text": [
      "Processing tweet batches:  12%|█▏        | 838/7043 [30:35<3:23:46,  1.97s/it]"
     ]
    },
    {
     "name": "stdout",
     "output_type": "stream",
     "text": [
      "API key 1 rate limited. Waiting 0 seconds.\n"
     ]
    },
    {
     "name": "stderr",
     "output_type": "stream",
     "text": [
      "Processing tweet batches:  12%|█▏        | 839/7043 [30:37<3:25:14,  1.99s/it]"
     ]
    },
    {
     "name": "stdout",
     "output_type": "stream",
     "text": [
      "API key 1 rate limited. Waiting 0 seconds.\n",
      "API key 1 rate limited. Waiting 0 seconds.\n"
     ]
    },
    {
     "name": "stderr",
     "output_type": "stream",
     "text": [
      "Processing tweet batches:  12%|█▏        | 842/7043 [30:42<3:18:11,  1.92s/it]"
     ]
    },
    {
     "name": "stdout",
     "output_type": "stream",
     "text": [
      "API key 1 rate limited. Waiting 0 seconds.\n",
      "API key 1 rate limited. Waiting 0 seconds.\n"
     ]
    },
    {
     "name": "stderr",
     "output_type": "stream",
     "text": [
      "Processing tweet batches:  12%|█▏        | 843/7043 [30:45<3:38:47,  2.12s/it]"
     ]
    },
    {
     "name": "stdout",
     "output_type": "stream",
     "text": [
      "API key 2 rate limited. Waiting 0 seconds.\n"
     ]
    },
    {
     "name": "stderr",
     "output_type": "stream",
     "text": [
      "Processing tweet batches:  12%|█▏        | 844/7043 [30:47<3:31:35,  2.05s/it]"
     ]
    },
    {
     "name": "stdout",
     "output_type": "stream",
     "text": [
      "API key 1 rate limited. Waiting 0 seconds.\n"
     ]
    },
    {
     "name": "stderr",
     "output_type": "stream",
     "text": [
      "Processing tweet batches:  12%|█▏        | 845/7043 [30:49<3:30:50,  2.04s/it]"
     ]
    },
    {
     "name": "stdout",
     "output_type": "stream",
     "text": [
      "API key 1 rate limited. Waiting 0 seconds.\n",
      "API key 2 rate limited. Waiting 0 seconds.\n",
      "API key 1 rate limited. Waiting 0 seconds.\n",
      "API key 1 rate limited. Waiting 0 seconds.\n"
     ]
    },
    {
     "name": "stderr",
     "output_type": "stream",
     "text": [
      "Processing tweet batches:  12%|█▏        | 847/7043 [30:52<3:08:04,  1.82s/it]"
     ]
    },
    {
     "name": "stdout",
     "output_type": "stream",
     "text": [
      "API key 1 rate limited. Waiting 0 seconds.\n",
      "API key 1 rate limited. Waiting 0 seconds.\n",
      "API key 1 rate limited. Waiting 0 seconds.\n"
     ]
    },
    {
     "name": "stderr",
     "output_type": "stream",
     "text": [
      "Processing tweet batches:  12%|█▏        | 848/7043 [30:54<3:19:13,  1.93s/it]"
     ]
    },
    {
     "name": "stdout",
     "output_type": "stream",
     "text": [
      "API key 1 rate limited. Waiting 0 seconds.\n"
     ]
    },
    {
     "name": "stderr",
     "output_type": "stream",
     "text": [
      "Processing tweet batches:  12%|█▏        | 849/7043 [30:57<3:29:15,  2.03s/it]"
     ]
    },
    {
     "name": "stdout",
     "output_type": "stream",
     "text": [
      "API key 1 rate limited. Waiting 0 seconds.\n",
      "API key 1 rate limited. Waiting 0 seconds.\n",
      "API key 2 rate limited. Waiting 0 seconds.\n",
      "API key 2 rate limited. Waiting 0 seconds.\n",
      "API key 2 rate limited. Waiting 0 seconds.\n",
      "\n",
      "Saved 3400 processed tweets to ../data/labeled_stock_tweets_partial.csv\n"
     ]
    },
    {
     "name": "stderr",
     "output_type": "stream",
     "text": [
      "Processing tweet batches:  12%|█▏        | 850/7043 [30:58<3:23:05,  1.97s/it]"
     ]
    },
    {
     "name": "stdout",
     "output_type": "stream",
     "text": [
      "API key 1 rate limited. Waiting 0 seconds.\n",
      "API key 1 rate limited. Waiting 0 seconds.\n"
     ]
    },
    {
     "name": "stderr",
     "output_type": "stream",
     "text": [
      "Processing tweet batches:  12%|█▏        | 851/7043 [31:00<3:21:24,  1.95s/it]"
     ]
    },
    {
     "name": "stdout",
     "output_type": "stream",
     "text": [
      "API key 1 rate limited. Waiting 0 seconds.\n",
      "API key 1 rate limited. Waiting 0 seconds.\n",
      "API key 1 rate limited. Waiting 0 seconds.\n"
     ]
    },
    {
     "name": "stderr",
     "output_type": "stream",
     "text": [
      "Processing tweet batches:  12%|█▏        | 852/7043 [31:02<3:15:09,  1.89s/it]"
     ]
    },
    {
     "name": "stdout",
     "output_type": "stream",
     "text": [
      "API key 1 rate limited. Waiting 0 seconds.\n",
      "API key 2 rate limited. Waiting 0 seconds.\n",
      "API key 2 rate limited. Waiting 0 seconds.\n",
      "API key 2 rate limited. Waiting 0 seconds.\n"
     ]
    },
    {
     "name": "stderr",
     "output_type": "stream",
     "text": [
      "Processing tweet batches:  12%|█▏        | 853/7043 [31:05<3:53:45,  2.27s/it]"
     ]
    },
    {
     "name": "stdout",
     "output_type": "stream",
     "text": [
      "API key 2 rate limited. Waiting 0 seconds.\n",
      "API key 2 rate limited. Waiting 0 seconds.\n",
      "API key 2 rate limited. Waiting 0 seconds.\n",
      "API key 2 rate limited. Waiting 0 seconds.\n",
      "API key 1 rate limited. Waiting 0 seconds.\n"
     ]
    },
    {
     "name": "stderr",
     "output_type": "stream",
     "text": [
      "Processing tweet batches:  12%|█▏        | 855/7043 [31:10<4:00:54,  2.34s/it]"
     ]
    },
    {
     "name": "stdout",
     "output_type": "stream",
     "text": [
      "API key 2 rate limited. Waiting 0 seconds.\n",
      "API key 1 rate limited. Waiting 0 seconds.\n",
      "API key 2 rate limited. Waiting 0 seconds.\n",
      "API key 2 rate limited. Waiting 0 seconds.\n"
     ]
    },
    {
     "name": "stderr",
     "output_type": "stream",
     "text": [
      "Processing tweet batches:  12%|█▏        | 858/7043 [31:15<3:19:21,  1.93s/it]"
     ]
    },
    {
     "name": "stdout",
     "output_type": "stream",
     "text": [
      "API key 1 rate limited. Waiting 0 seconds.\n",
      "API key 1 rate limited. Waiting 0 seconds.\n",
      "API key 2 rate limited. Waiting 0 seconds.\n"
     ]
    },
    {
     "name": "stderr",
     "output_type": "stream",
     "text": [
      "Processing tweet batches:  12%|█▏        | 865/7043 [31:30<3:19:01,  1.93s/it]"
     ]
    },
    {
     "name": "stdout",
     "output_type": "stream",
     "text": [
      "API key 2 rate limited. Waiting 0 seconds.\n"
     ]
    },
    {
     "name": "stderr",
     "output_type": "stream",
     "text": [
      "Processing tweet batches:  12%|█▏        | 866/7043 [31:32<3:18:44,  1.93s/it]"
     ]
    },
    {
     "name": "stdout",
     "output_type": "stream",
     "text": [
      "API key 1 rate limited. Waiting 0 seconds.API key 2 rate limited. Waiting 0 seconds.\n",
      "\n",
      "API key 2 rate limited. Waiting 0 seconds.\n"
     ]
    },
    {
     "name": "stderr",
     "output_type": "stream",
     "text": [
      "Processing tweet batches:  12%|█▏        | 867/7043 [31:34<3:18:22,  1.93s/it]"
     ]
    },
    {
     "name": "stdout",
     "output_type": "stream",
     "text": [
      "API key 2 rate limited. Waiting 0 seconds.\n",
      "API key 1 rate limited. Waiting 0 seconds.\n",
      "API key 1 rate limited. Waiting 0 seconds.\n"
     ]
    },
    {
     "name": "stderr",
     "output_type": "stream",
     "text": [
      "Processing tweet batches:  12%|█▏        | 869/7043 [31:37<3:04:43,  1.80s/it]"
     ]
    },
    {
     "name": "stdout",
     "output_type": "stream",
     "text": [
      "API key 1 rate limited. Waiting 0 seconds.\n"
     ]
    },
    {
     "name": "stderr",
     "output_type": "stream",
     "text": [
      "Processing tweet batches:  12%|█▏        | 870/7043 [31:39<3:14:09,  1.89s/it]"
     ]
    },
    {
     "name": "stdout",
     "output_type": "stream",
     "text": [
      "API key 2 rate limited. Waiting 0 seconds.\n"
     ]
    },
    {
     "name": "stderr",
     "output_type": "stream",
     "text": [
      "Processing tweet batches:  12%|█▏        | 871/7043 [31:41<3:10:08,  1.85s/it]"
     ]
    },
    {
     "name": "stdout",
     "output_type": "stream",
     "text": [
      "API key 2 rate limited. Waiting 0 seconds.\n"
     ]
    },
    {
     "name": "stderr",
     "output_type": "stream",
     "text": [
      "Processing tweet batches:  12%|█▏        | 872/7043 [31:43<3:16:23,  1.91s/it]"
     ]
    },
    {
     "name": "stdout",
     "output_type": "stream",
     "text": [
      "API key 1 rate limited. Waiting 0 seconds.\n",
      "API key 1 rate limited. Waiting 0 seconds.\n"
     ]
    },
    {
     "name": "stderr",
     "output_type": "stream",
     "text": [
      "Processing tweet batches:  12%|█▏        | 874/7043 [31:47<3:12:23,  1.87s/it]"
     ]
    },
    {
     "name": "stdout",
     "output_type": "stream",
     "text": [
      "API key 2 rate limited. Waiting 0 seconds.\n",
      "API key 2 rate limited. Waiting 0 seconds.\n",
      "API key 2 rate limited. Waiting 0 seconds.\n",
      "\n",
      "Saved 3500 processed tweets to ../data/labeled_stock_tweets_partial.csv\n"
     ]
    },
    {
     "name": "stderr",
     "output_type": "stream",
     "text": [
      "Processing tweet batches:  12%|█▏        | 875/7043 [31:49<3:08:31,  1.83s/it]"
     ]
    },
    {
     "name": "stdout",
     "output_type": "stream",
     "text": [
      "API key 1 rate limited. Waiting 0 seconds.\n"
     ]
    },
    {
     "name": "stderr",
     "output_type": "stream",
     "text": [
      "Processing tweet batches:  12%|█▏        | 877/7043 [31:52<3:09:13,  1.84s/it]"
     ]
    },
    {
     "name": "stdout",
     "output_type": "stream",
     "text": [
      "API key 2 rate limited. Waiting 0 seconds.\n",
      "API key 2 rate limited. Waiting 0 seconds.\n"
     ]
    },
    {
     "name": "stderr",
     "output_type": "stream",
     "text": [
      "Processing tweet batches:  12%|█▏        | 879/7043 [31:57<3:38:08,  2.12s/it]"
     ]
    },
    {
     "name": "stdout",
     "output_type": "stream",
     "text": [
      "API key 2 rate limited. Waiting 0 seconds.\n"
     ]
    },
    {
     "name": "stderr",
     "output_type": "stream",
     "text": [
      "Processing tweet batches:  12%|█▏        | 880/7043 [32:00<3:51:26,  2.25s/it]"
     ]
    },
    {
     "name": "stdout",
     "output_type": "stream",
     "text": [
      "API key 2 rate limited. Waiting 0 seconds.\n",
      "API key 2 rate limited. Waiting 0 seconds.\n"
     ]
    },
    {
     "name": "stderr",
     "output_type": "stream",
     "text": [
      "Processing tweet batches:  13%|█▎        | 881/7043 [32:02<3:59:29,  2.33s/it]"
     ]
    },
    {
     "name": "stdout",
     "output_type": "stream",
     "text": [
      "API key 1 rate limited. Waiting 0 seconds.\n",
      "API key 1 rate limited. Waiting 0 seconds.\n",
      "API key 2 rate limited. Waiting 0 seconds.\n"
     ]
    },
    {
     "name": "stderr",
     "output_type": "stream",
     "text": [
      "Processing tweet batches:  13%|█▎        | 883/7043 [32:06<3:41:06,  2.15s/it]"
     ]
    },
    {
     "name": "stdout",
     "output_type": "stream",
     "text": [
      "API key 2 rate limited. Waiting 0 seconds.\n",
      "API key 1 rate limited. Waiting 0 seconds.\n",
      "API key 2 rate limited. Waiting 0 seconds.\n",
      "API key 1 rate limited. Waiting 0 seconds.\n",
      "API key 2 rate limited. Waiting 0 seconds.\n",
      "API key 1 rate limited. Waiting 0 seconds.\n"
     ]
    },
    {
     "name": "stderr",
     "output_type": "stream",
     "text": [
      "Processing tweet batches:  13%|█▎        | 885/7043 [32:11<3:38:37,  2.13s/it]"
     ]
    },
    {
     "name": "stdout",
     "output_type": "stream",
     "text": [
      "API key 2 rate limited. Waiting 0 seconds.\n"
     ]
    },
    {
     "name": "stderr",
     "output_type": "stream",
     "text": [
      "Processing tweet batches:  13%|█▎        | 886/7043 [32:13<3:36:16,  2.11s/it]"
     ]
    },
    {
     "name": "stdout",
     "output_type": "stream",
     "text": [
      "API key 2 rate limited. Waiting 0 seconds.\n",
      "API key 2 rate limited. Waiting 0 seconds.\n",
      "API key 2 rate limited. Waiting 0 seconds.\n"
     ]
    },
    {
     "name": "stderr",
     "output_type": "stream",
     "text": [
      "Processing tweet batches:  13%|█▎        | 887/7043 [32:15<3:35:17,  2.10s/it]"
     ]
    },
    {
     "name": "stdout",
     "output_type": "stream",
     "text": [
      "API key 2 rate limited. Waiting 0 seconds.\n"
     ]
    },
    {
     "name": "stderr",
     "output_type": "stream",
     "text": [
      "Processing tweet batches:  13%|█▎        | 891/7043 [32:23<3:16:15,  1.91s/it]"
     ]
    },
    {
     "name": "stdout",
     "output_type": "stream",
     "text": [
      "API key 1 rate limited. Waiting 0 seconds.\n",
      "API key 2 rate limited. Waiting 0 seconds.\n",
      "API key 2 rate limited. Waiting 0 seconds.\n",
      "API key 1 rate limited. Waiting 0 seconds.\n"
     ]
    },
    {
     "name": "stderr",
     "output_type": "stream",
     "text": [
      "Processing tweet batches:  13%|█▎        | 892/7043 [32:25<3:35:20,  2.10s/it]"
     ]
    },
    {
     "name": "stdout",
     "output_type": "stream",
     "text": [
      "API key 2 rate limited. Waiting 0 seconds.\n"
     ]
    },
    {
     "name": "stderr",
     "output_type": "stream",
     "text": [
      "Processing tweet batches:  13%|█▎        | 895/7043 [32:31<3:36:14,  2.11s/it]"
     ]
    },
    {
     "name": "stdout",
     "output_type": "stream",
     "text": [
      "API key 2 rate limited. Waiting 0 seconds.\n",
      "API key 2 rate limited. Waiting 0 seconds.\n"
     ]
    },
    {
     "name": "stderr",
     "output_type": "stream",
     "text": [
      "Processing tweet batches:  13%|█▎        | 896/7043 [32:34<3:37:40,  2.12s/it]"
     ]
    },
    {
     "name": "stdout",
     "output_type": "stream",
     "text": [
      "API key 2 rate limited. Waiting 0 seconds.\n",
      "API key 1 rate limited. Waiting 0 seconds.\n"
     ]
    },
    {
     "name": "stderr",
     "output_type": "stream",
     "text": [
      "Processing tweet batches:  13%|█▎        | 897/7043 [32:36<3:53:36,  2.28s/it]"
     ]
    },
    {
     "name": "stdout",
     "output_type": "stream",
     "text": [
      "API key 1 rate limited. Waiting 0 seconds.\n",
      "API key 2 rate limited. Waiting 0 seconds.\n",
      "API key 2 rate limited. Waiting 0 seconds.\n"
     ]
    },
    {
     "name": "stderr",
     "output_type": "stream",
     "text": [
      "Processing tweet batches:  13%|█▎        | 899/7043 [32:41<3:39:46,  2.15s/it]"
     ]
    },
    {
     "name": "stdout",
     "output_type": "stream",
     "text": [
      "API key 2 rate limited. Waiting 0 seconds.\n",
      "\n",
      "Saved 3600 processed tweets to ../data/labeled_stock_tweets_partial.csv\n"
     ]
    },
    {
     "name": "stderr",
     "output_type": "stream",
     "text": [
      "Processing tweet batches:  13%|█▎        | 900/7043 [32:43<3:35:18,  2.10s/it]"
     ]
    },
    {
     "name": "stdout",
     "output_type": "stream",
     "text": [
      "API key 2 rate limited. Waiting 0 seconds.\n",
      "API key 1 rate limited. Waiting 0 seconds.\n"
     ]
    },
    {
     "name": "stderr",
     "output_type": "stream",
     "text": [
      "Processing tweet batches:  13%|█▎        | 902/7043 [32:46<3:13:31,  1.89s/it]"
     ]
    },
    {
     "name": "stdout",
     "output_type": "stream",
     "text": [
      "API key 2 rate limited. Waiting 0 seconds.\n"
     ]
    },
    {
     "name": "stderr",
     "output_type": "stream",
     "text": [
      "Processing tweet batches:  13%|█▎        | 905/7043 [32:53<3:24:27,  2.00s/it]"
     ]
    },
    {
     "name": "stdout",
     "output_type": "stream",
     "text": [
      "API key 1 rate limited. Waiting 0 seconds.\n",
      "API key 2 rate limited. Waiting 0 seconds.\n"
     ]
    },
    {
     "name": "stderr",
     "output_type": "stream",
     "text": [
      "Processing tweet batches:  13%|█▎        | 906/7043 [32:55<3:19:28,  1.95s/it]"
     ]
    },
    {
     "name": "stdout",
     "output_type": "stream",
     "text": [
      "API key 1 rate limited. Waiting 0 seconds.API key 2 rate limited. Waiting 0 seconds.\n",
      "\n",
      "API key 1 rate limited. Waiting 0 seconds.\n",
      "API key 2 rate limited. Waiting 0 seconds.\n"
     ]
    },
    {
     "name": "stderr",
     "output_type": "stream",
     "text": [
      "Processing tweet batches:  13%|█▎        | 908/7043 [32:59<3:13:38,  1.89s/it]"
     ]
    },
    {
     "name": "stdout",
     "output_type": "stream",
     "text": [
      "API key 1 rate limited. Waiting 0 seconds.API key 2 rate limited. Waiting 0 seconds.\n",
      "\n"
     ]
    },
    {
     "name": "stderr",
     "output_type": "stream",
     "text": [
      "Processing tweet batches:  13%|█▎        | 909/7043 [33:00<3:09:08,  1.85s/it]"
     ]
    },
    {
     "name": "stdout",
     "output_type": "stream",
     "text": [
      "API key 2 rate limited. Waiting 0 seconds.\n",
      "API key 1 rate limited. Waiting 0 seconds.\n",
      "API key 1 rate limited. Waiting 0 seconds.\n",
      "API key 2 rate limited. Waiting 0 seconds.\n"
     ]
    },
    {
     "name": "stderr",
     "output_type": "stream",
     "text": [
      "Processing tweet batches:  13%|█▎        | 910/7043 [33:03<3:22:35,  1.98s/it]"
     ]
    },
    {
     "name": "stdout",
     "output_type": "stream",
     "text": [
      "API key 1 rate limited. Waiting 0 seconds.\n",
      "API key 2 rate limited. Waiting 0 seconds.\n"
     ]
    },
    {
     "name": "stderr",
     "output_type": "stream",
     "text": [
      "Processing tweet batches:  13%|█▎        | 912/7043 [33:08<3:45:57,  2.21s/it]"
     ]
    },
    {
     "name": "stdout",
     "output_type": "stream",
     "text": [
      "API key 1 rate limited. Waiting 0 seconds.\n",
      "API key 1 rate limited. Waiting 0 seconds.\n"
     ]
    },
    {
     "name": "stderr",
     "output_type": "stream",
     "text": [
      "Processing tweet batches:  13%|█▎        | 916/7043 [33:18<4:05:48,  2.41s/it]"
     ]
    },
    {
     "name": "stdout",
     "output_type": "stream",
     "text": [
      "API key 1 rate limited. Waiting 0 seconds.\n",
      "API key 1 rate limited. Waiting 0 seconds.\n"
     ]
    },
    {
     "name": "stderr",
     "output_type": "stream",
     "text": [
      "Processing tweet batches:  13%|█▎        | 918/7043 [33:21<3:21:32,  1.97s/it]"
     ]
    },
    {
     "name": "stdout",
     "output_type": "stream",
     "text": [
      "API key 2 rate limited. Waiting 0 seconds.\n",
      "API key 2 rate limited. Waiting 0 seconds.\n",
      "API key 2 rate limited. Waiting 0 seconds.\n"
     ]
    },
    {
     "name": "stderr",
     "output_type": "stream",
     "text": [
      "Processing tweet batches:  13%|█▎        | 919/7043 [33:23<3:23:21,  1.99s/it]"
     ]
    },
    {
     "name": "stdout",
     "output_type": "stream",
     "text": [
      "API key 2 rate limited. Waiting 0 seconds.\n",
      "API key 2 rate limited. Waiting 0 seconds.\n",
      "API key 2 rate limited. Waiting 0 seconds.\n",
      "API key 2 rate limited. Waiting 0 seconds.\n",
      "API key 2 rate limited. Waiting 0 seconds.\n",
      "API key 1 rate limited. Waiting 0 seconds.\n"
     ]
    },
    {
     "name": "stderr",
     "output_type": "stream",
     "text": [
      "Processing tweet batches:  13%|█▎        | 920/7043 [33:26<3:42:48,  2.18s/it]"
     ]
    },
    {
     "name": "stdout",
     "output_type": "stream",
     "text": [
      "API key 1 rate limited. Waiting 0 seconds.\n",
      "API key 2 rate limited. Waiting 0 seconds.\n"
     ]
    },
    {
     "name": "stderr",
     "output_type": "stream",
     "text": [
      "Processing tweet batches:  13%|█▎        | 921/7043 [33:27<3:28:37,  2.04s/it]"
     ]
    },
    {
     "name": "stdout",
     "output_type": "stream",
     "text": [
      "API key 1 rate limited. Waiting 0 seconds.\n"
     ]
    },
    {
     "name": "stderr",
     "output_type": "stream",
     "text": [
      "Processing tweet batches:  13%|█▎        | 923/7043 [33:31<3:05:34,  1.82s/it]"
     ]
    },
    {
     "name": "stdout",
     "output_type": "stream",
     "text": [
      "API key 2 rate limited. Waiting 0 seconds.API key 1 rate limited. Waiting 0 seconds.\n",
      "\n"
     ]
    },
    {
     "name": "stderr",
     "output_type": "stream",
     "text": [
      "Processing tweet batches:  13%|█▎        | 924/7043 [33:32<3:03:12,  1.80s/it]"
     ]
    },
    {
     "name": "stdout",
     "output_type": "stream",
     "text": [
      "API key 1 rate limited. Waiting 0 seconds.\n",
      "API key 1 rate limited. Waiting 0 seconds.\n",
      "\n",
      "Saved 3700 processed tweets to ../data/labeled_stock_tweets_partial.csv\n"
     ]
    },
    {
     "name": "stderr",
     "output_type": "stream",
     "text": [
      "Processing tweet batches:  13%|█▎        | 925/7043 [33:35<3:36:52,  2.13s/it]"
     ]
    },
    {
     "name": "stdout",
     "output_type": "stream",
     "text": [
      "API key 2 rate limited. Waiting 0 seconds.\n",
      "API key 2 rate limited. Waiting 0 seconds.\n",
      "API key 2 rate limited. Waiting 0 seconds.\n"
     ]
    },
    {
     "name": "stderr",
     "output_type": "stream",
     "text": [
      "Processing tweet batches:  13%|█▎        | 927/7043 [33:39<3:33:45,  2.10s/it]"
     ]
    },
    {
     "name": "stdout",
     "output_type": "stream",
     "text": [
      "API key 1 rate limited. Waiting 0 seconds.\n"
     ]
    },
    {
     "name": "stderr",
     "output_type": "stream",
     "text": [
      "Processing tweet batches:  13%|█▎        | 928/7043 [33:42<3:46:07,  2.22s/it]"
     ]
    },
    {
     "name": "stdout",
     "output_type": "stream",
     "text": [
      "API key 1 rate limited. Waiting 0 seconds.\n"
     ]
    },
    {
     "name": "stderr",
     "output_type": "stream",
     "text": [
      "Processing tweet batches:  13%|█▎        | 931/7043 [33:50<3:59:11,  2.35s/it]"
     ]
    },
    {
     "name": "stdout",
     "output_type": "stream",
     "text": [
      "API key 1 rate limited. Waiting 0 seconds.\n",
      "API key 1 rate limited. Waiting 0 seconds.\n"
     ]
    },
    {
     "name": "stderr",
     "output_type": "stream",
     "text": [
      "Processing tweet batches:  13%|█▎        | 933/7043 [33:54<3:37:05,  2.13s/it]"
     ]
    },
    {
     "name": "stdout",
     "output_type": "stream",
     "text": [
      "API key 1 rate limited. Waiting 0 seconds.\n",
      "API key 1 rate limited. Waiting 0 seconds.\n"
     ]
    },
    {
     "name": "stderr",
     "output_type": "stream",
     "text": [
      "Processing tweet batches:  13%|█▎        | 935/7043 [33:58<3:27:56,  2.04s/it]"
     ]
    },
    {
     "name": "stdout",
     "output_type": "stream",
     "text": [
      "API key 2 rate limited. Waiting 0 seconds.\n"
     ]
    },
    {
     "name": "stderr",
     "output_type": "stream",
     "text": [
      "Processing tweet batches:  13%|█▎        | 937/7043 [34:02<3:32:08,  2.08s/it]"
     ]
    },
    {
     "name": "stdout",
     "output_type": "stream",
     "text": [
      "API key 1 rate limited. Waiting 0 seconds.\n",
      "API key 1 rate limited. Waiting 0 seconds.\n"
     ]
    },
    {
     "name": "stderr",
     "output_type": "stream",
     "text": [
      "Processing tweet batches:  13%|█▎        | 938/7043 [34:04<3:20:12,  1.97s/it]"
     ]
    },
    {
     "name": "stdout",
     "output_type": "stream",
     "text": [
      "API key 1 rate limited. Waiting 0 seconds.\n",
      "API key 1 rate limited. Waiting 0 seconds.\n",
      "API key 1 rate limited. Waiting 0 seconds.\n"
     ]
    },
    {
     "name": "stderr",
     "output_type": "stream",
     "text": [
      "Processing tweet batches:  13%|█▎        | 939/7043 [34:06<3:20:57,  1.98s/it]"
     ]
    },
    {
     "name": "stdout",
     "output_type": "stream",
     "text": [
      "API key 2 rate limited. Waiting 0 seconds.\n",
      "API key 2 rate limited. Waiting 0 seconds.\n",
      "API key 2 rate limited. Waiting 0 seconds.\n",
      "API key 2 rate limited. Waiting 0 seconds.\n",
      "API key 2 rate limited. Waiting 0 seconds.\n"
     ]
    },
    {
     "name": "stderr",
     "output_type": "stream",
     "text": [
      "Processing tweet batches:  13%|█▎        | 943/7043 [34:15<3:20:12,  1.97s/it]"
     ]
    },
    {
     "name": "stdout",
     "output_type": "stream",
     "text": [
      "API key 2 rate limited. Waiting 0 seconds.\n"
     ]
    },
    {
     "name": "stderr",
     "output_type": "stream",
     "text": [
      "Processing tweet batches:  13%|█▎        | 944/7043 [34:17<3:14:35,  1.91s/it]"
     ]
    },
    {
     "name": "stdout",
     "output_type": "stream",
     "text": [
      "API key 2 rate limited. Waiting 0 seconds.API key 1 rate limited. Waiting 0 seconds.\n",
      "\n",
      "API key 2 rate limited. Waiting 0 seconds.\n",
      "API key 2 rate limited. Waiting 0 seconds.\n"
     ]
    },
    {
     "name": "stderr",
     "output_type": "stream",
     "text": [
      "Processing tweet batches:  13%|█▎        | 945/7043 [34:19<3:43:25,  2.20s/it]"
     ]
    },
    {
     "name": "stdout",
     "output_type": "stream",
     "text": [
      "API key 2 rate limited. Waiting 0 seconds.\n",
      "API key 1 rate limited. Waiting 0 seconds.\n"
     ]
    },
    {
     "name": "stderr",
     "output_type": "stream",
     "text": [
      "Processing tweet batches:  13%|█▎        | 947/7043 [34:23<3:26:00,  2.03s/it]"
     ]
    },
    {
     "name": "stdout",
     "output_type": "stream",
     "text": [
      "API key 1 rate limited. Waiting 0 seconds.API key 2 rate limited. Waiting 0 seconds.\n",
      "\n",
      "API key 2 rate limited. Waiting 0 seconds.\n",
      "API key 1 rate limited. Waiting 0 seconds.\n"
     ]
    },
    {
     "name": "stderr",
     "output_type": "stream",
     "text": [
      "Processing tweet batches:  13%|█▎        | 948/7043 [34:25<3:25:40,  2.02s/it]"
     ]
    },
    {
     "name": "stdout",
     "output_type": "stream",
     "text": [
      "API key 2 rate limited. Waiting 0 seconds.\n",
      "API key 2 rate limited. Waiting 0 seconds.\n",
      "API key 2 rate limited. Waiting 0 seconds.\n"
     ]
    },
    {
     "name": "stderr",
     "output_type": "stream",
     "text": [
      "Processing tweet batches:  13%|█▎        | 949/7043 [34:27<3:21:05,  1.98s/it]"
     ]
    },
    {
     "name": "stdout",
     "output_type": "stream",
     "text": [
      "API key 2 rate limited. Waiting 0 seconds.\n",
      "\n",
      "Saved 3800 processed tweets to ../data/labeled_stock_tweets_partial.csv\n"
     ]
    },
    {
     "name": "stderr",
     "output_type": "stream",
     "text": [
      "Processing tweet batches:  13%|█▎        | 950/7043 [34:29<3:10:10,  1.87s/it]"
     ]
    },
    {
     "name": "stdout",
     "output_type": "stream",
     "text": [
      "API key 2 rate limited. Waiting 0 seconds.\n",
      "API key 2 rate limited. Waiting 0 seconds.\n",
      "API key 2 rate limited. Waiting 0 seconds.\n",
      "API key 2 rate limited. Waiting 0 seconds.\n"
     ]
    },
    {
     "name": "stderr",
     "output_type": "stream",
     "text": [
      "Processing tweet batches:  14%|█▎        | 952/7043 [34:40<5:54:29,  3.49s/it]"
     ]
    },
    {
     "name": "stdout",
     "output_type": "stream",
     "text": [
      "API key 1 rate limited. Waiting 0 seconds.API key 2 rate limited. Waiting 0 seconds.\n",
      "\n"
     ]
    },
    {
     "name": "stderr",
     "output_type": "stream",
     "text": [
      "Processing tweet batches:  14%|█▎        | 954/7043 [34:44<4:37:43,  2.74s/it]"
     ]
    },
    {
     "name": "stdout",
     "output_type": "stream",
     "text": [
      "API key 2 rate limited. Waiting 0 seconds.\n"
     ]
    },
    {
     "name": "stderr",
     "output_type": "stream",
     "text": [
      "Processing tweet batches:  14%|█▎        | 955/7043 [34:46<4:06:28,  2.43s/it]"
     ]
    },
    {
     "name": "stdout",
     "output_type": "stream",
     "text": [
      "API key 1 rate limited. Waiting 0 seconds.\n"
     ]
    },
    {
     "name": "stderr",
     "output_type": "stream",
     "text": [
      "Processing tweet batches:  14%|█▎        | 958/7043 [34:52<3:27:35,  2.05s/it]"
     ]
    },
    {
     "name": "stdout",
     "output_type": "stream",
     "text": [
      "API key 2 rate limited. Waiting 0 seconds.\n",
      "API key 1 rate limited. Waiting 0 seconds.\n"
     ]
    },
    {
     "name": "stderr",
     "output_type": "stream",
     "text": [
      "Processing tweet batches:  14%|█▎        | 960/7043 [34:56<3:21:55,  1.99s/it]"
     ]
    },
    {
     "name": "stdout",
     "output_type": "stream",
     "text": [
      "API key 2 rate limited. Waiting 0 seconds.\n"
     ]
    },
    {
     "name": "stderr",
     "output_type": "stream",
     "text": [
      "Processing tweet batches:  14%|█▎        | 961/7043 [34:58<3:19:16,  1.97s/it]"
     ]
    },
    {
     "name": "stdout",
     "output_type": "stream",
     "text": [
      "API key 2 rate limited. Waiting 0 seconds.\n"
     ]
    },
    {
     "name": "stderr",
     "output_type": "stream",
     "text": [
      "Processing tweet batches:  14%|█▎        | 963/7043 [35:01<3:11:55,  1.89s/it]"
     ]
    },
    {
     "name": "stdout",
     "output_type": "stream",
     "text": [
      "API key 2 rate limited. Waiting 0 seconds.\n",
      "API key 2 rate limited. Waiting 0 seconds.\n",
      "API key 2 rate limited. Waiting 0 seconds.\n"
     ]
    },
    {
     "name": "stderr",
     "output_type": "stream",
     "text": [
      "Processing tweet batches:  14%|█▎        | 964/7043 [35:04<3:21:59,  1.99s/it]"
     ]
    },
    {
     "name": "stdout",
     "output_type": "stream",
     "text": [
      "API key 2 rate limited. Waiting 0 seconds.\n",
      "API key 2 rate limited. Waiting 0 seconds.\n"
     ]
    },
    {
     "name": "stderr",
     "output_type": "stream",
     "text": [
      "Processing tweet batches:  14%|█▎        | 965/7043 [35:06<3:24:30,  2.02s/it]"
     ]
    },
    {
     "name": "stdout",
     "output_type": "stream",
     "text": [
      "API key 1 rate limited. Waiting 0 seconds.\n"
     ]
    },
    {
     "name": "stderr",
     "output_type": "stream",
     "text": [
      "Processing tweet batches:  14%|█▎        | 966/7043 [35:07<3:18:31,  1.96s/it]"
     ]
    },
    {
     "name": "stdout",
     "output_type": "stream",
     "text": [
      "API key 2 rate limited. Waiting 0 seconds.\n",
      "API key 2 rate limited. Waiting 0 seconds.\n",
      "API key 2 rate limited. Waiting 0 seconds.\n",
      "API key 1 rate limited. Waiting 0 seconds.\n"
     ]
    },
    {
     "name": "stderr",
     "output_type": "stream",
     "text": [
      "Processing tweet batches:  14%|█▎        | 967/7043 [35:10<3:33:06,  2.10s/it]"
     ]
    },
    {
     "name": "stdout",
     "output_type": "stream",
     "text": [
      "API key 1 rate limited. Waiting 0 seconds.API key 2 rate limited. Waiting 0 seconds.\n",
      "\n",
      "API key 2 rate limited. Waiting 0 seconds.\n",
      "API key 1 rate limited. Waiting 0 seconds.\n"
     ]
    },
    {
     "name": "stderr",
     "output_type": "stream",
     "text": [
      "Processing tweet batches:  14%|█▎        | 968/7043 [35:12<3:29:30,  2.07s/it]"
     ]
    },
    {
     "name": "stdout",
     "output_type": "stream",
     "text": [
      "API key 2 rate limited. Waiting 0 seconds.\n",
      "API key 2 rate limited. Waiting 0 seconds.\n"
     ]
    },
    {
     "name": "stderr",
     "output_type": "stream",
     "text": [
      "Processing tweet batches:  14%|█▍        | 970/7043 [35:17<3:49:57,  2.27s/it]"
     ]
    },
    {
     "name": "stdout",
     "output_type": "stream",
     "text": [
      "API key 1 rate limited. Waiting 0 seconds.\n"
     ]
    },
    {
     "name": "stderr",
     "output_type": "stream",
     "text": [
      "Processing tweet batches:  14%|█▍        | 971/7043 [35:19<3:36:32,  2.14s/it]"
     ]
    },
    {
     "name": "stdout",
     "output_type": "stream",
     "text": [
      "API key 2 rate limited. Waiting 0 seconds.\n",
      "API key 2 rate limited. Waiting 0 seconds.\n",
      "API key 1 rate limited. Waiting 0 seconds.\n"
     ]
    },
    {
     "name": "stderr",
     "output_type": "stream",
     "text": [
      "Processing tweet batches:  14%|█▍        | 972/7043 [35:22<4:08:59,  2.46s/it]"
     ]
    },
    {
     "name": "stdout",
     "output_type": "stream",
     "text": [
      "API key 1 rate limited. Waiting 0 seconds.\n",
      "API key 1 rate limited. Waiting 0 seconds.\n"
     ]
    },
    {
     "name": "stderr",
     "output_type": "stream",
     "text": [
      "Processing tweet batches:  14%|█▍        | 974/7043 [35:25<3:31:31,  2.09s/it]"
     ]
    },
    {
     "name": "stdout",
     "output_type": "stream",
     "text": [
      "API key 2 rate limited. Waiting 0 seconds.\n",
      "API key 2 rate limited. Waiting 0 seconds.\n",
      "\n",
      "Saved 3900 processed tweets to ../data/labeled_stock_tweets_partial.csv\n"
     ]
    },
    {
     "name": "stderr",
     "output_type": "stream",
     "text": [
      "Processing tweet batches:  14%|█▍        | 976/7043 [35:29<3:23:03,  2.01s/it]"
     ]
    },
    {
     "name": "stdout",
     "output_type": "stream",
     "text": [
      "API key 2 rate limited. Waiting 0 seconds.\n",
      "API key 2 rate limited. Waiting 0 seconds.\n",
      "API key 2 rate limited. Waiting 0 seconds.\n"
     ]
    },
    {
     "name": "stderr",
     "output_type": "stream",
     "text": [
      "Processing tweet batches:  14%|█▍        | 978/7043 [35:35<3:58:41,  2.36s/it]"
     ]
    },
    {
     "name": "stdout",
     "output_type": "stream",
     "text": [
      "API key 1 rate limited. Waiting 0 seconds.\n"
     ]
    },
    {
     "name": "stderr",
     "output_type": "stream",
     "text": [
      "Processing tweet batches:  14%|█▍        | 983/7043 [35:43<2:57:50,  1.76s/it]"
     ]
    },
    {
     "name": "stdout",
     "output_type": "stream",
     "text": [
      "API key 1 rate limited. Waiting 0 seconds.\n"
     ]
    },
    {
     "name": "stderr",
     "output_type": "stream",
     "text": [
      "Processing tweet batches:  14%|█▍        | 985/7043 [35:48<3:19:06,  1.97s/it]"
     ]
    },
    {
     "name": "stdout",
     "output_type": "stream",
     "text": [
      "API key 2 rate limited. Waiting 0 seconds.\n",
      "API key 2 rate limited. Waiting 0 seconds.\n",
      "API key 2 rate limited. Waiting 0 seconds.\n"
     ]
    },
    {
     "name": "stderr",
     "output_type": "stream",
     "text": [
      "Processing tweet batches:  14%|█▍        | 986/7043 [35:49<3:16:52,  1.95s/it]"
     ]
    },
    {
     "name": "stdout",
     "output_type": "stream",
     "text": [
      "API key 2 rate limited. Waiting 0 seconds.\n",
      "API key 1 rate limited. Waiting 0 seconds.\n",
      "API key 1 rate limited. Waiting 0 seconds.\n"
     ]
    },
    {
     "name": "stderr",
     "output_type": "stream",
     "text": [
      "Processing tweet batches:  14%|█▍        | 990/7043 [35:58<3:20:36,  1.99s/it]"
     ]
    },
    {
     "name": "stdout",
     "output_type": "stream",
     "text": [
      "API key 1 rate limited. Waiting 0 seconds.API key 2 rate limited. Waiting 0 seconds.\n",
      "\n"
     ]
    },
    {
     "name": "stderr",
     "output_type": "stream",
     "text": [
      "Processing tweet batches:  14%|█▍        | 992/7043 [36:02<3:09:14,  1.88s/it]"
     ]
    },
    {
     "name": "stdout",
     "output_type": "stream",
     "text": [
      "API key 2 rate limited. Waiting 0 seconds.\n",
      "API key 2 rate limited. Waiting 0 seconds.\n"
     ]
    },
    {
     "name": "stderr",
     "output_type": "stream",
     "text": [
      "Processing tweet batches:  14%|█▍        | 993/7043 [36:04<3:07:37,  1.86s/it]"
     ]
    },
    {
     "name": "stdout",
     "output_type": "stream",
     "text": [
      "API key 1 rate limited. Waiting 0 seconds.\n",
      "API key 1 rate limited. Waiting 0 seconds.\n"
     ]
    },
    {
     "name": "stderr",
     "output_type": "stream",
     "text": [
      "Processing tweet batches:  14%|█▍        | 994/7043 [36:06<3:35:18,  2.14s/it]"
     ]
    },
    {
     "name": "stdout",
     "output_type": "stream",
     "text": [
      "API key 2 rate limited. Waiting 0 seconds.\n",
      "API key 2 rate limited. Waiting 0 seconds.\n",
      "API key 2 rate limited. Waiting 0 seconds.\n"
     ]
    },
    {
     "name": "stderr",
     "output_type": "stream",
     "text": [
      "Processing tweet batches:  14%|█▍        | 996/7043 [36:10<3:14:56,  1.93s/it]"
     ]
    },
    {
     "name": "stdout",
     "output_type": "stream",
     "text": [
      "API key 1 rate limited. Waiting 0 seconds.API key 2 rate limited. Waiting 0 seconds.\n",
      "\n"
     ]
    },
    {
     "name": "stderr",
     "output_type": "stream",
     "text": [
      "Processing tweet batches:  14%|█▍        | 999/7043 [36:17<3:58:47,  2.37s/it]"
     ]
    },
    {
     "name": "stdout",
     "output_type": "stream",
     "text": [
      "\n",
      "Saved 4000 processed tweets to ../data/labeled_stock_tweets_partial.csv\n"
     ]
    },
    {
     "name": "stderr",
     "output_type": "stream",
     "text": [
      "Processing tweet batches:  14%|█▍        | 1000/7043 [36:19<3:48:37,  2.27s/it]"
     ]
    },
    {
     "name": "stdout",
     "output_type": "stream",
     "text": [
      "API key 1 rate limited. Waiting 0 seconds.\n",
      "API key 2 rate limited. Waiting 0 seconds.\n",
      "API key 2 rate limited. Waiting 0 seconds.\n",
      "API key 2 rate limited. Waiting 0 seconds.\n"
     ]
    },
    {
     "name": "stderr",
     "output_type": "stream",
     "text": [
      "Processing tweet batches:  14%|█▍        | 1003/7043 [36:25<3:19:15,  1.98s/it]"
     ]
    },
    {
     "name": "stdout",
     "output_type": "stream",
     "text": [
      "API key 1 rate limited. Waiting 0 seconds.\n"
     ]
    },
    {
     "name": "stderr",
     "output_type": "stream",
     "text": [
      "Processing tweet batches:  14%|█▍        | 1004/7043 [36:27<3:14:13,  1.93s/it]"
     ]
    },
    {
     "name": "stdout",
     "output_type": "stream",
     "text": [
      "API key 2 rate limited. Waiting 0 seconds.\n",
      "API key 1 rate limited. Waiting 0 seconds.\n"
     ]
    },
    {
     "name": "stderr",
     "output_type": "stream",
     "text": [
      "Processing tweet batches:  14%|█▍        | 1006/7043 [36:30<3:08:37,  1.87s/it]"
     ]
    },
    {
     "name": "stdout",
     "output_type": "stream",
     "text": [
      "API key 1 rate limited. Waiting 0 seconds.\n",
      "API key 2 rate limited. Waiting 0 seconds.\n",
      "API key 2 rate limited. Waiting 0 seconds.\n"
     ]
    },
    {
     "name": "stderr",
     "output_type": "stream",
     "text": [
      "Processing tweet batches:  14%|█▍        | 1007/7043 [36:33<3:19:59,  1.99s/it]"
     ]
    },
    {
     "name": "stdout",
     "output_type": "stream",
     "text": [
      "API key 2 rate limited. Waiting 0 seconds.\n"
     ]
    },
    {
     "name": "stderr",
     "output_type": "stream",
     "text": [
      "Processing tweet batches:  14%|█▍        | 1008/7043 [36:34<3:11:47,  1.91s/it]"
     ]
    },
    {
     "name": "stdout",
     "output_type": "stream",
     "text": [
      "API key 2 rate limited. Waiting 0 seconds.\n",
      "API key 2 rate limited. Waiting 0 seconds.\n"
     ]
    },
    {
     "name": "stderr",
     "output_type": "stream",
     "text": [
      "Processing tweet batches:  14%|█▍        | 1010/7043 [36:39<3:37:04,  2.16s/it]"
     ]
    },
    {
     "name": "stdout",
     "output_type": "stream",
     "text": [
      "API key 2 rate limited. Waiting 0 seconds.\n",
      "API key 2 rate limited. Waiting 0 seconds.\n"
     ]
    },
    {
     "name": "stderr",
     "output_type": "stream",
     "text": [
      "Processing tweet batches:  14%|█▍        | 1013/7043 [36:44<3:02:13,  1.81s/it]"
     ]
    },
    {
     "name": "stdout",
     "output_type": "stream",
     "text": [
      "API key 2 rate limited. Waiting 0 seconds.\n",
      "API key 2 rate limited. Waiting 0 seconds.\n",
      "API key 2 rate limited. Waiting 0 seconds.\n"
     ]
    },
    {
     "name": "stderr",
     "output_type": "stream",
     "text": [
      "Processing tweet batches:  14%|█▍        | 1015/7043 [36:48<2:53:00,  1.72s/it]"
     ]
    },
    {
     "name": "stdout",
     "output_type": "stream",
     "text": [
      "API key 1 rate limited. Waiting 0 seconds.\n"
     ]
    },
    {
     "name": "stderr",
     "output_type": "stream",
     "text": [
      "Processing tweet batches:  14%|█▍        | 1017/7043 [36:52<3:14:48,  1.94s/it]"
     ]
    },
    {
     "name": "stdout",
     "output_type": "stream",
     "text": [
      "API key 1 rate limited. Waiting 0 seconds.\n"
     ]
    },
    {
     "name": "stderr",
     "output_type": "stream",
     "text": [
      "Processing tweet batches:  14%|█▍        | 1019/7043 [36:56<3:04:47,  1.84s/it]"
     ]
    },
    {
     "name": "stdout",
     "output_type": "stream",
     "text": [
      "API key 2 rate limited. Waiting 0 seconds.\n"
     ]
    },
    {
     "name": "stderr",
     "output_type": "stream",
     "text": [
      "Processing tweet batches:  15%|█▍        | 1023/7043 [37:10<4:01:34,  2.41s/it]"
     ]
    },
    {
     "name": "stdout",
     "output_type": "stream",
     "text": [
      "API key 1 rate limited. Waiting 0 seconds.\n"
     ]
    },
    {
     "name": "stderr",
     "output_type": "stream",
     "text": [
      "Processing tweet batches:  15%|█▍        | 1024/7043 [37:11<3:35:12,  2.15s/it]"
     ]
    },
    {
     "name": "stdout",
     "output_type": "stream",
     "text": [
      "API key 1 rate limited. Waiting 0 seconds.\n",
      "\n",
      "Saved 4100 processed tweets to ../data/labeled_stock_tweets_partial.csv\n"
     ]
    },
    {
     "name": "stderr",
     "output_type": "stream",
     "text": [
      "Processing tweet batches:  15%|█▍        | 1030/7043 [37:23<3:14:50,  1.94s/it]"
     ]
    },
    {
     "name": "stdout",
     "output_type": "stream",
     "text": [
      "API key 2 rate limited. Waiting 0 seconds.\n",
      "API key 2 rate limited. Waiting 0 seconds.\n",
      "API key 2 rate limited. Waiting 0 seconds.\n"
     ]
    },
    {
     "name": "stderr",
     "output_type": "stream",
     "text": [
      "Processing tweet batches:  15%|█▍        | 1031/7043 [37:25<3:07:29,  1.87s/it]"
     ]
    },
    {
     "name": "stdout",
     "output_type": "stream",
     "text": [
      "API key 1 rate limited. Waiting 0 seconds.API key 2 rate limited. Waiting 0 seconds.\n",
      "\n"
     ]
    },
    {
     "name": "stderr",
     "output_type": "stream",
     "text": [
      "Processing tweet batches:  15%|█▍        | 1032/7043 [37:27<3:14:17,  1.94s/it]"
     ]
    },
    {
     "name": "stdout",
     "output_type": "stream",
     "text": [
      "API key 1 rate limited. Waiting 0 seconds.\n"
     ]
    },
    {
     "name": "stderr",
     "output_type": "stream",
     "text": [
      "Processing tweet batches:  15%|█▍        | 1033/7043 [37:29<3:24:44,  2.04s/it]"
     ]
    },
    {
     "name": "stdout",
     "output_type": "stream",
     "text": [
      "API key 2 rate limited. Waiting 0 seconds.\n",
      "API key 1 rate limited. Waiting 0 seconds.\n",
      "API key 2 rate limited. Waiting 0 seconds.\n",
      "API key 1 rate limited. Waiting 0 seconds.\n",
      "API key 2 rate limited. Waiting 0 seconds.\n"
     ]
    },
    {
     "name": "stderr",
     "output_type": "stream",
     "text": [
      "Processing tweet batches:  15%|█▍        | 1034/7043 [37:31<3:28:45,  2.08s/it]"
     ]
    },
    {
     "name": "stdout",
     "output_type": "stream",
     "text": [
      "API key 2 rate limited. Waiting 0 seconds.\n",
      "API key 1 rate limited. Waiting 0 seconds.\n"
     ]
    },
    {
     "name": "stderr",
     "output_type": "stream",
     "text": [
      "Processing tweet batches:  15%|█▍        | 1035/7043 [37:33<3:14:30,  1.94s/it]"
     ]
    },
    {
     "name": "stdout",
     "output_type": "stream",
     "text": [
      "API key 2 rate limited. Waiting 0 seconds.\n",
      "API key 1 rate limited. Waiting 0 seconds.\n",
      "API key 1 rate limited. Waiting 0 seconds.\n",
      "API key 2 rate limited. Waiting 0 seconds.\n",
      "API key 2 rate limited. Waiting 0 seconds.\n"
     ]
    },
    {
     "name": "stderr",
     "output_type": "stream",
     "text": [
      "Processing tweet batches:  15%|█▍        | 1037/7043 [37:37<3:26:38,  2.06s/it]"
     ]
    },
    {
     "name": "stdout",
     "output_type": "stream",
     "text": [
      "API key 1 rate limited. Waiting 0 seconds.\n",
      "API key 2 rate limited. Waiting 0 seconds.\n",
      "API key 2 rate limited. Waiting 0 seconds.\n",
      "API key 1 rate limited. Waiting 0 seconds.\n"
     ]
    },
    {
     "name": "stderr",
     "output_type": "stream",
     "text": [
      "Processing tweet batches:  15%|█▍        | 1038/7043 [37:40<3:27:14,  2.07s/it]"
     ]
    },
    {
     "name": "stdout",
     "output_type": "stream",
     "text": [
      "API key 1 rate limited. Waiting 0 seconds.\n",
      "API key 2 rate limited. Waiting 0 seconds.\n"
     ]
    },
    {
     "name": "stderr",
     "output_type": "stream",
     "text": [
      "Processing tweet batches:  15%|█▍        | 1041/7043 [37:46<3:17:41,  1.98s/it]"
     ]
    },
    {
     "name": "stdout",
     "output_type": "stream",
     "text": [
      "API key 1 rate limited. Waiting 0 seconds.\n",
      "API key 1 rate limited. Waiting 0 seconds.\n",
      "API key 2 rate limited. Waiting 0 seconds.\n",
      "API key 1 rate limited. Waiting 0 seconds.\n"
     ]
    },
    {
     "name": "stderr",
     "output_type": "stream",
     "text": [
      "Processing tweet batches:  15%|█▍        | 1043/7043 [37:49<3:13:56,  1.94s/it]"
     ]
    },
    {
     "name": "stdout",
     "output_type": "stream",
     "text": [
      "API key 2 rate limited. Waiting 0 seconds.\n",
      "API key 1 rate limited. Waiting 0 seconds.\n"
     ]
    },
    {
     "name": "stderr",
     "output_type": "stream",
     "text": [
      "Processing tweet batches:  15%|█▍        | 1044/7043 [37:51<3:11:11,  1.91s/it]"
     ]
    },
    {
     "name": "stdout",
     "output_type": "stream",
     "text": [
      "API key 1 rate limited. Waiting 0 seconds.\n",
      "API key 1 rate limited. Waiting 0 seconds.\n"
     ]
    },
    {
     "name": "stderr",
     "output_type": "stream",
     "text": [
      "Processing tweet batches:  15%|█▍        | 1045/7043 [37:54<3:22:39,  2.03s/it]"
     ]
    },
    {
     "name": "stdout",
     "output_type": "stream",
     "text": [
      "API key 1 rate limited. Waiting 0 seconds.\n"
     ]
    },
    {
     "name": "stderr",
     "output_type": "stream",
     "text": [
      "Processing tweet batches:  15%|█▍        | 1046/7043 [37:56<3:23:51,  2.04s/it]"
     ]
    },
    {
     "name": "stdout",
     "output_type": "stream",
     "text": [
      "API key 1 rate limited. Waiting 0 seconds.API key 2 rate limited. Waiting 0 seconds.\n",
      "\n"
     ]
    },
    {
     "name": "stderr",
     "output_type": "stream",
     "text": [
      "Processing tweet batches:  15%|█▍        | 1047/7043 [37:58<3:44:55,  2.25s/it]"
     ]
    },
    {
     "name": "stdout",
     "output_type": "stream",
     "text": [
      "API key 1 rate limited. Waiting 0 seconds.\n"
     ]
    },
    {
     "name": "stderr",
     "output_type": "stream",
     "text": [
      "Processing tweet batches:  15%|█▍        | 1048/7043 [38:00<3:28:40,  2.09s/it]"
     ]
    },
    {
     "name": "stdout",
     "output_type": "stream",
     "text": [
      "API key 1 rate limited. Waiting 0 seconds.\n"
     ]
    },
    {
     "name": "stderr",
     "output_type": "stream",
     "text": [
      "Processing tweet batches:  15%|█▍        | 1049/7043 [38:02<3:24:28,  2.05s/it]"
     ]
    },
    {
     "name": "stdout",
     "output_type": "stream",
     "text": [
      "API key 1 rate limited. Waiting 0 seconds.\n",
      "API key 1 rate limited. Waiting 0 seconds.\n",
      "\n",
      "Saved 4200 processed tweets to ../data/labeled_stock_tweets_partial.csv\n"
     ]
    },
    {
     "name": "stderr",
     "output_type": "stream",
     "text": [
      "Processing tweet batches:  15%|█▍        | 1052/7043 [38:07<2:51:04,  1.71s/it]"
     ]
    },
    {
     "name": "stdout",
     "output_type": "stream",
     "text": [
      "API key 2 rate limited. Waiting 0 seconds.\n"
     ]
    },
    {
     "name": "stderr",
     "output_type": "stream",
     "text": [
      "Processing tweet batches:  15%|█▍        | 1054/7043 [38:10<2:40:02,  1.60s/it]"
     ]
    },
    {
     "name": "stdout",
     "output_type": "stream",
     "text": [
      "API key 1 rate limited. Waiting 0 seconds.\n",
      "API key 2 rate limited. Waiting 0 seconds.\n"
     ]
    },
    {
     "name": "stderr",
     "output_type": "stream",
     "text": [
      "Processing tweet batches:  15%|█▍        | 1055/7043 [38:12<2:53:26,  1.74s/it]"
     ]
    },
    {
     "name": "stdout",
     "output_type": "stream",
     "text": [
      "API key 1 rate limited. Waiting 0 seconds.\n",
      "API key 1 rate limited. Waiting 0 seconds.\n",
      "API key 1 rate limited. Waiting 0 seconds.\n",
      "API key 1 rate limited. Waiting 0 seconds.\n"
     ]
    },
    {
     "name": "stderr",
     "output_type": "stream",
     "text": [
      "Processing tweet batches:  15%|█▌        | 1057/7043 [38:16<3:00:33,  1.81s/it]"
     ]
    },
    {
     "name": "stdout",
     "output_type": "stream",
     "text": [
      "API key 2 rate limited. Waiting 0 seconds.\n"
     ]
    },
    {
     "name": "stderr",
     "output_type": "stream",
     "text": [
      "Processing tweet batches:  15%|█▌        | 1058/7043 [38:22<5:23:59,  3.25s/it]"
     ]
    },
    {
     "name": "stdout",
     "output_type": "stream",
     "text": [
      "API key 2 rate limited. Waiting 0 seconds.\n",
      "API key 1 rate limited. Waiting 0 seconds.\n",
      "API key 2 rate limited. Waiting 0 seconds.\n"
     ]
    },
    {
     "name": "stderr",
     "output_type": "stream",
     "text": [
      "Processing tweet batches:  15%|█▌        | 1060/7043 [38:28<5:03:19,  3.04s/it]"
     ]
    },
    {
     "name": "stdout",
     "output_type": "stream",
     "text": [
      "API key 1 rate limited. Waiting 0 seconds.\n",
      "API key 1 rate limited. Waiting 0 seconds.\n",
      "API key 1 rate limited. Waiting 0 seconds.\n"
     ]
    },
    {
     "name": "stderr",
     "output_type": "stream",
     "text": [
      "Processing tweet batches:  15%|█▌        | 1061/7043 [38:30<4:24:27,  2.65s/it]"
     ]
    },
    {
     "name": "stdout",
     "output_type": "stream",
     "text": [
      "API key 1 rate limited. Waiting 0 seconds.\n"
     ]
    },
    {
     "name": "stderr",
     "output_type": "stream",
     "text": [
      "Processing tweet batches:  15%|█▌        | 1062/7043 [38:32<4:05:32,  2.46s/it]"
     ]
    },
    {
     "name": "stdout",
     "output_type": "stream",
     "text": [
      "API key 1 rate limited. Waiting 0 seconds.\n"
     ]
    },
    {
     "name": "stderr",
     "output_type": "stream",
     "text": [
      "Processing tweet batches:  15%|█▌        | 1064/7043 [38:37<3:59:23,  2.40s/it]"
     ]
    },
    {
     "name": "stdout",
     "output_type": "stream",
     "text": [
      "API key 1 rate limited. Waiting 0 seconds.\n"
     ]
    },
    {
     "name": "stderr",
     "output_type": "stream",
     "text": [
      "Processing tweet batches:  15%|█▌        | 1065/7043 [38:42<5:08:55,  3.10s/it]"
     ]
    },
    {
     "name": "stdout",
     "output_type": "stream",
     "text": [
      "API key 2 rate limited. Waiting 0 seconds.\n",
      "API key 2 rate limited. Waiting 0 seconds.\n"
     ]
    },
    {
     "name": "stderr",
     "output_type": "stream",
     "text": [
      "Processing tweet batches:  15%|█▌        | 1066/7043 [38:44<4:37:32,  2.79s/it]"
     ]
    },
    {
     "name": "stdout",
     "output_type": "stream",
     "text": [
      "API key 1 rate limited. Waiting 0 seconds.\n"
     ]
    },
    {
     "name": "stderr",
     "output_type": "stream",
     "text": [
      "Processing tweet batches:  15%|█▌        | 1067/7043 [38:45<3:59:54,  2.41s/it]"
     ]
    },
    {
     "name": "stdout",
     "output_type": "stream",
     "text": [
      "API key 1 rate limited. Waiting 0 seconds.API key 2 rate limited. Waiting 0 seconds.\n",
      "\n",
      "API key 1 rate limited. Waiting 0 seconds.\n",
      "API key 1 rate limited. Waiting 0 seconds.\n"
     ]
    },
    {
     "name": "stderr",
     "output_type": "stream",
     "text": [
      "Processing tweet batches:  15%|█▌        | 1068/7043 [38:48<3:55:04,  2.36s/it]"
     ]
    },
    {
     "name": "stdout",
     "output_type": "stream",
     "text": [
      "API key 2 rate limited. Waiting 0 seconds.\n",
      "API key 2 rate limited. Waiting 0 seconds.\n",
      "API key 2 rate limited. Waiting 0 seconds.\n"
     ]
    },
    {
     "name": "stderr",
     "output_type": "stream",
     "text": [
      "Processing tweet batches:  15%|█▌        | 1069/7043 [38:50<3:55:17,  2.36s/it]"
     ]
    },
    {
     "name": "stdout",
     "output_type": "stream",
     "text": [
      "API key 2 rate limited. Waiting 0 seconds.\n"
     ]
    },
    {
     "name": "stderr",
     "output_type": "stream",
     "text": [
      "Processing tweet batches:  15%|█▌        | 1070/7043 [38:52<3:39:45,  2.21s/it]"
     ]
    },
    {
     "name": "stdout",
     "output_type": "stream",
     "text": [
      "API key 2 rate limited. Waiting 0 seconds.\n",
      "API key 2 rate limited. Waiting 0 seconds.\n"
     ]
    },
    {
     "name": "stderr",
     "output_type": "stream",
     "text": [
      "Processing tweet batches:  15%|█▌        | 1071/7043 [38:54<3:43:08,  2.24s/it]"
     ]
    },
    {
     "name": "stdout",
     "output_type": "stream",
     "text": [
      "API key 2 rate limited. Waiting 0 seconds.\n",
      "API key 2 rate limited. Waiting 0 seconds.\n",
      "API key 2 rate limited. Waiting 0 seconds.\n"
     ]
    },
    {
     "name": "stderr",
     "output_type": "stream",
     "text": [
      "Processing tweet batches:  15%|█▌        | 1072/7043 [38:56<3:28:44,  2.10s/it]"
     ]
    },
    {
     "name": "stdout",
     "output_type": "stream",
     "text": [
      "API key 2 rate limited. Waiting 0 seconds.\n"
     ]
    },
    {
     "name": "stderr",
     "output_type": "stream",
     "text": [
      "Processing tweet batches:  15%|█▌        | 1074/7043 [39:02<3:58:46,  2.40s/it]"
     ]
    },
    {
     "name": "stdout",
     "output_type": "stream",
     "text": [
      "API key 1 rate limited. Waiting 0 seconds.\n",
      "API key 2 rate limited. Waiting 0 seconds.\n",
      "\n",
      "Saved 4300 processed tweets to ../data/labeled_stock_tweets_partial.csv\n"
     ]
    },
    {
     "name": "stderr",
     "output_type": "stream",
     "text": [
      "Processing tweet batches:  15%|█▌        | 1076/7043 [39:05<3:28:29,  2.10s/it]"
     ]
    },
    {
     "name": "stdout",
     "output_type": "stream",
     "text": [
      "API key 1 rate limited. Waiting 0 seconds.\n"
     ]
    },
    {
     "name": "stderr",
     "output_type": "stream",
     "text": [
      "Processing tweet batches:  15%|█▌        | 1077/7043 [39:07<3:21:15,  2.02s/it]"
     ]
    },
    {
     "name": "stdout",
     "output_type": "stream",
     "text": [
      "API key 2 rate limited. Waiting 0 seconds.\n",
      "API key 1 rate limited. Waiting 0 seconds.\n"
     ]
    },
    {
     "name": "stderr",
     "output_type": "stream",
     "text": [
      "Processing tweet batches:  15%|█▌        | 1078/7043 [39:09<3:17:54,  1.99s/it]"
     ]
    },
    {
     "name": "stdout",
     "output_type": "stream",
     "text": [
      "API key 2 rate limited. Waiting 0 seconds.\n",
      "API key 2 rate limited. Waiting 0 seconds.\n",
      "API key 2 rate limited. Waiting 0 seconds.\n"
     ]
    },
    {
     "name": "stderr",
     "output_type": "stream",
     "text": [
      "Processing tweet batches:  15%|█▌        | 1079/7043 [39:12<3:38:41,  2.20s/it]"
     ]
    },
    {
     "name": "stdout",
     "output_type": "stream",
     "text": [
      "API key 1 rate limited. Waiting 0 seconds.\n",
      "API key 2 rate limited. Waiting 0 seconds.\n",
      "API key 2 rate limited. Waiting 0 seconds.API key 1 rate limited. Waiting 0 seconds.\n",
      "\n"
     ]
    },
    {
     "name": "stderr",
     "output_type": "stream",
     "text": [
      "Processing tweet batches:  15%|█▌        | 1080/7043 [39:14<3:35:08,  2.16s/it]"
     ]
    },
    {
     "name": "stdout",
     "output_type": "stream",
     "text": [
      "API key 1 rate limited. Waiting 0 seconds.\n"
     ]
    },
    {
     "name": "stderr",
     "output_type": "stream",
     "text": [
      "Processing tweet batches:  15%|█▌        | 1081/7043 [39:16<3:26:03,  2.07s/it]"
     ]
    },
    {
     "name": "stdout",
     "output_type": "stream",
     "text": [
      "API key 2 rate limited. Waiting 0 seconds.API key 1 rate limited. Waiting 0 seconds.\n",
      "\n"
     ]
    },
    {
     "name": "stderr",
     "output_type": "stream",
     "text": [
      "Processing tweet batches:  15%|█▌        | 1082/7043 [39:18<3:25:15,  2.07s/it]"
     ]
    },
    {
     "name": "stdout",
     "output_type": "stream",
     "text": [
      "API key 2 rate limited. Waiting 0 seconds.\n"
     ]
    },
    {
     "name": "stderr",
     "output_type": "stream",
     "text": [
      "Processing tweet batches:  15%|█▌        | 1083/7043 [39:19<3:13:02,  1.94s/it]"
     ]
    },
    {
     "name": "stdout",
     "output_type": "stream",
     "text": [
      "API key 2 rate limited. Waiting 0 seconds.API key 1 rate limited. Waiting 0 seconds.\n",
      "\n"
     ]
    },
    {
     "name": "stderr",
     "output_type": "stream",
     "text": [
      "Processing tweet batches:  15%|█▌        | 1084/7043 [39:21<3:03:22,  1.85s/it]"
     ]
    },
    {
     "name": "stdout",
     "output_type": "stream",
     "text": [
      "API key 2 rate limited. Waiting 0 seconds.API key 1 rate limited. Waiting 0 seconds.\n",
      "\n",
      "API key 1 rate limited. Waiting 0 seconds.\n"
     ]
    },
    {
     "name": "stderr",
     "output_type": "stream",
     "text": [
      "Processing tweet batches:  15%|█▌        | 1085/7043 [39:23<3:10:01,  1.91s/it]"
     ]
    },
    {
     "name": "stdout",
     "output_type": "stream",
     "text": [
      "API key 1 rate limited. Waiting 0 seconds.\n",
      "API key 1 rate limited. Waiting 0 seconds.\n"
     ]
    },
    {
     "name": "stderr",
     "output_type": "stream",
     "text": [
      "Processing tweet batches:  15%|█▌        | 1087/7043 [39:27<3:11:49,  1.93s/it]"
     ]
    },
    {
     "name": "stdout",
     "output_type": "stream",
     "text": [
      "API key 2 rate limited. Waiting 0 seconds.\n"
     ]
    },
    {
     "name": "stderr",
     "output_type": "stream",
     "text": [
      "Processing tweet batches:  15%|█▌        | 1088/7043 [39:29<3:12:16,  1.94s/it]"
     ]
    },
    {
     "name": "stdout",
     "output_type": "stream",
     "text": [
      "API key 2 rate limited. Waiting 0 seconds.\n",
      "API key 2 rate limited. Waiting 0 seconds.\n",
      "API key 2 rate limited. Waiting 0 seconds.\n"
     ]
    },
    {
     "name": "stderr",
     "output_type": "stream",
     "text": [
      "Processing tweet batches:  15%|█▌        | 1089/7043 [39:31<3:04:29,  1.86s/it]"
     ]
    },
    {
     "name": "stdout",
     "output_type": "stream",
     "text": [
      "API key 2 rate limited. Waiting 0 seconds.\n"
     ]
    },
    {
     "name": "stderr",
     "output_type": "stream",
     "text": [
      "Processing tweet batches:  15%|█▌        | 1091/7043 [39:34<2:53:31,  1.75s/it]"
     ]
    },
    {
     "name": "stdout",
     "output_type": "stream",
     "text": [
      "API key 1 rate limited. Waiting 0 seconds.API key 2 rate limited. Waiting 0 seconds.\n",
      "\n",
      "API key 2 rate limited. Waiting 0 seconds.\n",
      "API key 1 rate limited. Waiting 0 seconds.\n"
     ]
    },
    {
     "name": "stderr",
     "output_type": "stream",
     "text": [
      "Processing tweet batches:  16%|█▌        | 1092/7043 [39:36<3:02:03,  1.84s/it]"
     ]
    },
    {
     "name": "stdout",
     "output_type": "stream",
     "text": [
      "API key 2 rate limited. Waiting 0 seconds.\n",
      "API key 1 rate limited. Waiting 0 seconds.\n"
     ]
    },
    {
     "name": "stderr",
     "output_type": "stream",
     "text": [
      "Processing tweet batches:  16%|█▌        | 1093/7043 [39:38<3:11:21,  1.93s/it]"
     ]
    },
    {
     "name": "stdout",
     "output_type": "stream",
     "text": [
      "API key 1 rate limited. Waiting 0 seconds.\n"
     ]
    },
    {
     "name": "stderr",
     "output_type": "stream",
     "text": [
      "Processing tweet batches:  16%|█▌        | 1094/7043 [39:40<3:11:35,  1.93s/it]"
     ]
    },
    {
     "name": "stdout",
     "output_type": "stream",
     "text": [
      "API key 1 rate limited. Waiting 0 seconds.\n"
     ]
    },
    {
     "name": "stderr",
     "output_type": "stream",
     "text": [
      "Processing tweet batches:  16%|█▌        | 1095/7043 [39:42<3:07:30,  1.89s/it]"
     ]
    },
    {
     "name": "stdout",
     "output_type": "stream",
     "text": [
      "API key 2 rate limited. Waiting 0 seconds.\n"
     ]
    },
    {
     "name": "stderr",
     "output_type": "stream",
     "text": [
      "Processing tweet batches:  16%|█▌        | 1096/7043 [39:44<3:17:17,  1.99s/it]"
     ]
    },
    {
     "name": "stdout",
     "output_type": "stream",
     "text": [
      "API key 1 rate limited. Waiting 0 seconds.API key 2 rate limited. Waiting 0 seconds.\n",
      "\n",
      "API key 1 rate limited. Waiting 0 seconds.\n",
      "API key 1 rate limited. Waiting 0 seconds.\n"
     ]
    },
    {
     "name": "stderr",
     "output_type": "stream",
     "text": [
      "Processing tweet batches:  16%|█▌        | 1098/7043 [39:48<3:12:21,  1.94s/it]"
     ]
    },
    {
     "name": "stdout",
     "output_type": "stream",
     "text": [
      "API key 1 rate limited. Waiting 0 seconds.\n",
      "API key 1 rate limited. Waiting 0 seconds.\n"
     ]
    },
    {
     "name": "stderr",
     "output_type": "stream",
     "text": [
      "Processing tweet batches:  16%|█▌        | 1099/7043 [39:50<3:21:16,  2.03s/it]"
     ]
    },
    {
     "name": "stdout",
     "output_type": "stream",
     "text": [
      "API key 2 rate limited. Waiting 0 seconds.\n",
      "API key 1 rate limited. Waiting 0 seconds.\n",
      "API key 1 rate limited. Waiting 0 seconds.\n",
      "API key 1 rate limited. Waiting 0 seconds.\n",
      "\n",
      "Saved 4400 processed tweets to ../data/labeled_stock_tweets_partial.csv\n"
     ]
    },
    {
     "name": "stderr",
     "output_type": "stream",
     "text": [
      "Processing tweet batches:  16%|█▌        | 1102/7043 [39:56<2:58:42,  1.80s/it]"
     ]
    },
    {
     "name": "stdout",
     "output_type": "stream",
     "text": [
      "API key 2 rate limited. Waiting 0 seconds.\n",
      "API key 1 rate limited. Waiting 0 seconds.\n",
      "API key 2 rate limited. Waiting 0 seconds.\n"
     ]
    },
    {
     "name": "stderr",
     "output_type": "stream",
     "text": [
      "Processing tweet batches:  16%|█▌        | 1106/7043 [40:03<3:01:19,  1.83s/it]"
     ]
    },
    {
     "name": "stdout",
     "output_type": "stream",
     "text": [
      "API key 2 rate limited. Waiting 0 seconds.\n",
      "API key 1 rate limited. Waiting 0 seconds.\n",
      "API key 2 rate limited. Waiting 0 seconds.\n",
      "API key 2 rate limited. Waiting 0 seconds.\n"
     ]
    },
    {
     "name": "stderr",
     "output_type": "stream",
     "text": [
      "Processing tweet batches:  16%|█▌        | 1108/7043 [40:11<4:58:21,  3.02s/it]"
     ]
    },
    {
     "name": "stdout",
     "output_type": "stream",
     "text": [
      "API key 1 rate limited. Waiting 0 seconds.\n"
     ]
    },
    {
     "name": "stderr",
     "output_type": "stream",
     "text": [
      "Processing tweet batches:  16%|█▌        | 1109/7043 [40:13<4:21:03,  2.64s/it]"
     ]
    },
    {
     "name": "stdout",
     "output_type": "stream",
     "text": [
      "API key 1 rate limited. Waiting 0 seconds.\n"
     ]
    },
    {
     "name": "stderr",
     "output_type": "stream",
     "text": [
      "Processing tweet batches:  16%|█▌        | 1111/7043 [40:17<3:48:27,  2.31s/it]"
     ]
    },
    {
     "name": "stdout",
     "output_type": "stream",
     "text": [
      "API key 1 rate limited. Waiting 0 seconds.\n"
     ]
    },
    {
     "name": "stderr",
     "output_type": "stream",
     "text": [
      "Processing tweet batches:  16%|█▌        | 1114/7043 [40:23<3:36:17,  2.19s/it]"
     ]
    },
    {
     "name": "stdout",
     "output_type": "stream",
     "text": [
      "API key 1 rate limited. Waiting 0 seconds.\n"
     ]
    },
    {
     "name": "stderr",
     "output_type": "stream",
     "text": [
      "Processing tweet batches:  16%|█▌        | 1115/7043 [40:25<3:36:09,  2.19s/it]"
     ]
    },
    {
     "name": "stdout",
     "output_type": "stream",
     "text": [
      "API key 2 rate limited. Waiting 0 seconds.\n"
     ]
    },
    {
     "name": "stderr",
     "output_type": "stream",
     "text": [
      "Processing tweet batches:  16%|█▌        | 1118/7043 [40:30<3:02:09,  1.84s/it]"
     ]
    },
    {
     "name": "stdout",
     "output_type": "stream",
     "text": [
      "API key 1 rate limited. Waiting 0 seconds.\n",
      "API key 1 rate limited. Waiting 0 seconds.\n",
      "API key 1 rate limited. Waiting 0 seconds.\n",
      "API key 1 rate limited. Waiting 0 seconds.\n",
      "API key 1 rate limited. Waiting 0 seconds.\n"
     ]
    },
    {
     "name": "stderr",
     "output_type": "stream",
     "text": [
      "Processing tweet batches:  16%|█▌        | 1119/7043 [40:32<3:21:57,  2.05s/it]"
     ]
    },
    {
     "name": "stdout",
     "output_type": "stream",
     "text": [
      "API key 1 rate limited. Waiting 0 seconds.\n",
      "API key 1 rate limited. Waiting 0 seconds.\n"
     ]
    },
    {
     "name": "stderr",
     "output_type": "stream",
     "text": [
      "Processing tweet batches:  16%|█▌        | 1120/7043 [40:36<3:53:11,  2.36s/it]"
     ]
    },
    {
     "name": "stdout",
     "output_type": "stream",
     "text": [
      "API key 1 rate limited. Waiting 0 seconds.\n"
     ]
    },
    {
     "name": "stderr",
     "output_type": "stream",
     "text": [
      "Processing tweet batches:  16%|█▌        | 1122/7043 [40:39<3:22:59,  2.06s/it]"
     ]
    },
    {
     "name": "stdout",
     "output_type": "stream",
     "text": [
      "API key 2 rate limited. Waiting 0 seconds.\n",
      "API key 2 rate limited. Waiting 0 seconds.\n",
      "API key 2 rate limited. Waiting 0 seconds.\n"
     ]
    },
    {
     "name": "stderr",
     "output_type": "stream",
     "text": [
      "Processing tweet batches:  16%|█▌        | 1123/7043 [40:41<3:14:41,  1.97s/it]"
     ]
    },
    {
     "name": "stdout",
     "output_type": "stream",
     "text": [
      "API key 1 rate limited. Waiting 0 seconds.\n"
     ]
    },
    {
     "name": "stderr",
     "output_type": "stream",
     "text": [
      "Processing tweet batches:  16%|█▌        | 1124/7043 [40:43<3:13:01,  1.96s/it]"
     ]
    },
    {
     "name": "stdout",
     "output_type": "stream",
     "text": [
      "API key 1 rate limited. Waiting 0 seconds.\n",
      "\n",
      "Saved 4500 processed tweets to ../data/labeled_stock_tweets_partial.csv\n"
     ]
    },
    {
     "name": "stderr",
     "output_type": "stream",
     "text": [
      "Processing tweet batches:  16%|█▌        | 1125/7043 [40:45<3:20:56,  2.04s/it]"
     ]
    },
    {
     "name": "stdout",
     "output_type": "stream",
     "text": [
      "API key 2 rate limited. Waiting 0 seconds.\n"
     ]
    },
    {
     "name": "stderr",
     "output_type": "stream",
     "text": [
      "Processing tweet batches:  16%|█▌        | 1127/7043 [40:49<3:17:17,  2.00s/it]"
     ]
    },
    {
     "name": "stdout",
     "output_type": "stream",
     "text": [
      "API key 2 rate limited. Waiting 0 seconds.\n"
     ]
    },
    {
     "name": "stderr",
     "output_type": "stream",
     "text": [
      "Processing tweet batches:  16%|█▌        | 1129/7043 [40:52<3:06:01,  1.89s/it]"
     ]
    },
    {
     "name": "stdout",
     "output_type": "stream",
     "text": [
      "API key 2 rate limited. Waiting 0 seconds.\n",
      "API key 1 rate limited. Waiting 0 seconds.\n"
     ]
    },
    {
     "name": "stderr",
     "output_type": "stream",
     "text": [
      "Processing tweet batches:  16%|█▌        | 1130/7043 [40:54<3:02:20,  1.85s/it]"
     ]
    },
    {
     "name": "stdout",
     "output_type": "stream",
     "text": [
      "API key 2 rate limited. Waiting 0 seconds.\n",
      "API key 2 rate limited. Waiting 0 seconds.\n"
     ]
    },
    {
     "name": "stderr",
     "output_type": "stream",
     "text": [
      "Processing tweet batches:  16%|█▌        | 1131/7043 [40:56<3:02:16,  1.85s/it]"
     ]
    },
    {
     "name": "stdout",
     "output_type": "stream",
     "text": [
      "API key 1 rate limited. Waiting 0 seconds.\n"
     ]
    },
    {
     "name": "stderr",
     "output_type": "stream",
     "text": [
      "Processing tweet batches:  16%|█▌        | 1132/7043 [40:58<3:04:05,  1.87s/it]"
     ]
    },
    {
     "name": "stdout",
     "output_type": "stream",
     "text": [
      "API key 2 rate limited. Waiting 0 seconds.\n",
      "API key 2 rate limited. Waiting 0 seconds.\n"
     ]
    },
    {
     "name": "stderr",
     "output_type": "stream",
     "text": [
      "Processing tweet batches:  16%|█▌        | 1133/7043 [41:00<3:09:15,  1.92s/it]"
     ]
    },
    {
     "name": "stdout",
     "output_type": "stream",
     "text": [
      "API key 2 rate limited. Waiting 0 seconds.\n"
     ]
    },
    {
     "name": "stderr",
     "output_type": "stream",
     "text": [
      "Processing tweet batches:  16%|█▌        | 1134/7043 [41:02<3:00:57,  1.84s/it]"
     ]
    },
    {
     "name": "stdout",
     "output_type": "stream",
     "text": [
      "API key 2 rate limited. Waiting 0 seconds.\n",
      "API key 1 rate limited. Waiting 0 seconds.\n"
     ]
    },
    {
     "name": "stderr",
     "output_type": "stream",
     "text": [
      "Processing tweet batches:  16%|█▌        | 1135/7043 [41:03<2:59:41,  1.82s/it]"
     ]
    },
    {
     "name": "stdout",
     "output_type": "stream",
     "text": [
      "API key 1 rate limited. Waiting 0 seconds.\n"
     ]
    },
    {
     "name": "stderr",
     "output_type": "stream",
     "text": [
      "Processing tweet batches:  16%|█▌        | 1137/7043 [41:08<3:10:38,  1.94s/it]"
     ]
    },
    {
     "name": "stdout",
     "output_type": "stream",
     "text": [
      "API key 1 rate limited. Waiting 0 seconds.\n"
     ]
    },
    {
     "name": "stderr",
     "output_type": "stream",
     "text": [
      "Processing tweet batches:  16%|█▌        | 1138/7043 [41:09<3:11:41,  1.95s/it]"
     ]
    },
    {
     "name": "stdout",
     "output_type": "stream",
     "text": [
      "API key 1 rate limited. Waiting 0 seconds.\n",
      "API key 1 rate limited. Waiting 0 seconds.\n",
      "API key 1 rate limited. Waiting 0 seconds.\n"
     ]
    },
    {
     "name": "stderr",
     "output_type": "stream",
     "text": [
      "Processing tweet batches:  16%|█▌        | 1139/7043 [41:12<3:24:27,  2.08s/it]"
     ]
    },
    {
     "name": "stdout",
     "output_type": "stream",
     "text": [
      "API key 1 rate limited. Waiting 0 seconds.\n"
     ]
    },
    {
     "name": "stderr",
     "output_type": "stream",
     "text": [
      "Processing tweet batches:  16%|█▌        | 1140/7043 [41:14<3:21:18,  2.05s/it]"
     ]
    },
    {
     "name": "stdout",
     "output_type": "stream",
     "text": [
      "API key 1 rate limited. Waiting 0 seconds.\n"
     ]
    },
    {
     "name": "stderr",
     "output_type": "stream",
     "text": [
      "Processing tweet batches:  16%|█▌        | 1141/7043 [41:16<3:12:13,  1.95s/it]"
     ]
    },
    {
     "name": "stdout",
     "output_type": "stream",
     "text": [
      "API key 1 rate limited. Waiting 0 seconds.\n",
      "API key 1 rate limited. Waiting 0 seconds.\n"
     ]
    },
    {
     "name": "stderr",
     "output_type": "stream",
     "text": [
      "Processing tweet batches:  16%|█▌        | 1142/7043 [41:18<3:15:35,  1.99s/it]"
     ]
    },
    {
     "name": "stdout",
     "output_type": "stream",
     "text": [
      "API key 2 rate limited. Waiting 0 seconds.\n"
     ]
    },
    {
     "name": "stderr",
     "output_type": "stream",
     "text": [
      "Processing tweet batches:  16%|█▌        | 1143/7043 [41:20<3:30:55,  2.14s/it]"
     ]
    },
    {
     "name": "stdout",
     "output_type": "stream",
     "text": [
      "API key 1 rate limited. Waiting 0 seconds.\n",
      "API key 1 rate limited. Waiting 0 seconds.\n",
      "API key 1 rate limited. Waiting 0 seconds.\n"
     ]
    },
    {
     "name": "stderr",
     "output_type": "stream",
     "text": [
      "Processing tweet batches:  16%|█▋        | 1147/7043 [41:29<3:33:33,  2.17s/it]"
     ]
    },
    {
     "name": "stdout",
     "output_type": "stream",
     "text": [
      "API key 1 rate limited. Waiting 0 seconds.\n",
      "API key 1 rate limited. Waiting 0 seconds.\n",
      "API key 2 rate limited. Waiting 0 seconds.\n",
      "API key 1 rate limited. Waiting 0 seconds.\n"
     ]
    },
    {
     "name": "stderr",
     "output_type": "stream",
     "text": [
      "Processing tweet batches:  16%|█▋        | 1149/7043 [41:33<3:28:09,  2.12s/it]"
     ]
    },
    {
     "name": "stdout",
     "output_type": "stream",
     "text": [
      "API key 1 rate limited. Waiting 0 seconds.API key 2 rate limited. Waiting 0 seconds.\n",
      "\n",
      "\n",
      "Saved 4600 processed tweets to ../data/labeled_stock_tweets_partial.csv\n"
     ]
    },
    {
     "name": "stderr",
     "output_type": "stream",
     "text": [
      "Processing tweet batches:  16%|█▋        | 1151/7043 [41:37<3:10:27,  1.94s/it]"
     ]
    },
    {
     "name": "stdout",
     "output_type": "stream",
     "text": [
      "API key 2 rate limited. Waiting 0 seconds.\n"
     ]
    },
    {
     "name": "stderr",
     "output_type": "stream",
     "text": [
      "Processing tweet batches:  16%|█▋        | 1152/7043 [41:38<3:03:03,  1.86s/it]"
     ]
    },
    {
     "name": "stdout",
     "output_type": "stream",
     "text": [
      "API key 2 rate limited. Waiting 0 seconds.API key 1 rate limited. Waiting 0 seconds.\n",
      "\n",
      "API key 1 rate limited. Waiting 0 seconds.API key 2 rate limited. Waiting 0 seconds.\n",
      "\n"
     ]
    },
    {
     "name": "stderr",
     "output_type": "stream",
     "text": [
      "Processing tweet batches:  16%|█▋        | 1155/7043 [41:44<2:58:14,  1.82s/it]"
     ]
    },
    {
     "name": "stdout",
     "output_type": "stream",
     "text": [
      "API key 1 rate limited. Waiting 0 seconds.\n",
      "API key 1 rate limited. Waiting 0 seconds.\n"
     ]
    },
    {
     "name": "stderr",
     "output_type": "stream",
     "text": [
      "Processing tweet batches:  16%|█▋        | 1157/7043 [41:47<2:59:12,  1.83s/it]"
     ]
    },
    {
     "name": "stdout",
     "output_type": "stream",
     "text": [
      "API key 2 rate limited. Waiting 0 seconds.\n",
      "API key 2 rate limited. Waiting 0 seconds.\n",
      "API key 2 rate limited. Waiting 0 seconds.\n"
     ]
    },
    {
     "name": "stderr",
     "output_type": "stream",
     "text": [
      "Processing tweet batches:  16%|█▋        | 1159/7043 [41:51<3:04:21,  1.88s/it]"
     ]
    },
    {
     "name": "stdout",
     "output_type": "stream",
     "text": [
      "API key 1 rate limited. Waiting 0 seconds.\n",
      "API key 1 rate limited. Waiting 0 seconds.\n",
      "API key 1 rate limited. Waiting 0 seconds.\n"
     ]
    },
    {
     "name": "stderr",
     "output_type": "stream",
     "text": [
      "Processing tweet batches:  16%|█▋        | 1162/7043 [41:58<3:14:45,  1.99s/it]"
     ]
    },
    {
     "name": "stdout",
     "output_type": "stream",
     "text": [
      "API key 1 rate limited. Waiting 0 seconds.\n"
     ]
    },
    {
     "name": "stderr",
     "output_type": "stream",
     "text": [
      "Processing tweet batches:  17%|█▋        | 1165/7043 [42:05<3:41:15,  2.26s/it]"
     ]
    },
    {
     "name": "stdout",
     "output_type": "stream",
     "text": [
      "API key 2 rate limited. Waiting 0 seconds.\n",
      "API key 2 rate limited. Waiting 0 seconds.\n",
      "API key 1 rate limited. Waiting 0 seconds.\n"
     ]
    },
    {
     "name": "stderr",
     "output_type": "stream",
     "text": [
      "Processing tweet batches:  17%|█▋        | 1166/7043 [42:14<6:49:59,  4.19s/it]"
     ]
    },
    {
     "name": "stdout",
     "output_type": "stream",
     "text": [
      "API key 1 rate limited. Waiting 0 seconds.\n",
      "API key 1 rate limited. Waiting 0 seconds.\n"
     ]
    },
    {
     "name": "stderr",
     "output_type": "stream",
     "text": [
      "Processing tweet batches:  17%|█▋        | 1168/7043 [42:18<5:08:49,  3.15s/it]"
     ]
    },
    {
     "name": "stdout",
     "output_type": "stream",
     "text": [
      "API key 1 rate limited. Waiting 0 seconds.\n"
     ]
    },
    {
     "name": "stderr",
     "output_type": "stream",
     "text": [
      "Processing tweet batches:  17%|█▋        | 1171/7043 [42:24<3:50:39,  2.36s/it]"
     ]
    },
    {
     "name": "stdout",
     "output_type": "stream",
     "text": [
      "API key 1 rate limited. Waiting 0 seconds.\n"
     ]
    },
    {
     "name": "stderr",
     "output_type": "stream",
     "text": [
      "Processing tweet batches:  17%|█▋        | 1173/7043 [42:28<3:20:45,  2.05s/it]"
     ]
    },
    {
     "name": "stdout",
     "output_type": "stream",
     "text": [
      "API key 1 rate limited. Waiting 0 seconds.\n",
      "API key 2 rate limited. Waiting 0 seconds.\n"
     ]
    },
    {
     "name": "stderr",
     "output_type": "stream",
     "text": [
      "Processing tweet batches:  17%|█▋        | 1174/7043 [42:31<3:47:20,  2.32s/it]"
     ]
    },
    {
     "name": "stdout",
     "output_type": "stream",
     "text": [
      "\n",
      "Saved 4700 processed tweets to ../data/labeled_stock_tweets_partial.csv\n"
     ]
    },
    {
     "name": "stderr",
     "output_type": "stream",
     "text": [
      "Processing tweet batches:  17%|█▋        | 1175/7043 [42:32<3:20:41,  2.05s/it]"
     ]
    },
    {
     "name": "stdout",
     "output_type": "stream",
     "text": [
      "API key 1 rate limited. Waiting 0 seconds.\n",
      "API key 1 rate limited. Waiting 0 seconds.\n"
     ]
    },
    {
     "name": "stderr",
     "output_type": "stream",
     "text": [
      "Processing tweet batches:  17%|█▋        | 1176/7043 [42:35<3:40:17,  2.25s/it]"
     ]
    },
    {
     "name": "stdout",
     "output_type": "stream",
     "text": [
      "API key 1 rate limited. Waiting 0 seconds.\n"
     ]
    },
    {
     "name": "stderr",
     "output_type": "stream",
     "text": [
      "Processing tweet batches:  17%|█▋        | 1177/7043 [42:37<3:32:46,  2.18s/it]"
     ]
    },
    {
     "name": "stdout",
     "output_type": "stream",
     "text": [
      "API key 2 rate limited. Waiting 0 seconds.\n",
      "API key 2 rate limited. Waiting 0 seconds.\n",
      "API key 2 rate limited. Waiting 0 seconds.\n"
     ]
    },
    {
     "name": "stderr",
     "output_type": "stream",
     "text": [
      "Processing tweet batches:  17%|█▋        | 1179/7043 [42:41<3:14:32,  1.99s/it]"
     ]
    },
    {
     "name": "stdout",
     "output_type": "stream",
     "text": [
      "API key 2 rate limited. Waiting 0 seconds.\n"
     ]
    },
    {
     "name": "stderr",
     "output_type": "stream",
     "text": [
      "Processing tweet batches:  17%|█▋        | 1180/7043 [42:42<3:02:41,  1.87s/it]"
     ]
    },
    {
     "name": "stdout",
     "output_type": "stream",
     "text": [
      "API key 1 rate limited. Waiting 0 seconds.\n",
      "API key 1 rate limited. Waiting 0 seconds.\n",
      "API key 2 rate limited. Waiting 0 seconds.\n",
      "API key 1 rate limited. Waiting 0 seconds.\n",
      "API key 2 rate limited. Waiting 0 seconds.\n",
      "API key 2 rate limited. Waiting 0 seconds.\n"
     ]
    },
    {
     "name": "stderr",
     "output_type": "stream",
     "text": [
      "Processing tweet batches:  17%|█▋        | 1181/7043 [42:44<3:11:18,  1.96s/it]"
     ]
    },
    {
     "name": "stdout",
     "output_type": "stream",
     "text": [
      "API key 1 rate limited. Waiting 0 seconds.\n",
      "API key 1 rate limited. Waiting 0 seconds.\n"
     ]
    },
    {
     "name": "stderr",
     "output_type": "stream",
     "text": [
      "Processing tweet batches:  17%|█▋        | 1182/7043 [42:46<3:15:17,  2.00s/it]"
     ]
    },
    {
     "name": "stdout",
     "output_type": "stream",
     "text": [
      "API key 1 rate limited. Waiting 0 seconds.\n",
      "API key 1 rate limited. Waiting 0 seconds.\n"
     ]
    },
    {
     "name": "stderr",
     "output_type": "stream",
     "text": [
      "Processing tweet batches:  17%|█▋        | 1186/7043 [42:55<3:09:32,  1.94s/it]"
     ]
    },
    {
     "name": "stdout",
     "output_type": "stream",
     "text": [
      "API key 2 rate limited. Waiting 0 seconds.\n",
      "API key 1 rate limited. Waiting 0 seconds.\n"
     ]
    },
    {
     "name": "stderr",
     "output_type": "stream",
     "text": [
      "Processing tweet batches:  17%|█▋        | 1187/7043 [42:57<3:11:30,  1.96s/it]"
     ]
    },
    {
     "name": "stdout",
     "output_type": "stream",
     "text": [
      "API key 2 rate limited. Waiting 0 seconds.\n"
     ]
    },
    {
     "name": "stderr",
     "output_type": "stream",
     "text": [
      "Processing tweet batches:  17%|█▋        | 1188/7043 [42:58<3:01:10,  1.86s/it]"
     ]
    },
    {
     "name": "stdout",
     "output_type": "stream",
     "text": [
      "API key 2 rate limited. Waiting 0 seconds.\n"
     ]
    },
    {
     "name": "stderr",
     "output_type": "stream",
     "text": [
      "Processing tweet batches:  17%|█▋        | 1189/7043 [43:01<3:10:37,  1.95s/it]"
     ]
    },
    {
     "name": "stdout",
     "output_type": "stream",
     "text": [
      "API key 1 rate limited. Waiting 0 seconds.\n",
      "API key 1 rate limited. Waiting 0 seconds.\n"
     ]
    },
    {
     "name": "stderr",
     "output_type": "stream",
     "text": [
      "Processing tweet batches:  17%|█▋        | 1191/7043 [43:05<3:07:00,  1.92s/it]"
     ]
    },
    {
     "name": "stdout",
     "output_type": "stream",
     "text": [
      "API key 1 rate limited. Waiting 0 seconds.\n",
      "API key 1 rate limited. Waiting 0 seconds.\n",
      "API key 2 rate limited. Waiting 0 seconds.\n",
      "API key 2 rate limited. Waiting 0 seconds.\n"
     ]
    },
    {
     "name": "stderr",
     "output_type": "stream",
     "text": [
      "Processing tweet batches:  17%|█▋        | 1192/7043 [43:07<3:09:09,  1.94s/it]"
     ]
    },
    {
     "name": "stdout",
     "output_type": "stream",
     "text": [
      "API key 2 rate limited. Waiting 0 seconds.\n",
      "API key 2 rate limited. Waiting 0 seconds.\n",
      "API key 1 rate limited. Waiting 0 seconds.\n",
      "API key 1 rate limited. Waiting 0 seconds.\n"
     ]
    },
    {
     "name": "stderr",
     "output_type": "stream",
     "text": [
      "Processing tweet batches:  17%|█▋        | 1193/7043 [43:09<3:22:00,  2.07s/it]"
     ]
    },
    {
     "name": "stdout",
     "output_type": "stream",
     "text": [
      "API key 2 rate limited. Waiting 0 seconds.\n"
     ]
    },
    {
     "name": "stderr",
     "output_type": "stream",
     "text": [
      "Processing tweet batches:  17%|█▋        | 1194/7043 [43:11<3:15:32,  2.01s/it]"
     ]
    },
    {
     "name": "stdout",
     "output_type": "stream",
     "text": [
      "API key 2 rate limited. Waiting 0 seconds.\n",
      "API key 2 rate limited. Waiting 0 seconds.\n"
     ]
    },
    {
     "name": "stderr",
     "output_type": "stream",
     "text": [
      "Processing tweet batches:  17%|█▋        | 1195/7043 [43:13<3:27:50,  2.13s/it]"
     ]
    },
    {
     "name": "stdout",
     "output_type": "stream",
     "text": [
      "API key 1 rate limited. Waiting 0 seconds.\n",
      "API key 1 rate limited. Waiting 0 seconds.\n",
      "API key 1 rate limited. Waiting 0 seconds.\n"
     ]
    },
    {
     "name": "stderr",
     "output_type": "stream",
     "text": [
      "Processing tweet batches:  17%|█▋        | 1197/7043 [43:17<3:22:16,  2.08s/it]"
     ]
    },
    {
     "name": "stdout",
     "output_type": "stream",
     "text": [
      "API key 1 rate limited. Waiting 0 seconds.\n",
      "API key 1 rate limited. Waiting 0 seconds.\n"
     ]
    },
    {
     "name": "stderr",
     "output_type": "stream",
     "text": [
      "Processing tweet batches:  17%|█▋        | 1199/7043 [43:21<3:12:36,  1.98s/it]"
     ]
    },
    {
     "name": "stdout",
     "output_type": "stream",
     "text": [
      "\n",
      "Saved 4800 processed tweets to ../data/labeled_stock_tweets_partial.csv\n"
     ]
    },
    {
     "name": "stderr",
     "output_type": "stream",
     "text": [
      "Processing tweet batches:  17%|█▋        | 1201/7043 [43:25<3:08:10,  1.93s/it]"
     ]
    },
    {
     "name": "stdout",
     "output_type": "stream",
     "text": [
      "API key 1 rate limited. Waiting 0 seconds.API key 2 rate limited. Waiting 0 seconds.\n",
      "\n"
     ]
    },
    {
     "name": "stderr",
     "output_type": "stream",
     "text": [
      "Processing tweet batches:  17%|█▋        | 1202/7043 [43:27<3:13:12,  1.98s/it]"
     ]
    },
    {
     "name": "stdout",
     "output_type": "stream",
     "text": [
      "API key 2 rate limited. Waiting 0 seconds.\n",
      "API key 2 rate limited. Waiting 0 seconds.\n",
      "API key 2 rate limited. Waiting 0 seconds.\n",
      "API key 2 rate limited. Waiting 0 seconds.\n"
     ]
    },
    {
     "name": "stderr",
     "output_type": "stream",
     "text": [
      "Processing tweet batches:  17%|█▋        | 1203/7043 [43:33<5:10:57,  3.19s/it]"
     ]
    },
    {
     "name": "stdout",
     "output_type": "stream",
     "text": [
      "API key 1 rate limited. Waiting 0 seconds.\n"
     ]
    },
    {
     "name": "stderr",
     "output_type": "stream",
     "text": [
      "Processing tweet batches:  17%|█▋        | 1204/7043 [43:35<4:40:10,  2.88s/it]"
     ]
    },
    {
     "name": "stdout",
     "output_type": "stream",
     "text": [
      "API key 1 rate limited. Waiting 0 seconds.\n",
      "API key 2 rate limited. Waiting 0 seconds.\n",
      "API key 1 rate limited. Waiting 0 seconds.\n"
     ]
    },
    {
     "name": "stderr",
     "output_type": "stream",
     "text": [
      "Processing tweet batches:  17%|█▋        | 1205/7043 [43:38<4:26:09,  2.74s/it]"
     ]
    },
    {
     "name": "stdout",
     "output_type": "stream",
     "text": [
      "API key 2 rate limited. Waiting 0 seconds.\n"
     ]
    },
    {
     "name": "stderr",
     "output_type": "stream",
     "text": [
      "Processing tweet batches:  17%|█▋        | 1208/7043 [43:42<3:01:19,  1.86s/it]"
     ]
    },
    {
     "name": "stdout",
     "output_type": "stream",
     "text": [
      "API key 1 rate limited. Waiting 0 seconds.\n",
      "API key 1 rate limited. Waiting 0 seconds.\n"
     ]
    },
    {
     "name": "stderr",
     "output_type": "stream",
     "text": [
      "Processing tweet batches:  17%|█▋        | 1209/7043 [43:45<3:31:08,  2.17s/it]"
     ]
    },
    {
     "name": "stdout",
     "output_type": "stream",
     "text": [
      "API key 2 rate limited. Waiting 0 seconds.\n"
     ]
    },
    {
     "name": "stderr",
     "output_type": "stream",
     "text": [
      "Processing tweet batches:  17%|█▋        | 1210/7043 [43:47<3:21:16,  2.07s/it]"
     ]
    },
    {
     "name": "stdout",
     "output_type": "stream",
     "text": [
      "API key 1 rate limited. Waiting 0 seconds.API key 2 rate limited. Waiting 0 seconds.\n",
      "\n",
      "API key 2 rate limited. Waiting 0 seconds.\n"
     ]
    },
    {
     "name": "stderr",
     "output_type": "stream",
     "text": [
      "Processing tweet batches:  17%|█▋        | 1212/7043 [43:52<3:29:54,  2.16s/it]"
     ]
    },
    {
     "name": "stdout",
     "output_type": "stream",
     "text": [
      "API key 2 rate limited. Waiting 0 seconds.\n"
     ]
    },
    {
     "name": "stderr",
     "output_type": "stream",
     "text": [
      "Processing tweet batches:  17%|█▋        | 1213/7043 [43:54<3:27:57,  2.14s/it]"
     ]
    },
    {
     "name": "stdout",
     "output_type": "stream",
     "text": [
      "API key 1 rate limited. Waiting 0 seconds.\n",
      "API key 2 rate limited. Waiting 0 seconds.\n",
      "API key 1 rate limited. Waiting 0 seconds.\n"
     ]
    },
    {
     "name": "stderr",
     "output_type": "stream",
     "text": [
      "Processing tweet batches:  17%|█▋        | 1214/7043 [43:56<3:21:04,  2.07s/it]"
     ]
    },
    {
     "name": "stdout",
     "output_type": "stream",
     "text": [
      "API key 1 rate limited. Waiting 0 seconds.\n"
     ]
    },
    {
     "name": "stderr",
     "output_type": "stream",
     "text": [
      "Processing tweet batches:  17%|█▋        | 1215/7043 [43:57<3:09:52,  1.95s/it]"
     ]
    },
    {
     "name": "stdout",
     "output_type": "stream",
     "text": [
      "API key 1 rate limited. Waiting 0 seconds.\n",
      "API key 1 rate limited. Waiting 0 seconds.\n",
      "API key 2 rate limited. Waiting 0 seconds.\n",
      "API key 1 rate limited. Waiting 0 seconds.\n",
      "API key 1 rate limited. Waiting 0 seconds.\n",
      "API key 1 rate limited. Waiting 0 seconds.\n"
     ]
    },
    {
     "name": "stderr",
     "output_type": "stream",
     "text": [
      "Processing tweet batches:  17%|█▋        | 1216/7043 [44:00<3:24:09,  2.10s/it]"
     ]
    },
    {
     "name": "stdout",
     "output_type": "stream",
     "text": [
      "API key 2 rate limited. Waiting 0 seconds.\n"
     ]
    },
    {
     "name": "stderr",
     "output_type": "stream",
     "text": [
      "Processing tweet batches:  17%|█▋        | 1218/7043 [44:04<3:23:19,  2.09s/it]"
     ]
    },
    {
     "name": "stdout",
     "output_type": "stream",
     "text": [
      "API key 1 rate limited. Waiting 0 seconds.\n",
      "API key 1 rate limited. Waiting 0 seconds.\n"
     ]
    },
    {
     "name": "stderr",
     "output_type": "stream",
     "text": [
      "Processing tweet batches:  17%|█▋        | 1219/7043 [44:07<3:47:28,  2.34s/it]"
     ]
    },
    {
     "name": "stdout",
     "output_type": "stream",
     "text": [
      "API key 1 rate limited. Waiting 0 seconds.\n",
      "API key 1 rate limited. Waiting 0 seconds.\n",
      "API key 1 rate limited. Waiting 0 seconds.\n"
     ]
    },
    {
     "name": "stderr",
     "output_type": "stream",
     "text": [
      "Processing tweet batches:  17%|█▋        | 1220/7043 [44:09<3:33:18,  2.20s/it]"
     ]
    },
    {
     "name": "stdout",
     "output_type": "stream",
     "text": [
      "API key 1 rate limited. Waiting 0 seconds.\n",
      "API key 2 rate limited. Waiting 0 seconds.\n",
      "API key 2 rate limited. Waiting 0 seconds.\n",
      "API key 2 rate limited. Waiting 0 seconds.\n"
     ]
    },
    {
     "name": "stderr",
     "output_type": "stream",
     "text": [
      "Processing tweet batches:  17%|█▋        | 1221/7043 [44:11<3:29:23,  2.16s/it]"
     ]
    },
    {
     "name": "stdout",
     "output_type": "stream",
     "text": [
      "API key 2 rate limited. Waiting 0 seconds.\n",
      "API key 2 rate limited. Waiting 0 seconds.\n"
     ]
    },
    {
     "name": "stderr",
     "output_type": "stream",
     "text": [
      "Processing tweet batches:  17%|█▋        | 1223/7043 [44:14<3:08:07,  1.94s/it]"
     ]
    },
    {
     "name": "stdout",
     "output_type": "stream",
     "text": [
      "API key 2 rate limited. Waiting 0 seconds.\n",
      "API key 2 rate limited. Waiting 0 seconds.\n",
      "API key 1 rate limited. Waiting 0 seconds.\n",
      "API key 2 rate limited. Waiting 0 seconds.\n",
      "API key 1 rate limited. Waiting 0 seconds.\n"
     ]
    },
    {
     "name": "stderr",
     "output_type": "stream",
     "text": [
      "Processing tweet batches:  17%|█▋        | 1224/7043 [44:17<3:32:17,  2.19s/it]"
     ]
    },
    {
     "name": "stdout",
     "output_type": "stream",
     "text": [
      "API key 1 rate limited. Waiting 0 seconds.API key 2 rate limited. Waiting 0 seconds.\n",
      "\n",
      "API key 2 rate limited. Waiting 0 seconds.\n",
      "\n",
      "Saved 4900 processed tweets to ../data/labeled_stock_tweets_partial.csv\n"
     ]
    },
    {
     "name": "stderr",
     "output_type": "stream",
     "text": [
      "Processing tweet batches:  17%|█▋        | 1226/7043 [44:21<3:18:29,  2.05s/it]"
     ]
    },
    {
     "name": "stdout",
     "output_type": "stream",
     "text": [
      "API key 2 rate limited. Waiting 0 seconds.\n",
      "API key 2 rate limited. Waiting 0 seconds.\n"
     ]
    },
    {
     "name": "stderr",
     "output_type": "stream",
     "text": [
      "Processing tweet batches:  17%|█▋        | 1228/7043 [44:25<3:01:32,  1.87s/it]"
     ]
    },
    {
     "name": "stdout",
     "output_type": "stream",
     "text": [
      "API key 2 rate limited. Waiting 0 seconds.\n",
      "API key 1 rate limited. Waiting 0 seconds.\n"
     ]
    },
    {
     "name": "stderr",
     "output_type": "stream",
     "text": [
      "Processing tweet batches:  17%|█▋        | 1229/7043 [44:27<3:12:32,  1.99s/it]"
     ]
    },
    {
     "name": "stdout",
     "output_type": "stream",
     "text": [
      "API key 1 rate limited. Waiting 0 seconds.\n",
      "API key 1 rate limited. Waiting 0 seconds.\n"
     ]
    },
    {
     "name": "stderr",
     "output_type": "stream",
     "text": [
      "Processing tweet batches:  17%|█▋        | 1230/7043 [44:29<3:14:56,  2.01s/it]"
     ]
    },
    {
     "name": "stdout",
     "output_type": "stream",
     "text": [
      "API key 1 rate limited. Waiting 0 seconds.\n",
      "API key 1 rate limited. Waiting 0 seconds.\n"
     ]
    },
    {
     "name": "stderr",
     "output_type": "stream",
     "text": [
      "Processing tweet batches:  17%|█▋        | 1231/7043 [44:31<3:09:26,  1.96s/it]"
     ]
    },
    {
     "name": "stdout",
     "output_type": "stream",
     "text": [
      "API key 1 rate limited. Waiting 0 seconds.\n",
      "API key 1 rate limited. Waiting 0 seconds.\n"
     ]
    },
    {
     "name": "stderr",
     "output_type": "stream",
     "text": [
      "Processing tweet batches:  17%|█▋        | 1232/7043 [44:33<3:17:22,  2.04s/it]"
     ]
    },
    {
     "name": "stdout",
     "output_type": "stream",
     "text": [
      "API key 1 rate limited. Waiting 0 seconds.API key 2 rate limited. Waiting 0 seconds.\n",
      "\n"
     ]
    },
    {
     "name": "stderr",
     "output_type": "stream",
     "text": [
      "Processing tweet batches:  18%|█▊        | 1234/7043 [44:36<2:58:16,  1.84s/it]"
     ]
    },
    {
     "name": "stdout",
     "output_type": "stream",
     "text": [
      "API key 1 rate limited. Waiting 0 seconds.API key 2 rate limited. Waiting 0 seconds.\n",
      "\n"
     ]
    },
    {
     "name": "stderr",
     "output_type": "stream",
     "text": [
      "Processing tweet batches:  18%|█▊        | 1235/7043 [44:39<3:05:22,  1.91s/it]"
     ]
    },
    {
     "name": "stdout",
     "output_type": "stream",
     "text": [
      "API key 2 rate limited. Waiting 0 seconds.\n",
      "API key 2 rate limited. Waiting 0 seconds.\n"
     ]
    },
    {
     "name": "stderr",
     "output_type": "stream",
     "text": [
      "Processing tweet batches:  18%|█▊        | 1236/7043 [44:42<3:41:09,  2.29s/it]"
     ]
    },
    {
     "name": "stdout",
     "output_type": "stream",
     "text": [
      "API key 2 rate limited. Waiting 0 seconds.\n",
      "API key 1 rate limited. Waiting 0 seconds.\n",
      "API key 2 rate limited. Waiting 0 seconds.\n"
     ]
    },
    {
     "name": "stderr",
     "output_type": "stream",
     "text": [
      "Processing tweet batches:  18%|█▊        | 1238/7043 [44:45<3:07:04,  1.93s/it]"
     ]
    },
    {
     "name": "stdout",
     "output_type": "stream",
     "text": [
      "API key 2 rate limited. Waiting 0 seconds.\n",
      "API key 1 rate limited. Waiting 0 seconds.\n",
      "API key 1 rate limited. Waiting 0 seconds.\n"
     ]
    },
    {
     "name": "stderr",
     "output_type": "stream",
     "text": [
      "Processing tweet batches:  18%|█▊        | 1239/7043 [44:48<3:25:32,  2.12s/it]"
     ]
    },
    {
     "name": "stdout",
     "output_type": "stream",
     "text": [
      "API key 1 rate limited. Waiting 0 seconds.\n",
      "API key 1 rate limited. Waiting 0 seconds.\n"
     ]
    },
    {
     "name": "stderr",
     "output_type": "stream",
     "text": [
      "Processing tweet batches:  18%|█▊        | 1242/7043 [44:53<2:57:03,  1.83s/it]"
     ]
    },
    {
     "name": "stdout",
     "output_type": "stream",
     "text": [
      "API key 2 rate limited. Waiting 0 seconds.\n"
     ]
    },
    {
     "name": "stderr",
     "output_type": "stream",
     "text": [
      "Processing tweet batches:  18%|█▊        | 1243/7043 [44:54<2:56:44,  1.83s/it]"
     ]
    },
    {
     "name": "stdout",
     "output_type": "stream",
     "text": [
      "API key 1 rate limited. Waiting 0 seconds.\n"
     ]
    },
    {
     "name": "stderr",
     "output_type": "stream",
     "text": [
      "Processing tweet batches:  18%|█▊        | 1244/7043 [44:56<2:58:15,  1.84s/it]"
     ]
    },
    {
     "name": "stdout",
     "output_type": "stream",
     "text": [
      "API key 1 rate limited. Waiting 0 seconds.\n",
      "API key 1 rate limited. Waiting 0 seconds.\n"
     ]
    },
    {
     "name": "stderr",
     "output_type": "stream",
     "text": [
      "Processing tweet batches:  18%|█▊        | 1245/7043 [44:59<3:19:50,  2.07s/it]"
     ]
    },
    {
     "name": "stdout",
     "output_type": "stream",
     "text": [
      "API key 2 rate limited. Waiting 0 seconds.\n"
     ]
    },
    {
     "name": "stderr",
     "output_type": "stream",
     "text": [
      "Processing tweet batches:  18%|█▊        | 1247/7043 [45:02<2:52:38,  1.79s/it]"
     ]
    },
    {
     "name": "stdout",
     "output_type": "stream",
     "text": [
      "API key 1 rate limited. Waiting 0 seconds.\n"
     ]
    },
    {
     "name": "stderr",
     "output_type": "stream",
     "text": [
      "Processing tweet batches:  18%|█▊        | 1248/7043 [45:04<2:52:02,  1.78s/it]"
     ]
    },
    {
     "name": "stdout",
     "output_type": "stream",
     "text": [
      "API key 1 rate limited. Waiting 0 seconds.\n",
      "API key 2 rate limited. Waiting 0 seconds.\n",
      "API key 2 rate limited. Waiting 0 seconds.\n"
     ]
    },
    {
     "name": "stderr",
     "output_type": "stream",
     "text": [
      "Processing tweet batches:  18%|█▊        | 1249/7043 [45:06<2:56:42,  1.83s/it]"
     ]
    },
    {
     "name": "stdout",
     "output_type": "stream",
     "text": [
      "\n",
      "Saved 5000 processed tweets to ../data/labeled_stock_tweets_partial.csv\n"
     ]
    },
    {
     "name": "stderr",
     "output_type": "stream",
     "text": [
      "Processing tweet batches:  18%|█▊        | 1250/7043 [45:07<2:53:57,  1.80s/it]"
     ]
    },
    {
     "name": "stdout",
     "output_type": "stream",
     "text": [
      "API key 2 rate limited. Waiting 0 seconds.\n",
      "API key 1 rate limited. Waiting 0 seconds.\n"
     ]
    },
    {
     "name": "stderr",
     "output_type": "stream",
     "text": [
      "Processing tweet batches:  18%|█▊        | 1251/7043 [45:10<3:08:16,  1.95s/it]"
     ]
    },
    {
     "name": "stdout",
     "output_type": "stream",
     "text": [
      "API key 1 rate limited. Waiting 0 seconds.\n"
     ]
    },
    {
     "name": "stderr",
     "output_type": "stream",
     "text": [
      "Processing tweet batches:  18%|█▊        | 1255/7043 [45:17<2:59:09,  1.86s/it]"
     ]
    },
    {
     "name": "stdout",
     "output_type": "stream",
     "text": [
      "API key 1 rate limited. Waiting 0 seconds.\n",
      "API key 1 rate limited. Waiting 0 seconds.\n",
      "API key 2 rate limited. Waiting 0 seconds.\n"
     ]
    },
    {
     "name": "stderr",
     "output_type": "stream",
     "text": [
      "Processing tweet batches:  18%|█▊        | 1256/7043 [45:19<2:59:33,  1.86s/it]"
     ]
    },
    {
     "name": "stdout",
     "output_type": "stream",
     "text": [
      "API key 1 rate limited. Waiting 0 seconds.\n",
      "API key 1 rate limited. Waiting 0 seconds.\n",
      "API key 1 rate limited. Waiting 0 seconds.\n"
     ]
    },
    {
     "name": "stderr",
     "output_type": "stream",
     "text": [
      "Processing tweet batches:  18%|█▊        | 1257/7043 [45:21<2:57:27,  1.84s/it]"
     ]
    },
    {
     "name": "stdout",
     "output_type": "stream",
     "text": [
      "API key 2 rate limited. Waiting 0 seconds.\n"
     ]
    },
    {
     "name": "stderr",
     "output_type": "stream",
     "text": [
      "Processing tweet batches:  18%|█▊        | 1259/7043 [45:24<2:48:17,  1.75s/it]"
     ]
    },
    {
     "name": "stdout",
     "output_type": "stream",
     "text": [
      "API key 2 rate limited. Waiting 0 seconds.\n"
     ]
    },
    {
     "name": "stderr",
     "output_type": "stream",
     "text": [
      "Processing tweet batches:  18%|█▊        | 1261/7043 [45:28<3:00:22,  1.87s/it]"
     ]
    },
    {
     "name": "stdout",
     "output_type": "stream",
     "text": [
      "API key 2 rate limited. Waiting 0 seconds.\n"
     ]
    },
    {
     "name": "stderr",
     "output_type": "stream",
     "text": [
      "Processing tweet batches:  18%|█▊        | 1263/7043 [45:31<2:45:56,  1.72s/it]"
     ]
    },
    {
     "name": "stdout",
     "output_type": "stream",
     "text": [
      "API key 2 rate limited. Waiting 0 seconds.\n",
      "API key 2 rate limited. Waiting 0 seconds.\n"
     ]
    },
    {
     "name": "stderr",
     "output_type": "stream",
     "text": [
      "Processing tweet batches:  18%|█▊        | 1264/7043 [45:34<3:03:27,  1.90s/it]"
     ]
    },
    {
     "name": "stdout",
     "output_type": "stream",
     "text": [
      "API key 1 rate limited. Waiting 0 seconds.API key 2 rate limited. Waiting 0 seconds.\n",
      "\n"
     ]
    },
    {
     "name": "stderr",
     "output_type": "stream",
     "text": [
      "Processing tweet batches:  18%|█▊        | 1266/7043 [45:37<2:40:31,  1.67s/it]"
     ]
    },
    {
     "name": "stdout",
     "output_type": "stream",
     "text": [
      "API key 2 rate limited. Waiting 0 seconds.\n",
      "API key 2 rate limited. Waiting 0 seconds.\n"
     ]
    },
    {
     "name": "stderr",
     "output_type": "stream",
     "text": [
      "Processing tweet batches:  18%|█▊        | 1267/7043 [45:39<2:52:11,  1.79s/it]"
     ]
    },
    {
     "name": "stdout",
     "output_type": "stream",
     "text": [
      "API key 1 rate limited. Waiting 0 seconds.\n"
     ]
    },
    {
     "name": "stderr",
     "output_type": "stream",
     "text": [
      "Processing tweet batches:  18%|█▊        | 1268/7043 [45:40<2:52:12,  1.79s/it]"
     ]
    },
    {
     "name": "stdout",
     "output_type": "stream",
     "text": [
      "API key 1 rate limited. Waiting 0 seconds.API key 2 rate limited. Waiting 0 seconds.\n",
      "\n"
     ]
    },
    {
     "name": "stderr",
     "output_type": "stream",
     "text": [
      "Processing tweet batches:  18%|█▊        | 1269/7043 [45:42<2:50:12,  1.77s/it]"
     ]
    },
    {
     "name": "stdout",
     "output_type": "stream",
     "text": [
      "API key 1 rate limited. Waiting 0 seconds.\n",
      "API key 1 rate limited. Waiting 0 seconds.\n"
     ]
    },
    {
     "name": "stderr",
     "output_type": "stream",
     "text": [
      "Processing tweet batches:  18%|█▊        | 1272/7043 [45:49<3:09:44,  1.97s/it]"
     ]
    },
    {
     "name": "stdout",
     "output_type": "stream",
     "text": [
      "API key 2 rate limited. Waiting 0 seconds.\n",
      "API key 1 rate limited. Waiting 0 seconds.\n"
     ]
    },
    {
     "name": "stderr",
     "output_type": "stream",
     "text": [
      "Processing tweet batches:  18%|█▊        | 1273/7043 [45:51<3:23:29,  2.12s/it]"
     ]
    },
    {
     "name": "stdout",
     "output_type": "stream",
     "text": [
      "API key 1 rate limited. Waiting 0 seconds.\n"
     ]
    },
    {
     "name": "stderr",
     "output_type": "stream",
     "text": [
      "Processing tweet batches:  18%|█▊        | 1274/7043 [45:53<3:25:24,  2.14s/it]"
     ]
    },
    {
     "name": "stdout",
     "output_type": "stream",
     "text": [
      "API key 1 rate limited. Waiting 0 seconds.\n",
      "API key 1 rate limited. Waiting 0 seconds.\n",
      "\n",
      "Saved 5100 processed tweets to ../data/labeled_stock_tweets_partial.csv\n"
     ]
    },
    {
     "name": "stderr",
     "output_type": "stream",
     "text": [
      "Processing tweet batches:  18%|█▊        | 1275/7043 [45:56<3:35:44,  2.24s/it]"
     ]
    },
    {
     "name": "stdout",
     "output_type": "stream",
     "text": [
      "API key 1 rate limited. Waiting 0 seconds.\n"
     ]
    },
    {
     "name": "stderr",
     "output_type": "stream",
     "text": [
      "Processing tweet batches:  18%|█▊        | 1276/7043 [45:58<3:30:09,  2.19s/it]"
     ]
    },
    {
     "name": "stdout",
     "output_type": "stream",
     "text": [
      "API key 1 rate limited. Waiting 0 seconds.\n",
      "API key 1 rate limited. Waiting 0 seconds.\n"
     ]
    },
    {
     "name": "stderr",
     "output_type": "stream",
     "text": [
      "Processing tweet batches:  18%|█▊        | 1277/7043 [46:00<3:21:09,  2.09s/it]"
     ]
    },
    {
     "name": "stdout",
     "output_type": "stream",
     "text": [
      "API key 2 rate limited. Waiting 0 seconds.\n"
     ]
    },
    {
     "name": "stderr",
     "output_type": "stream",
     "text": [
      "Processing tweet batches:  18%|█▊        | 1278/7043 [46:01<3:04:13,  1.92s/it]"
     ]
    },
    {
     "name": "stdout",
     "output_type": "stream",
     "text": [
      "API key 2 rate limited. Waiting 0 seconds.\n",
      "API key 2 rate limited. Waiting 0 seconds.\n",
      "API key 2 rate limited. Waiting 0 seconds.\n"
     ]
    },
    {
     "name": "stderr",
     "output_type": "stream",
     "text": [
      "Processing tweet batches:  18%|█▊        | 1280/7043 [46:05<2:58:48,  1.86s/it]"
     ]
    },
    {
     "name": "stdout",
     "output_type": "stream",
     "text": [
      "API key 2 rate limited. Waiting 0 seconds.\n",
      "API key 2 rate limited. Waiting 0 seconds.\n",
      "API key 2 rate limited. Waiting 0 seconds.\n",
      "API key 2 rate limited. Waiting 0 seconds.\n",
      "API key 1 rate limited. Waiting 0 seconds.\n",
      "API key 1 rate limited. Waiting 0 seconds.\n"
     ]
    },
    {
     "name": "stderr",
     "output_type": "stream",
     "text": [
      "Processing tweet batches:  18%|█▊        | 1282/7043 [46:10<3:10:33,  1.98s/it]"
     ]
    },
    {
     "name": "stdout",
     "output_type": "stream",
     "text": [
      "API key 1 rate limited. Waiting 0 seconds.\n"
     ]
    },
    {
     "name": "stderr",
     "output_type": "stream",
     "text": [
      "Processing tweet batches:  18%|█▊        | 1283/7043 [46:12<3:14:07,  2.02s/it]"
     ]
    },
    {
     "name": "stdout",
     "output_type": "stream",
     "text": [
      "API key 2 rate limited. Waiting 0 seconds.\n",
      "API key 1 rate limited. Waiting 0 seconds.\n",
      "API key 1 rate limited. Waiting 0 seconds.\n"
     ]
    },
    {
     "name": "stderr",
     "output_type": "stream",
     "text": [
      "Processing tweet batches:  18%|█▊        | 1284/7043 [46:14<3:17:44,  2.06s/it]"
     ]
    },
    {
     "name": "stdout",
     "output_type": "stream",
     "text": [
      "API key 2 rate limited. Waiting 0 seconds.\n"
     ]
    },
    {
     "name": "stderr",
     "output_type": "stream",
     "text": [
      "Processing tweet batches:  18%|█▊        | 1286/7043 [46:17<2:49:19,  1.76s/it]"
     ]
    },
    {
     "name": "stdout",
     "output_type": "stream",
     "text": [
      "API key 2 rate limited. Waiting 0 seconds.\n",
      "API key 2 rate limited. Waiting 0 seconds.\n"
     ]
    },
    {
     "name": "stderr",
     "output_type": "stream",
     "text": [
      "Processing tweet batches:  18%|█▊        | 1288/7043 [46:20<2:42:50,  1.70s/it]"
     ]
    },
    {
     "name": "stdout",
     "output_type": "stream",
     "text": [
      "API key 1 rate limited. Waiting 0 seconds.\n"
     ]
    },
    {
     "name": "stderr",
     "output_type": "stream",
     "text": [
      "Processing tweet batches:  18%|█▊        | 1290/7043 [46:24<2:47:00,  1.74s/it]"
     ]
    },
    {
     "name": "stdout",
     "output_type": "stream",
     "text": [
      "API key 2 rate limited. Waiting 0 seconds.\n",
      "API key 1 rate limited. Waiting 0 seconds.\n"
     ]
    },
    {
     "name": "stderr",
     "output_type": "stream",
     "text": [
      "Processing tweet batches:  18%|█▊        | 1291/7043 [46:26<3:02:33,  1.90s/it]"
     ]
    },
    {
     "name": "stdout",
     "output_type": "stream",
     "text": [
      "API key 2 rate limited. Waiting 0 seconds.API key 1 rate limited. Waiting 0 seconds.\n",
      "\n",
      "API key 1 rate limited. Waiting 0 seconds.\n"
     ]
    },
    {
     "name": "stderr",
     "output_type": "stream",
     "text": [
      "Processing tweet batches:  18%|█▊        | 1292/7043 [46:28<3:05:46,  1.94s/it]"
     ]
    },
    {
     "name": "stdout",
     "output_type": "stream",
     "text": [
      "API key 1 rate limited. Waiting 0 seconds.\n",
      "API key 1 rate limited. Waiting 0 seconds.\n",
      "API key 1 rate limited. Waiting 0 seconds.\n"
     ]
    },
    {
     "name": "stderr",
     "output_type": "stream",
     "text": [
      "Processing tweet batches:  18%|█▊        | 1294/7043 [46:31<2:53:52,  1.81s/it]"
     ]
    },
    {
     "name": "stdout",
     "output_type": "stream",
     "text": [
      "API key 1 rate limited. Waiting 0 seconds.\n"
     ]
    },
    {
     "name": "stderr",
     "output_type": "stream",
     "text": [
      "Processing tweet batches:  18%|█▊        | 1295/7043 [46:33<2:46:37,  1.74s/it]"
     ]
    },
    {
     "name": "stdout",
     "output_type": "stream",
     "text": [
      "API key 1 rate limited. Waiting 0 seconds.\n"
     ]
    },
    {
     "name": "stderr",
     "output_type": "stream",
     "text": [
      "Processing tweet batches:  18%|█▊        | 1297/7043 [46:37<2:54:43,  1.82s/it]"
     ]
    },
    {
     "name": "stdout",
     "output_type": "stream",
     "text": [
      "API key 2 rate limited. Waiting 0 seconds.\n"
     ]
    },
    {
     "name": "stderr",
     "output_type": "stream",
     "text": [
      "Processing tweet batches:  18%|█▊        | 1298/7043 [46:39<2:50:30,  1.78s/it]"
     ]
    },
    {
     "name": "stdout",
     "output_type": "stream",
     "text": [
      "API key 2 rate limited. Waiting 0 seconds.\n"
     ]
    },
    {
     "name": "stderr",
     "output_type": "stream",
     "text": [
      "Processing tweet batches:  18%|█▊        | 1299/7043 [46:41<3:05:58,  1.94s/it]"
     ]
    },
    {
     "name": "stdout",
     "output_type": "stream",
     "text": [
      "API key 2 rate limited. Waiting 0 seconds.\n",
      "\n",
      "Saved 5200 processed tweets to ../data/labeled_stock_tweets_partial.csv\n"
     ]
    },
    {
     "name": "stderr",
     "output_type": "stream",
     "text": [
      "Processing tweet batches:  18%|█▊        | 1301/7043 [46:45<3:22:01,  2.11s/it]"
     ]
    },
    {
     "name": "stdout",
     "output_type": "stream",
     "text": [
      "API key 2 rate limited. Waiting 0 seconds.\n"
     ]
    },
    {
     "name": "stderr",
     "output_type": "stream",
     "text": [
      "Processing tweet batches:  19%|█▊        | 1303/7043 [46:49<2:59:04,  1.87s/it]"
     ]
    },
    {
     "name": "stdout",
     "output_type": "stream",
     "text": [
      "API key 1 rate limited. Waiting 0 seconds.\n",
      "API key 1 rate limited. Waiting 0 seconds.\n"
     ]
    },
    {
     "name": "stderr",
     "output_type": "stream",
     "text": [
      "Processing tweet batches:  19%|█▊        | 1305/7043 [46:53<3:10:29,  1.99s/it]"
     ]
    },
    {
     "name": "stdout",
     "output_type": "stream",
     "text": [
      "API key 2 rate limited. Waiting 0 seconds.\n",
      "API key 2 rate limited. Waiting 0 seconds.\n"
     ]
    },
    {
     "name": "stderr",
     "output_type": "stream",
     "text": [
      "Processing tweet batches:  19%|█▊        | 1307/7043 [46:57<3:00:58,  1.89s/it]"
     ]
    },
    {
     "name": "stdout",
     "output_type": "stream",
     "text": [
      "API key 2 rate limited. Waiting 0 seconds.\n",
      "API key 2 rate limited. Waiting 0 seconds.\n"
     ]
    },
    {
     "name": "stderr",
     "output_type": "stream",
     "text": [
      "Processing tweet batches:  19%|█▊        | 1314/7043 [47:10<2:58:49,  1.87s/it]"
     ]
    },
    {
     "name": "stdout",
     "output_type": "stream",
     "text": [
      "API key 1 rate limited. Waiting 0 seconds.\n"
     ]
    },
    {
     "name": "stderr",
     "output_type": "stream",
     "text": [
      "Processing tweet batches:  19%|█▊        | 1315/7043 [47:12<2:56:29,  1.85s/it]"
     ]
    },
    {
     "name": "stdout",
     "output_type": "stream",
     "text": [
      "API key 1 rate limited. Waiting 0 seconds.API key 2 rate limited. Waiting 0 seconds.\n",
      "\n"
     ]
    },
    {
     "name": "stderr",
     "output_type": "stream",
     "text": [
      "Processing tweet batches:  19%|█▊        | 1317/7043 [47:15<2:42:56,  1.71s/it]"
     ]
    },
    {
     "name": "stdout",
     "output_type": "stream",
     "text": [
      "API key 1 rate limited. Waiting 0 seconds.\n",
      "API key 1 rate limited. Waiting 0 seconds.\n"
     ]
    },
    {
     "name": "stderr",
     "output_type": "stream",
     "text": [
      "Processing tweet batches:  19%|█▊        | 1318/7043 [47:18<3:16:04,  2.05s/it]"
     ]
    },
    {
     "name": "stdout",
     "output_type": "stream",
     "text": [
      "API key 1 rate limited. Waiting 0 seconds.\n",
      "API key 1 rate limited. Waiting 0 seconds.\n"
     ]
    },
    {
     "name": "stderr",
     "output_type": "stream",
     "text": [
      "Processing tweet batches:  19%|█▊        | 1319/7043 [47:20<3:10:38,  2.00s/it]"
     ]
    },
    {
     "name": "stdout",
     "output_type": "stream",
     "text": [
      "API key 1 rate limited. Waiting 0 seconds.\n",
      "API key 1 rate limited. Waiting 0 seconds.\n"
     ]
    },
    {
     "name": "stderr",
     "output_type": "stream",
     "text": [
      "Processing tweet batches:  19%|█▊        | 1320/7043 [47:23<3:28:23,  2.18s/it]"
     ]
    },
    {
     "name": "stdout",
     "output_type": "stream",
     "text": [
      "API key 2 rate limited. Waiting 0 seconds.\n",
      "API key 2 rate limited. Waiting 0 seconds.\n"
     ]
    },
    {
     "name": "stderr",
     "output_type": "stream",
     "text": [
      "Processing tweet batches:  19%|█▉        | 1321/7043 [47:25<3:18:34,  2.08s/it]"
     ]
    },
    {
     "name": "stdout",
     "output_type": "stream",
     "text": [
      "API key 1 rate limited. Waiting 0 seconds.\n",
      "API key 2 rate limited. Waiting 0 seconds.\n"
     ]
    },
    {
     "name": "stderr",
     "output_type": "stream",
     "text": [
      "Processing tweet batches:  19%|█▉        | 1322/7043 [47:27<3:13:30,  2.03s/it]"
     ]
    },
    {
     "name": "stdout",
     "output_type": "stream",
     "text": [
      "API key 1 rate limited. Waiting 0 seconds.\n",
      "API key 1 rate limited. Waiting 0 seconds.\n",
      "API key 2 rate limited. Waiting 0 seconds.\n"
     ]
    },
    {
     "name": "stderr",
     "output_type": "stream",
     "text": [
      "Processing tweet batches:  19%|█▉        | 1324/7043 [47:31<3:11:36,  2.01s/it]"
     ]
    },
    {
     "name": "stdout",
     "output_type": "stream",
     "text": [
      "API key 2 rate limited. Waiting 0 seconds.\n",
      "API key 1 rate limited. Waiting 0 seconds.\n",
      "API key 2 rate limited. Waiting 0 seconds.\n",
      "\n",
      "Saved 5300 processed tweets to ../data/labeled_stock_tweets_partial.csv\n"
     ]
    },
    {
     "name": "stderr",
     "output_type": "stream",
     "text": [
      "Processing tweet batches:  19%|█▉        | 1325/7043 [47:33<3:14:11,  2.04s/it]"
     ]
    },
    {
     "name": "stdout",
     "output_type": "stream",
     "text": [
      "API key 2 rate limited. Waiting 0 seconds.\n"
     ]
    },
    {
     "name": "stderr",
     "output_type": "stream",
     "text": [
      "Processing tweet batches:  19%|█▉        | 1326/7043 [47:35<3:10:04,  1.99s/it]"
     ]
    },
    {
     "name": "stdout",
     "output_type": "stream",
     "text": [
      "API key 2 rate limited. Waiting 0 seconds.\n"
     ]
    },
    {
     "name": "stderr",
     "output_type": "stream",
     "text": [
      "Processing tweet batches:  19%|█▉        | 1328/7043 [47:40<3:23:08,  2.13s/it]"
     ]
    },
    {
     "name": "stdout",
     "output_type": "stream",
     "text": [
      "API key 1 rate limited. Waiting 0 seconds.\n",
      "API key 1 rate limited. Waiting 0 seconds.\n"
     ]
    },
    {
     "name": "stderr",
     "output_type": "stream",
     "text": [
      "Processing tweet batches:  19%|█▉        | 1329/7043 [47:41<3:17:16,  2.07s/it]"
     ]
    },
    {
     "name": "stdout",
     "output_type": "stream",
     "text": [
      "API key 1 rate limited. Waiting 0 seconds.\n",
      "API key 1 rate limited. Waiting 0 seconds.\n"
     ]
    },
    {
     "name": "stderr",
     "output_type": "stream",
     "text": [
      "Processing tweet batches:  19%|█▉        | 1330/7043 [47:43<3:12:29,  2.02s/it]"
     ]
    },
    {
     "name": "stdout",
     "output_type": "stream",
     "text": [
      "API key 1 rate limited. Waiting 0 seconds.\n",
      "API key 1 rate limited. Waiting 0 seconds.\n",
      "API key 1 rate limited. Waiting 0 seconds.\n",
      "API key 1 rate limited. Waiting 0 seconds.\n"
     ]
    },
    {
     "name": "stderr",
     "output_type": "stream",
     "text": [
      "Processing tweet batches:  19%|█▉        | 1332/7043 [47:48<3:11:43,  2.01s/it]"
     ]
    },
    {
     "name": "stdout",
     "output_type": "stream",
     "text": [
      "API key 1 rate limited. Waiting 0 seconds.\n"
     ]
    },
    {
     "name": "stderr",
     "output_type": "stream",
     "text": [
      "Processing tweet batches:  19%|█▉        | 1334/7043 [47:52<3:13:50,  2.04s/it]"
     ]
    },
    {
     "name": "stdout",
     "output_type": "stream",
     "text": [
      "API key 2 rate limited. Waiting 0 seconds.\n",
      "API key 2 rate limited. Waiting 0 seconds.\n"
     ]
    },
    {
     "name": "stderr",
     "output_type": "stream",
     "text": [
      "Processing tweet batches:  19%|█▉        | 1335/7043 [47:54<3:09:45,  1.99s/it]"
     ]
    },
    {
     "name": "stdout",
     "output_type": "stream",
     "text": [
      "API key 1 rate limited. Waiting 0 seconds.\n",
      "API key 2 rate limited. Waiting 0 seconds.\n"
     ]
    },
    {
     "name": "stderr",
     "output_type": "stream",
     "text": [
      "Processing tweet batches:  19%|█▉        | 1336/7043 [47:56<3:14:24,  2.04s/it]"
     ]
    },
    {
     "name": "stdout",
     "output_type": "stream",
     "text": [
      "API key 2 rate limited. Waiting 0 seconds.\n"
     ]
    },
    {
     "name": "stderr",
     "output_type": "stream",
     "text": [
      "Processing tweet batches:  19%|█▉        | 1337/7043 [47:58<3:05:34,  1.95s/it]"
     ]
    },
    {
     "name": "stdout",
     "output_type": "stream",
     "text": [
      "API key 1 rate limited. Waiting 0 seconds.\n",
      "API key 2 rate limited. Waiting 0 seconds.\n",
      "API key 2 rate limited. Waiting 0 seconds.\n",
      "API key 2 rate limited. Waiting 0 seconds.\n"
     ]
    },
    {
     "name": "stderr",
     "output_type": "stream",
     "text": [
      "Processing tweet batches:  19%|█▉        | 1338/7043 [47:59<2:59:19,  1.89s/it]"
     ]
    },
    {
     "name": "stdout",
     "output_type": "stream",
     "text": [
      "API key 1 rate limited. Waiting 0 seconds.\n"
     ]
    },
    {
     "name": "stderr",
     "output_type": "stream",
     "text": [
      "Processing tweet batches:  19%|█▉        | 1339/7043 [48:01<2:50:49,  1.80s/it]"
     ]
    },
    {
     "name": "stdout",
     "output_type": "stream",
     "text": [
      "API key 1 rate limited. Waiting 0 seconds.\n",
      "API key 1 rate limited. Waiting 0 seconds.\n"
     ]
    },
    {
     "name": "stderr",
     "output_type": "stream",
     "text": [
      "Processing tweet batches:  19%|█▉        | 1340/7043 [48:03<2:49:57,  1.79s/it]"
     ]
    },
    {
     "name": "stdout",
     "output_type": "stream",
     "text": [
      "API key 2 rate limited. Waiting 0 seconds.\n",
      "API key 2 rate limited. Waiting 0 seconds.\n"
     ]
    },
    {
     "name": "stderr",
     "output_type": "stream",
     "text": [
      "Processing tweet batches:  19%|█▉        | 1341/7043 [48:05<3:04:56,  1.95s/it]"
     ]
    },
    {
     "name": "stdout",
     "output_type": "stream",
     "text": [
      "API key 2 rate limited. Waiting 0 seconds.\n",
      "API key 2 rate limited. Waiting 0 seconds.\n",
      "API key 2 rate limited. Waiting 0 seconds.\n",
      "API key 2 rate limited. Waiting 0 seconds.\n"
     ]
    },
    {
     "name": "stderr",
     "output_type": "stream",
     "text": [
      "Processing tweet batches:  19%|█▉        | 1343/7043 [48:10<3:23:57,  2.15s/it]"
     ]
    },
    {
     "name": "stdout",
     "output_type": "stream",
     "text": [
      "API key 2 rate limited. Waiting 0 seconds.\n"
     ]
    },
    {
     "name": "stderr",
     "output_type": "stream",
     "text": [
      "Processing tweet batches:  19%|█▉        | 1344/7043 [48:11<3:06:13,  1.96s/it]"
     ]
    },
    {
     "name": "stdout",
     "output_type": "stream",
     "text": [
      "API key 2 rate limited. Waiting 0 seconds.\n",
      "API key 2 rate limited. Waiting 0 seconds.\n",
      "API key 2 rate limited. Waiting 0 seconds.\n"
     ]
    },
    {
     "name": "stderr",
     "output_type": "stream",
     "text": [
      "Processing tweet batches:  19%|█▉        | 1345/7043 [48:13<2:59:08,  1.89s/it]"
     ]
    },
    {
     "name": "stdout",
     "output_type": "stream",
     "text": [
      "API key 1 rate limited. Waiting 0 seconds.\n"
     ]
    },
    {
     "name": "stderr",
     "output_type": "stream",
     "text": [
      "Processing tweet batches:  19%|█▉        | 1346/7043 [48:15<3:10:00,  2.00s/it]"
     ]
    },
    {
     "name": "stdout",
     "output_type": "stream",
     "text": [
      "API key 1 rate limited. Waiting 0 seconds.\n"
     ]
    },
    {
     "name": "stderr",
     "output_type": "stream",
     "text": [
      "Processing tweet batches:  19%|█▉        | 1347/7043 [48:17<3:00:18,  1.90s/it]"
     ]
    },
    {
     "name": "stdout",
     "output_type": "stream",
     "text": [
      "API key 1 rate limited. Waiting 0 seconds.\n"
     ]
    },
    {
     "name": "stderr",
     "output_type": "stream",
     "text": [
      "Processing tweet batches:  19%|█▉        | 1349/7043 [48:21<3:05:13,  1.95s/it]"
     ]
    },
    {
     "name": "stdout",
     "output_type": "stream",
     "text": [
      "API key 2 rate limited. Waiting 0 seconds.\n",
      "API key 2 rate limited. Waiting 0 seconds.\n",
      "API key 2 rate limited. Waiting 0 seconds.\n",
      "\n",
      "Saved 5400 processed tweets to ../data/labeled_stock_tweets_partial.csv\n"
     ]
    },
    {
     "name": "stderr",
     "output_type": "stream",
     "text": [
      "Processing tweet batches:  19%|█▉        | 1353/7043 [48:28<2:44:17,  1.73s/it]"
     ]
    },
    {
     "name": "stdout",
     "output_type": "stream",
     "text": [
      "API key 1 rate limited. Waiting 0 seconds.\n"
     ]
    },
    {
     "name": "stderr",
     "output_type": "stream",
     "text": [
      "Processing tweet batches:  19%|█▉        | 1354/7043 [48:30<2:39:51,  1.69s/it]"
     ]
    },
    {
     "name": "stdout",
     "output_type": "stream",
     "text": [
      "API key 1 rate limited. Waiting 0 seconds.\n"
     ]
    },
    {
     "name": "stderr",
     "output_type": "stream",
     "text": [
      "Processing tweet batches:  19%|█▉        | 1358/7043 [48:39<3:13:47,  2.05s/it]"
     ]
    },
    {
     "name": "stdout",
     "output_type": "stream",
     "text": [
      "API key 2 rate limited. Waiting 0 seconds.API key 1 rate limited. Waiting 0 seconds.\n",
      "\n"
     ]
    },
    {
     "name": "stderr",
     "output_type": "stream",
     "text": [
      "Processing tweet batches:  19%|█▉        | 1359/7043 [48:41<3:10:56,  2.02s/it]"
     ]
    },
    {
     "name": "stdout",
     "output_type": "stream",
     "text": [
      "API key 2 rate limited. Waiting 0 seconds.\n",
      "API key 2 rate limited. Waiting 0 seconds.\n"
     ]
    },
    {
     "name": "stderr",
     "output_type": "stream",
     "text": [
      "Processing tweet batches:  19%|█▉        | 1360/7043 [48:44<3:37:47,  2.30s/it]"
     ]
    },
    {
     "name": "stdout",
     "output_type": "stream",
     "text": [
      "API key 2 rate limited. Waiting 0 seconds.\n",
      "API key 2 rate limited. Waiting 0 seconds.\n"
     ]
    },
    {
     "name": "stderr",
     "output_type": "stream",
     "text": [
      "Processing tweet batches:  19%|█▉        | 1361/7043 [48:47<3:41:30,  2.34s/it]"
     ]
    },
    {
     "name": "stdout",
     "output_type": "stream",
     "text": [
      "API key 2 rate limited. Waiting 0 seconds.\n",
      "API key 1 rate limited. Waiting 0 seconds.\n"
     ]
    },
    {
     "name": "stderr",
     "output_type": "stream",
     "text": [
      "Processing tweet batches:  19%|█▉        | 1362/7043 [48:49<3:43:25,  2.36s/it]"
     ]
    },
    {
     "name": "stdout",
     "output_type": "stream",
     "text": [
      "API key 2 rate limited. Waiting 0 seconds.\n"
     ]
    },
    {
     "name": "stderr",
     "output_type": "stream",
     "text": [
      "Processing tweet batches:  19%|█▉        | 1363/7043 [48:51<3:23:03,  2.15s/it]"
     ]
    },
    {
     "name": "stdout",
     "output_type": "stream",
     "text": [
      "API key 2 rate limited. Waiting 0 seconds.\n",
      "API key 2 rate limited. Waiting 0 seconds.\n"
     ]
    },
    {
     "name": "stderr",
     "output_type": "stream",
     "text": [
      "Processing tweet batches:  19%|█▉        | 1364/7043 [48:52<3:14:30,  2.06s/it]"
     ]
    },
    {
     "name": "stdout",
     "output_type": "stream",
     "text": [
      "API key 2 rate limited. Waiting 0 seconds.\n"
     ]
    },
    {
     "name": "stderr",
     "output_type": "stream",
     "text": [
      "Processing tweet batches:  19%|█▉        | 1365/7043 [48:55<3:21:17,  2.13s/it]"
     ]
    },
    {
     "name": "stdout",
     "output_type": "stream",
     "text": [
      "API key 2 rate limited. Waiting 0 seconds.\n"
     ]
    },
    {
     "name": "stderr",
     "output_type": "stream",
     "text": [
      "Processing tweet batches:  19%|█▉        | 1366/7043 [48:57<3:18:34,  2.10s/it]"
     ]
    },
    {
     "name": "stdout",
     "output_type": "stream",
     "text": [
      "API key 1 rate limited. Waiting 0 seconds.\n"
     ]
    },
    {
     "name": "stderr",
     "output_type": "stream",
     "text": [
      "Processing tweet batches:  19%|█▉        | 1367/7043 [48:59<3:15:35,  2.07s/it]"
     ]
    },
    {
     "name": "stdout",
     "output_type": "stream",
     "text": [
      "API key 2 rate limited. Waiting 0 seconds.\n"
     ]
    },
    {
     "name": "stderr",
     "output_type": "stream",
     "text": [
      "Processing tweet batches:  19%|█▉        | 1368/7043 [49:01<3:10:47,  2.02s/it]"
     ]
    },
    {
     "name": "stdout",
     "output_type": "stream",
     "text": [
      "API key 1 rate limited. Waiting 0 seconds.API key 2 rate limited. Waiting 0 seconds.\n",
      "\n"
     ]
    },
    {
     "name": "stderr",
     "output_type": "stream",
     "text": [
      "Processing tweet batches:  19%|█▉        | 1369/7043 [49:03<3:18:31,  2.10s/it]"
     ]
    },
    {
     "name": "stdout",
     "output_type": "stream",
     "text": [
      "API key 2 rate limited. Waiting 0 seconds.\n"
     ]
    },
    {
     "name": "stderr",
     "output_type": "stream",
     "text": [
      "Processing tweet batches:  19%|█▉        | 1370/7043 [49:05<3:14:10,  2.05s/it]"
     ]
    },
    {
     "name": "stdout",
     "output_type": "stream",
     "text": [
      "API key 2 rate limited. Waiting 0 seconds.API key 1 rate limited. Waiting 0 seconds.\n",
      "\n",
      "API key 2 rate limited. Waiting 0 seconds.\n",
      "API key 1 rate limited. Waiting 0 seconds.\n"
     ]
    },
    {
     "name": "stderr",
     "output_type": "stream",
     "text": [
      "Processing tweet batches:  19%|█▉        | 1371/7043 [49:08<3:56:33,  2.50s/it]"
     ]
    },
    {
     "name": "stdout",
     "output_type": "stream",
     "text": [
      "API key 1 rate limited. Waiting 0 seconds.\n"
     ]
    },
    {
     "name": "stderr",
     "output_type": "stream",
     "text": [
      "Processing tweet batches:  20%|█▉        | 1374/7043 [49:13<3:01:18,  1.92s/it]"
     ]
    },
    {
     "name": "stdout",
     "output_type": "stream",
     "text": [
      "\n",
      "Saved 5500 processed tweets to ../data/labeled_stock_tweets_partial.csv\n"
     ]
    },
    {
     "name": "stderr",
     "output_type": "stream",
     "text": [
      "Processing tweet batches:  20%|█▉        | 1376/7043 [49:17<3:04:46,  1.96s/it]"
     ]
    },
    {
     "name": "stdout",
     "output_type": "stream",
     "text": [
      "API key 2 rate limited. Waiting 0 seconds.\n"
     ]
    },
    {
     "name": "stderr",
     "output_type": "stream",
     "text": [
      "Processing tweet batches:  20%|█▉        | 1377/7043 [49:19<3:05:12,  1.96s/it]"
     ]
    },
    {
     "name": "stdout",
     "output_type": "stream",
     "text": [
      "API key 1 rate limited. Waiting 0 seconds.API key 2 rate limited. Waiting 0 seconds.\n",
      "\n",
      "API key 2 rate limited. Waiting 0 seconds.\n"
     ]
    },
    {
     "name": "stderr",
     "output_type": "stream",
     "text": [
      "Processing tweet batches:  20%|█▉        | 1379/7043 [49:23<2:48:43,  1.79s/it]"
     ]
    },
    {
     "name": "stdout",
     "output_type": "stream",
     "text": [
      "API key 2 rate limited. Waiting 0 seconds.\n"
     ]
    },
    {
     "name": "stderr",
     "output_type": "stream",
     "text": [
      "Processing tweet batches:  20%|█▉        | 1380/7043 [49:25<3:01:17,  1.92s/it]"
     ]
    },
    {
     "name": "stdout",
     "output_type": "stream",
     "text": [
      "API key 1 rate limited. Waiting 0 seconds.\n"
     ]
    },
    {
     "name": "stderr",
     "output_type": "stream",
     "text": [
      "Processing tweet batches:  20%|█▉        | 1381/7043 [49:27<2:53:29,  1.84s/it]"
     ]
    },
    {
     "name": "stdout",
     "output_type": "stream",
     "text": [
      "API key 1 rate limited. Waiting 0 seconds.\n",
      "API key 1 rate limited. Waiting 0 seconds.\n"
     ]
    },
    {
     "name": "stderr",
     "output_type": "stream",
     "text": [
      "Processing tweet batches:  20%|█▉        | 1382/7043 [49:28<2:54:45,  1.85s/it]"
     ]
    },
    {
     "name": "stdout",
     "output_type": "stream",
     "text": [
      "API key 1 rate limited. Waiting 0 seconds.\n",
      "API key 1 rate limited. Waiting 0 seconds.\n"
     ]
    },
    {
     "name": "stderr",
     "output_type": "stream",
     "text": [
      "Processing tweet batches:  20%|█▉        | 1383/7043 [49:30<2:52:50,  1.83s/it]"
     ]
    },
    {
     "name": "stdout",
     "output_type": "stream",
     "text": [
      "API key 1 rate limited. Waiting 0 seconds.\n",
      "API key 1 rate limited. Waiting 0 seconds.\n"
     ]
    },
    {
     "name": "stderr",
     "output_type": "stream",
     "text": [
      "Processing tweet batches:  20%|█▉        | 1384/7043 [49:33<3:09:33,  2.01s/it]"
     ]
    },
    {
     "name": "stdout",
     "output_type": "stream",
     "text": [
      "API key 1 rate limited. Waiting 0 seconds.\n"
     ]
    },
    {
     "name": "stderr",
     "output_type": "stream",
     "text": [
      "Processing tweet batches:  20%|█▉        | 1387/7043 [49:39<3:08:11,  2.00s/it]"
     ]
    },
    {
     "name": "stdout",
     "output_type": "stream",
     "text": [
      "API key 1 rate limited. Waiting 0 seconds.\n",
      "API key 1 rate limited. Waiting 0 seconds.\n",
      "API key 2 rate limited. Waiting 0 seconds.\n",
      "API key 2 rate limited. Waiting 0 seconds.\n",
      "API key 1 rate limited. Waiting 0 seconds.\n"
     ]
    },
    {
     "name": "stderr",
     "output_type": "stream",
     "text": [
      "Processing tweet batches:  20%|█▉        | 1390/7043 [49:44<2:49:34,  1.80s/it]"
     ]
    },
    {
     "name": "stdout",
     "output_type": "stream",
     "text": [
      "API key 1 rate limited. Waiting 0 seconds.\n",
      "API key 2 rate limited. Waiting 0 seconds.\n",
      "API key 1 rate limited. Waiting 0 seconds.\n"
     ]
    },
    {
     "name": "stderr",
     "output_type": "stream",
     "text": [
      "Processing tweet batches:  20%|█▉        | 1392/7043 [49:48<2:55:39,  1.87s/it]"
     ]
    },
    {
     "name": "stdout",
     "output_type": "stream",
     "text": [
      "API key 2 rate limited. Waiting 0 seconds.\n"
     ]
    },
    {
     "name": "stderr",
     "output_type": "stream",
     "text": [
      "Processing tweet batches:  20%|█▉        | 1393/7043 [49:51<3:33:37,  2.27s/it]"
     ]
    },
    {
     "name": "stdout",
     "output_type": "stream",
     "text": [
      "API key 2 rate limited. Waiting 0 seconds.\n"
     ]
    },
    {
     "name": "stderr",
     "output_type": "stream",
     "text": [
      "Processing tweet batches:  20%|█▉        | 1394/7043 [49:53<3:21:36,  2.14s/it]"
     ]
    },
    {
     "name": "stdout",
     "output_type": "stream",
     "text": [
      "API key 2 rate limited. Waiting 0 seconds.\n",
      "API key 1 rate limited. Waiting 0 seconds.\n",
      "API key 2 rate limited. Waiting 0 seconds.\n",
      "API key 1 rate limited. Waiting 0 seconds.\n"
     ]
    },
    {
     "name": "stderr",
     "output_type": "stream",
     "text": [
      "Processing tweet batches:  20%|█▉        | 1395/7043 [49:56<3:44:55,  2.39s/it]"
     ]
    },
    {
     "name": "stdout",
     "output_type": "stream",
     "text": [
      "API key 1 rate limited. Waiting 0 seconds.\n"
     ]
    },
    {
     "name": "stderr",
     "output_type": "stream",
     "text": [
      "Processing tweet batches:  20%|█▉        | 1396/7043 [49:58<3:25:43,  2.19s/it]"
     ]
    },
    {
     "name": "stdout",
     "output_type": "stream",
     "text": [
      "API key 1 rate limited. Waiting 0 seconds.\n",
      "API key 1 rate limited. Waiting 0 seconds.\n",
      "API key 1 rate limited. Waiting 0 seconds.\n"
     ]
    },
    {
     "name": "stderr",
     "output_type": "stream",
     "text": [
      "Processing tweet batches:  20%|█▉        | 1397/7043 [50:00<3:29:56,  2.23s/it]"
     ]
    },
    {
     "name": "stdout",
     "output_type": "stream",
     "text": [
      "API key 1 rate limited. Waiting 0 seconds.\n",
      "API key 1 rate limited. Waiting 0 seconds.\n",
      "API key 1 rate limited. Waiting 0 seconds.\n"
     ]
    },
    {
     "name": "stderr",
     "output_type": "stream",
     "text": [
      "Processing tweet batches:  20%|█▉        | 1398/7043 [50:02<3:27:34,  2.21s/it]"
     ]
    },
    {
     "name": "stdout",
     "output_type": "stream",
     "text": [
      "API key 1 rate limited. Waiting 0 seconds.API key 2 rate limited. Waiting 0 seconds.\n",
      "\n",
      "API key 2 rate limited. Waiting 0 seconds.\n"
     ]
    },
    {
     "name": "stderr",
     "output_type": "stream",
     "text": [
      "Processing tweet batches:  20%|█▉        | 1399/7043 [50:05<3:32:09,  2.26s/it]"
     ]
    },
    {
     "name": "stdout",
     "output_type": "stream",
     "text": [
      "\n",
      "Saved 5600 processed tweets to ../data/labeled_stock_tweets_partial.csv\n"
     ]
    },
    {
     "name": "stderr",
     "output_type": "stream",
     "text": [
      "Processing tweet batches:  20%|█▉        | 1400/7043 [50:06<3:15:06,  2.07s/it]"
     ]
    },
    {
     "name": "stdout",
     "output_type": "stream",
     "text": [
      "API key 2 rate limited. Waiting 0 seconds.\n",
      "API key 2 rate limited. Waiting 0 seconds.\n",
      "API key 2 rate limited. Waiting 0 seconds.\n"
     ]
    },
    {
     "name": "stderr",
     "output_type": "stream",
     "text": [
      "Processing tweet batches:  20%|█▉        | 1401/7043 [50:09<3:15:43,  2.08s/it]"
     ]
    },
    {
     "name": "stdout",
     "output_type": "stream",
     "text": [
      "API key 2 rate limited. Waiting 0 seconds.API key 1 rate limited. Waiting 0 seconds.\n",
      "\n",
      "API key 2 rate limited. Waiting 0 seconds.\n"
     ]
    },
    {
     "name": "stderr",
     "output_type": "stream",
     "text": [
      "Processing tweet batches:  20%|█▉        | 1403/7043 [50:13<3:24:07,  2.17s/it]"
     ]
    },
    {
     "name": "stdout",
     "output_type": "stream",
     "text": [
      "API key 1 rate limited. Waiting 0 seconds.\n",
      "API key 1 rate limited. Waiting 0 seconds.\n"
     ]
    },
    {
     "name": "stderr",
     "output_type": "stream",
     "text": [
      "Processing tweet batches:  20%|█▉        | 1405/7043 [50:17<3:06:09,  1.98s/it]"
     ]
    },
    {
     "name": "stdout",
     "output_type": "stream",
     "text": [
      "API key 2 rate limited. Waiting 0 seconds.\n"
     ]
    },
    {
     "name": "stderr",
     "output_type": "stream",
     "text": [
      "Processing tweet batches:  20%|█▉        | 1406/7043 [50:18<2:54:51,  1.86s/it]"
     ]
    },
    {
     "name": "stdout",
     "output_type": "stream",
     "text": [
      "API key 2 rate limited. Waiting 0 seconds.\n",
      "API key 1 rate limited. Waiting 0 seconds.\n"
     ]
    },
    {
     "name": "stderr",
     "output_type": "stream",
     "text": [
      "Processing tweet batches:  20%|█▉        | 1407/7043 [50:21<3:03:34,  1.95s/it]"
     ]
    },
    {
     "name": "stdout",
     "output_type": "stream",
     "text": [
      "API key 2 rate limited. Waiting 0 seconds.\n"
     ]
    },
    {
     "name": "stderr",
     "output_type": "stream",
     "text": [
      "Processing tweet batches:  20%|█▉        | 1408/7043 [50:23<3:08:12,  2.00s/it]"
     ]
    },
    {
     "name": "stdout",
     "output_type": "stream",
     "text": [
      "API key 1 rate limited. Waiting 0 seconds.\n",
      "API key 2 rate limited. Waiting 0 seconds.\n",
      "API key 2 rate limited. Waiting 0 seconds.\n"
     ]
    },
    {
     "name": "stderr",
     "output_type": "stream",
     "text": [
      "Processing tweet batches:  20%|██        | 1409/7043 [50:25<3:18:29,  2.11s/it]"
     ]
    },
    {
     "name": "stdout",
     "output_type": "stream",
     "text": [
      "API key 2 rate limited. Waiting 0 seconds.\n"
     ]
    },
    {
     "name": "stderr",
     "output_type": "stream",
     "text": [
      "Processing tweet batches:  20%|██        | 1411/7043 [50:29<3:26:19,  2.20s/it]"
     ]
    },
    {
     "name": "stdout",
     "output_type": "stream",
     "text": [
      "API key 1 rate limited. Waiting 0 seconds.API key 2 rate limited. Waiting 0 seconds.\n",
      "\n",
      "API key 2 rate limited. Waiting 0 seconds.\n",
      "API key 2 rate limited. Waiting 0 seconds.\n"
     ]
    },
    {
     "name": "stderr",
     "output_type": "stream",
     "text": [
      "Processing tweet batches:  20%|██        | 1412/7043 [50:31<3:15:24,  2.08s/it]"
     ]
    },
    {
     "name": "stdout",
     "output_type": "stream",
     "text": [
      "API key 1 rate limited. Waiting 0 seconds.\n"
     ]
    },
    {
     "name": "stderr",
     "output_type": "stream",
     "text": [
      "Processing tweet batches:  20%|██        | 1413/7043 [50:33<3:03:58,  1.96s/it]"
     ]
    },
    {
     "name": "stdout",
     "output_type": "stream",
     "text": [
      "API key 1 rate limited. Waiting 0 seconds.\n",
      "API key 1 rate limited. Waiting 0 seconds.\n"
     ]
    },
    {
     "name": "stderr",
     "output_type": "stream",
     "text": [
      "Processing tweet batches:  20%|██        | 1414/7043 [50:35<3:14:47,  2.08s/it]"
     ]
    },
    {
     "name": "stdout",
     "output_type": "stream",
     "text": [
      "API key 1 rate limited. Waiting 0 seconds.\n"
     ]
    },
    {
     "name": "stderr",
     "output_type": "stream",
     "text": [
      "Processing tweet batches:  20%|██        | 1417/7043 [50:43<4:08:25,  2.65s/it]"
     ]
    },
    {
     "name": "stdout",
     "output_type": "stream",
     "text": [
      "API key 1 rate limited. Waiting 0 seconds.\n"
     ]
    },
    {
     "name": "stderr",
     "output_type": "stream",
     "text": [
      "Processing tweet batches:  20%|██        | 1418/7043 [50:46<3:55:39,  2.51s/it]"
     ]
    },
    {
     "name": "stdout",
     "output_type": "stream",
     "text": [
      "API key 1 rate limited. Waiting 0 seconds.\n",
      "API key 2 rate limited. Waiting 0 seconds.\n",
      "API key 2 rate limited. Waiting 0 seconds.\n"
     ]
    },
    {
     "name": "stderr",
     "output_type": "stream",
     "text": [
      "Processing tweet batches:  20%|██        | 1420/7043 [50:49<3:19:01,  2.12s/it]"
     ]
    },
    {
     "name": "stdout",
     "output_type": "stream",
     "text": [
      "API key 2 rate limited. Waiting 0 seconds.\n",
      "API key 2 rate limited. Waiting 0 seconds.\n",
      "API key 1 rate limited. Waiting 0 seconds.\n",
      "API key 2 rate limited. Waiting 0 seconds.\n",
      "API key 1 rate limited. Waiting 0 seconds.\n"
     ]
    },
    {
     "name": "stderr",
     "output_type": "stream",
     "text": [
      "Processing tweet batches:  20%|██        | 1423/7043 [50:56<3:20:21,  2.14s/it]"
     ]
    },
    {
     "name": "stdout",
     "output_type": "stream",
     "text": [
      "API key 2 rate limited. Waiting 0 seconds.\n"
     ]
    },
    {
     "name": "stderr",
     "output_type": "stream",
     "text": [
      "Processing tweet batches:  20%|██        | 1424/7043 [50:57<3:11:43,  2.05s/it]"
     ]
    },
    {
     "name": "stdout",
     "output_type": "stream",
     "text": [
      "\n",
      "Saved 5700 processed tweets to ../data/labeled_stock_tweets_partial.csv\n"
     ]
    },
    {
     "name": "stderr",
     "output_type": "stream",
     "text": [
      "Processing tweet batches:  20%|██        | 1430/7043 [51:08<2:37:30,  1.68s/it]"
     ]
    },
    {
     "name": "stdout",
     "output_type": "stream",
     "text": [
      "API key 2 rate limited. Waiting 0 seconds.\n"
     ]
    },
    {
     "name": "stderr",
     "output_type": "stream",
     "text": [
      "Processing tweet batches:  20%|██        | 1431/7043 [51:11<2:58:57,  1.91s/it]"
     ]
    },
    {
     "name": "stdout",
     "output_type": "stream",
     "text": [
      "API key 2 rate limited. Waiting 0 seconds.\n",
      "API key 2 rate limited. Waiting 0 seconds.\n"
     ]
    },
    {
     "name": "stderr",
     "output_type": "stream",
     "text": [
      "Processing tweet batches:  20%|██        | 1432/7043 [51:13<3:08:20,  2.01s/it]"
     ]
    },
    {
     "name": "stdout",
     "output_type": "stream",
     "text": [
      "API key 2 rate limited. Waiting 0 seconds.\n",
      "API key 1 rate limited. Waiting 0 seconds.\n",
      "API key 1 rate limited. Waiting 0 seconds.\n"
     ]
    },
    {
     "name": "stderr",
     "output_type": "stream",
     "text": [
      "Processing tweet batches:  20%|██        | 1433/7043 [51:16<3:33:57,  2.29s/it]"
     ]
    },
    {
     "name": "stdout",
     "output_type": "stream",
     "text": [
      "API key 1 rate limited. Waiting 0 seconds.\n"
     ]
    },
    {
     "name": "stderr",
     "output_type": "stream",
     "text": [
      "Processing tweet batches:  20%|██        | 1435/7043 [51:20<3:13:13,  2.07s/it]"
     ]
    },
    {
     "name": "stdout",
     "output_type": "stream",
     "text": [
      "API key 1 rate limited. Waiting 0 seconds.\n",
      "API key 2 rate limited. Waiting 0 seconds.\n",
      "API key 1 rate limited. Waiting 0 seconds.\n"
     ]
    },
    {
     "name": "stderr",
     "output_type": "stream",
     "text": [
      "Processing tweet batches:  20%|██        | 1436/7043 [51:22<3:09:53,  2.03s/it]"
     ]
    },
    {
     "name": "stdout",
     "output_type": "stream",
     "text": [
      "API key 1 rate limited. Waiting 0 seconds.\n"
     ]
    },
    {
     "name": "stderr",
     "output_type": "stream",
     "text": [
      "Processing tweet batches:  20%|██        | 1437/7043 [51:24<3:05:05,  1.98s/it]"
     ]
    },
    {
     "name": "stdout",
     "output_type": "stream",
     "text": [
      "API key 1 rate limited. Waiting 0 seconds.\n"
     ]
    },
    {
     "name": "stderr",
     "output_type": "stream",
     "text": [
      "Processing tweet batches:  20%|██        | 1439/7043 [51:27<2:51:02,  1.83s/it]"
     ]
    },
    {
     "name": "stdout",
     "output_type": "stream",
     "text": [
      "API key 1 rate limited. Waiting 0 seconds.\n",
      "API key 2 rate limited. Waiting 0 seconds.\n"
     ]
    },
    {
     "name": "stderr",
     "output_type": "stream",
     "text": [
      "Processing tweet batches:  20%|██        | 1440/7043 [51:29<2:46:20,  1.78s/it]"
     ]
    },
    {
     "name": "stdout",
     "output_type": "stream",
     "text": [
      "API key 1 rate limited. Waiting 0 seconds.API key 2 rate limited. Waiting 0 seconds.\n",
      "\n"
     ]
    },
    {
     "name": "stderr",
     "output_type": "stream",
     "text": [
      "Processing tweet batches:  20%|██        | 1441/7043 [51:31<3:05:18,  1.98s/it]"
     ]
    },
    {
     "name": "stdout",
     "output_type": "stream",
     "text": [
      "API key 1 rate limited. Waiting 0 seconds.API key 2 rate limited. Waiting 0 seconds.\n",
      "\n",
      "API key 1 rate limited. Waiting 0 seconds.\n",
      "API key 1 rate limited. Waiting 0 seconds.\n"
     ]
    },
    {
     "name": "stderr",
     "output_type": "stream",
     "text": [
      "Processing tweet batches:  20%|██        | 1442/7043 [51:34<3:21:06,  2.15s/it]"
     ]
    },
    {
     "name": "stdout",
     "output_type": "stream",
     "text": [
      "API key 2 rate limited. Waiting 0 seconds.\n"
     ]
    },
    {
     "name": "stderr",
     "output_type": "stream",
     "text": [
      "Processing tweet batches:  21%|██        | 1444/7043 [51:37<2:54:23,  1.87s/it]"
     ]
    },
    {
     "name": "stdout",
     "output_type": "stream",
     "text": [
      "API key 1 rate limited. Waiting 0 seconds.\n",
      "API key 2 rate limited. Waiting 0 seconds.\n"
     ]
    },
    {
     "name": "stderr",
     "output_type": "stream",
     "text": [
      "Processing tweet batches:  21%|██        | 1446/7043 [51:41<2:48:46,  1.81s/it]"
     ]
    },
    {
     "name": "stdout",
     "output_type": "stream",
     "text": [
      "API key 1 rate limited. Waiting 0 seconds.\n"
     ]
    },
    {
     "name": "stderr",
     "output_type": "stream",
     "text": [
      "Processing tweet batches:  21%|██        | 1447/7043 [51:42<2:45:14,  1.77s/it]"
     ]
    },
    {
     "name": "stdout",
     "output_type": "stream",
     "text": [
      "API key 2 rate limited. Waiting 0 seconds.\n"
     ]
    },
    {
     "name": "stderr",
     "output_type": "stream",
     "text": [
      "Processing tweet batches:  21%|██        | 1448/7043 [51:44<2:44:49,  1.77s/it]"
     ]
    },
    {
     "name": "stdout",
     "output_type": "stream",
     "text": [
      "API key 1 rate limited. Waiting 0 seconds.\n"
     ]
    },
    {
     "name": "stderr",
     "output_type": "stream",
     "text": [
      "Processing tweet batches:  21%|██        | 1449/7043 [51:47<3:13:47,  2.08s/it]"
     ]
    },
    {
     "name": "stdout",
     "output_type": "stream",
     "text": [
      "API key 2 rate limited. Waiting 0 seconds.\n",
      "API key 2 rate limited. Waiting 0 seconds.\n",
      "API key 2 rate limited. Waiting 0 seconds.\n",
      "\n",
      "Saved 5800 processed tweets to ../data/labeled_stock_tweets_partial.csv\n"
     ]
    },
    {
     "name": "stderr",
     "output_type": "stream",
     "text": [
      "Processing tweet batches:  21%|██        | 1450/7043 [51:49<3:16:18,  2.11s/it]"
     ]
    },
    {
     "name": "stdout",
     "output_type": "stream",
     "text": [
      "API key 1 rate limited. Waiting 0 seconds.\n",
      "API key 1 rate limited. Waiting 0 seconds.\n"
     ]
    },
    {
     "name": "stderr",
     "output_type": "stream",
     "text": [
      "Processing tweet batches:  21%|██        | 1452/7043 [51:52<2:52:08,  1.85s/it]"
     ]
    },
    {
     "name": "stdout",
     "output_type": "stream",
     "text": [
      "API key 2 rate limited. Waiting 0 seconds.\n",
      "API key 2 rate limited. Waiting 0 seconds.\n",
      "API key 2 rate limited. Waiting 0 seconds.\n"
     ]
    },
    {
     "name": "stderr",
     "output_type": "stream",
     "text": [
      "Processing tweet batches:  21%|██        | 1453/7043 [51:55<3:04:26,  1.98s/it]"
     ]
    },
    {
     "name": "stdout",
     "output_type": "stream",
     "text": [
      "API key 1 rate limited. Waiting 0 seconds.\n"
     ]
    },
    {
     "name": "stderr",
     "output_type": "stream",
     "text": [
      "Processing tweet batches:  21%|██        | 1454/7043 [51:57<2:58:20,  1.91s/it]"
     ]
    },
    {
     "name": "stdout",
     "output_type": "stream",
     "text": [
      "API key 1 rate limited. Waiting 0 seconds.\n",
      "API key 2 rate limited. Waiting 0 seconds.\n",
      "API key 2 rate limited. Waiting 0 seconds.\n"
     ]
    },
    {
     "name": "stderr",
     "output_type": "stream",
     "text": [
      "Processing tweet batches:  21%|██        | 1455/7043 [51:59<3:01:36,  1.95s/it]"
     ]
    },
    {
     "name": "stdout",
     "output_type": "stream",
     "text": [
      "API key 2 rate limited. Waiting 0 seconds.\n",
      "API key 2 rate limited. Waiting 0 seconds.\n",
      "API key 2 rate limited. Waiting 0 seconds.\n"
     ]
    },
    {
     "name": "stderr",
     "output_type": "stream",
     "text": [
      "Processing tweet batches:  21%|██        | 1456/7043 [52:01<3:10:24,  2.04s/it]"
     ]
    },
    {
     "name": "stdout",
     "output_type": "stream",
     "text": [
      "API key 1 rate limited. Waiting 0 seconds.\n"
     ]
    },
    {
     "name": "stderr",
     "output_type": "stream",
     "text": [
      "Processing tweet batches:  21%|██        | 1457/7043 [52:02<2:59:01,  1.92s/it]"
     ]
    },
    {
     "name": "stdout",
     "output_type": "stream",
     "text": [
      "API key 2 rate limited. Waiting 0 seconds.\n",
      "API key 2 rate limited. Waiting 0 seconds.\n",
      "API key 1 rate limited. Waiting 0 seconds.\n",
      "API key 1 rate limited. Waiting 0 seconds.\n"
     ]
    },
    {
     "name": "stderr",
     "output_type": "stream",
     "text": [
      "Processing tweet batches:  21%|██        | 1458/7043 [52:05<3:10:20,  2.04s/it]"
     ]
    },
    {
     "name": "stdout",
     "output_type": "stream",
     "text": [
      "API key 2 rate limited. Waiting 0 seconds.\n"
     ]
    },
    {
     "name": "stderr",
     "output_type": "stream",
     "text": [
      "Processing tweet batches:  21%|██        | 1459/7043 [52:07<3:11:36,  2.06s/it]"
     ]
    },
    {
     "name": "stdout",
     "output_type": "stream",
     "text": [
      "API key 1 rate limited. Waiting 0 seconds.\n"
     ]
    },
    {
     "name": "stderr",
     "output_type": "stream",
     "text": [
      "Processing tweet batches:  21%|██        | 1460/7043 [52:09<3:11:46,  2.06s/it]"
     ]
    },
    {
     "name": "stdout",
     "output_type": "stream",
     "text": [
      "API key 2 rate limited. Waiting 0 seconds.\n",
      "API key 1 rate limited. Waiting 0 seconds.\n",
      "API key 1 rate limited. Waiting 0 seconds.\n"
     ]
    },
    {
     "name": "stderr",
     "output_type": "stream",
     "text": [
      "Processing tweet batches:  21%|██        | 1461/7043 [52:12<3:33:34,  2.30s/it]"
     ]
    },
    {
     "name": "stdout",
     "output_type": "stream",
     "text": [
      "API key 1 rate limited. Waiting 0 seconds.\n"
     ]
    },
    {
     "name": "stderr",
     "output_type": "stream",
     "text": [
      "Processing tweet batches:  21%|██        | 1462/7043 [52:14<3:17:50,  2.13s/it]"
     ]
    },
    {
     "name": "stdout",
     "output_type": "stream",
     "text": [
      "API key 1 rate limited. Waiting 0 seconds.\n"
     ]
    },
    {
     "name": "stderr",
     "output_type": "stream",
     "text": [
      "Processing tweet batches:  21%|██        | 1464/7043 [52:17<3:03:21,  1.97s/it]"
     ]
    },
    {
     "name": "stdout",
     "output_type": "stream",
     "text": [
      "API key 2 rate limited. Waiting 0 seconds.\n",
      "API key 2 rate limited. Waiting 0 seconds.\n",
      "API key 2 rate limited. Waiting 0 seconds.\n"
     ]
    },
    {
     "name": "stderr",
     "output_type": "stream",
     "text": [
      "Processing tweet batches:  21%|██        | 1465/7043 [52:19<2:57:52,  1.91s/it]"
     ]
    },
    {
     "name": "stdout",
     "output_type": "stream",
     "text": [
      "API key 2 rate limited. Waiting 0 seconds.\n"
     ]
    },
    {
     "name": "stderr",
     "output_type": "stream",
     "text": [
      "Processing tweet batches:  21%|██        | 1466/7043 [52:22<3:17:49,  2.13s/it]"
     ]
    },
    {
     "name": "stdout",
     "output_type": "stream",
     "text": [
      "API key 1 rate limited. Waiting 0 seconds.\n"
     ]
    },
    {
     "name": "stderr",
     "output_type": "stream",
     "text": [
      "Processing tweet batches:  21%|██        | 1467/7043 [52:23<3:09:27,  2.04s/it]"
     ]
    },
    {
     "name": "stdout",
     "output_type": "stream",
     "text": [
      "API key 1 rate limited. Waiting 0 seconds.\n",
      "API key 1 rate limited. Waiting 0 seconds.\n",
      "API key 2 rate limited. Waiting 0 seconds.\n"
     ]
    },
    {
     "name": "stderr",
     "output_type": "stream",
     "text": [
      "Processing tweet batches:  21%|██        | 1471/7043 [52:30<2:44:19,  1.77s/it]"
     ]
    },
    {
     "name": "stdout",
     "output_type": "stream",
     "text": [
      "API key 1 rate limited. Waiting 0 seconds.\n",
      "API key 1 rate limited. Waiting 0 seconds.\n"
     ]
    },
    {
     "name": "stderr",
     "output_type": "stream",
     "text": [
      "Processing tweet batches:  21%|██        | 1472/7043 [52:32<2:40:05,  1.72s/it]"
     ]
    },
    {
     "name": "stdout",
     "output_type": "stream",
     "text": [
      "API key 1 rate limited. Waiting 0 seconds.\n",
      "API key 1 rate limited. Waiting 0 seconds.\n"
     ]
    },
    {
     "name": "stderr",
     "output_type": "stream",
     "text": [
      "Processing tweet batches:  21%|██        | 1473/7043 [52:35<2:59:37,  1.94s/it]"
     ]
    },
    {
     "name": "stdout",
     "output_type": "stream",
     "text": [
      "API key 1 rate limited. Waiting 0 seconds.\n",
      "API key 1 rate limited. Waiting 0 seconds.\n",
      "API key 2 rate limited. Waiting 0 seconds.\n"
     ]
    },
    {
     "name": "stderr",
     "output_type": "stream",
     "text": [
      "Processing tweet batches:  21%|██        | 1474/7043 [52:37<3:06:08,  2.01s/it]"
     ]
    },
    {
     "name": "stdout",
     "output_type": "stream",
     "text": [
      "API key 1 rate limited. Waiting 0 seconds.\n",
      "\n",
      "Saved 5900 processed tweets to ../data/labeled_stock_tweets_partial.csv\n"
     ]
    },
    {
     "name": "stderr",
     "output_type": "stream",
     "text": [
      "Processing tweet batches:  21%|██        | 1475/7043 [52:38<2:59:46,  1.94s/it]"
     ]
    },
    {
     "name": "stdout",
     "output_type": "stream",
     "text": [
      "API key 1 rate limited. Waiting 0 seconds.\n",
      "API key 2 rate limited. Waiting 0 seconds.\n",
      "API key 1 rate limited. Waiting 0 seconds.\n",
      "API key 2 rate limited. Waiting 0 seconds.\n"
     ]
    },
    {
     "name": "stderr",
     "output_type": "stream",
     "text": [
      "Processing tweet batches:  21%|██        | 1476/7043 [52:41<3:10:12,  2.05s/it]"
     ]
    },
    {
     "name": "stdout",
     "output_type": "stream",
     "text": [
      "API key 1 rate limited. Waiting 0 seconds.\n"
     ]
    },
    {
     "name": "stderr",
     "output_type": "stream",
     "text": [
      "Processing tweet batches:  21%|██        | 1478/7043 [52:45<3:04:45,  1.99s/it]"
     ]
    },
    {
     "name": "stdout",
     "output_type": "stream",
     "text": [
      "API key 1 rate limited. Waiting 0 seconds.\n"
     ]
    },
    {
     "name": "stderr",
     "output_type": "stream",
     "text": [
      "Processing tweet batches:  21%|██        | 1479/7043 [52:47<3:05:40,  2.00s/it]"
     ]
    },
    {
     "name": "stdout",
     "output_type": "stream",
     "text": [
      "API key 1 rate limited. Waiting 0 seconds.\n"
     ]
    },
    {
     "name": "stderr",
     "output_type": "stream",
     "text": [
      "Processing tweet batches:  21%|██        | 1480/7043 [52:48<2:56:59,  1.91s/it]"
     ]
    },
    {
     "name": "stdout",
     "output_type": "stream",
     "text": [
      "API key 1 rate limited. Waiting 0 seconds.\n"
     ]
    },
    {
     "name": "stderr",
     "output_type": "stream",
     "text": [
      "Processing tweet batches:  21%|██        | 1482/7043 [52:53<3:04:59,  2.00s/it]"
     ]
    },
    {
     "name": "stdout",
     "output_type": "stream",
     "text": [
      "API key 1 rate limited. Waiting 0 seconds.\n"
     ]
    },
    {
     "name": "stderr",
     "output_type": "stream",
     "text": [
      "Processing tweet batches:  21%|██        | 1483/7043 [52:54<2:54:51,  1.89s/it]"
     ]
    },
    {
     "name": "stdout",
     "output_type": "stream",
     "text": [
      "API key 2 rate limited. Waiting 0 seconds.\n"
     ]
    },
    {
     "name": "stderr",
     "output_type": "stream",
     "text": [
      "Processing tweet batches:  21%|██        | 1484/7043 [52:56<2:58:53,  1.93s/it]"
     ]
    },
    {
     "name": "stdout",
     "output_type": "stream",
     "text": [
      "API key 2 rate limited. Waiting 0 seconds.\n"
     ]
    },
    {
     "name": "stderr",
     "output_type": "stream",
     "text": [
      "Processing tweet batches:  21%|██        | 1485/7043 [52:58<2:54:25,  1.88s/it]"
     ]
    },
    {
     "name": "stdout",
     "output_type": "stream",
     "text": [
      "API key 1 rate limited. Waiting 0 seconds.\n",
      "API key 1 rate limited. Waiting 0 seconds.\n",
      "API key 1 rate limited. Waiting 0 seconds.\n",
      "API key 2 rate limited. Waiting 0 seconds.\n",
      "API key 2 rate limited. Waiting 0 seconds.\n"
     ]
    },
    {
     "name": "stderr",
     "output_type": "stream",
     "text": [
      "Processing tweet batches:  21%|██        | 1486/7043 [53:01<3:30:22,  2.27s/it]"
     ]
    },
    {
     "name": "stdout",
     "output_type": "stream",
     "text": [
      "API key 2 rate limited. Waiting 0 seconds.\n"
     ]
    },
    {
     "name": "stderr",
     "output_type": "stream",
     "text": [
      "Processing tweet batches:  21%|██        | 1487/7043 [53:04<3:36:07,  2.33s/it]"
     ]
    },
    {
     "name": "stdout",
     "output_type": "stream",
     "text": [
      "API key 1 rate limited. Waiting 0 seconds.\n",
      "API key 2 rate limited. Waiting 0 seconds.\n"
     ]
    },
    {
     "name": "stderr",
     "output_type": "stream",
     "text": [
      "Processing tweet batches:  21%|██        | 1488/7043 [53:08<4:33:21,  2.95s/it]"
     ]
    },
    {
     "name": "stdout",
     "output_type": "stream",
     "text": [
      "API key 2 rate limited. Waiting 0 seconds.API key 1 rate limited. Waiting 0 seconds.\n",
      "\n"
     ]
    },
    {
     "name": "stderr",
     "output_type": "stream",
     "text": [
      "Processing tweet batches:  21%|██        | 1489/7043 [53:11<4:17:43,  2.78s/it]"
     ]
    },
    {
     "name": "stdout",
     "output_type": "stream",
     "text": [
      "API key 1 rate limited. Waiting 0 seconds.\n"
     ]
    },
    {
     "name": "stderr",
     "output_type": "stream",
     "text": [
      "Processing tweet batches:  21%|██        | 1492/7043 [53:16<3:13:36,  2.09s/it]"
     ]
    },
    {
     "name": "stdout",
     "output_type": "stream",
     "text": [
      "API key 1 rate limited. Waiting 0 seconds.\n",
      "API key 1 rate limited. Waiting 0 seconds.\n"
     ]
    },
    {
     "name": "stderr",
     "output_type": "stream",
     "text": [
      "Processing tweet batches:  21%|██        | 1495/7043 [53:23<3:12:11,  2.08s/it]"
     ]
    },
    {
     "name": "stdout",
     "output_type": "stream",
     "text": [
      "API key 2 rate limited. Waiting 0 seconds.\n"
     ]
    },
    {
     "name": "stderr",
     "output_type": "stream",
     "text": [
      "Processing tweet batches:  21%|██▏       | 1497/7043 [53:26<3:03:45,  1.99s/it]"
     ]
    },
    {
     "name": "stdout",
     "output_type": "stream",
     "text": [
      "API key 2 rate limited. Waiting 0 seconds.\n",
      "API key 1 rate limited. Waiting 0 seconds.\n"
     ]
    },
    {
     "name": "stderr",
     "output_type": "stream",
     "text": [
      "Processing tweet batches:  21%|██▏       | 1498/7043 [53:28<2:56:42,  1.91s/it]"
     ]
    },
    {
     "name": "stdout",
     "output_type": "stream",
     "text": [
      "API key 1 rate limited. Waiting 0 seconds.\n",
      "API key 2 rate limited. Waiting 0 seconds.\n",
      "API key 2 rate limited. Waiting 0 seconds.\n",
      "API key 1 rate limited. Waiting 0 seconds.\n",
      "API key 2 rate limited. Waiting 0 seconds.\n"
     ]
    },
    {
     "name": "stderr",
     "output_type": "stream",
     "text": [
      "Processing tweet batches:  21%|██▏       | 1499/7043 [53:31<3:17:37,  2.14s/it]"
     ]
    },
    {
     "name": "stdout",
     "output_type": "stream",
     "text": [
      "API key 2 rate limited. Waiting 0 seconds.\n",
      "API key 2 rate limited. Waiting 0 seconds.\n",
      "API key 1 rate limited. Waiting 0 seconds.\n",
      "API key 2 rate limited. Waiting 0 seconds.\n",
      "API key 1 rate limited. Waiting 0 seconds.\n",
      "\n",
      "Saved 6000 processed tweets to ../data/labeled_stock_tweets_partial.csv\n"
     ]
    },
    {
     "name": "stderr",
     "output_type": "stream",
     "text": [
      "Processing tweet batches:  21%|██▏       | 1501/7043 [53:35<3:08:09,  2.04s/it]"
     ]
    },
    {
     "name": "stdout",
     "output_type": "stream",
     "text": [
      "API key 2 rate limited. Waiting 0 seconds.\n",
      "API key 2 rate limited. Waiting 0 seconds.\n"
     ]
    },
    {
     "name": "stderr",
     "output_type": "stream",
     "text": [
      "Processing tweet batches:  21%|██▏       | 1502/7043 [53:37<3:13:24,  2.09s/it]"
     ]
    },
    {
     "name": "stdout",
     "output_type": "stream",
     "text": [
      "API key 2 rate limited. Waiting 0 seconds.\n",
      "API key 2 rate limited. Waiting 0 seconds.\n"
     ]
    },
    {
     "name": "stderr",
     "output_type": "stream",
     "text": [
      "Processing tweet batches:  21%|██▏       | 1503/7043 [53:39<3:18:38,  2.15s/it]"
     ]
    },
    {
     "name": "stdout",
     "output_type": "stream",
     "text": [
      "API key 1 rate limited. Waiting 0 seconds.API key 2 rate limited. Waiting 0 seconds.\n",
      "\n"
     ]
    },
    {
     "name": "stderr",
     "output_type": "stream",
     "text": [
      "Processing tweet batches:  21%|██▏       | 1504/7043 [53:41<3:08:18,  2.04s/it]"
     ]
    },
    {
     "name": "stdout",
     "output_type": "stream",
     "text": [
      "API key 2 rate limited. Waiting 0 seconds.API key 1 rate limited. Waiting 0 seconds.\n",
      "\n",
      "API key 1 rate limited. Waiting 0 seconds.\n"
     ]
    },
    {
     "name": "stderr",
     "output_type": "stream",
     "text": [
      "Processing tweet batches:  21%|██▏       | 1507/7043 [53:57<7:52:07,  5.12s/it]"
     ]
    },
    {
     "name": "stdout",
     "output_type": "stream",
     "text": [
      "API key 2 rate limited. Waiting 0 seconds.\n",
      "API key 2 rate limited. Waiting 0 seconds.\n",
      "API key 2 rate limited. Waiting 0 seconds.\n"
     ]
    },
    {
     "name": "stderr",
     "output_type": "stream",
     "text": [
      "Processing tweet batches:  21%|██▏       | 1509/7043 [54:01<5:09:58,  3.36s/it]"
     ]
    },
    {
     "name": "stdout",
     "output_type": "stream",
     "text": [
      "API key 2 rate limited. Waiting 0 seconds.\n",
      "API key 2 rate limited. Waiting 0 seconds.\n",
      "API key 2 rate limited. Waiting 0 seconds.\n",
      "API key 2 rate limited. Waiting 0 seconds.API key 2 rate limited. Waiting 0 seconds.\n",
      "\n"
     ]
    },
    {
     "name": "stderr",
     "output_type": "stream",
     "text": [
      "Processing tweet batches:  21%|██▏       | 1510/7043 [54:03<4:33:53,  2.97s/it]"
     ]
    },
    {
     "name": "stdout",
     "output_type": "stream",
     "text": [
      "API key 1 rate limited. Waiting 0 seconds.\n"
     ]
    },
    {
     "name": "stderr",
     "output_type": "stream",
     "text": [
      "Processing tweet batches:  21%|██▏       | 1511/7043 [54:05<4:08:52,  2.70s/it]"
     ]
    },
    {
     "name": "stdout",
     "output_type": "stream",
     "text": [
      "API key 1 rate limited. Waiting 0 seconds.\n",
      "API key 1 rate limited. Waiting 0 seconds.\n"
     ]
    },
    {
     "name": "stderr",
     "output_type": "stream",
     "text": [
      "Processing tweet batches:  22%|██▏       | 1515/7043 [54:11<2:46:09,  1.80s/it]"
     ]
    },
    {
     "name": "stdout",
     "output_type": "stream",
     "text": [
      "API key 2 rate limited. Waiting 0 seconds.\n"
     ]
    },
    {
     "name": "stderr",
     "output_type": "stream",
     "text": [
      "Processing tweet batches:  22%|██▏       | 1516/7043 [54:13<2:49:35,  1.84s/it]"
     ]
    },
    {
     "name": "stdout",
     "output_type": "stream",
     "text": [
      "API key 2 rate limited. Waiting 0 seconds.\n"
     ]
    },
    {
     "name": "stderr",
     "output_type": "stream",
     "text": [
      "Processing tweet batches:  22%|██▏       | 1518/7043 [54:16<2:28:43,  1.62s/it]"
     ]
    },
    {
     "name": "stdout",
     "output_type": "stream",
     "text": [
      "API key 1 rate limited. Waiting 0 seconds.\n"
     ]
    },
    {
     "name": "stderr",
     "output_type": "stream",
     "text": [
      "Processing tweet batches:  22%|██▏       | 1519/7043 [54:19<2:53:14,  1.88s/it]"
     ]
    },
    {
     "name": "stdout",
     "output_type": "stream",
     "text": [
      "API key 2 rate limited. Waiting 0 seconds.\n"
     ]
    },
    {
     "name": "stderr",
     "output_type": "stream",
     "text": [
      "Processing tweet batches:  22%|██▏       | 1520/7043 [54:21<3:06:16,  2.02s/it]"
     ]
    },
    {
     "name": "stdout",
     "output_type": "stream",
     "text": [
      "API key 2 rate limited. Waiting 0 seconds.\n"
     ]
    },
    {
     "name": "stderr",
     "output_type": "stream",
     "text": [
      "Processing tweet batches:  22%|██▏       | 1521/7043 [54:24<3:26:56,  2.25s/it]"
     ]
    },
    {
     "name": "stdout",
     "output_type": "stream",
     "text": [
      "API key 1 rate limited. Waiting 0 seconds.\n",
      "API key 2 rate limited. Waiting 0 seconds.\n"
     ]
    },
    {
     "name": "stderr",
     "output_type": "stream",
     "text": [
      "Processing tweet batches:  22%|██▏       | 1523/7043 [54:28<3:03:39,  2.00s/it]"
     ]
    },
    {
     "name": "stdout",
     "output_type": "stream",
     "text": [
      "API key 2 rate limited. Waiting 0 seconds.API key 1 rate limited. Waiting 0 seconds.\n",
      "\n",
      "API key 1 rate limited. Waiting 0 seconds.\n",
      "API key 2 rate limited. Waiting 0 seconds.\n",
      "API key 2 rate limited. Waiting 0 seconds.\n",
      "API key 2 rate limited. Waiting 0 seconds.\n"
     ]
    },
    {
     "name": "stderr",
     "output_type": "stream",
     "text": [
      "Processing tweet batches:  22%|██▏       | 1524/7043 [54:30<3:26:49,  2.25s/it]"
     ]
    },
    {
     "name": "stdout",
     "output_type": "stream",
     "text": [
      "API key 1 rate limited. Waiting 0 seconds.\n",
      "API key 1 rate limited. Waiting 0 seconds.\n",
      "\n",
      "Saved 6100 processed tweets to ../data/labeled_stock_tweets_partial.csv\n"
     ]
    },
    {
     "name": "stderr",
     "output_type": "stream",
     "text": [
      "Processing tweet batches:  22%|██▏       | 1526/7043 [54:34<3:10:14,  2.07s/it]"
     ]
    },
    {
     "name": "stdout",
     "output_type": "stream",
     "text": [
      "API key 1 rate limited. Waiting 0 seconds.\n"
     ]
    },
    {
     "name": "stderr",
     "output_type": "stream",
     "text": [
      "Processing tweet batches:  22%|██▏       | 1529/7043 [54:40<2:57:38,  1.93s/it]"
     ]
    },
    {
     "name": "stdout",
     "output_type": "stream",
     "text": [
      "API key 1 rate limited. Waiting 0 seconds.\n",
      "API key 1 rate limited. Waiting 0 seconds.\n",
      "API key 1 rate limited. Waiting 0 seconds.\n"
     ]
    },
    {
     "name": "stderr",
     "output_type": "stream",
     "text": [
      "Processing tweet batches:  22%|██▏       | 1530/7043 [54:42<3:03:45,  2.00s/it]"
     ]
    },
    {
     "name": "stdout",
     "output_type": "stream",
     "text": [
      "API key 1 rate limited. Waiting 0 seconds.\n"
     ]
    },
    {
     "name": "stderr",
     "output_type": "stream",
     "text": [
      "Processing tweet batches:  22%|██▏       | 1531/7043 [54:44<3:04:24,  2.01s/it]"
     ]
    },
    {
     "name": "stdout",
     "output_type": "stream",
     "text": [
      "API key 2 rate limited. Waiting 0 seconds.\n"
     ]
    },
    {
     "name": "stderr",
     "output_type": "stream",
     "text": [
      "Processing tweet batches:  22%|██▏       | 1532/7043 [54:46<2:56:06,  1.92s/it]"
     ]
    },
    {
     "name": "stdout",
     "output_type": "stream",
     "text": [
      "API key 1 rate limited. Waiting 0 seconds.API key 2 rate limited. Waiting 0 seconds.\n",
      "\n",
      "API key 2 rate limited. Waiting 0 seconds.\n"
     ]
    },
    {
     "name": "stderr",
     "output_type": "stream",
     "text": [
      "Processing tweet batches:  22%|██▏       | 1534/7043 [54:50<3:00:42,  1.97s/it]"
     ]
    },
    {
     "name": "stdout",
     "output_type": "stream",
     "text": [
      "API key 2 rate limited. Waiting 0 seconds.\n",
      "API key 2 rate limited. Waiting 0 seconds.\n"
     ]
    },
    {
     "name": "stderr",
     "output_type": "stream",
     "text": [
      "Processing tweet batches:  22%|██▏       | 1535/7043 [54:52<2:57:47,  1.94s/it]"
     ]
    },
    {
     "name": "stdout",
     "output_type": "stream",
     "text": [
      "API key 2 rate limited. Waiting 0 seconds.\n"
     ]
    },
    {
     "name": "stderr",
     "output_type": "stream",
     "text": [
      "Processing tweet batches:  22%|██▏       | 1536/7043 [54:54<2:57:57,  1.94s/it]"
     ]
    },
    {
     "name": "stdout",
     "output_type": "stream",
     "text": [
      "API key 1 rate limited. Waiting 0 seconds.\n",
      "API key 2 rate limited. Waiting 0 seconds.\n",
      "API key 2 rate limited. Waiting 0 seconds.\n"
     ]
    },
    {
     "name": "stderr",
     "output_type": "stream",
     "text": [
      "Processing tweet batches:  22%|██▏       | 1537/7043 [54:56<2:58:03,  1.94s/it]"
     ]
    },
    {
     "name": "stdout",
     "output_type": "stream",
     "text": [
      "API key 1 rate limited. Waiting 0 seconds.API key 2 rate limited. Waiting 0 seconds.\n",
      "\n",
      "API key 1 rate limited. Waiting 0 seconds.\n",
      "API key 1 rate limited. Waiting 0 seconds.\n"
     ]
    },
    {
     "name": "stderr",
     "output_type": "stream",
     "text": [
      "Processing tweet batches:  22%|██▏       | 1542/7043 [55:06<2:56:40,  1.93s/it]"
     ]
    },
    {
     "name": "stdout",
     "output_type": "stream",
     "text": [
      "API key 1 rate limited. Waiting 0 seconds.API key 2 rate limited. Waiting 0 seconds.\n",
      "\n"
     ]
    },
    {
     "name": "stderr",
     "output_type": "stream",
     "text": [
      "Processing tweet batches:  22%|██▏       | 1543/7043 [55:08<2:59:27,  1.96s/it]"
     ]
    },
    {
     "name": "stdout",
     "output_type": "stream",
     "text": [
      "API key 1 rate limited. Waiting 0 seconds.\n",
      "API key 2 rate limited. Waiting 0 seconds.\n",
      "API key 2 rate limited. Waiting 0 seconds.\n",
      "API key 2 rate limited. Waiting 0 seconds.\n"
     ]
    },
    {
     "name": "stderr",
     "output_type": "stream",
     "text": [
      "Processing tweet batches:  22%|██▏       | 1544/7043 [55:11<3:36:56,  2.37s/it]"
     ]
    },
    {
     "name": "stdout",
     "output_type": "stream",
     "text": [
      "API key 1 rate limited. Waiting 0 seconds.\n"
     ]
    },
    {
     "name": "stderr",
     "output_type": "stream",
     "text": [
      "Processing tweet batches:  22%|██▏       | 1545/7043 [55:13<3:28:07,  2.27s/it]"
     ]
    },
    {
     "name": "stdout",
     "output_type": "stream",
     "text": [
      "API key 1 rate limited. Waiting 0 seconds.\n",
      "API key 1 rate limited. Waiting 0 seconds.\n",
      "API key 1 rate limited. Waiting 0 seconds.\n"
     ]
    },
    {
     "name": "stderr",
     "output_type": "stream",
     "text": [
      "Processing tweet batches:  22%|██▏       | 1546/7043 [55:15<3:13:46,  2.11s/it]"
     ]
    },
    {
     "name": "stdout",
     "output_type": "stream",
     "text": [
      "API key 1 rate limited. Waiting 0 seconds.\n",
      "API key 2 rate limited. Waiting 0 seconds.\n",
      "API key 1 rate limited. Waiting 0 seconds.\n",
      "API key 1 rate limited. Waiting 0 seconds.\n"
     ]
    },
    {
     "name": "stderr",
     "output_type": "stream",
     "text": [
      "Processing tweet batches:  22%|██▏       | 1548/7043 [55:19<3:03:21,  2.00s/it]"
     ]
    },
    {
     "name": "stdout",
     "output_type": "stream",
     "text": [
      "API key 2 rate limited. Waiting 0 seconds.\n",
      "API key 2 rate limited. Waiting 0 seconds.\n",
      "API key 2 rate limited. Waiting 0 seconds.\n"
     ]
    },
    {
     "name": "stderr",
     "output_type": "stream",
     "text": [
      "Processing tweet batches:  22%|██▏       | 1549/7043 [55:21<3:01:42,  1.98s/it]"
     ]
    },
    {
     "name": "stdout",
     "output_type": "stream",
     "text": [
      "API key 2 rate limited. Waiting 0 seconds.\n",
      "API key 1 rate limited. Waiting 0 seconds.\n",
      "\n",
      "Saved 6200 processed tweets to ../data/labeled_stock_tweets_partial.csv\n"
     ]
    },
    {
     "name": "stderr",
     "output_type": "stream",
     "text": [
      "Processing tweet batches:  22%|██▏       | 1551/7043 [55:25<2:54:26,  1.91s/it]"
     ]
    },
    {
     "name": "stdout",
     "output_type": "stream",
     "text": [
      "API key 2 rate limited. Waiting 0 seconds.\n",
      "API key 2 rate limited. Waiting 0 seconds.\n",
      "API key 2 rate limited. Waiting 0 seconds.\n"
     ]
    },
    {
     "name": "stderr",
     "output_type": "stream",
     "text": [
      "Processing tweet batches:  22%|██▏       | 1552/7043 [55:27<2:57:41,  1.94s/it]"
     ]
    },
    {
     "name": "stdout",
     "output_type": "stream",
     "text": [
      "API key 2 rate limited. Waiting 0 seconds.\n"
     ]
    },
    {
     "name": "stderr",
     "output_type": "stream",
     "text": [
      "Processing tweet batches:  22%|██▏       | 1553/7043 [55:29<2:56:31,  1.93s/it]"
     ]
    },
    {
     "name": "stdout",
     "output_type": "stream",
     "text": [
      "API key 1 rate limited. Waiting 0 seconds.\n",
      "API key 1 rate limited. Waiting 0 seconds.\n"
     ]
    },
    {
     "name": "stderr",
     "output_type": "stream",
     "text": [
      "Processing tweet batches:  22%|██▏       | 1554/7043 [55:31<3:15:44,  2.14s/it]"
     ]
    },
    {
     "name": "stdout",
     "output_type": "stream",
     "text": [
      "API key 1 rate limited. Waiting 0 seconds.\n",
      "API key 1 rate limited. Waiting 0 seconds.\n"
     ]
    },
    {
     "name": "stderr",
     "output_type": "stream",
     "text": [
      "Processing tweet batches:  22%|██▏       | 1555/7043 [55:33<3:09:05,  2.07s/it]"
     ]
    },
    {
     "name": "stdout",
     "output_type": "stream",
     "text": [
      "API key 1 rate limited. Waiting 0 seconds.\n",
      "API key 1 rate limited. Waiting 0 seconds.\n"
     ]
    },
    {
     "name": "stderr",
     "output_type": "stream",
     "text": [
      "Processing tweet batches:  22%|██▏       | 1556/7043 [55:35<2:59:12,  1.96s/it]"
     ]
    },
    {
     "name": "stdout",
     "output_type": "stream",
     "text": [
      "API key 2 rate limited. Waiting 0 seconds.API key 1 rate limited. Waiting 0 seconds.\n",
      "\n"
     ]
    },
    {
     "name": "stderr",
     "output_type": "stream",
     "text": [
      "Processing tweet batches:  22%|██▏       | 1557/7043 [55:37<3:00:45,  1.98s/it]"
     ]
    },
    {
     "name": "stdout",
     "output_type": "stream",
     "text": [
      "API key 1 rate limited. Waiting 0 seconds.\n",
      "API key 2 rate limited. Waiting 0 seconds.\n",
      "API key 2 rate limited. Waiting 0 seconds.\n"
     ]
    },
    {
     "name": "stderr",
     "output_type": "stream",
     "text": [
      "Processing tweet batches:  22%|██▏       | 1559/7043 [55:41<3:05:04,  2.02s/it]"
     ]
    },
    {
     "name": "stdout",
     "output_type": "stream",
     "text": [
      "API key 2 rate limited. Waiting 0 seconds.\n",
      "API key 1 rate limited. Waiting 0 seconds.\n"
     ]
    },
    {
     "name": "stderr",
     "output_type": "stream",
     "text": [
      "Processing tweet batches:  22%|██▏       | 1560/7043 [55:43<3:06:59,  2.05s/it]"
     ]
    },
    {
     "name": "stdout",
     "output_type": "stream",
     "text": [
      "API key 1 rate limited. Waiting 0 seconds.\n"
     ]
    },
    {
     "name": "stderr",
     "output_type": "stream",
     "text": [
      "Processing tweet batches:  22%|██▏       | 1561/7043 [55:45<3:00:56,  1.98s/it]"
     ]
    },
    {
     "name": "stdout",
     "output_type": "stream",
     "text": [
      "API key 1 rate limited. Waiting 0 seconds.\n",
      "API key 2 rate limited. Waiting 0 seconds.\n",
      "API key 1 rate limited. Waiting 0 seconds.\n"
     ]
    },
    {
     "name": "stderr",
     "output_type": "stream",
     "text": [
      "Processing tweet batches:  22%|██▏       | 1562/7043 [55:47<3:10:38,  2.09s/it]"
     ]
    },
    {
     "name": "stdout",
     "output_type": "stream",
     "text": [
      "API key 1 rate limited. Waiting 0 seconds.\n"
     ]
    },
    {
     "name": "stderr",
     "output_type": "stream",
     "text": [
      "Processing tweet batches:  22%|██▏       | 1563/7043 [55:50<3:18:32,  2.17s/it]"
     ]
    },
    {
     "name": "stdout",
     "output_type": "stream",
     "text": [
      "API key 1 rate limited. Waiting 0 seconds.\n"
     ]
    },
    {
     "name": "stderr",
     "output_type": "stream",
     "text": [
      "Processing tweet batches:  22%|██▏       | 1564/7043 [55:52<3:05:15,  2.03s/it]"
     ]
    },
    {
     "name": "stdout",
     "output_type": "stream",
     "text": [
      "API key 2 rate limited. Waiting 0 seconds.\n",
      "API key 1 rate limited. Waiting 0 seconds.\n"
     ]
    },
    {
     "name": "stderr",
     "output_type": "stream",
     "text": [
      "Processing tweet batches:  22%|██▏       | 1568/7043 [56:00<3:07:39,  2.06s/it]"
     ]
    },
    {
     "name": "stdout",
     "output_type": "stream",
     "text": [
      "API key 2 rate limited. Waiting 0 seconds.\n"
     ]
    },
    {
     "name": "stderr",
     "output_type": "stream",
     "text": [
      "Processing tweet batches:  22%|██▏       | 1569/7043 [56:02<3:07:09,  2.05s/it]"
     ]
    },
    {
     "name": "stdout",
     "output_type": "stream",
     "text": [
      "API key 1 rate limited. Waiting 0 seconds.\n"
     ]
    },
    {
     "name": "stderr",
     "output_type": "stream",
     "text": [
      "Processing tweet batches:  22%|██▏       | 1570/7043 [56:04<2:58:46,  1.96s/it]"
     ]
    },
    {
     "name": "stdout",
     "output_type": "stream",
     "text": [
      "API key 2 rate limited. Waiting 0 seconds.\n",
      "API key 2 rate limited. Waiting 0 seconds.\n"
     ]
    },
    {
     "name": "stderr",
     "output_type": "stream",
     "text": [
      "Processing tweet batches:  22%|██▏       | 1572/7043 [56:07<2:52:03,  1.89s/it]"
     ]
    },
    {
     "name": "stdout",
     "output_type": "stream",
     "text": [
      "API key 1 rate limited. Waiting 0 seconds.\n",
      "API key 1 rate limited. Waiting 0 seconds.\n",
      "API key 1 rate limited. Waiting 0 seconds.\n"
     ]
    },
    {
     "name": "stderr",
     "output_type": "stream",
     "text": [
      "Processing tweet batches:  22%|██▏       | 1574/7043 [56:12<3:04:09,  2.02s/it]"
     ]
    },
    {
     "name": "stdout",
     "output_type": "stream",
     "text": [
      "\n",
      "Saved 6300 processed tweets to ../data/labeled_stock_tweets_partial.csv\n"
     ]
    },
    {
     "name": "stderr",
     "output_type": "stream",
     "text": [
      "Processing tweet batches:  22%|██▏       | 1575/7043 [56:13<3:00:55,  1.99s/it]"
     ]
    },
    {
     "name": "stdout",
     "output_type": "stream",
     "text": [
      "API key 2 rate limited. Waiting 0 seconds.\n"
     ]
    },
    {
     "name": "stderr",
     "output_type": "stream",
     "text": [
      "Processing tweet batches:  22%|██▏       | 1576/7043 [56:16<3:08:44,  2.07s/it]"
     ]
    },
    {
     "name": "stdout",
     "output_type": "stream",
     "text": [
      "API key 1 rate limited. Waiting 0 seconds.\n"
     ]
    },
    {
     "name": "stderr",
     "output_type": "stream",
     "text": [
      "Processing tweet batches:  22%|██▏       | 1578/7043 [56:19<2:54:18,  1.91s/it]"
     ]
    },
    {
     "name": "stdout",
     "output_type": "stream",
     "text": [
      "API key 1 rate limited. Waiting 0 seconds.\n"
     ]
    },
    {
     "name": "stderr",
     "output_type": "stream",
     "text": [
      "Processing tweet batches:  22%|██▏       | 1579/7043 [56:21<2:58:10,  1.96s/it]"
     ]
    },
    {
     "name": "stdout",
     "output_type": "stream",
     "text": [
      "API key 2 rate limited. Waiting 0 seconds.\n"
     ]
    },
    {
     "name": "stderr",
     "output_type": "stream",
     "text": [
      "Processing tweet batches:  22%|██▏       | 1580/7043 [56:23<2:47:43,  1.84s/it]"
     ]
    },
    {
     "name": "stdout",
     "output_type": "stream",
     "text": [
      "API key 2 rate limited. Waiting 0 seconds.\n",
      "API key 2 rate limited. Waiting 0 seconds.\n",
      "API key 1 rate limited. Waiting 0 seconds.\n",
      "API key 2 rate limited. Waiting 0 seconds.\n",
      "API key 1 rate limited. Waiting 0 seconds.\n",
      "API key 2 rate limited. Waiting 0 seconds.\n"
     ]
    },
    {
     "name": "stderr",
     "output_type": "stream",
     "text": [
      "Processing tweet batches:  22%|██▏       | 1581/7043 [56:25<2:53:33,  1.91s/it]"
     ]
    },
    {
     "name": "stdout",
     "output_type": "stream",
     "text": [
      "API key 2 rate limited. Waiting 0 seconds.\n"
     ]
    },
    {
     "name": "stderr",
     "output_type": "stream",
     "text": [
      "Processing tweet batches:  22%|██▏       | 1583/7043 [56:30<3:08:26,  2.07s/it]"
     ]
    },
    {
     "name": "stdout",
     "output_type": "stream",
     "text": [
      "API key 2 rate limited. Waiting 0 seconds.\n",
      "API key 2 rate limited. Waiting 0 seconds.\n",
      "API key 2 rate limited. Waiting 0 seconds.\n"
     ]
    },
    {
     "name": "stderr",
     "output_type": "stream",
     "text": [
      "Processing tweet batches:  22%|██▏       | 1584/7043 [56:32<3:16:46,  2.16s/it]"
     ]
    },
    {
     "name": "stdout",
     "output_type": "stream",
     "text": [
      "API key 2 rate limited. Waiting 0 seconds.\n",
      "API key 2 rate limited. Waiting 0 seconds.\n",
      "API key 2 rate limited. Waiting 0 seconds.\n",
      "API key 2 rate limited. Waiting 0 seconds.\n"
     ]
    },
    {
     "name": "stderr",
     "output_type": "stream",
     "text": [
      "Processing tweet batches:  23%|██▎       | 1585/7043 [56:34<3:08:23,  2.07s/it]"
     ]
    },
    {
     "name": "stdout",
     "output_type": "stream",
     "text": [
      "API key 2 rate limited. Waiting 0 seconds.\n",
      "API key 2 rate limited. Waiting 0 seconds.\n"
     ]
    },
    {
     "name": "stderr",
     "output_type": "stream",
     "text": [
      "Processing tweet batches:  23%|██▎       | 1586/7043 [56:35<2:57:55,  1.96s/it]"
     ]
    },
    {
     "name": "stdout",
     "output_type": "stream",
     "text": [
      "API key 1 rate limited. Waiting 0 seconds.\n"
     ]
    },
    {
     "name": "stderr",
     "output_type": "stream",
     "text": [
      "Processing tweet batches:  23%|██▎       | 1587/7043 [56:37<2:58:19,  1.96s/it]"
     ]
    },
    {
     "name": "stdout",
     "output_type": "stream",
     "text": [
      "API key 2 rate limited. Waiting 0 seconds.\n",
      "API key 1 rate limited. Waiting 0 seconds.\n",
      "API key 1 rate limited. Waiting 0 seconds.\n"
     ]
    },
    {
     "name": "stderr",
     "output_type": "stream",
     "text": [
      "Processing tweet batches:  23%|██▎       | 1588/7043 [56:40<3:12:35,  2.12s/it]"
     ]
    },
    {
     "name": "stdout",
     "output_type": "stream",
     "text": [
      "API key 2 rate limited. Waiting 0 seconds.\n",
      "API key 1 rate limited. Waiting 0 seconds.\n"
     ]
    },
    {
     "name": "stderr",
     "output_type": "stream",
     "text": [
      "Processing tweet batches:  23%|██▎       | 1589/7043 [56:42<3:08:50,  2.08s/it]"
     ]
    },
    {
     "name": "stdout",
     "output_type": "stream",
     "text": [
      "API key 1 rate limited. Waiting 0 seconds.\n",
      "API key 1 rate limited. Waiting 0 seconds.\n"
     ]
    },
    {
     "name": "stderr",
     "output_type": "stream",
     "text": [
      "Processing tweet batches:  23%|██▎       | 1590/7043 [56:44<3:08:13,  2.07s/it]"
     ]
    },
    {
     "name": "stdout",
     "output_type": "stream",
     "text": [
      "API key 1 rate limited. Waiting 0 seconds.\n"
     ]
    },
    {
     "name": "stderr",
     "output_type": "stream",
     "text": [
      "Processing tweet batches:  23%|██▎       | 1591/7043 [56:46<3:11:48,  2.11s/it]"
     ]
    },
    {
     "name": "stdout",
     "output_type": "stream",
     "text": [
      "API key 1 rate limited. Waiting 0 seconds.\n",
      "API key 1 rate limited. Waiting 0 seconds.\n"
     ]
    },
    {
     "name": "stderr",
     "output_type": "stream",
     "text": [
      "Processing tweet batches:  23%|██▎       | 1592/7043 [56:50<4:05:57,  2.71s/it]"
     ]
    },
    {
     "name": "stdout",
     "output_type": "stream",
     "text": [
      "API key 2 rate limited. Waiting 0 seconds.\n",
      "API key 1 rate limited. Waiting 0 seconds.\n"
     ]
    },
    {
     "name": "stderr",
     "output_type": "stream",
     "text": [
      "Processing tweet batches:  23%|██▎       | 1594/7043 [56:54<3:26:24,  2.27s/it]"
     ]
    },
    {
     "name": "stdout",
     "output_type": "stream",
     "text": [
      "API key 1 rate limited. Waiting 0 seconds.\n",
      "API key 1 rate limited. Waiting 0 seconds.\n"
     ]
    },
    {
     "name": "stderr",
     "output_type": "stream",
     "text": [
      "Processing tweet batches:  23%|██▎       | 1595/7043 [56:56<3:14:34,  2.14s/it]"
     ]
    },
    {
     "name": "stdout",
     "output_type": "stream",
     "text": [
      "API key 1 rate limited. Waiting 0 seconds.\n"
     ]
    },
    {
     "name": "stderr",
     "output_type": "stream",
     "text": [
      "Processing tweet batches:  23%|██▎       | 1596/7043 [56:57<2:57:25,  1.95s/it]"
     ]
    },
    {
     "name": "stdout",
     "output_type": "stream",
     "text": [
      "API key 1 rate limited. Waiting 0 seconds.API key 2 rate limited. Waiting 0 seconds.\n",
      "\n",
      "API key 2 rate limited. Waiting 0 seconds.\n"
     ]
    },
    {
     "name": "stderr",
     "output_type": "stream",
     "text": [
      "Processing tweet batches:  23%|██▎       | 1597/7043 [57:00<3:08:42,  2.08s/it]"
     ]
    },
    {
     "name": "stdout",
     "output_type": "stream",
     "text": [
      "API key 2 rate limited. Waiting 0 seconds.\n"
     ]
    },
    {
     "name": "stderr",
     "output_type": "stream",
     "text": [
      "Processing tweet batches:  23%|██▎       | 1599/7043 [57:06<4:08:26,  2.74s/it]"
     ]
    },
    {
     "name": "stdout",
     "output_type": "stream",
     "text": [
      "API key 1 rate limited. Waiting 0 seconds.\n",
      "API key 1 rate limited. Waiting 0 seconds.\n",
      "API key 1 rate limited. Waiting 0 seconds.\n",
      "\n",
      "Saved 6400 processed tweets to ../data/labeled_stock_tweets_partial.csv\n"
     ]
    },
    {
     "name": "stderr",
     "output_type": "stream",
     "text": [
      "Processing tweet batches:  23%|██▎       | 1601/7043 [57:10<3:28:37,  2.30s/it]"
     ]
    },
    {
     "name": "stdout",
     "output_type": "stream",
     "text": [
      "API key 2 rate limited. Waiting 0 seconds.\n",
      "API key 2 rate limited. Waiting 0 seconds.\n"
     ]
    },
    {
     "name": "stderr",
     "output_type": "stream",
     "text": [
      "Processing tweet batches:  23%|██▎       | 1602/7043 [57:12<3:29:38,  2.31s/it]"
     ]
    },
    {
     "name": "stdout",
     "output_type": "stream",
     "text": [
      "API key 1 rate limited. Waiting 0 seconds.\n"
     ]
    },
    {
     "name": "stderr",
     "output_type": "stream",
     "text": [
      "Processing tweet batches:  23%|██▎       | 1603/7043 [57:15<3:46:25,  2.50s/it]"
     ]
    },
    {
     "name": "stdout",
     "output_type": "stream",
     "text": [
      "API key 1 rate limited. Waiting 0 seconds.\n"
     ]
    },
    {
     "name": "stderr",
     "output_type": "stream",
     "text": [
      "Processing tweet batches:  23%|██▎       | 1604/7043 [57:17<3:24:15,  2.25s/it]"
     ]
    },
    {
     "name": "stdout",
     "output_type": "stream",
     "text": [
      "API key 1 rate limited. Waiting 0 seconds.\n",
      "API key 1 rate limited. Waiting 0 seconds.\n",
      "API key 2 rate limited. Waiting 0 seconds.\n",
      "API key 1 rate limited. Waiting 0 seconds.\n"
     ]
    },
    {
     "name": "stderr",
     "output_type": "stream",
     "text": [
      "Processing tweet batches:  23%|██▎       | 1605/7043 [57:19<3:15:52,  2.16s/it]"
     ]
    },
    {
     "name": "stdout",
     "output_type": "stream",
     "text": [
      "API key 1 rate limited. Waiting 0 seconds.\n"
     ]
    },
    {
     "name": "stderr",
     "output_type": "stream",
     "text": [
      "Processing tweet batches:  23%|██▎       | 1606/7043 [57:21<3:14:20,  2.14s/it]"
     ]
    },
    {
     "name": "stdout",
     "output_type": "stream",
     "text": [
      "API key 1 rate limited. Waiting 0 seconds.\n",
      "API key 1 rate limited. Waiting 0 seconds.\n"
     ]
    },
    {
     "name": "stderr",
     "output_type": "stream",
     "text": [
      "Processing tweet batches:  23%|██▎       | 1607/7043 [57:24<3:21:31,  2.22s/it]"
     ]
    },
    {
     "name": "stdout",
     "output_type": "stream",
     "text": [
      "API key 1 rate limited. Waiting 0 seconds.\n",
      "API key 2 rate limited. Waiting 0 seconds.\n"
     ]
    },
    {
     "name": "stderr",
     "output_type": "stream",
     "text": [
      "Processing tweet batches:  23%|██▎       | 1609/7043 [57:28<3:10:13,  2.10s/it]"
     ]
    },
    {
     "name": "stdout",
     "output_type": "stream",
     "text": [
      "API key 2 rate limited. Waiting 0 seconds.\n",
      "API key 2 rate limited. Waiting 0 seconds.\n"
     ]
    },
    {
     "name": "stderr",
     "output_type": "stream",
     "text": [
      "Processing tweet batches:  23%|██▎       | 1611/7043 [57:31<2:42:25,  1.79s/it]"
     ]
    },
    {
     "name": "stdout",
     "output_type": "stream",
     "text": [
      "API key 1 rate limited. Waiting 0 seconds.\n"
     ]
    },
    {
     "name": "stderr",
     "output_type": "stream",
     "text": [
      "Processing tweet batches:  23%|██▎       | 1612/7043 [57:32<2:36:25,  1.73s/it]"
     ]
    },
    {
     "name": "stdout",
     "output_type": "stream",
     "text": [
      "API key 2 rate limited. Waiting 0 seconds.\n",
      "API key 1 rate limited. Waiting 0 seconds.\n"
     ]
    },
    {
     "name": "stderr",
     "output_type": "stream",
     "text": [
      "Processing tweet batches:  23%|██▎       | 1613/7043 [57:35<2:53:29,  1.92s/it]"
     ]
    },
    {
     "name": "stdout",
     "output_type": "stream",
     "text": [
      "API key 2 rate limited. Waiting 0 seconds.API key 1 rate limited. Waiting 0 seconds.\n",
      "\n"
     ]
    },
    {
     "name": "stderr",
     "output_type": "stream",
     "text": [
      "Processing tweet batches:  23%|██▎       | 1614/7043 [57:36<2:46:02,  1.84s/it]"
     ]
    },
    {
     "name": "stdout",
     "output_type": "stream",
     "text": [
      "API key 2 rate limited. Waiting 0 seconds.\n"
     ]
    },
    {
     "name": "stderr",
     "output_type": "stream",
     "text": [
      "Processing tweet batches:  23%|██▎       | 1615/7043 [57:38<2:51:05,  1.89s/it]"
     ]
    },
    {
     "name": "stdout",
     "output_type": "stream",
     "text": [
      "API key 2 rate limited. Waiting 0 seconds.\n"
     ]
    },
    {
     "name": "stderr",
     "output_type": "stream",
     "text": [
      "Processing tweet batches:  23%|██▎       | 1616/7043 [57:43<3:59:45,  2.65s/it]"
     ]
    },
    {
     "name": "stdout",
     "output_type": "stream",
     "text": [
      "API key 1 rate limited. Waiting 0 seconds.\n"
     ]
    },
    {
     "name": "stderr",
     "output_type": "stream",
     "text": [
      "Processing tweet batches:  23%|██▎       | 1617/7043 [57:44<3:33:35,  2.36s/it]"
     ]
    },
    {
     "name": "stdout",
     "output_type": "stream",
     "text": [
      "API key 1 rate limited. Waiting 0 seconds.\n"
     ]
    },
    {
     "name": "stderr",
     "output_type": "stream",
     "text": [
      "Processing tweet batches:  23%|██▎       | 1618/7043 [57:46<3:12:36,  2.13s/it]"
     ]
    },
    {
     "name": "stdout",
     "output_type": "stream",
     "text": [
      "API key 2 rate limited. Waiting 0 seconds.\n",
      "API key 2 rate limited. Waiting 0 seconds.\n",
      "API key 2 rate limited. Waiting 0 seconds.\n",
      "API key 2 rate limited. Waiting 0 seconds.\n",
      "API key 1 rate limited. Waiting 0 seconds.\n"
     ]
    },
    {
     "name": "stderr",
     "output_type": "stream",
     "text": [
      "Processing tweet batches:  23%|██▎       | 1619/7043 [57:49<3:29:48,  2.32s/it]"
     ]
    },
    {
     "name": "stdout",
     "output_type": "stream",
     "text": [
      "API key 2 rate limited. Waiting 0 seconds.\n",
      "API key 2 rate limited. Waiting 0 seconds.\n",
      "API key 2 rate limited. Waiting 0 seconds.\n"
     ]
    },
    {
     "name": "stderr",
     "output_type": "stream",
     "text": [
      "Processing tweet batches:  23%|██▎       | 1620/7043 [57:51<3:27:49,  2.30s/it]"
     ]
    },
    {
     "name": "stdout",
     "output_type": "stream",
     "text": [
      "API key 2 rate limited. Waiting 0 seconds.\n",
      "API key 2 rate limited. Waiting 0 seconds.\n"
     ]
    },
    {
     "name": "stderr",
     "output_type": "stream",
     "text": [
      "Processing tweet batches:  23%|██▎       | 1621/7043 [57:55<4:00:23,  2.66s/it]"
     ]
    },
    {
     "name": "stdout",
     "output_type": "stream",
     "text": [
      "API key 1 rate limited. Waiting 0 seconds.\n"
     ]
    },
    {
     "name": "stderr",
     "output_type": "stream",
     "text": [
      "Processing tweet batches:  23%|██▎       | 1623/7043 [57:59<3:37:13,  2.40s/it]"
     ]
    },
    {
     "name": "stdout",
     "output_type": "stream",
     "text": [
      "API key 1 rate limited. Waiting 0 seconds.\n",
      "API key 1 rate limited. Waiting 0 seconds.\n",
      "API key 1 rate limited. Waiting 0 seconds.\n"
     ]
    },
    {
     "name": "stderr",
     "output_type": "stream",
     "text": [
      "Processing tweet batches:  23%|██▎       | 1624/7043 [58:01<3:23:42,  2.26s/it]"
     ]
    },
    {
     "name": "stdout",
     "output_type": "stream",
     "text": [
      "API key 1 rate limited. Waiting 0 seconds.\n",
      "API key 1 rate limited. Waiting 0 seconds.\n",
      "\n",
      "Saved 6500 processed tweets to ../data/labeled_stock_tweets_partial.csv\n"
     ]
    },
    {
     "name": "stderr",
     "output_type": "stream",
     "text": [
      "Processing tweet batches:  23%|██▎       | 1625/7043 [58:04<3:45:05,  2.49s/it]"
     ]
    },
    {
     "name": "stdout",
     "output_type": "stream",
     "text": [
      "API key 1 rate limited. Waiting 0 seconds.\n"
     ]
    },
    {
     "name": "stderr",
     "output_type": "stream",
     "text": [
      "Processing tweet batches:  23%|██▎       | 1626/7043 [58:06<3:25:48,  2.28s/it]"
     ]
    },
    {
     "name": "stdout",
     "output_type": "stream",
     "text": [
      "API key 1 rate limited. Waiting 0 seconds.\n",
      "API key 1 rate limited. Waiting 0 seconds.\n",
      "API key 2 rate limited. Waiting 0 seconds.\n",
      "API key 1 rate limited. Waiting 0 seconds.\n"
     ]
    },
    {
     "name": "stderr",
     "output_type": "stream",
     "text": [
      "Processing tweet batches:  23%|██▎       | 1627/7043 [58:08<3:21:05,  2.23s/it]"
     ]
    },
    {
     "name": "stdout",
     "output_type": "stream",
     "text": [
      "API key 2 rate limited. Waiting 0 seconds.\n",
      "API key 2 rate limited. Waiting 0 seconds.\n",
      "API key 2 rate limited. Waiting 0 seconds.\n"
     ]
    },
    {
     "name": "stderr",
     "output_type": "stream",
     "text": [
      "Processing tweet batches:  23%|██▎       | 1628/7043 [58:10<3:13:27,  2.14s/it]"
     ]
    },
    {
     "name": "stdout",
     "output_type": "stream",
     "text": [
      "API key 1 rate limited. Waiting 0 seconds.\n",
      "API key 1 rate limited. Waiting 0 seconds.\n"
     ]
    },
    {
     "name": "stderr",
     "output_type": "stream",
     "text": [
      "Processing tweet batches:  23%|██▎       | 1631/7043 [58:14<2:40:19,  1.78s/it]"
     ]
    },
    {
     "name": "stdout",
     "output_type": "stream",
     "text": [
      "API key 1 rate limited. Waiting 0 seconds.\n"
     ]
    },
    {
     "name": "stderr",
     "output_type": "stream",
     "text": [
      "Processing tweet batches:  23%|██▎       | 1633/7043 [58:19<3:07:56,  2.08s/it]"
     ]
    },
    {
     "name": "stdout",
     "output_type": "stream",
     "text": [
      "API key 2 rate limited. Waiting 0 seconds.\n",
      "API key 2 rate limited. Waiting 0 seconds.\n"
     ]
    },
    {
     "name": "stderr",
     "output_type": "stream",
     "text": [
      "Processing tweet batches:  23%|██▎       | 1634/7043 [58:21<3:01:53,  2.02s/it]"
     ]
    },
    {
     "name": "stdout",
     "output_type": "stream",
     "text": [
      "API key 2 rate limited. Waiting 0 seconds.\n"
     ]
    },
    {
     "name": "stderr",
     "output_type": "stream",
     "text": [
      "Processing tweet batches:  23%|██▎       | 1635/7043 [58:26<4:19:50,  2.88s/it]"
     ]
    },
    {
     "name": "stdout",
     "output_type": "stream",
     "text": [
      "API key 1 rate limited. Waiting 0 seconds.\n"
     ]
    },
    {
     "name": "stderr",
     "output_type": "stream",
     "text": [
      "Processing tweet batches:  23%|██▎       | 1636/7043 [58:28<3:57:10,  2.63s/it]"
     ]
    },
    {
     "name": "stdout",
     "output_type": "stream",
     "text": [
      "API key 2 rate limited. Waiting 0 seconds.\n",
      "API key 2 rate limited. Waiting 0 seconds.\n",
      "API key 2 rate limited. Waiting 0 seconds.\n"
     ]
    },
    {
     "name": "stderr",
     "output_type": "stream",
     "text": [
      "Processing tweet batches:  23%|██▎       | 1639/7043 [58:34<3:18:16,  2.20s/it]"
     ]
    },
    {
     "name": "stdout",
     "output_type": "stream",
     "text": [
      "API key 2 rate limited. Waiting 0 seconds.\n"
     ]
    },
    {
     "name": "stderr",
     "output_type": "stream",
     "text": [
      "Processing tweet batches:  23%|██▎       | 1642/7043 [58:39<2:42:59,  1.81s/it]"
     ]
    },
    {
     "name": "stdout",
     "output_type": "stream",
     "text": [
      "API key 1 rate limited. Waiting 0 seconds.\n"
     ]
    },
    {
     "name": "stderr",
     "output_type": "stream",
     "text": [
      "Processing tweet batches:  23%|██▎       | 1643/7043 [58:41<2:46:24,  1.85s/it]"
     ]
    },
    {
     "name": "stdout",
     "output_type": "stream",
     "text": [
      "API key 1 rate limited. Waiting 0 seconds.\n",
      "API key 2 rate limited. Waiting 0 seconds.\n",
      "API key 1 rate limited. Waiting 0 seconds.API key 2 rate limited. Waiting 0 seconds.\n",
      "\n",
      "API key 2 rate limited. Waiting 0 seconds.\n"
     ]
    },
    {
     "name": "stderr",
     "output_type": "stream",
     "text": [
      "Processing tweet batches:  23%|██▎       | 1644/7043 [58:44<3:05:50,  2.07s/it]"
     ]
    },
    {
     "name": "stdout",
     "output_type": "stream",
     "text": [
      "API key 1 rate limited. Waiting 0 seconds.\n",
      "API key 2 rate limited. Waiting 0 seconds.\n",
      "API key 2 rate limited. Waiting 0 seconds.\n"
     ]
    },
    {
     "name": "stderr",
     "output_type": "stream",
     "text": [
      "Processing tweet batches:  23%|██▎       | 1645/7043 [58:46<3:17:01,  2.19s/it]"
     ]
    },
    {
     "name": "stdout",
     "output_type": "stream",
     "text": [
      "API key 1 rate limited. Waiting 0 seconds.\n",
      "API key 1 rate limited. Waiting 0 seconds.\n"
     ]
    },
    {
     "name": "stderr",
     "output_type": "stream",
     "text": [
      "Processing tweet batches:  23%|██▎       | 1647/7043 [58:50<3:05:12,  2.06s/it]"
     ]
    },
    {
     "name": "stdout",
     "output_type": "stream",
     "text": [
      "API key 1 rate limited. Waiting 0 seconds.\n",
      "API key 2 rate limited. Waiting 0 seconds.\n",
      "API key 1 rate limited. Waiting 0 seconds.\n"
     ]
    },
    {
     "name": "stderr",
     "output_type": "stream",
     "text": [
      "Processing tweet batches:  23%|██▎       | 1648/7043 [58:52<3:11:06,  2.13s/it]"
     ]
    },
    {
     "name": "stdout",
     "output_type": "stream",
     "text": [
      "API key 1 rate limited. Waiting 0 seconds.\n",
      "API key 2 rate limited. Waiting 0 seconds.\n"
     ]
    },
    {
     "name": "stderr",
     "output_type": "stream",
     "text": [
      "Processing tweet batches:  23%|██▎       | 1649/7043 [58:54<2:56:52,  1.97s/it]"
     ]
    },
    {
     "name": "stdout",
     "output_type": "stream",
     "text": [
      "API key 2 rate limited. Waiting 0 seconds.\n",
      "API key 2 rate limited. Waiting 0 seconds.\n",
      "API key 1 rate limited. Waiting 0 seconds.\n",
      "\n",
      "Saved 6600 processed tweets to ../data/labeled_stock_tweets_partial.csv\n"
     ]
    },
    {
     "name": "stderr",
     "output_type": "stream",
     "text": [
      "Processing tweet batches:  23%|██▎       | 1650/7043 [58:56<3:01:20,  2.02s/it]"
     ]
    },
    {
     "name": "stdout",
     "output_type": "stream",
     "text": [
      "API key 2 rate limited. Waiting 0 seconds.\n"
     ]
    },
    {
     "name": "stderr",
     "output_type": "stream",
     "text": [
      "Processing tweet batches:  23%|██▎       | 1651/7043 [58:58<2:56:35,  1.97s/it]"
     ]
    },
    {
     "name": "stdout",
     "output_type": "stream",
     "text": [
      "API key 2 rate limited. Waiting 0 seconds.\n"
     ]
    },
    {
     "name": "stderr",
     "output_type": "stream",
     "text": [
      "Processing tweet batches:  23%|██▎       | 1652/7043 [58:59<2:43:44,  1.82s/it]"
     ]
    },
    {
     "name": "stdout",
     "output_type": "stream",
     "text": [
      "API key 1 rate limited. Waiting 0 seconds.\n"
     ]
    },
    {
     "name": "stderr",
     "output_type": "stream",
     "text": [
      "Processing tweet batches:  24%|██▎       | 1656/7043 [59:06<2:32:46,  1.70s/it]"
     ]
    },
    {
     "name": "stdout",
     "output_type": "stream",
     "text": [
      "API key 1 rate limited. Waiting 0 seconds.\n",
      "API key 2 rate limited. Waiting 0 seconds.\n"
     ]
    },
    {
     "name": "stderr",
     "output_type": "stream",
     "text": [
      "Processing tweet batches:  24%|██▎       | 1659/7043 [59:11<2:28:50,  1.66s/it]"
     ]
    },
    {
     "name": "stdout",
     "output_type": "stream",
     "text": [
      "API key 2 rate limited. Waiting 0 seconds.API key 1 rate limited. Waiting 0 seconds.\n",
      "\n",
      "API key 2 rate limited. Waiting 0 seconds.\n",
      "API key 2 rate limited. Waiting 0 seconds.\n",
      "API key 1 rate limited. Waiting 0 seconds.\n"
     ]
    },
    {
     "name": "stderr",
     "output_type": "stream",
     "text": [
      "Processing tweet batches:  24%|██▎       | 1660/7043 [59:14<2:43:13,  1.82s/it]"
     ]
    },
    {
     "name": "stdout",
     "output_type": "stream",
     "text": [
      "API key 1 rate limited. Waiting 0 seconds.\n"
     ]
    },
    {
     "name": "stderr",
     "output_type": "stream",
     "text": [
      "Processing tweet batches:  24%|██▎       | 1661/7043 [59:15<2:35:13,  1.73s/it]"
     ]
    },
    {
     "name": "stdout",
     "output_type": "stream",
     "text": [
      "API key 1 rate limited. Waiting 0 seconds.\n"
     ]
    },
    {
     "name": "stderr",
     "output_type": "stream",
     "text": [
      "Processing tweet batches:  24%|██▎       | 1662/7043 [59:17<2:34:44,  1.73s/it]"
     ]
    },
    {
     "name": "stdout",
     "output_type": "stream",
     "text": [
      "API key 2 rate limited. Waiting 0 seconds.\n"
     ]
    },
    {
     "name": "stderr",
     "output_type": "stream",
     "text": [
      "Processing tweet batches:  24%|██▎       | 1663/7043 [59:19<2:32:14,  1.70s/it]"
     ]
    },
    {
     "name": "stdout",
     "output_type": "stream",
     "text": [
      "API key 2 rate limited. Waiting 0 seconds.\n",
      "API key 2 rate limited. Waiting 0 seconds.\n"
     ]
    },
    {
     "name": "stderr",
     "output_type": "stream",
     "text": [
      "Processing tweet batches:  24%|██▎       | 1664/7043 [59:20<2:31:43,  1.69s/it]"
     ]
    },
    {
     "name": "stdout",
     "output_type": "stream",
     "text": [
      "API key 2 rate limited. Waiting 0 seconds.\n",
      "API key 2 rate limited. Waiting 0 seconds.\n",
      "API key 2 rate limited. Waiting 0 seconds.\n"
     ]
    },
    {
     "name": "stderr",
     "output_type": "stream",
     "text": [
      "Processing tweet batches:  24%|██▎       | 1665/7043 [59:23<2:49:43,  1.89s/it]"
     ]
    },
    {
     "name": "stdout",
     "output_type": "stream",
     "text": [
      "API key 2 rate limited. Waiting 0 seconds.\n"
     ]
    },
    {
     "name": "stderr",
     "output_type": "stream",
     "text": [
      "Processing tweet batches:  24%|██▎       | 1667/7043 [59:26<2:34:56,  1.73s/it]"
     ]
    },
    {
     "name": "stdout",
     "output_type": "stream",
     "text": [
      "API key 2 rate limited. Waiting 0 seconds.\n"
     ]
    },
    {
     "name": "stderr",
     "output_type": "stream",
     "text": [
      "Processing tweet batches:  24%|██▎       | 1668/7043 [59:27<2:31:42,  1.69s/it]"
     ]
    },
    {
     "name": "stdout",
     "output_type": "stream",
     "text": [
      "API key 1 rate limited. Waiting 0 seconds.\n",
      "API key 1 rate limited. Waiting 0 seconds.\n",
      "API key 2 rate limited. Waiting 0 seconds.\n",
      "API key 2 rate limited. Waiting 0 seconds.\n",
      "API key 1 rate limited. Waiting 0 seconds.\n"
     ]
    },
    {
     "name": "stderr",
     "output_type": "stream",
     "text": [
      "Processing tweet batches:  24%|██▎       | 1669/7043 [59:30<2:44:43,  1.84s/it]"
     ]
    },
    {
     "name": "stdout",
     "output_type": "stream",
     "text": [
      "API key 1 rate limited. Waiting 0 seconds.\n",
      "API key 2 rate limited. Waiting 0 seconds.\n",
      "API key 1 rate limited. Waiting 0 seconds.\n"
     ]
    },
    {
     "name": "stderr",
     "output_type": "stream",
     "text": [
      "Processing tweet batches:  24%|██▎       | 1670/7043 [59:32<2:48:53,  1.89s/it]"
     ]
    },
    {
     "name": "stdout",
     "output_type": "stream",
     "text": [
      "API key 1 rate limited. Waiting 0 seconds.\n",
      "API key 1 rate limited. Waiting 0 seconds.\n"
     ]
    },
    {
     "name": "stderr",
     "output_type": "stream",
     "text": [
      "Processing tweet batches:  24%|██▎       | 1672/7043 [59:35<2:39:50,  1.79s/it]"
     ]
    },
    {
     "name": "stdout",
     "output_type": "stream",
     "text": [
      "API key 1 rate limited. Waiting 0 seconds.\n",
      "API key 2 rate limited. Waiting 0 seconds.\n",
      "API key 1 rate limited. Waiting 0 seconds.\n",
      "API key 1 rate limited. Waiting 0 seconds.\n"
     ]
    },
    {
     "name": "stderr",
     "output_type": "stream",
     "text": [
      "Processing tweet batches:  24%|██▍       | 1673/7043 [59:37<2:53:26,  1.94s/it]"
     ]
    },
    {
     "name": "stdout",
     "output_type": "stream",
     "text": [
      "API key 1 rate limited. Waiting 0 seconds.\n",
      "API key 1 rate limited. Waiting 0 seconds.\n"
     ]
    },
    {
     "name": "stderr",
     "output_type": "stream",
     "text": [
      "Processing tweet batches:  24%|██▍       | 1674/7043 [59:39<2:53:11,  1.94s/it]"
     ]
    },
    {
     "name": "stdout",
     "output_type": "stream",
     "text": [
      "API key 2 rate limited. Waiting 0 seconds.\n",
      "API key 1 rate limited. Waiting 0 seconds.\n",
      "API key 1 rate limited. Waiting 0 seconds.\n",
      "API key 2 rate limited. Waiting 0 seconds.\n",
      "\n",
      "Saved 6700 processed tweets to ../data/labeled_stock_tweets_partial.csv\n"
     ]
    },
    {
     "name": "stderr",
     "output_type": "stream",
     "text": [
      "Processing tweet batches:  24%|██▍       | 1676/7043 [59:43<2:53:36,  1.94s/it]"
     ]
    },
    {
     "name": "stdout",
     "output_type": "stream",
     "text": [
      "API key 1 rate limited. Waiting 0 seconds.\n"
     ]
    },
    {
     "name": "stderr",
     "output_type": "stream",
     "text": [
      "Processing tweet batches:  24%|██▍       | 1677/7043 [59:46<3:10:15,  2.13s/it]"
     ]
    },
    {
     "name": "stdout",
     "output_type": "stream",
     "text": [
      "API key 1 rate limited. Waiting 0 seconds.\n"
     ]
    },
    {
     "name": "stderr",
     "output_type": "stream",
     "text": [
      "Processing tweet batches:  24%|██▍       | 1678/7043 [59:50<4:00:37,  2.69s/it]"
     ]
    },
    {
     "name": "stdout",
     "output_type": "stream",
     "text": [
      "API key 2 rate limited. Waiting 0 seconds.\n",
      "API key 2 rate limited. Waiting 0 seconds.\n"
     ]
    },
    {
     "name": "stderr",
     "output_type": "stream",
     "text": [
      "Processing tweet batches:  24%|██▍       | 1679/7043 [59:52<3:48:45,  2.56s/it]"
     ]
    },
    {
     "name": "stdout",
     "output_type": "stream",
     "text": [
      "API key 2 rate limited. Waiting 0 seconds.\n",
      "API key 2 rate limited. Waiting 0 seconds.\n"
     ]
    },
    {
     "name": "stderr",
     "output_type": "stream",
     "text": [
      "Processing tweet batches:  24%|██▍       | 1680/7043 [59:55<3:46:04,  2.53s/it]"
     ]
    },
    {
     "name": "stdout",
     "output_type": "stream",
     "text": [
      "API key 2 rate limited. Waiting 0 seconds.\n",
      "API key 2 rate limited. Waiting 0 seconds.\n"
     ]
    },
    {
     "name": "stderr",
     "output_type": "stream",
     "text": [
      "Processing tweet batches:  24%|██▍       | 1681/7043 [59:57<3:31:12,  2.36s/it]"
     ]
    },
    {
     "name": "stdout",
     "output_type": "stream",
     "text": [
      "API key 2 rate limited. Waiting 0 seconds.\n"
     ]
    },
    {
     "name": "stderr",
     "output_type": "stream",
     "text": [
      "Processing tweet batches:  24%|██▍       | 1683/7043 [1:00:00<3:05:53,  2.08s/it]"
     ]
    },
    {
     "name": "stdout",
     "output_type": "stream",
     "text": [
      "API key 1 rate limited. Waiting 0 seconds.\n",
      "API key 1 rate limited. Waiting 0 seconds.\n"
     ]
    },
    {
     "name": "stderr",
     "output_type": "stream",
     "text": [
      "Processing tweet batches:  24%|██▍       | 1685/7043 [1:00:03<2:44:39,  1.84s/it]"
     ]
    },
    {
     "name": "stdout",
     "output_type": "stream",
     "text": [
      "API key 1 rate limited. Waiting 0 seconds.\n",
      "API key 1 rate limited. Waiting 0 seconds.\n"
     ]
    },
    {
     "name": "stderr",
     "output_type": "stream",
     "text": [
      "Processing tweet batches:  24%|██▍       | 1686/7043 [1:00:06<3:09:20,  2.12s/it]"
     ]
    },
    {
     "name": "stdout",
     "output_type": "stream",
     "text": [
      "API key 1 rate limited. Waiting 0 seconds.\n",
      "API key 1 rate limited. Waiting 0 seconds.\n",
      "API key 1 rate limited. Waiting 0 seconds.\n"
     ]
    },
    {
     "name": "stderr",
     "output_type": "stream",
     "text": [
      "Processing tweet batches:  24%|██▍       | 1687/7043 [1:00:09<3:18:23,  2.22s/it]"
     ]
    },
    {
     "name": "stdout",
     "output_type": "stream",
     "text": [
      "API key 2 rate limited. Waiting 0 seconds.\n",
      "API key 2 rate limited. Waiting 0 seconds.\n"
     ]
    },
    {
     "name": "stderr",
     "output_type": "stream",
     "text": [
      "Processing tweet batches:  24%|██▍       | 1688/7043 [1:00:11<3:19:02,  2.23s/it]"
     ]
    },
    {
     "name": "stdout",
     "output_type": "stream",
     "text": [
      "API key 1 rate limited. Waiting 0 seconds.API key 2 rate limited. Waiting 0 seconds.\n",
      "\n",
      "API key 1 rate limited. Waiting 0 seconds.\n",
      "API key 1 rate limited. Waiting 0 seconds.\n",
      "API key 2 rate limited. Waiting 0 seconds.\n"
     ]
    },
    {
     "name": "stderr",
     "output_type": "stream",
     "text": [
      "Processing tweet batches:  24%|██▍       | 1689/7043 [1:00:13<3:22:40,  2.27s/it]"
     ]
    },
    {
     "name": "stdout",
     "output_type": "stream",
     "text": [
      "API key 1 rate limited. Waiting 0 seconds.API key 2 rate limited. Waiting 0 seconds.\n",
      "\n"
     ]
    },
    {
     "name": "stderr",
     "output_type": "stream",
     "text": [
      "Processing tweet batches:  24%|██▍       | 1690/7043 [1:00:15<3:13:09,  2.17s/it]"
     ]
    },
    {
     "name": "stdout",
     "output_type": "stream",
     "text": [
      "API key 1 rate limited. Waiting 0 seconds.\n",
      "API key 2 rate limited. Waiting 0 seconds.\n"
     ]
    },
    {
     "name": "stderr",
     "output_type": "stream",
     "text": [
      "Processing tweet batches:  24%|██▍       | 1692/7043 [1:00:19<2:54:46,  1.96s/it]"
     ]
    },
    {
     "name": "stdout",
     "output_type": "stream",
     "text": [
      "API key 2 rate limited. Waiting 0 seconds.\n",
      "API key 2 rate limited. Waiting 0 seconds.\n",
      "API key 2 rate limited. Waiting 0 seconds.\n"
     ]
    },
    {
     "name": "stderr",
     "output_type": "stream",
     "text": [
      "Processing tweet batches:  24%|██▍       | 1693/7043 [1:00:21<2:49:57,  1.91s/it]"
     ]
    },
    {
     "name": "stdout",
     "output_type": "stream",
     "text": [
      "API key 1 rate limited. Waiting 0 seconds.\n"
     ]
    },
    {
     "name": "stderr",
     "output_type": "stream",
     "text": [
      "Processing tweet batches:  24%|██▍       | 1694/7043 [1:00:22<2:46:47,  1.87s/it]"
     ]
    },
    {
     "name": "stdout",
     "output_type": "stream",
     "text": [
      "API key 1 rate limited. Waiting 0 seconds.\n"
     ]
    },
    {
     "name": "stderr",
     "output_type": "stream",
     "text": [
      "Processing tweet batches:  24%|██▍       | 1695/7043 [1:00:24<2:44:30,  1.85s/it]"
     ]
    },
    {
     "name": "stdout",
     "output_type": "stream",
     "text": [
      "API key 1 rate limited. Waiting 0 seconds.\n",
      "API key 1 rate limited. Waiting 0 seconds.\n"
     ]
    },
    {
     "name": "stderr",
     "output_type": "stream",
     "text": [
      "Processing tweet batches:  24%|██▍       | 1697/7043 [1:00:28<2:42:29,  1.82s/it]"
     ]
    },
    {
     "name": "stdout",
     "output_type": "stream",
     "text": [
      "API key 2 rate limited. Waiting 0 seconds.\n"
     ]
    },
    {
     "name": "stderr",
     "output_type": "stream",
     "text": [
      "Processing tweet batches:  24%|██▍       | 1699/7043 [1:00:31<2:30:42,  1.69s/it]"
     ]
    },
    {
     "name": "stdout",
     "output_type": "stream",
     "text": [
      "API key 2 rate limited. Waiting 0 seconds.\n",
      "\n",
      "Saved 6800 processed tweets to ../data/labeled_stock_tweets_partial.csv\n"
     ]
    },
    {
     "name": "stderr",
     "output_type": "stream",
     "text": [
      "Processing tweet batches:  24%|██▍       | 1700/7043 [1:00:33<2:39:29,  1.79s/it]"
     ]
    },
    {
     "name": "stdout",
     "output_type": "stream",
     "text": [
      "API key 2 rate limited. Waiting 0 seconds.\n",
      "API key 2 rate limited. Waiting 0 seconds.\n",
      "API key 2 rate limited. Waiting 0 seconds.\n"
     ]
    },
    {
     "name": "stderr",
     "output_type": "stream",
     "text": [
      "Processing tweet batches:  24%|██▍       | 1703/7043 [1:00:39<2:52:00,  1.93s/it]"
     ]
    },
    {
     "name": "stdout",
     "output_type": "stream",
     "text": [
      "API key 1 rate limited. Waiting 0 seconds.\n"
     ]
    },
    {
     "name": "stderr",
     "output_type": "stream",
     "text": [
      "Processing tweet batches:  24%|██▍       | 1704/7043 [1:00:41<2:49:45,  1.91s/it]"
     ]
    },
    {
     "name": "stdout",
     "output_type": "stream",
     "text": [
      "API key 2 rate limited. Waiting 0 seconds.\n",
      "API key 1 rate limited. Waiting 0 seconds.\n",
      "API key 1 rate limited. Waiting 0 seconds.\n",
      "API key 1 rate limited. Waiting 0 seconds.\n"
     ]
    },
    {
     "name": "stderr",
     "output_type": "stream",
     "text": [
      "Processing tweet batches:  24%|██▍       | 1706/7043 [1:00:45<2:50:04,  1.91s/it]"
     ]
    },
    {
     "name": "stdout",
     "output_type": "stream",
     "text": [
      "API key 2 rate limited. Waiting 0 seconds.\n"
     ]
    },
    {
     "name": "stderr",
     "output_type": "stream",
     "text": [
      "Processing tweet batches:  24%|██▍       | 1707/7043 [1:00:47<2:53:40,  1.95s/it]"
     ]
    },
    {
     "name": "stdout",
     "output_type": "stream",
     "text": [
      "API key 2 rate limited. Waiting 0 seconds.\n",
      "API key 1 rate limited. Waiting 0 seconds.\n"
     ]
    },
    {
     "name": "stderr",
     "output_type": "stream",
     "text": [
      "Processing tweet batches:  24%|██▍       | 1708/7043 [1:00:49<3:01:49,  2.04s/it]"
     ]
    },
    {
     "name": "stdout",
     "output_type": "stream",
     "text": [
      "API key 2 rate limited. Waiting 0 seconds.\n"
     ]
    },
    {
     "name": "stderr",
     "output_type": "stream",
     "text": [
      "Processing tweet batches:  24%|██▍       | 1709/7043 [1:00:52<3:11:41,  2.16s/it]"
     ]
    },
    {
     "name": "stdout",
     "output_type": "stream",
     "text": [
      "API key 1 rate limited. Waiting 0 seconds.\n",
      "API key 2 rate limited. Waiting 0 seconds.\n"
     ]
    },
    {
     "name": "stderr",
     "output_type": "stream",
     "text": [
      "Processing tweet batches:  24%|██▍       | 1710/7043 [1:00:54<3:31:27,  2.38s/it]"
     ]
    },
    {
     "name": "stdout",
     "output_type": "stream",
     "text": [
      "API key 2 rate limited. Waiting 0 seconds.\n",
      "API key 1 rate limited. Waiting 0 seconds.\n"
     ]
    },
    {
     "name": "stderr",
     "output_type": "stream",
     "text": [
      "Processing tweet batches:  24%|██▍       | 1711/7043 [1:00:56<3:22:40,  2.28s/it]"
     ]
    },
    {
     "name": "stdout",
     "output_type": "stream",
     "text": [
      "API key 1 rate limited. Waiting 0 seconds.\n"
     ]
    },
    {
     "name": "stderr",
     "output_type": "stream",
     "text": [
      "Processing tweet batches:  24%|██▍       | 1712/7043 [1:00:58<3:09:23,  2.13s/it]"
     ]
    },
    {
     "name": "stdout",
     "output_type": "stream",
     "text": [
      "API key 2 rate limited. Waiting 0 seconds.\n",
      "API key 2 rate limited. Waiting 0 seconds.\n",
      "API key 2 rate limited. Waiting 0 seconds.\n",
      "API key 2 rate limited. Waiting 0 seconds.\n",
      "API key 2 rate limited. Waiting 0 seconds.\n",
      "API key 1 rate limited. Waiting 0 seconds.\n"
     ]
    },
    {
     "name": "stderr",
     "output_type": "stream",
     "text": [
      "Processing tweet batches:  24%|██▍       | 1713/7043 [1:01:00<3:11:27,  2.16s/it]"
     ]
    },
    {
     "name": "stdout",
     "output_type": "stream",
     "text": [
      "API key 2 rate limited. Waiting 0 seconds.\n",
      "API key 2 rate limited. Waiting 0 seconds.\n",
      "API key 1 rate limited. Waiting 0 seconds.\n"
     ]
    },
    {
     "name": "stderr",
     "output_type": "stream",
     "text": [
      "Processing tweet batches:  24%|██▍       | 1714/7043 [1:01:03<3:19:27,  2.25s/it]"
     ]
    },
    {
     "name": "stdout",
     "output_type": "stream",
     "text": [
      "API key 1 rate limited. Waiting 0 seconds.\n"
     ]
    },
    {
     "name": "stderr",
     "output_type": "stream",
     "text": [
      "Processing tweet batches:  24%|██▍       | 1715/7043 [1:01:05<3:15:28,  2.20s/it]"
     ]
    },
    {
     "name": "stdout",
     "output_type": "stream",
     "text": [
      "API key 2 rate limited. Waiting 0 seconds.\n"
     ]
    },
    {
     "name": "stderr",
     "output_type": "stream",
     "text": [
      "Processing tweet batches:  24%|██▍       | 1716/7043 [1:01:07<3:03:02,  2.06s/it]"
     ]
    },
    {
     "name": "stdout",
     "output_type": "stream",
     "text": [
      "API key 1 rate limited. Waiting 0 seconds.\n"
     ]
    },
    {
     "name": "stderr",
     "output_type": "stream",
     "text": [
      "Processing tweet batches:  24%|██▍       | 1717/7043 [1:01:09<3:03:17,  2.06s/it]"
     ]
    },
    {
     "name": "stdout",
     "output_type": "stream",
     "text": [
      "API key 2 rate limited. Waiting 0 seconds.\n",
      "API key 2 rate limited. Waiting 0 seconds.\n"
     ]
    },
    {
     "name": "stderr",
     "output_type": "stream",
     "text": [
      "Processing tweet batches:  24%|██▍       | 1719/7043 [1:01:12<2:46:36,  1.88s/it]"
     ]
    },
    {
     "name": "stdout",
     "output_type": "stream",
     "text": [
      "API key 1 rate limited. Waiting 0 seconds.\n",
      "API key 2 rate limited. Waiting 0 seconds.\n",
      "API key 1 rate limited. Waiting 0 seconds.\n",
      "API key 2 rate limited. Waiting 0 seconds.\n"
     ]
    },
    {
     "name": "stderr",
     "output_type": "stream",
     "text": [
      "Processing tweet batches:  24%|██▍       | 1720/7043 [1:01:15<2:56:32,  1.99s/it]"
     ]
    },
    {
     "name": "stdout",
     "output_type": "stream",
     "text": [
      "API key 2 rate limited. Waiting 0 seconds.\n",
      "API key 2 rate limited. Waiting 0 seconds.\n"
     ]
    },
    {
     "name": "stderr",
     "output_type": "stream",
     "text": [
      "Processing tweet batches:  24%|██▍       | 1723/7043 [1:01:19<2:27:19,  1.66s/it]"
     ]
    },
    {
     "name": "stdout",
     "output_type": "stream",
     "text": [
      "API key 1 rate limited. Waiting 0 seconds.\n"
     ]
    },
    {
     "name": "stderr",
     "output_type": "stream",
     "text": [
      "Processing tweet batches:  24%|██▍       | 1724/7043 [1:01:21<2:38:16,  1.79s/it]"
     ]
    },
    {
     "name": "stdout",
     "output_type": "stream",
     "text": [
      "\n",
      "Saved 6900 processed tweets to ../data/labeled_stock_tweets_partial.csv\n"
     ]
    },
    {
     "name": "stderr",
     "output_type": "stream",
     "text": [
      "Processing tweet batches:  24%|██▍       | 1725/7043 [1:01:23<2:42:49,  1.84s/it]"
     ]
    },
    {
     "name": "stdout",
     "output_type": "stream",
     "text": [
      "API key 1 rate limited. Waiting 0 seconds.\n"
     ]
    },
    {
     "name": "stderr",
     "output_type": "stream",
     "text": [
      "Processing tweet batches:  25%|██▍       | 1727/7043 [1:01:27<2:45:11,  1.86s/it]"
     ]
    },
    {
     "name": "stdout",
     "output_type": "stream",
     "text": [
      "API key 2 rate limited. Waiting 0 seconds.\n",
      "API key 2 rate limited. Waiting 0 seconds.\n",
      "API key 2 rate limited. Waiting 0 seconds.\n"
     ]
    },
    {
     "name": "stderr",
     "output_type": "stream",
     "text": [
      "Processing tweet batches:  25%|██▍       | 1728/7043 [1:01:29<2:47:38,  1.89s/it]"
     ]
    },
    {
     "name": "stdout",
     "output_type": "stream",
     "text": [
      "API key 1 rate limited. Waiting 0 seconds.\n",
      "API key 1 rate limited. Waiting 0 seconds.\n",
      "API key 2 rate limited. Waiting 0 seconds.\n"
     ]
    },
    {
     "name": "stderr",
     "output_type": "stream",
     "text": [
      "Processing tweet batches:  25%|██▍       | 1729/7043 [1:01:31<2:51:45,  1.94s/it]"
     ]
    },
    {
     "name": "stdout",
     "output_type": "stream",
     "text": [
      "API key 1 rate limited. Waiting 0 seconds.\n"
     ]
    },
    {
     "name": "stderr",
     "output_type": "stream",
     "text": [
      "Processing tweet batches:  25%|██▍       | 1730/7043 [1:01:33<2:49:05,  1.91s/it]"
     ]
    },
    {
     "name": "stdout",
     "output_type": "stream",
     "text": [
      "API key 1 rate limited. Waiting 0 seconds.\n",
      "API key 2 rate limited. Waiting 0 seconds.\n",
      "API key 1 rate limited. Waiting 0 seconds.\n",
      "API key 2 rate limited. Waiting 0 seconds.\n",
      "API key 2 rate limited. Waiting 0 seconds.\n"
     ]
    },
    {
     "name": "stderr",
     "output_type": "stream",
     "text": [
      "Processing tweet batches:  25%|██▍       | 1731/7043 [1:01:35<2:48:54,  1.91s/it]"
     ]
    },
    {
     "name": "stdout",
     "output_type": "stream",
     "text": [
      "API key 1 rate limited. Waiting 0 seconds.\n",
      "API key 2 rate limited. Waiting 0 seconds.\n",
      "API key 2 rate limited. Waiting 0 seconds.\n",
      "API key 2 rate limited. Waiting 0 seconds.\n"
     ]
    },
    {
     "name": "stderr",
     "output_type": "stream",
     "text": [
      "Processing tweet batches:  25%|██▍       | 1732/7043 [1:01:37<3:02:15,  2.06s/it]"
     ]
    },
    {
     "name": "stdout",
     "output_type": "stream",
     "text": [
      "API key 2 rate limited. Waiting 0 seconds.\n"
     ]
    },
    {
     "name": "stderr",
     "output_type": "stream",
     "text": [
      "Processing tweet batches:  25%|██▍       | 1734/7043 [1:01:40<2:38:48,  1.79s/it]"
     ]
    },
    {
     "name": "stdout",
     "output_type": "stream",
     "text": [
      "API key 1 rate limited. Waiting 0 seconds.\n"
     ]
    },
    {
     "name": "stderr",
     "output_type": "stream",
     "text": [
      "Processing tweet batches:  25%|██▍       | 1735/7043 [1:01:43<2:45:47,  1.87s/it]"
     ]
    },
    {
     "name": "stdout",
     "output_type": "stream",
     "text": [
      "API key 2 rate limited. Waiting 0 seconds.\n"
     ]
    },
    {
     "name": "stderr",
     "output_type": "stream",
     "text": [
      "Processing tweet batches:  25%|██▍       | 1736/7043 [1:01:45<3:02:09,  2.06s/it]"
     ]
    },
    {
     "name": "stdout",
     "output_type": "stream",
     "text": [
      "API key 1 rate limited. Waiting 0 seconds.\n",
      "API key 1 rate limited. Waiting 0 seconds.\n"
     ]
    },
    {
     "name": "stderr",
     "output_type": "stream",
     "text": [
      "Processing tweet batches:  25%|██▍       | 1738/7043 [1:01:48<2:43:09,  1.85s/it]"
     ]
    },
    {
     "name": "stdout",
     "output_type": "stream",
     "text": [
      "API key 2 rate limited. Waiting 0 seconds.\n",
      "API key 2 rate limited. Waiting 0 seconds.\n",
      "API key 1 rate limited. Waiting 0 seconds.\n"
     ]
    },
    {
     "name": "stderr",
     "output_type": "stream",
     "text": [
      "Processing tweet batches:  25%|██▍       | 1742/7043 [1:01:56<2:38:23,  1.79s/it]"
     ]
    },
    {
     "name": "stdout",
     "output_type": "stream",
     "text": [
      "API key 2 rate limited. Waiting 0 seconds.API key 1 rate limited. Waiting 0 seconds.\n",
      "\n",
      "API key 2 rate limited. Waiting 0 seconds.\n"
     ]
    },
    {
     "name": "stderr",
     "output_type": "stream",
     "text": [
      "Processing tweet batches:  25%|██▍       | 1743/7043 [1:01:58<2:48:00,  1.90s/it]"
     ]
    },
    {
     "name": "stdout",
     "output_type": "stream",
     "text": [
      "API key 2 rate limited. Waiting 0 seconds.\n",
      "API key 2 rate limited. Waiting 0 seconds.\n"
     ]
    },
    {
     "name": "stderr",
     "output_type": "stream",
     "text": [
      "Processing tweet batches:  25%|██▍       | 1744/7043 [1:02:00<2:49:16,  1.92s/it]"
     ]
    },
    {
     "name": "stdout",
     "output_type": "stream",
     "text": [
      "API key 2 rate limited. Waiting 0 seconds.\n",
      "API key 2 rate limited. Waiting 0 seconds.\n"
     ]
    },
    {
     "name": "stderr",
     "output_type": "stream",
     "text": [
      "Processing tweet batches:  25%|██▍       | 1746/7043 [1:02:04<2:50:42,  1.93s/it]"
     ]
    },
    {
     "name": "stdout",
     "output_type": "stream",
     "text": [
      "API key 2 rate limited. Waiting 0 seconds.\n",
      "API key 2 rate limited. Waiting 0 seconds.\n",
      "API key 2 rate limited. Waiting 0 seconds.\n",
      "API key 2 rate limited. Waiting 0 seconds.\n",
      "API key 2 rate limited. Waiting 0 seconds.\n"
     ]
    },
    {
     "name": "stderr",
     "output_type": "stream",
     "text": [
      "Processing tweet batches:  25%|██▍       | 1747/7043 [1:02:06<3:06:29,  2.11s/it]"
     ]
    },
    {
     "name": "stdout",
     "output_type": "stream",
     "text": [
      "API key 1 rate limited. Waiting 0 seconds.\n"
     ]
    },
    {
     "name": "stderr",
     "output_type": "stream",
     "text": [
      "Processing tweet batches:  25%|██▍       | 1748/7043 [1:02:09<3:12:44,  2.18s/it]"
     ]
    },
    {
     "name": "stdout",
     "output_type": "stream",
     "text": [
      "API key 2 rate limited. Waiting 0 seconds.\n"
     ]
    },
    {
     "name": "stderr",
     "output_type": "stream",
     "text": [
      "Processing tweet batches:  25%|██▍       | 1749/7043 [1:02:10<2:58:24,  2.02s/it]"
     ]
    },
    {
     "name": "stdout",
     "output_type": "stream",
     "text": [
      "API key 2 rate limited. Waiting 0 seconds.\n",
      "API key 1 rate limited. Waiting 0 seconds.\n",
      "\n",
      "Saved 7000 processed tweets to ../data/labeled_stock_tweets_partial.csv\n"
     ]
    },
    {
     "name": "stderr",
     "output_type": "stream",
     "text": [
      "Processing tweet batches:  25%|██▍       | 1752/7043 [1:02:16<2:40:49,  1.82s/it]"
     ]
    },
    {
     "name": "stdout",
     "output_type": "stream",
     "text": [
      "API key 2 rate limited. Waiting 0 seconds.\n",
      "API key 2 rate limited. Waiting 0 seconds.\n"
     ]
    },
    {
     "name": "stderr",
     "output_type": "stream",
     "text": [
      "Processing tweet batches:  25%|██▍       | 1754/7043 [1:02:20<2:52:32,  1.96s/it]"
     ]
    },
    {
     "name": "stdout",
     "output_type": "stream",
     "text": [
      "API key 2 rate limited. Waiting 0 seconds.\n",
      "API key 2 rate limited. Waiting 0 seconds.\n",
      "API key 2 rate limited. Waiting 0 seconds.\n"
     ]
    },
    {
     "name": "stderr",
     "output_type": "stream",
     "text": [
      "Processing tweet batches:  25%|██▍       | 1755/7043 [1:02:22<2:49:35,  1.92s/it]"
     ]
    },
    {
     "name": "stdout",
     "output_type": "stream",
     "text": [
      "API key 1 rate limited. Waiting 0 seconds.\n",
      "API key 2 rate limited. Waiting 0 seconds.\n"
     ]
    },
    {
     "name": "stderr",
     "output_type": "stream",
     "text": [
      "Processing tweet batches:  25%|██▍       | 1758/7043 [1:02:27<2:29:03,  1.69s/it]"
     ]
    },
    {
     "name": "stdout",
     "output_type": "stream",
     "text": [
      "API key 2 rate limited. Waiting 0 seconds.\n",
      "API key 1 rate limited. Waiting 0 seconds.\n"
     ]
    },
    {
     "name": "stderr",
     "output_type": "stream",
     "text": [
      "Processing tweet batches:  25%|██▍       | 1759/7043 [1:02:29<2:32:09,  1.73s/it]"
     ]
    },
    {
     "name": "stdout",
     "output_type": "stream",
     "text": [
      "API key 1 rate limited. Waiting 0 seconds.API key 2 rate limited. Waiting 0 seconds.\n",
      "\n",
      "API key 1 rate limited. Waiting 0 seconds.\n",
      "API key 1 rate limited. Waiting 0 seconds.\n"
     ]
    },
    {
     "name": "stderr",
     "output_type": "stream",
     "text": [
      "Processing tweet batches:  25%|██▍       | 1760/7043 [1:02:30<2:34:55,  1.76s/it]"
     ]
    },
    {
     "name": "stdout",
     "output_type": "stream",
     "text": [
      "API key 2 rate limited. Waiting 0 seconds.\n",
      "API key 2 rate limited. Waiting 0 seconds.\n",
      "API key 2 rate limited. Waiting 0 seconds.\n",
      "API key 2 rate limited. Waiting 0 seconds.\n"
     ]
    },
    {
     "name": "stderr",
     "output_type": "stream",
     "text": [
      "Processing tweet batches:  25%|██▌       | 1761/7043 [1:02:32<2:40:00,  1.82s/it]"
     ]
    },
    {
     "name": "stdout",
     "output_type": "stream",
     "text": [
      "API key 1 rate limited. Waiting 0 seconds.\n",
      "API key 1 rate limited. Waiting 0 seconds.\n"
     ]
    },
    {
     "name": "stderr",
     "output_type": "stream",
     "text": [
      "Processing tweet batches:  25%|██▌       | 1764/7043 [1:02:38<2:36:11,  1.78s/it]"
     ]
    },
    {
     "name": "stdout",
     "output_type": "stream",
     "text": [
      "API key 1 rate limited. Waiting 0 seconds.\n",
      "API key 1 rate limited. Waiting 0 seconds.\n",
      "API key 1 rate limited. Waiting 0 seconds.\n"
     ]
    },
    {
     "name": "stderr",
     "output_type": "stream",
     "text": [
      "Processing tweet batches:  25%|██▌       | 1766/7043 [1:02:42<2:38:10,  1.80s/it]"
     ]
    },
    {
     "name": "stdout",
     "output_type": "stream",
     "text": [
      "API key 2 rate limited. Waiting 0 seconds.\n",
      "API key 2 rate limited. Waiting 0 seconds.\n",
      "API key 2 rate limited. Waiting 0 seconds.\n"
     ]
    },
    {
     "name": "stderr",
     "output_type": "stream",
     "text": [
      "Processing tweet batches:  25%|██▌       | 1767/7043 [1:02:43<2:36:42,  1.78s/it]"
     ]
    },
    {
     "name": "stdout",
     "output_type": "stream",
     "text": [
      "API key 1 rate limited. Waiting 0 seconds.\n"
     ]
    },
    {
     "name": "stderr",
     "output_type": "stream",
     "text": [
      "Processing tweet batches:  25%|██▌       | 1768/7043 [1:02:46<3:02:35,  2.08s/it]"
     ]
    },
    {
     "name": "stdout",
     "output_type": "stream",
     "text": [
      "API key 1 rate limited. Waiting 0 seconds.\n",
      "API key 1 rate limited. Waiting 0 seconds.\n"
     ]
    },
    {
     "name": "stderr",
     "output_type": "stream",
     "text": [
      "Processing tweet batches:  25%|██▌       | 1769/7043 [1:02:48<2:56:17,  2.01s/it]"
     ]
    },
    {
     "name": "stdout",
     "output_type": "stream",
     "text": [
      "API key 1 rate limited. Waiting 0 seconds.\n",
      "API key 1 rate limited. Waiting 0 seconds.\n"
     ]
    },
    {
     "name": "stderr",
     "output_type": "stream",
     "text": [
      "Processing tweet batches:  25%|██▌       | 1771/7043 [1:02:52<2:53:47,  1.98s/it]"
     ]
    },
    {
     "name": "stdout",
     "output_type": "stream",
     "text": [
      "API key 1 rate limited. Waiting 0 seconds.\n"
     ]
    },
    {
     "name": "stderr",
     "output_type": "stream",
     "text": [
      "Processing tweet batches:  25%|██▌       | 1772/7043 [1:02:54<3:03:25,  2.09s/it]"
     ]
    },
    {
     "name": "stdout",
     "output_type": "stream",
     "text": [
      "API key 1 rate limited. Waiting 0 seconds.\n"
     ]
    },
    {
     "name": "stderr",
     "output_type": "stream",
     "text": [
      "Processing tweet batches:  25%|██▌       | 1773/7043 [1:02:56<2:51:31,  1.95s/it]"
     ]
    },
    {
     "name": "stdout",
     "output_type": "stream",
     "text": [
      "API key 1 rate limited. Waiting 0 seconds.\n"
     ]
    },
    {
     "name": "stderr",
     "output_type": "stream",
     "text": [
      "Processing tweet batches:  25%|██▌       | 1774/7043 [1:02:58<2:59:04,  2.04s/it]"
     ]
    },
    {
     "name": "stdout",
     "output_type": "stream",
     "text": [
      "\n",
      "Saved 7100 processed tweets to ../data/labeled_stock_tweets_partial.csv\n"
     ]
    },
    {
     "name": "stderr",
     "output_type": "stream",
     "text": [
      "Processing tweet batches:  25%|██▌       | 1776/7043 [1:03:02<2:51:02,  1.95s/it]"
     ]
    },
    {
     "name": "stdout",
     "output_type": "stream",
     "text": [
      "API key 1 rate limited. Waiting 0 seconds.\n",
      "API key 1 rate limited. Waiting 0 seconds.\n",
      "API key 1 rate limited. Waiting 0 seconds.\n",
      "API key 1 rate limited. Waiting 0 seconds.\n"
     ]
    },
    {
     "name": "stderr",
     "output_type": "stream",
     "text": [
      "Processing tweet batches:  25%|██▌       | 1777/7043 [1:03:04<3:01:45,  2.07s/it]"
     ]
    },
    {
     "name": "stdout",
     "output_type": "stream",
     "text": [
      "API key 1 rate limited. Waiting 0 seconds.\n",
      "API key 2 rate limited. Waiting 0 seconds.\n"
     ]
    },
    {
     "name": "stderr",
     "output_type": "stream",
     "text": [
      "Processing tweet batches:  25%|██▌       | 1779/7043 [1:03:08<2:52:13,  1.96s/it]"
     ]
    },
    {
     "name": "stdout",
     "output_type": "stream",
     "text": [
      "API key 2 rate limited. Waiting 0 seconds.\n"
     ]
    },
    {
     "name": "stderr",
     "output_type": "stream",
     "text": [
      "Processing tweet batches:  25%|██▌       | 1780/7043 [1:03:13<4:07:25,  2.82s/it]"
     ]
    },
    {
     "name": "stdout",
     "output_type": "stream",
     "text": [
      "API key 1 rate limited. Waiting 0 seconds.\n"
     ]
    },
    {
     "name": "stderr",
     "output_type": "stream",
     "text": [
      "Processing tweet batches:  25%|██▌       | 1782/7043 [1:03:16<3:11:57,  2.19s/it]"
     ]
    },
    {
     "name": "stdout",
     "output_type": "stream",
     "text": [
      "API key 2 rate limited. Waiting 0 seconds.\n"
     ]
    },
    {
     "name": "stderr",
     "output_type": "stream",
     "text": [
      "Processing tweet batches:  25%|██▌       | 1783/7043 [1:03:18<3:10:53,  2.18s/it]"
     ]
    },
    {
     "name": "stdout",
     "output_type": "stream",
     "text": [
      "API key 2 rate limited. Waiting 0 seconds.\n"
     ]
    },
    {
     "name": "stderr",
     "output_type": "stream",
     "text": [
      "Processing tweet batches:  25%|██▌       | 1784/7043 [1:03:20<2:56:43,  2.02s/it]"
     ]
    },
    {
     "name": "stdout",
     "output_type": "stream",
     "text": [
      "API key 1 rate limited. Waiting 0 seconds.\n"
     ]
    },
    {
     "name": "stderr",
     "output_type": "stream",
     "text": [
      "Processing tweet batches:  25%|██▌       | 1785/7043 [1:03:22<2:58:43,  2.04s/it]"
     ]
    },
    {
     "name": "stdout",
     "output_type": "stream",
     "text": [
      "API key 2 rate limited. Waiting 0 seconds.\n",
      "API key 2 rate limited. Waiting 0 seconds.\n"
     ]
    },
    {
     "name": "stderr",
     "output_type": "stream",
     "text": [
      "Processing tweet batches:  25%|██▌       | 1786/7043 [1:03:25<3:15:24,  2.23s/it]"
     ]
    },
    {
     "name": "stdout",
     "output_type": "stream",
     "text": [
      "API key 2 rate limited. Waiting 0 seconds.\n",
      "API key 2 rate limited. Waiting 0 seconds.\n"
     ]
    },
    {
     "name": "stderr",
     "output_type": "stream",
     "text": [
      "Processing tweet batches:  25%|██▌       | 1787/7043 [1:03:27<3:09:15,  2.16s/it]"
     ]
    },
    {
     "name": "stdout",
     "output_type": "stream",
     "text": [
      "API key 2 rate limited. Waiting 0 seconds.\n",
      "API key 2 rate limited. Waiting 0 seconds.\n",
      "API key 2 rate limited. Waiting 0 seconds.\n"
     ]
    },
    {
     "name": "stderr",
     "output_type": "stream",
     "text": [
      "Processing tweet batches:  25%|██▌       | 1788/7043 [1:03:29<3:16:12,  2.24s/it]"
     ]
    },
    {
     "name": "stdout",
     "output_type": "stream",
     "text": [
      "API key 2 rate limited. Waiting 0 seconds.\n"
     ]
    },
    {
     "name": "stderr",
     "output_type": "stream",
     "text": [
      "Processing tweet batches:  25%|██▌       | 1789/7043 [1:03:31<3:05:33,  2.12s/it]"
     ]
    },
    {
     "name": "stdout",
     "output_type": "stream",
     "text": [
      "API key 2 rate limited. Waiting 0 seconds.\n"
     ]
    },
    {
     "name": "stderr",
     "output_type": "stream",
     "text": [
      "Processing tweet batches:  25%|██▌       | 1791/7043 [1:03:34<2:43:46,  1.87s/it]"
     ]
    },
    {
     "name": "stdout",
     "output_type": "stream",
     "text": [
      "API key 1 rate limited. Waiting 0 seconds.API key 2 rate limited. Waiting 0 seconds.\n",
      "\n"
     ]
    },
    {
     "name": "stderr",
     "output_type": "stream",
     "text": [
      "Processing tweet batches:  25%|██▌       | 1792/7043 [1:03:36<2:40:17,  1.83s/it]"
     ]
    },
    {
     "name": "stdout",
     "output_type": "stream",
     "text": [
      "API key 2 rate limited. Waiting 0 seconds.\n",
      "API key 2 rate limited. Waiting 0 seconds.\n",
      "API key 2 rate limited. Waiting 0 seconds.\n",
      "API key 2 rate limited. Waiting 0 seconds.\n",
      "API key 2 rate limited. Waiting 0 seconds.\n"
     ]
    },
    {
     "name": "stderr",
     "output_type": "stream",
     "text": [
      "Processing tweet batches:  25%|██▌       | 1793/7043 [1:03:38<2:40:32,  1.83s/it]"
     ]
    },
    {
     "name": "stdout",
     "output_type": "stream",
     "text": [
      "API key 2 rate limited. Waiting 0 seconds.API key 1 rate limited. Waiting 0 seconds.\n",
      "\n",
      "API key 1 rate limited. Waiting 0 seconds.API key 2 rate limited. Waiting 0 seconds.\n",
      "\n"
     ]
    },
    {
     "name": "stderr",
     "output_type": "stream",
     "text": [
      "Processing tweet batches:  25%|██▌       | 1794/7043 [1:03:40<2:43:21,  1.87s/it]"
     ]
    },
    {
     "name": "stdout",
     "output_type": "stream",
     "text": [
      "API key 2 rate limited. Waiting 0 seconds.\n"
     ]
    },
    {
     "name": "stderr",
     "output_type": "stream",
     "text": [
      "Processing tweet batches:  26%|██▌       | 1796/7043 [1:03:44<2:48:17,  1.92s/it]"
     ]
    },
    {
     "name": "stdout",
     "output_type": "stream",
     "text": [
      "API key 2 rate limited. Waiting 0 seconds.\n",
      "API key 2 rate limited. Waiting 0 seconds.\n"
     ]
    },
    {
     "name": "stderr",
     "output_type": "stream",
     "text": [
      "Processing tweet batches:  26%|██▌       | 1797/7043 [1:03:46<2:47:17,  1.91s/it]"
     ]
    },
    {
     "name": "stdout",
     "output_type": "stream",
     "text": [
      "API key 2 rate limited. Waiting 0 seconds.\n"
     ]
    },
    {
     "name": "stderr",
     "output_type": "stream",
     "text": [
      "Processing tweet batches:  26%|██▌       | 1798/7043 [1:03:48<2:54:49,  2.00s/it]"
     ]
    },
    {
     "name": "stdout",
     "output_type": "stream",
     "text": [
      "API key 1 rate limited. Waiting 0 seconds.\n",
      "API key 1 rate limited. Waiting 0 seconds.\n"
     ]
    },
    {
     "name": "stderr",
     "output_type": "stream",
     "text": [
      "Processing tweet batches:  26%|██▌       | 1799/7043 [1:03:51<3:14:43,  2.23s/it]"
     ]
    },
    {
     "name": "stdout",
     "output_type": "stream",
     "text": [
      "API key 1 rate limited. Waiting 0 seconds.\n",
      "\n",
      "Saved 7200 processed tweets to ../data/labeled_stock_tweets_partial.csv\n"
     ]
    },
    {
     "name": "stderr",
     "output_type": "stream",
     "text": [
      "Processing tweet batches:  26%|██▌       | 1800/7043 [1:03:53<3:04:37,  2.11s/it]"
     ]
    },
    {
     "name": "stdout",
     "output_type": "stream",
     "text": [
      "API key 2 rate limited. Waiting 0 seconds.\n"
     ]
    },
    {
     "name": "stderr",
     "output_type": "stream",
     "text": [
      "Processing tweet batches:  26%|██▌       | 1801/7043 [1:03:55<3:00:52,  2.07s/it]"
     ]
    },
    {
     "name": "stdout",
     "output_type": "stream",
     "text": [
      "API key 1 rate limited. Waiting 0 seconds.\n"
     ]
    },
    {
     "name": "stderr",
     "output_type": "stream",
     "text": [
      "Processing tweet batches:  26%|██▌       | 1802/7043 [1:03:56<2:48:56,  1.93s/it]"
     ]
    },
    {
     "name": "stdout",
     "output_type": "stream",
     "text": [
      "API key 2 rate limited. Waiting 0 seconds.\n",
      "API key 2 rate limited. Waiting 0 seconds.\n"
     ]
    },
    {
     "name": "stderr",
     "output_type": "stream",
     "text": [
      "Processing tweet batches:  26%|██▌       | 1803/7043 [1:03:59<2:58:44,  2.05s/it]"
     ]
    },
    {
     "name": "stdout",
     "output_type": "stream",
     "text": [
      "API key 1 rate limited. Waiting 0 seconds.\n",
      "API key 2 rate limited. Waiting 0 seconds.\n",
      "API key 2 rate limited. Waiting 0 seconds.\n"
     ]
    },
    {
     "name": "stderr",
     "output_type": "stream",
     "text": [
      "Processing tweet batches:  26%|██▌       | 1805/7043 [1:04:03<2:50:39,  1.95s/it]"
     ]
    },
    {
     "name": "stdout",
     "output_type": "stream",
     "text": [
      "API key 2 rate limited. Waiting 0 seconds.\n",
      "API key 2 rate limited. Waiting 0 seconds.\n"
     ]
    },
    {
     "name": "stderr",
     "output_type": "stream",
     "text": [
      "Processing tweet batches:  26%|██▌       | 1806/7043 [1:04:05<3:14:37,  2.23s/it]"
     ]
    },
    {
     "name": "stdout",
     "output_type": "stream",
     "text": [
      "API key 1 rate limited. Waiting 0 seconds.\n"
     ]
    },
    {
     "name": "stderr",
     "output_type": "stream",
     "text": [
      "Processing tweet batches:  26%|██▌       | 1808/7043 [1:04:09<2:56:55,  2.03s/it]"
     ]
    },
    {
     "name": "stdout",
     "output_type": "stream",
     "text": [
      "API key 1 rate limited. Waiting 0 seconds.\n",
      "API key 1 rate limited. Waiting 0 seconds.\n"
     ]
    },
    {
     "name": "stderr",
     "output_type": "stream",
     "text": [
      "Processing tweet batches:  26%|██▌       | 1809/7043 [1:04:11<2:53:55,  1.99s/it]"
     ]
    },
    {
     "name": "stdout",
     "output_type": "stream",
     "text": [
      "API key 1 rate limited. Waiting 0 seconds.\n",
      "API key 1 rate limited. Waiting 0 seconds.\n",
      "API key 2 rate limited. Waiting 0 seconds.\n",
      "API key 1 rate limited. Waiting 0 seconds.\n"
     ]
    },
    {
     "name": "stderr",
     "output_type": "stream",
     "text": [
      "Processing tweet batches:  26%|██▌       | 1811/7043 [1:04:15<2:51:45,  1.97s/it]"
     ]
    },
    {
     "name": "stdout",
     "output_type": "stream",
     "text": [
      "API key 1 rate limited. Waiting 0 seconds.\n",
      "API key 2 rate limited. Waiting 0 seconds.\n"
     ]
    },
    {
     "name": "stderr",
     "output_type": "stream",
     "text": [
      "Processing tweet batches:  26%|██▌       | 1813/7043 [1:04:20<3:06:08,  2.14s/it]"
     ]
    },
    {
     "name": "stdout",
     "output_type": "stream",
     "text": [
      "API key 2 rate limited. Waiting 0 seconds.\n",
      "API key 1 rate limited. Waiting 0 seconds.\n"
     ]
    },
    {
     "name": "stderr",
     "output_type": "stream",
     "text": [
      "Processing tweet batches:  26%|██▌       | 1815/7043 [1:04:24<3:03:32,  2.11s/it]"
     ]
    },
    {
     "name": "stdout",
     "output_type": "stream",
     "text": [
      "API key 2 rate limited. Waiting 0 seconds.\n"
     ]
    },
    {
     "name": "stderr",
     "output_type": "stream",
     "text": [
      "Processing tweet batches:  26%|██▌       | 1816/7043 [1:04:27<3:18:08,  2.27s/it]"
     ]
    },
    {
     "name": "stdout",
     "output_type": "stream",
     "text": [
      "API key 1 rate limited. Waiting 0 seconds.\n"
     ]
    },
    {
     "name": "stderr",
     "output_type": "stream",
     "text": [
      "Processing tweet batches:  26%|██▌       | 1817/7043 [1:04:28<3:01:27,  2.08s/it]"
     ]
    },
    {
     "name": "stdout",
     "output_type": "stream",
     "text": [
      "API key 2 rate limited. Waiting 0 seconds.\n"
     ]
    },
    {
     "name": "stderr",
     "output_type": "stream",
     "text": [
      "Processing tweet batches:  26%|██▌       | 1820/7043 [1:04:45<5:04:44,  3.50s/it]"
     ]
    },
    {
     "name": "stdout",
     "output_type": "stream",
     "text": [
      "API key 2 rate limited. Waiting 0 seconds.\n"
     ]
    },
    {
     "name": "stderr",
     "output_type": "stream",
     "text": [
      "Processing tweet batches:  26%|██▌       | 1822/7043 [1:04:49<3:58:26,  2.74s/it]"
     ]
    },
    {
     "name": "stdout",
     "output_type": "stream",
     "text": [
      "API key 2 rate limited. Waiting 0 seconds.\n",
      "API key 1 rate limited. Waiting 0 seconds.\n",
      "API key 2 rate limited. Waiting 0 seconds.\n"
     ]
    },
    {
     "name": "stderr",
     "output_type": "stream",
     "text": [
      "Processing tweet batches:  26%|██▌       | 1824/7043 [1:04:53<3:17:35,  2.27s/it]"
     ]
    },
    {
     "name": "stdout",
     "output_type": "stream",
     "text": [
      "\n",
      "Saved 7300 processed tweets to ../data/labeled_stock_tweets_partial.csv\n"
     ]
    },
    {
     "name": "stderr",
     "output_type": "stream",
     "text": [
      "Processing tweet batches:  26%|██▌       | 1825/7043 [1:04:55<3:03:03,  2.10s/it]"
     ]
    },
    {
     "name": "stdout",
     "output_type": "stream",
     "text": [
      "API key 2 rate limited. Waiting 0 seconds.\n"
     ]
    },
    {
     "name": "stderr",
     "output_type": "stream",
     "text": [
      "Processing tweet batches:  26%|██▌       | 1826/7043 [1:04:57<2:58:26,  2.05s/it]"
     ]
    },
    {
     "name": "stdout",
     "output_type": "stream",
     "text": [
      "API key 2 rate limited. Waiting 0 seconds.\n"
     ]
    },
    {
     "name": "stderr",
     "output_type": "stream",
     "text": [
      "Processing tweet batches:  26%|██▌       | 1828/7043 [1:05:00<2:41:44,  1.86s/it]"
     ]
    },
    {
     "name": "stdout",
     "output_type": "stream",
     "text": [
      "API key 2 rate limited. Waiting 0 seconds.\n",
      "API key 1 rate limited. Waiting 0 seconds.\n",
      "API key 1 rate limited. Waiting 0 seconds.\n",
      "API key 1 rate limited. Waiting 0 seconds.\n"
     ]
    },
    {
     "name": "stderr",
     "output_type": "stream",
     "text": [
      "Processing tweet batches:  26%|██▌       | 1829/7043 [1:05:02<2:53:31,  2.00s/it]"
     ]
    },
    {
     "name": "stdout",
     "output_type": "stream",
     "text": [
      "API key 2 rate limited. Waiting 0 seconds.\n",
      "API key 2 rate limited. Waiting 0 seconds.\n",
      "API key 1 rate limited. Waiting 0 seconds.\n",
      "API key 1 rate limited. Waiting 0 seconds.\n"
     ]
    },
    {
     "name": "stderr",
     "output_type": "stream",
     "text": [
      "Processing tweet batches:  26%|██▌       | 1831/7043 [1:05:07<3:01:58,  2.09s/it]"
     ]
    },
    {
     "name": "stdout",
     "output_type": "stream",
     "text": [
      "API key 1 rate limited. Waiting 0 seconds.\n",
      "API key 1 rate limited. Waiting 0 seconds.\n"
     ]
    },
    {
     "name": "stderr",
     "output_type": "stream",
     "text": [
      "Processing tweet batches:  26%|██▌       | 1832/7043 [1:05:10<3:21:06,  2.32s/it]"
     ]
    },
    {
     "name": "stdout",
     "output_type": "stream",
     "text": [
      "API key 1 rate limited. Waiting 0 seconds.\n",
      "API key 1 rate limited. Waiting 0 seconds.\n",
      "API key 1 rate limited. Waiting 0 seconds.\n"
     ]
    },
    {
     "name": "stderr",
     "output_type": "stream",
     "text": [
      "Processing tweet batches:  26%|██▌       | 1833/7043 [1:05:12<3:28:14,  2.40s/it]"
     ]
    },
    {
     "name": "stdout",
     "output_type": "stream",
     "text": [
      "API key 1 rate limited. Waiting 0 seconds.\n"
     ]
    },
    {
     "name": "stderr",
     "output_type": "stream",
     "text": [
      "Processing tweet batches:  26%|██▌       | 1834/7043 [1:05:14<3:17:10,  2.27s/it]"
     ]
    },
    {
     "name": "stdout",
     "output_type": "stream",
     "text": [
      "API key 2 rate limited. Waiting 0 seconds.\n",
      "API key 2 rate limited. Waiting 0 seconds.\n",
      "API key 2 rate limited. Waiting 0 seconds.\n"
     ]
    },
    {
     "name": "stderr",
     "output_type": "stream",
     "text": [
      "Processing tweet batches:  26%|██▌       | 1835/7043 [1:05:16<3:06:00,  2.14s/it]"
     ]
    },
    {
     "name": "stdout",
     "output_type": "stream",
     "text": [
      "API key 1 rate limited. Waiting 0 seconds.\n",
      "API key 1 rate limited. Waiting 0 seconds.\n",
      "API key 1 rate limited. Waiting 0 seconds.\n"
     ]
    },
    {
     "name": "stderr",
     "output_type": "stream",
     "text": [
      "Processing tweet batches:  26%|██▌       | 1837/7043 [1:05:20<2:58:40,  2.06s/it]"
     ]
    },
    {
     "name": "stdout",
     "output_type": "stream",
     "text": [
      "API key 2 rate limited. Waiting 0 seconds.\n"
     ]
    },
    {
     "name": "stderr",
     "output_type": "stream",
     "text": [
      "Processing tweet batches:  26%|██▌       | 1838/7043 [1:05:22<2:53:05,  2.00s/it]"
     ]
    },
    {
     "name": "stdout",
     "output_type": "stream",
     "text": [
      "API key 2 rate limited. Waiting 0 seconds.\n",
      "API key 1 rate limited. Waiting 0 seconds.\n",
      "API key 2 rate limited. Waiting 0 seconds.\n",
      "API key 2 rate limited. Waiting 0 seconds.\n",
      "API key 2 rate limited. Waiting 0 seconds.\n"
     ]
    },
    {
     "name": "stderr",
     "output_type": "stream",
     "text": [
      "Processing tweet batches:  26%|██▌       | 1839/7043 [1:05:25<3:13:46,  2.23s/it]"
     ]
    },
    {
     "name": "stdout",
     "output_type": "stream",
     "text": [
      "API key 1 rate limited. Waiting 0 seconds.\n"
     ]
    },
    {
     "name": "stderr",
     "output_type": "stream",
     "text": [
      "Processing tweet batches:  26%|██▌       | 1841/7043 [1:05:29<2:58:35,  2.06s/it]"
     ]
    },
    {
     "name": "stdout",
     "output_type": "stream",
     "text": [
      "API key 2 rate limited. Waiting 0 seconds.\n",
      "API key 2 rate limited. Waiting 0 seconds.\n"
     ]
    },
    {
     "name": "stderr",
     "output_type": "stream",
     "text": [
      "Processing tweet batches:  26%|██▌       | 1842/7043 [1:05:31<3:05:41,  2.14s/it]"
     ]
    },
    {
     "name": "stdout",
     "output_type": "stream",
     "text": [
      "API key 1 rate limited. Waiting 0 seconds.\n",
      "API key 1 rate limited. Waiting 0 seconds.\n"
     ]
    },
    {
     "name": "stderr",
     "output_type": "stream",
     "text": [
      "Processing tweet batches:  26%|██▌       | 1843/7043 [1:05:33<3:08:56,  2.18s/it]"
     ]
    },
    {
     "name": "stdout",
     "output_type": "stream",
     "text": [
      "API key 1 rate limited. Waiting 0 seconds.\n"
     ]
    },
    {
     "name": "stderr",
     "output_type": "stream",
     "text": [
      "Processing tweet batches:  26%|██▌       | 1844/7043 [1:05:35<2:56:35,  2.04s/it]"
     ]
    },
    {
     "name": "stdout",
     "output_type": "stream",
     "text": [
      "API key 1 rate limited. Waiting 0 seconds.API key 2 rate limited. Waiting 0 seconds.\n",
      "\n",
      "API key 1 rate limited. Waiting 0 seconds.\n",
      "API key 1 rate limited. Waiting 0 seconds.\n",
      "API key 1 rate limited. Waiting 0 seconds.\n"
     ]
    },
    {
     "name": "stderr",
     "output_type": "stream",
     "text": [
      "Processing tweet batches:  26%|██▌       | 1845/7043 [1:05:38<3:26:53,  2.39s/it]"
     ]
    },
    {
     "name": "stdout",
     "output_type": "stream",
     "text": [
      "API key 1 rate limited. Waiting 0 seconds.\n",
      "API key 2 rate limited. Waiting 0 seconds.\n",
      "API key 1 rate limited. Waiting 0 seconds.\n",
      "API key 2 rate limited. Waiting 0 seconds.\n"
     ]
    },
    {
     "name": "stderr",
     "output_type": "stream",
     "text": [
      "Processing tweet batches:  26%|██▌       | 1846/7043 [1:05:41<3:34:02,  2.47s/it]"
     ]
    },
    {
     "name": "stdout",
     "output_type": "stream",
     "text": [
      "API key 2 rate limited. Waiting 0 seconds.\n",
      "API key 2 rate limited. Waiting 0 seconds.\n",
      "API key 2 rate limited. Waiting 0 seconds.\n"
     ]
    },
    {
     "name": "stderr",
     "output_type": "stream",
     "text": [
      "Processing tweet batches:  26%|██▌       | 1848/7043 [1:05:44<2:59:24,  2.07s/it]"
     ]
    },
    {
     "name": "stdout",
     "output_type": "stream",
     "text": [
      "API key 2 rate limited. Waiting 0 seconds.\n",
      "API key 2 rate limited. Waiting 0 seconds.\n",
      "API key 1 rate limited. Waiting 0 seconds.\n",
      "API key 1 rate limited. Waiting 0 seconds.\n"
     ]
    },
    {
     "name": "stderr",
     "output_type": "stream",
     "text": [
      "Processing tweet batches:  26%|██▋       | 1849/7043 [1:05:47<3:19:30,  2.30s/it]"
     ]
    },
    {
     "name": "stdout",
     "output_type": "stream",
     "text": [
      "\n",
      "Saved 7400 processed tweets to ../data/labeled_stock_tweets_partial.csv\n"
     ]
    },
    {
     "name": "stderr",
     "output_type": "stream",
     "text": [
      "Processing tweet batches:  26%|██▋       | 1851/7043 [1:05:50<2:49:30,  1.96s/it]"
     ]
    },
    {
     "name": "stdout",
     "output_type": "stream",
     "text": [
      "API key 1 rate limited. Waiting 0 seconds.\n",
      "API key 2 rate limited. Waiting 0 seconds.\n"
     ]
    },
    {
     "name": "stderr",
     "output_type": "stream",
     "text": [
      "Processing tweet batches:  26%|██▋       | 1852/7043 [1:05:52<2:42:21,  1.88s/it]"
     ]
    },
    {
     "name": "stdout",
     "output_type": "stream",
     "text": [
      "API key 1 rate limited. Waiting 0 seconds.API key 2 rate limited. Waiting 0 seconds.\n",
      "\n",
      "API key 2 rate limited. Waiting 0 seconds.\n"
     ]
    },
    {
     "name": "stderr",
     "output_type": "stream",
     "text": [
      "Processing tweet batches:  26%|██▋       | 1853/7043 [1:05:54<2:54:03,  2.01s/it]"
     ]
    },
    {
     "name": "stdout",
     "output_type": "stream",
     "text": [
      "API key 2 rate limited. Waiting 0 seconds.\n",
      "API key 2 rate limited. Waiting 0 seconds.\n",
      "API key 2 rate limited. Waiting 0 seconds.\n",
      "API key 2 rate limited. Waiting 0 seconds.\n"
     ]
    },
    {
     "name": "stderr",
     "output_type": "stream",
     "text": [
      "Processing tweet batches:  26%|██▋       | 1854/7043 [1:05:57<2:56:57,  2.05s/it]"
     ]
    },
    {
     "name": "stdout",
     "output_type": "stream",
     "text": [
      "API key 1 rate limited. Waiting 0 seconds.\n"
     ]
    },
    {
     "name": "stderr",
     "output_type": "stream",
     "text": [
      "Processing tweet batches:  26%|██▋       | 1856/7043 [1:06:00<2:35:41,  1.80s/it]"
     ]
    },
    {
     "name": "stdout",
     "output_type": "stream",
     "text": [
      "API key 2 rate limited. Waiting 0 seconds.\n"
     ]
    },
    {
     "name": "stderr",
     "output_type": "stream",
     "text": [
      "Processing tweet batches:  26%|██▋       | 1857/7043 [1:06:01<2:33:43,  1.78s/it]"
     ]
    },
    {
     "name": "stdout",
     "output_type": "stream",
     "text": [
      "API key 2 rate limited. Waiting 0 seconds.API key 1 rate limited. Waiting 0 seconds.\n",
      "\n"
     ]
    },
    {
     "name": "stderr",
     "output_type": "stream",
     "text": [
      "Processing tweet batches:  26%|██▋       | 1858/7043 [1:06:04<2:46:27,  1.93s/it]"
     ]
    },
    {
     "name": "stdout",
     "output_type": "stream",
     "text": [
      "API key 2 rate limited. Waiting 0 seconds.\n"
     ]
    },
    {
     "name": "stderr",
     "output_type": "stream",
     "text": [
      "Processing tweet batches:  26%|██▋       | 1859/7043 [1:06:06<2:44:47,  1.91s/it]"
     ]
    },
    {
     "name": "stdout",
     "output_type": "stream",
     "text": [
      "API key 2 rate limited. Waiting 0 seconds.\n"
     ]
    },
    {
     "name": "stderr",
     "output_type": "stream",
     "text": [
      "Processing tweet batches:  26%|██▋       | 1860/7043 [1:06:07<2:35:42,  1.80s/it]"
     ]
    },
    {
     "name": "stdout",
     "output_type": "stream",
     "text": [
      "API key 2 rate limited. Waiting 0 seconds.\n",
      "API key 1 rate limited. Waiting 0 seconds.\n"
     ]
    },
    {
     "name": "stderr",
     "output_type": "stream",
     "text": [
      "Processing tweet batches:  26%|██▋       | 1861/7043 [1:06:09<2:38:30,  1.84s/it]"
     ]
    },
    {
     "name": "stdout",
     "output_type": "stream",
     "text": [
      "API key 1 rate limited. Waiting 0 seconds.\n",
      "API key 1 rate limited. Waiting 0 seconds.\n"
     ]
    },
    {
     "name": "stderr",
     "output_type": "stream",
     "text": [
      "Processing tweet batches:  26%|██▋       | 1862/7043 [1:06:11<2:54:30,  2.02s/it]"
     ]
    },
    {
     "name": "stdout",
     "output_type": "stream",
     "text": [
      "API key 1 rate limited. Waiting 0 seconds.\n"
     ]
    },
    {
     "name": "stderr",
     "output_type": "stream",
     "text": [
      "Processing tweet batches:  26%|██▋       | 1863/7043 [1:06:13<2:46:53,  1.93s/it]"
     ]
    },
    {
     "name": "stdout",
     "output_type": "stream",
     "text": [
      "API key 1 rate limited. Waiting 0 seconds.\n"
     ]
    },
    {
     "name": "stderr",
     "output_type": "stream",
     "text": [
      "Processing tweet batches:  26%|██▋       | 1864/7043 [1:06:15<2:55:31,  2.03s/it]"
     ]
    },
    {
     "name": "stdout",
     "output_type": "stream",
     "text": [
      "API key 1 rate limited. Waiting 0 seconds.\n"
     ]
    },
    {
     "name": "stderr",
     "output_type": "stream",
     "text": [
      "Processing tweet batches:  26%|██▋       | 1866/7043 [1:06:20<2:57:23,  2.06s/it]"
     ]
    },
    {
     "name": "stdout",
     "output_type": "stream",
     "text": [
      "API key 1 rate limited. Waiting 0 seconds.\n"
     ]
    },
    {
     "name": "stderr",
     "output_type": "stream",
     "text": [
      "Processing tweet batches:  27%|██▋       | 1868/7043 [1:06:23<2:52:40,  2.00s/it]"
     ]
    },
    {
     "name": "stdout",
     "output_type": "stream",
     "text": [
      "API key 2 rate limited. Waiting 0 seconds.\n"
     ]
    },
    {
     "name": "stderr",
     "output_type": "stream",
     "text": [
      "Processing tweet batches:  27%|██▋       | 1870/7043 [1:06:27<2:39:10,  1.85s/it]"
     ]
    },
    {
     "name": "stdout",
     "output_type": "stream",
     "text": [
      "API key 1 rate limited. Waiting 0 seconds.\n"
     ]
    },
    {
     "name": "stderr",
     "output_type": "stream",
     "text": [
      "Processing tweet batches:  27%|██▋       | 1871/7043 [1:06:29<2:34:15,  1.79s/it]"
     ]
    },
    {
     "name": "stdout",
     "output_type": "stream",
     "text": [
      "API key 2 rate limited. Waiting 0 seconds.\n",
      "API key 2 rate limited. Waiting 0 seconds.\n",
      "API key 1 rate limited. Waiting 0 seconds.\n"
     ]
    },
    {
     "name": "stderr",
     "output_type": "stream",
     "text": [
      "Processing tweet batches:  27%|██▋       | 1872/7043 [1:06:31<2:54:11,  2.02s/it]"
     ]
    },
    {
     "name": "stdout",
     "output_type": "stream",
     "text": [
      "API key 2 rate limited. Waiting 0 seconds.\n"
     ]
    },
    {
     "name": "stderr",
     "output_type": "stream",
     "text": [
      "Processing tweet batches:  27%|██▋       | 1873/7043 [1:06:33<2:54:41,  2.03s/it]"
     ]
    },
    {
     "name": "stdout",
     "output_type": "stream",
     "text": [
      "API key 1 rate limited. Waiting 0 seconds.\n"
     ]
    },
    {
     "name": "stderr",
     "output_type": "stream",
     "text": [
      "Processing tweet batches:  27%|██▋       | 1874/7043 [1:06:36<3:08:49,  2.19s/it]"
     ]
    },
    {
     "name": "stdout",
     "output_type": "stream",
     "text": [
      "API key 1 rate limited. Waiting 0 seconds.\n",
      "API key 2 rate limited. Waiting 0 seconds.\n",
      "API key 1 rate limited. Waiting 0 seconds.\n",
      "API key 1 rate limited. Waiting 0 seconds.\n",
      "\n",
      "Saved 7500 processed tweets to ../data/labeled_stock_tweets_partial.csv\n"
     ]
    },
    {
     "name": "stderr",
     "output_type": "stream",
     "text": [
      "Processing tweet batches:  27%|██▋       | 1877/7043 [1:06:43<3:15:35,  2.27s/it]"
     ]
    },
    {
     "name": "stdout",
     "output_type": "stream",
     "text": [
      "API key 1 rate limited. Waiting 0 seconds.\n",
      "API key 1 rate limited. Waiting 0 seconds.\n",
      "API key 1 rate limited. Waiting 0 seconds.\n"
     ]
    },
    {
     "name": "stderr",
     "output_type": "stream",
     "text": [
      "Processing tweet batches:  27%|██▋       | 1879/7043 [1:06:47<3:00:44,  2.10s/it]"
     ]
    },
    {
     "name": "stdout",
     "output_type": "stream",
     "text": [
      "API key 2 rate limited. Waiting 0 seconds.\n"
     ]
    },
    {
     "name": "stderr",
     "output_type": "stream",
     "text": [
      "Processing tweet batches:  27%|██▋       | 1881/7043 [1:06:51<2:48:33,  1.96s/it]"
     ]
    },
    {
     "name": "stdout",
     "output_type": "stream",
     "text": [
      "API key 2 rate limited. Waiting 0 seconds.\n"
     ]
    },
    {
     "name": "stderr",
     "output_type": "stream",
     "text": [
      "Processing tweet batches:  27%|██▋       | 1882/7043 [1:06:53<2:52:04,  2.00s/it]"
     ]
    },
    {
     "name": "stdout",
     "output_type": "stream",
     "text": [
      "API key 2 rate limited. Waiting 0 seconds.\n"
     ]
    },
    {
     "name": "stderr",
     "output_type": "stream",
     "text": [
      "Processing tweet batches:  27%|██▋       | 1883/7043 [1:06:55<2:55:51,  2.04s/it]"
     ]
    },
    {
     "name": "stdout",
     "output_type": "stream",
     "text": [
      "API key 2 rate limited. Waiting 0 seconds.\n",
      "API key 2 rate limited. Waiting 0 seconds.\n"
     ]
    },
    {
     "name": "stderr",
     "output_type": "stream",
     "text": [
      "Processing tweet batches:  27%|██▋       | 1885/7043 [1:06:59<2:39:58,  1.86s/it]"
     ]
    },
    {
     "name": "stdout",
     "output_type": "stream",
     "text": [
      "API key 1 rate limited. Waiting 0 seconds.\n"
     ]
    },
    {
     "name": "stderr",
     "output_type": "stream",
     "text": [
      "Processing tweet batches:  27%|██▋       | 1886/7043 [1:07:01<2:47:19,  1.95s/it]"
     ]
    },
    {
     "name": "stdout",
     "output_type": "stream",
     "text": [
      "API key 1 rate limited. Waiting 0 seconds.\n"
     ]
    },
    {
     "name": "stderr",
     "output_type": "stream",
     "text": [
      "Processing tweet batches:  27%|██▋       | 1887/7043 [1:07:03<2:49:55,  1.98s/it]"
     ]
    },
    {
     "name": "stdout",
     "output_type": "stream",
     "text": [
      "API key 1 rate limited. Waiting 0 seconds.\n"
     ]
    },
    {
     "name": "stderr",
     "output_type": "stream",
     "text": [
      "Processing tweet batches:  27%|██▋       | 1888/7043 [1:07:05<2:48:14,  1.96s/it]"
     ]
    },
    {
     "name": "stdout",
     "output_type": "stream",
     "text": [
      "API key 1 rate limited. Waiting 0 seconds.\n",
      "API key 2 rate limited. Waiting 0 seconds.API key 1 rate limited. Waiting 0 seconds.\n",
      "\n",
      "API key 1 rate limited. Waiting 0 seconds.\n"
     ]
    },
    {
     "name": "stderr",
     "output_type": "stream",
     "text": [
      "Processing tweet batches:  27%|██▋       | 1889/7043 [1:07:07<2:48:45,  1.96s/it]"
     ]
    },
    {
     "name": "stdout",
     "output_type": "stream",
     "text": [
      "API key 2 rate limited. Waiting 0 seconds.\n",
      "API key 1 rate limited. Waiting 0 seconds.\n"
     ]
    },
    {
     "name": "stderr",
     "output_type": "stream",
     "text": [
      "Processing tweet batches:  27%|██▋       | 1891/7043 [1:07:11<2:48:56,  1.97s/it]"
     ]
    },
    {
     "name": "stdout",
     "output_type": "stream",
     "text": [
      "API key 1 rate limited. Waiting 0 seconds.\n",
      "API key 1 rate limited. Waiting 0 seconds.\n",
      "API key 1 rate limited. Waiting 0 seconds.\n"
     ]
    },
    {
     "name": "stderr",
     "output_type": "stream",
     "text": [
      "Processing tweet batches:  27%|██▋       | 1893/7043 [1:07:15<2:54:17,  2.03s/it]"
     ]
    },
    {
     "name": "stdout",
     "output_type": "stream",
     "text": [
      "API key 2 rate limited. Waiting 0 seconds.\n",
      "API key 2 rate limited. Waiting 0 seconds.\n"
     ]
    },
    {
     "name": "stderr",
     "output_type": "stream",
     "text": [
      "Processing tweet batches:  27%|██▋       | 1895/7043 [1:07:19<2:44:45,  1.92s/it]"
     ]
    },
    {
     "name": "stdout",
     "output_type": "stream",
     "text": [
      "API key 1 rate limited. Waiting 0 seconds.\n"
     ]
    },
    {
     "name": "stderr",
     "output_type": "stream",
     "text": [
      "Processing tweet batches:  27%|██▋       | 1896/7043 [1:07:21<2:58:37,  2.08s/it]"
     ]
    },
    {
     "name": "stdout",
     "output_type": "stream",
     "text": [
      "API key 1 rate limited. Waiting 0 seconds.\n"
     ]
    },
    {
     "name": "stderr",
     "output_type": "stream",
     "text": [
      "Processing tweet batches:  27%|██▋       | 1899/7043 [1:07:26<2:31:43,  1.77s/it]"
     ]
    },
    {
     "name": "stdout",
     "output_type": "stream",
     "text": [
      "API key 2 rate limited. Waiting 0 seconds.\n",
      "\n",
      "Saved 7600 processed tweets to ../data/labeled_stock_tweets_partial.csv\n"
     ]
    },
    {
     "name": "stderr",
     "output_type": "stream",
     "text": [
      "Processing tweet batches:  27%|██▋       | 1900/7043 [1:07:28<2:27:54,  1.73s/it]"
     ]
    },
    {
     "name": "stdout",
     "output_type": "stream",
     "text": [
      "API key 1 rate limited. Waiting 0 seconds.\n",
      "API key 1 rate limited. Waiting 0 seconds.\n",
      "API key 1 rate limited. Waiting 0 seconds.\n"
     ]
    },
    {
     "name": "stderr",
     "output_type": "stream",
     "text": [
      "Processing tweet batches:  27%|██▋       | 1901/7043 [1:07:31<2:54:32,  2.04s/it]"
     ]
    },
    {
     "name": "stdout",
     "output_type": "stream",
     "text": [
      "API key 1 rate limited. Waiting 0 seconds.\n",
      "API key 2 rate limited. Waiting 0 seconds.\n"
     ]
    },
    {
     "name": "stderr",
     "output_type": "stream",
     "text": [
      "Processing tweet batches:  27%|██▋       | 1902/7043 [1:07:33<2:59:04,  2.09s/it]"
     ]
    },
    {
     "name": "stdout",
     "output_type": "stream",
     "text": [
      "API key 1 rate limited. Waiting 0 seconds.\n"
     ]
    },
    {
     "name": "stderr",
     "output_type": "stream",
     "text": [
      "Processing tweet batches:  27%|██▋       | 1903/7043 [1:07:35<2:54:10,  2.03s/it]"
     ]
    },
    {
     "name": "stdout",
     "output_type": "stream",
     "text": [
      "API key 1 rate limited. Waiting 0 seconds.\n"
     ]
    },
    {
     "name": "stderr",
     "output_type": "stream",
     "text": [
      "Processing tweet batches:  27%|██▋       | 1904/7043 [1:07:36<2:46:33,  1.94s/it]"
     ]
    },
    {
     "name": "stdout",
     "output_type": "stream",
     "text": [
      "API key 1 rate limited. Waiting 0 seconds.\n",
      "API key 2 rate limited. Waiting 0 seconds.\n"
     ]
    },
    {
     "name": "stderr",
     "output_type": "stream",
     "text": [
      "Processing tweet batches:  27%|██▋       | 1905/7043 [1:07:39<2:57:17,  2.07s/it]"
     ]
    },
    {
     "name": "stdout",
     "output_type": "stream",
     "text": [
      "API key 1 rate limited. Waiting 0 seconds.\n"
     ]
    },
    {
     "name": "stderr",
     "output_type": "stream",
     "text": [
      "Processing tweet batches:  27%|██▋       | 1906/7043 [1:07:41<2:59:07,  2.09s/it]"
     ]
    },
    {
     "name": "stdout",
     "output_type": "stream",
     "text": [
      "API key 1 rate limited. Waiting 0 seconds.\n"
     ]
    },
    {
     "name": "stderr",
     "output_type": "stream",
     "text": [
      "Processing tweet batches:  27%|██▋       | 1910/7043 [1:07:49<3:00:18,  2.11s/it]"
     ]
    },
    {
     "name": "stdout",
     "output_type": "stream",
     "text": [
      "API key 2 rate limited. Waiting 0 seconds.\n"
     ]
    },
    {
     "name": "stderr",
     "output_type": "stream",
     "text": [
      "Processing tweet batches:  27%|██▋       | 1911/7043 [1:07:51<2:56:29,  2.06s/it]"
     ]
    },
    {
     "name": "stdout",
     "output_type": "stream",
     "text": [
      "API key 2 rate limited. Waiting 0 seconds.\n",
      "API key 1 rate limited. Waiting 0 seconds.\n"
     ]
    },
    {
     "name": "stderr",
     "output_type": "stream",
     "text": [
      "Processing tweet batches:  27%|██▋       | 1912/7043 [1:07:53<3:01:28,  2.12s/it]"
     ]
    },
    {
     "name": "stdout",
     "output_type": "stream",
     "text": [
      "API key 2 rate limited. Waiting 0 seconds.\n",
      "API key 2 rate limited. Waiting 0 seconds.\n"
     ]
    },
    {
     "name": "stderr",
     "output_type": "stream",
     "text": [
      "Processing tweet batches:  27%|██▋       | 1913/7043 [1:07:55<2:57:01,  2.07s/it]"
     ]
    },
    {
     "name": "stdout",
     "output_type": "stream",
     "text": [
      "API key 2 rate limited. Waiting 0 seconds.\n",
      "API key 1 rate limited. Waiting 0 seconds.\n"
     ]
    },
    {
     "name": "stderr",
     "output_type": "stream",
     "text": [
      "Processing tweet batches:  27%|██▋       | 1915/7043 [1:07:59<2:40:27,  1.88s/it]"
     ]
    },
    {
     "name": "stdout",
     "output_type": "stream",
     "text": [
      "API key 2 rate limited. Waiting 0 seconds.\n"
     ]
    },
    {
     "name": "stderr",
     "output_type": "stream",
     "text": [
      "Processing tweet batches:  27%|██▋       | 1916/7043 [1:08:01<2:41:54,  1.89s/it]"
     ]
    },
    {
     "name": "stdout",
     "output_type": "stream",
     "text": [
      "API key 1 rate limited. Waiting 0 seconds.\n",
      "API key 1 rate limited. Waiting 0 seconds.\n"
     ]
    },
    {
     "name": "stderr",
     "output_type": "stream",
     "text": [
      "Processing tweet batches:  27%|██▋       | 1917/7043 [1:08:03<2:50:53,  2.00s/it]"
     ]
    },
    {
     "name": "stdout",
     "output_type": "stream",
     "text": [
      "API key 2 rate limited. Waiting 0 seconds.API key 1 rate limited. Waiting 0 seconds.\n",
      "\n"
     ]
    },
    {
     "name": "stderr",
     "output_type": "stream",
     "text": [
      "Processing tweet batches:  27%|██▋       | 1918/7043 [1:08:05<3:06:11,  2.18s/it]"
     ]
    },
    {
     "name": "stdout",
     "output_type": "stream",
     "text": [
      "API key 2 rate limited. Waiting 0 seconds.\n",
      "API key 2 rate limited. Waiting 0 seconds.\n"
     ]
    },
    {
     "name": "stderr",
     "output_type": "stream",
     "text": [
      "Processing tweet batches:  27%|██▋       | 1919/7043 [1:08:07<3:04:02,  2.16s/it]"
     ]
    },
    {
     "name": "stdout",
     "output_type": "stream",
     "text": [
      "API key 1 rate limited. Waiting 0 seconds.\n",
      "API key 1 rate limited. Waiting 0 seconds.\n"
     ]
    },
    {
     "name": "stderr",
     "output_type": "stream",
     "text": [
      "Processing tweet batches:  27%|██▋       | 1920/7043 [1:08:09<2:58:04,  2.09s/it]"
     ]
    },
    {
     "name": "stdout",
     "output_type": "stream",
     "text": [
      "API key 2 rate limited. Waiting 0 seconds.\n",
      "API key 2 rate limited. Waiting 0 seconds.\n",
      "API key 2 rate limited. Waiting 0 seconds.\n"
     ]
    },
    {
     "name": "stderr",
     "output_type": "stream",
     "text": [
      "Processing tweet batches:  27%|██▋       | 1922/7043 [1:08:13<2:43:24,  1.91s/it]"
     ]
    },
    {
     "name": "stdout",
     "output_type": "stream",
     "text": [
      "API key 2 rate limited. Waiting 0 seconds.\n",
      "API key 2 rate limited. Waiting 0 seconds.\n",
      "API key 1 rate limited. Waiting 0 seconds.\n",
      "API key 1 rate limited. Waiting 0 seconds.\n",
      "API key 1 rate limited. Waiting 0 seconds.\n"
     ]
    },
    {
     "name": "stderr",
     "output_type": "stream",
     "text": [
      "Processing tweet batches:  27%|██▋       | 1924/7043 [1:08:18<2:59:25,  2.10s/it]"
     ]
    },
    {
     "name": "stdout",
     "output_type": "stream",
     "text": [
      "API key 1 rate limited. Waiting 0 seconds.\n",
      "\n",
      "Saved 7700 processed tweets to ../data/labeled_stock_tweets_partial.csv\n"
     ]
    },
    {
     "name": "stderr",
     "output_type": "stream",
     "text": [
      "Processing tweet batches:  27%|██▋       | 1926/7043 [1:08:21<2:39:03,  1.87s/it]"
     ]
    },
    {
     "name": "stdout",
     "output_type": "stream",
     "text": [
      "API key 2 rate limited. Waiting 0 seconds.\n",
      "API key 1 rate limited. Waiting 0 seconds.\n",
      "API key 2 rate limited. Waiting 0 seconds.\n"
     ]
    },
    {
     "name": "stderr",
     "output_type": "stream",
     "text": [
      "Processing tweet batches:  27%|██▋       | 1927/7043 [1:08:23<2:50:35,  2.00s/it]"
     ]
    },
    {
     "name": "stdout",
     "output_type": "stream",
     "text": [
      "API key 1 rate limited. Waiting 0 seconds.\n",
      "API key 2 rate limited. Waiting 0 seconds.\n"
     ]
    },
    {
     "name": "stderr",
     "output_type": "stream",
     "text": [
      "Processing tweet batches:  27%|██▋       | 1928/7043 [1:08:26<3:02:31,  2.14s/it]"
     ]
    },
    {
     "name": "stdout",
     "output_type": "stream",
     "text": [
      "API key 2 rate limited. Waiting 0 seconds.\n",
      "API key 2 rate limited. Waiting 0 seconds.\n",
      "API key 2 rate limited. Waiting 0 seconds.\n"
     ]
    },
    {
     "name": "stderr",
     "output_type": "stream",
     "text": [
      "Processing tweet batches:  27%|██▋       | 1930/7043 [1:08:30<2:57:19,  2.08s/it]"
     ]
    },
    {
     "name": "stdout",
     "output_type": "stream",
     "text": [
      "API key 2 rate limited. Waiting 0 seconds.\n",
      "API key 1 rate limited. Waiting 0 seconds.\n",
      "API key 1 rate limited. Waiting 0 seconds.\n",
      "API key 1 rate limited. Waiting 0 seconds.\n"
     ]
    },
    {
     "name": "stderr",
     "output_type": "stream",
     "text": [
      "Processing tweet batches:  27%|██▋       | 1932/7043 [1:08:34<2:48:04,  1.97s/it]"
     ]
    },
    {
     "name": "stdout",
     "output_type": "stream",
     "text": [
      "API key 1 rate limited. Waiting 0 seconds.\n"
     ]
    },
    {
     "name": "stderr",
     "output_type": "stream",
     "text": [
      "Processing tweet batches:  27%|██▋       | 1933/7043 [1:08:36<2:42:00,  1.90s/it]"
     ]
    },
    {
     "name": "stdout",
     "output_type": "stream",
     "text": [
      "API key 1 rate limited. Waiting 0 seconds.\n"
     ]
    },
    {
     "name": "stderr",
     "output_type": "stream",
     "text": [
      "Processing tweet batches:  27%|██▋       | 1935/7043 [1:08:39<2:40:23,  1.88s/it]"
     ]
    },
    {
     "name": "stdout",
     "output_type": "stream",
     "text": [
      "API key 1 rate limited. Waiting 0 seconds.\n",
      "API key 2 rate limited. Waiting 0 seconds.\n",
      "API key 1 rate limited. Waiting 0 seconds.API key 2 rate limited. Waiting 0 seconds.\n",
      "\n"
     ]
    },
    {
     "name": "stderr",
     "output_type": "stream",
     "text": [
      "Processing tweet batches:  27%|██▋       | 1936/7043 [1:08:42<2:52:57,  2.03s/it]"
     ]
    },
    {
     "name": "stdout",
     "output_type": "stream",
     "text": [
      "API key 2 rate limited. Waiting 0 seconds.\n"
     ]
    },
    {
     "name": "stderr",
     "output_type": "stream",
     "text": [
      "Processing tweet batches:  28%|██▊       | 1937/7043 [1:08:44<2:45:24,  1.94s/it]"
     ]
    },
    {
     "name": "stdout",
     "output_type": "stream",
     "text": [
      "API key 1 rate limited. Waiting 0 seconds.\n",
      "API key 1 rate limited. Waiting 0 seconds.\n",
      "API key 1 rate limited. Waiting 0 seconds.\n"
     ]
    },
    {
     "name": "stderr",
     "output_type": "stream",
     "text": [
      "Processing tweet batches:  28%|██▊       | 1939/7043 [1:08:47<2:29:02,  1.75s/it]"
     ]
    },
    {
     "name": "stdout",
     "output_type": "stream",
     "text": [
      "API key 1 rate limited. Waiting 0 seconds.\n"
     ]
    },
    {
     "name": "stderr",
     "output_type": "stream",
     "text": [
      "Processing tweet batches:  28%|██▊       | 1940/7043 [1:08:49<2:40:27,  1.89s/it]"
     ]
    },
    {
     "name": "stdout",
     "output_type": "stream",
     "text": [
      "API key 1 rate limited. Waiting 0 seconds.\n",
      "API key 1 rate limited. Waiting 0 seconds.\n",
      "API key 1 rate limited. Waiting 0 seconds.\n"
     ]
    },
    {
     "name": "stderr",
     "output_type": "stream",
     "text": [
      "Processing tweet batches:  28%|██▊       | 1941/7043 [1:08:51<2:40:34,  1.89s/it]"
     ]
    },
    {
     "name": "stdout",
     "output_type": "stream",
     "text": [
      "API key 2 rate limited. Waiting 0 seconds.\n",
      "API key 2 rate limited. Waiting 0 seconds.\n"
     ]
    },
    {
     "name": "stderr",
     "output_type": "stream",
     "text": [
      "Processing tweet batches:  28%|██▊       | 1942/7043 [1:08:53<2:44:25,  1.93s/it]"
     ]
    },
    {
     "name": "stdout",
     "output_type": "stream",
     "text": [
      "API key 1 rate limited. Waiting 0 seconds.\n"
     ]
    },
    {
     "name": "stderr",
     "output_type": "stream",
     "text": [
      "Processing tweet batches:  28%|██▊       | 1943/7043 [1:08:55<2:53:18,  2.04s/it]"
     ]
    },
    {
     "name": "stdout",
     "output_type": "stream",
     "text": [
      "API key 2 rate limited. Waiting 0 seconds.\n",
      "API key 2 rate limited. Waiting 0 seconds.\n",
      "API key 2 rate limited. Waiting 0 seconds.\n"
     ]
    },
    {
     "name": "stderr",
     "output_type": "stream",
     "text": [
      "Processing tweet batches:  28%|██▊       | 1946/7043 [1:09:01<2:41:00,  1.90s/it]"
     ]
    },
    {
     "name": "stdout",
     "output_type": "stream",
     "text": [
      "API key 2 rate limited. Waiting 0 seconds.\n"
     ]
    },
    {
     "name": "stderr",
     "output_type": "stream",
     "text": [
      "Processing tweet batches:  28%|██▊       | 1948/7043 [1:09:04<2:26:54,  1.73s/it]"
     ]
    },
    {
     "name": "stdout",
     "output_type": "stream",
     "text": [
      "API key 2 rate limited. Waiting 0 seconds.\n"
     ]
    },
    {
     "name": "stderr",
     "output_type": "stream",
     "text": [
      "Processing tweet batches:  28%|██▊       | 1949/7043 [1:09:06<2:22:19,  1.68s/it]"
     ]
    },
    {
     "name": "stdout",
     "output_type": "stream",
     "text": [
      "API key 1 rate limited. Waiting 0 seconds.\n",
      "API key 1 rate limited. Waiting 0 seconds.\n",
      "\n",
      "Saved 7800 processed tweets to ../data/labeled_stock_tweets_partial.csv\n"
     ]
    },
    {
     "name": "stderr",
     "output_type": "stream",
     "text": [
      "Processing tweet batches:  28%|██▊       | 1952/7043 [1:09:11<2:22:46,  1.68s/it]"
     ]
    },
    {
     "name": "stdout",
     "output_type": "stream",
     "text": [
      "API key 2 rate limited. Waiting 0 seconds.\n",
      "API key 2 rate limited. Waiting 0 seconds.\n",
      "API key 2 rate limited. Waiting 0 seconds.\n"
     ]
    },
    {
     "name": "stderr",
     "output_type": "stream",
     "text": [
      "Processing tweet batches:  28%|██▊       | 1953/7043 [1:09:13<2:39:20,  1.88s/it]"
     ]
    },
    {
     "name": "stdout",
     "output_type": "stream",
     "text": [
      "API key 1 rate limited. Waiting 0 seconds.\n",
      "API key 2 rate limited. Waiting 0 seconds.\n"
     ]
    },
    {
     "name": "stderr",
     "output_type": "stream",
     "text": [
      "Processing tweet batches:  28%|██▊       | 1954/7043 [1:09:15<2:43:33,  1.93s/it]"
     ]
    },
    {
     "name": "stdout",
     "output_type": "stream",
     "text": [
      "API key 2 rate limited. Waiting 0 seconds.\n",
      "API key 2 rate limited. Waiting 0 seconds.\n",
      "API key 2 rate limited. Waiting 0 seconds.\n",
      "API key 1 rate limited. Waiting 0 seconds.\n",
      "API key 1 rate limited. Waiting 0 seconds.\n"
     ]
    },
    {
     "name": "stderr",
     "output_type": "stream",
     "text": [
      "Processing tweet batches:  28%|██▊       | 1956/7043 [1:09:20<2:46:59,  1.97s/it]"
     ]
    },
    {
     "name": "stdout",
     "output_type": "stream",
     "text": [
      "API key 1 rate limited. Waiting 0 seconds.\n",
      "API key 1 rate limited. Waiting 0 seconds.\n"
     ]
    },
    {
     "name": "stderr",
     "output_type": "stream",
     "text": [
      "Processing tweet batches:  28%|██▊       | 1957/7043 [1:09:22<2:56:30,  2.08s/it]"
     ]
    },
    {
     "name": "stdout",
     "output_type": "stream",
     "text": [
      "API key 2 rate limited. Waiting 0 seconds.\n",
      "API key 1 rate limited. Waiting 0 seconds.\n",
      "API key 1 rate limited. Waiting 0 seconds.\n",
      "API key 1 rate limited. Waiting 0 seconds.\n",
      "API key 1 rate limited. Waiting 0 seconds.\n"
     ]
    },
    {
     "name": "stderr",
     "output_type": "stream",
     "text": [
      "Processing tweet batches:  28%|██▊       | 1960/7043 [1:09:28<2:44:15,  1.94s/it]"
     ]
    },
    {
     "name": "stdout",
     "output_type": "stream",
     "text": [
      "API key 1 rate limited. Waiting 0 seconds.\n"
     ]
    },
    {
     "name": "stderr",
     "output_type": "stream",
     "text": [
      "Processing tweet batches:  28%|██▊       | 1961/7043 [1:09:30<2:41:40,  1.91s/it]"
     ]
    },
    {
     "name": "stdout",
     "output_type": "stream",
     "text": [
      "API key 2 rate limited. Waiting 0 seconds.\n"
     ]
    },
    {
     "name": "stderr",
     "output_type": "stream",
     "text": [
      "Processing tweet batches:  28%|██▊       | 1963/7043 [1:09:33<2:26:27,  1.73s/it]"
     ]
    },
    {
     "name": "stdout",
     "output_type": "stream",
     "text": [
      "API key 2 rate limited. Waiting 0 seconds.\n",
      "API key 1 rate limited. Waiting 0 seconds.\n"
     ]
    },
    {
     "name": "stderr",
     "output_type": "stream",
     "text": [
      "Processing tweet batches:  28%|██▊       | 1964/7043 [1:09:35<2:28:43,  1.76s/it]"
     ]
    },
    {
     "name": "stdout",
     "output_type": "stream",
     "text": [
      "API key 2 rate limited. Waiting 0 seconds.\n",
      "API key 2 rate limited. Waiting 0 seconds.\n",
      "API key 2 rate limited. Waiting 0 seconds.\n"
     ]
    },
    {
     "name": "stderr",
     "output_type": "stream",
     "text": [
      "Processing tweet batches:  28%|██▊       | 1965/7043 [1:09:37<2:42:13,  1.92s/it]"
     ]
    },
    {
     "name": "stdout",
     "output_type": "stream",
     "text": [
      "API key 1 rate limited. Waiting 0 seconds.\n"
     ]
    },
    {
     "name": "stderr",
     "output_type": "stream",
     "text": [
      "Processing tweet batches:  28%|██▊       | 1966/7043 [1:09:39<2:34:57,  1.83s/it]"
     ]
    },
    {
     "name": "stdout",
     "output_type": "stream",
     "text": [
      "API key 1 rate limited. Waiting 0 seconds.\n"
     ]
    },
    {
     "name": "stderr",
     "output_type": "stream",
     "text": [
      "Processing tweet batches:  28%|██▊       | 1967/7043 [1:09:40<2:31:48,  1.79s/it]"
     ]
    },
    {
     "name": "stdout",
     "output_type": "stream",
     "text": [
      "API key 1 rate limited. Waiting 0 seconds.\n",
      "API key 1 rate limited. Waiting 0 seconds.\n"
     ]
    },
    {
     "name": "stderr",
     "output_type": "stream",
     "text": [
      "Processing tweet batches:  28%|██▊       | 1969/7043 [1:09:44<2:40:13,  1.89s/it]"
     ]
    },
    {
     "name": "stdout",
     "output_type": "stream",
     "text": [
      "API key 1 rate limited. Waiting 0 seconds.\n",
      "API key 1 rate limited. Waiting 0 seconds.\n"
     ]
    },
    {
     "name": "stderr",
     "output_type": "stream",
     "text": [
      "Processing tweet batches:  28%|██▊       | 1971/7043 [1:09:49<2:52:12,  2.04s/it]"
     ]
    },
    {
     "name": "stdout",
     "output_type": "stream",
     "text": [
      "API key 2 rate limited. Waiting 0 seconds.\n"
     ]
    },
    {
     "name": "stderr",
     "output_type": "stream",
     "text": [
      "Processing tweet batches:  28%|██▊       | 1972/7043 [1:09:51<2:48:52,  2.00s/it]"
     ]
    },
    {
     "name": "stdout",
     "output_type": "stream",
     "text": [
      "API key 2 rate limited. Waiting 0 seconds.\n",
      "API key 2 rate limited. Waiting 0 seconds.\n",
      "API key 1 rate limited. Waiting 0 seconds.\n"
     ]
    },
    {
     "name": "stderr",
     "output_type": "stream",
     "text": [
      "Processing tweet batches:  28%|██▊       | 1973/7043 [1:09:53<2:57:24,  2.10s/it]"
     ]
    },
    {
     "name": "stdout",
     "output_type": "stream",
     "text": [
      "API key 2 rate limited. Waiting 0 seconds.\n",
      "API key 2 rate limited. Waiting 0 seconds.\n"
     ]
    },
    {
     "name": "stderr",
     "output_type": "stream",
     "text": [
      "Processing tweet batches:  28%|██▊       | 1974/7043 [1:09:55<2:56:00,  2.08s/it]"
     ]
    },
    {
     "name": "stdout",
     "output_type": "stream",
     "text": [
      "\n",
      "Saved 7900 processed tweets to ../data/labeled_stock_tweets_partial.csv\n"
     ]
    },
    {
     "name": "stderr",
     "output_type": "stream",
     "text": [
      "Processing tweet batches:  28%|██▊       | 1975/7043 [1:09:56<2:42:02,  1.92s/it]"
     ]
    },
    {
     "name": "stdout",
     "output_type": "stream",
     "text": [
      "API key 2 rate limited. Waiting 0 seconds.\n",
      "API key 2 rate limited. Waiting 0 seconds.\n",
      "API key 2 rate limited. Waiting 0 seconds.\n",
      "API key 2 rate limited. Waiting 0 seconds.\n"
     ]
    },
    {
     "name": "stderr",
     "output_type": "stream",
     "text": [
      "Processing tweet batches:  28%|██▊       | 1977/7043 [1:10:01<2:55:26,  2.08s/it]"
     ]
    },
    {
     "name": "stdout",
     "output_type": "stream",
     "text": [
      "API key 1 rate limited. Waiting 0 seconds.\n"
     ]
    },
    {
     "name": "stderr",
     "output_type": "stream",
     "text": [
      "Processing tweet batches:  28%|██▊       | 1980/7043 [1:10:07<2:43:30,  1.94s/it]"
     ]
    },
    {
     "name": "stdout",
     "output_type": "stream",
     "text": [
      "API key 2 rate limited. Waiting 0 seconds.\n",
      "API key 1 rate limited. Waiting 0 seconds.\n"
     ]
    },
    {
     "name": "stderr",
     "output_type": "stream",
     "text": [
      "Processing tweet batches:  28%|██▊       | 1981/7043 [1:10:09<2:58:17,  2.11s/it]"
     ]
    },
    {
     "name": "stdout",
     "output_type": "stream",
     "text": [
      "API key 2 rate limited. Waiting 0 seconds.\n",
      "API key 2 rate limited. Waiting 0 seconds.\n"
     ]
    },
    {
     "name": "stderr",
     "output_type": "stream",
     "text": [
      "Processing tweet batches:  28%|██▊       | 1982/7043 [1:10:11<2:55:06,  2.08s/it]"
     ]
    },
    {
     "name": "stdout",
     "output_type": "stream",
     "text": [
      "API key 2 rate limited. Waiting 0 seconds.\n",
      "API key 2 rate limited. Waiting 0 seconds.\n",
      "API key 1 rate limited. Waiting 0 seconds.\n"
     ]
    },
    {
     "name": "stderr",
     "output_type": "stream",
     "text": [
      "Processing tweet batches:  28%|██▊       | 1983/7043 [1:10:13<2:54:19,  2.07s/it]"
     ]
    },
    {
     "name": "stdout",
     "output_type": "stream",
     "text": [
      "API key 1 rate limited. Waiting 0 seconds.\n",
      "API key 1 rate limited. Waiting 0 seconds.\n"
     ]
    },
    {
     "name": "stderr",
     "output_type": "stream",
     "text": [
      "Processing tweet batches:  28%|██▊       | 1985/7043 [1:10:17<2:33:49,  1.82s/it]"
     ]
    },
    {
     "name": "stdout",
     "output_type": "stream",
     "text": [
      "API key 1 rate limited. Waiting 0 seconds.\n",
      "API key 2 rate limited. Waiting 0 seconds.\n"
     ]
    },
    {
     "name": "stderr",
     "output_type": "stream",
     "text": [
      "Processing tweet batches:  28%|██▊       | 1987/7043 [1:10:20<2:21:42,  1.68s/it]"
     ]
    },
    {
     "name": "stdout",
     "output_type": "stream",
     "text": [
      "API key 1 rate limited. Waiting 0 seconds.\n",
      "API key 1 rate limited. Waiting 0 seconds.\n"
     ]
    },
    {
     "name": "stderr",
     "output_type": "stream",
     "text": [
      "Processing tweet batches:  28%|██▊       | 1988/7043 [1:10:22<2:34:00,  1.83s/it]"
     ]
    },
    {
     "name": "stdout",
     "output_type": "stream",
     "text": [
      "API key 1 rate limited. Waiting 0 seconds.\n"
     ]
    },
    {
     "name": "stderr",
     "output_type": "stream",
     "text": [
      "Processing tweet batches:  28%|██▊       | 1991/7043 [1:10:27<2:22:23,  1.69s/it]"
     ]
    },
    {
     "name": "stdout",
     "output_type": "stream",
     "text": [
      "API key 1 rate limited. Waiting 0 seconds.\n",
      "API key 2 rate limited. Waiting 0 seconds.\n",
      "API key 2 rate limited. Waiting 0 seconds.\n"
     ]
    },
    {
     "name": "stderr",
     "output_type": "stream",
     "text": [
      "Processing tweet batches:  28%|██▊       | 1992/7043 [1:10:29<2:45:07,  1.96s/it]"
     ]
    },
    {
     "name": "stdout",
     "output_type": "stream",
     "text": [
      "API key 2 rate limited. Waiting 0 seconds.\n"
     ]
    },
    {
     "name": "stderr",
     "output_type": "stream",
     "text": [
      "Processing tweet batches:  28%|██▊       | 1994/7043 [1:10:33<2:44:00,  1.95s/it]"
     ]
    },
    {
     "name": "stdout",
     "output_type": "stream",
     "text": [
      "API key 1 rate limited. Waiting 0 seconds.\n"
     ]
    },
    {
     "name": "stderr",
     "output_type": "stream",
     "text": [
      "Processing tweet batches:  28%|██▊       | 1995/7043 [1:10:35<2:38:43,  1.89s/it]"
     ]
    },
    {
     "name": "stdout",
     "output_type": "stream",
     "text": [
      "API key 2 rate limited. Waiting 0 seconds.\n",
      "API key 1 rate limited. Waiting 0 seconds.\n"
     ]
    },
    {
     "name": "stderr",
     "output_type": "stream",
     "text": [
      "Processing tweet batches:  28%|██▊       | 1996/7043 [1:10:37<2:43:43,  1.95s/it]"
     ]
    },
    {
     "name": "stdout",
     "output_type": "stream",
     "text": [
      "API key 2 rate limited. Waiting 0 seconds.\n"
     ]
    },
    {
     "name": "stderr",
     "output_type": "stream",
     "text": [
      "Processing tweet batches:  28%|██▊       | 1997/7043 [1:10:39<2:37:53,  1.88s/it]"
     ]
    },
    {
     "name": "stdout",
     "output_type": "stream",
     "text": [
      "API key 2 rate limited. Waiting 0 seconds.\n"
     ]
    },
    {
     "name": "stderr",
     "output_type": "stream",
     "text": [
      "Processing tweet batches:  28%|██▊       | 1998/7043 [1:10:41<2:38:25,  1.88s/it]"
     ]
    },
    {
     "name": "stdout",
     "output_type": "stream",
     "text": [
      "API key 2 rate limited. Waiting 0 seconds.API key 1 rate limited. Waiting 0 seconds.\n",
      "\n",
      "API key 2 rate limited. Waiting 0 seconds.\n",
      "API key 1 rate limited. Waiting 0 seconds.\n",
      "API key 1 rate limited. Waiting 0 seconds.\n"
     ]
    },
    {
     "name": "stderr",
     "output_type": "stream",
     "text": [
      "Processing tweet batches:  28%|██▊       | 1999/7043 [1:10:44<3:11:14,  2.27s/it]"
     ]
    },
    {
     "name": "stdout",
     "output_type": "stream",
     "text": [
      "\n",
      "Saved 8000 processed tweets to ../data/labeled_stock_tweets_partial.csv\n"
     ]
    },
    {
     "name": "stderr",
     "output_type": "stream",
     "text": [
      "Processing tweet batches:  28%|██▊       | 2000/7043 [1:10:46<3:03:20,  2.18s/it]"
     ]
    },
    {
     "name": "stdout",
     "output_type": "stream",
     "text": [
      "API key 2 rate limited. Waiting 0 seconds.API key 1 rate limited. Waiting 0 seconds.\n",
      "\n"
     ]
    },
    {
     "name": "stderr",
     "output_type": "stream",
     "text": [
      "Processing tweet batches:  28%|██▊       | 2002/7043 [1:10:49<2:48:29,  2.01s/it]"
     ]
    },
    {
     "name": "stdout",
     "output_type": "stream",
     "text": [
      "API key 1 rate limited. Waiting 0 seconds.\n",
      "API key 2 rate limited. Waiting 0 seconds.\n",
      "API key 2 rate limited. Waiting 0 seconds.\n"
     ]
    },
    {
     "name": "stderr",
     "output_type": "stream",
     "text": [
      "Processing tweet batches:  28%|██▊       | 2003/7043 [1:10:51<2:45:24,  1.97s/it]"
     ]
    },
    {
     "name": "stdout",
     "output_type": "stream",
     "text": [
      "API key 1 rate limited. Waiting 0 seconds.\n",
      "API key 1 rate limited. Waiting 0 seconds.\n",
      "API key 1 rate limited. Waiting 0 seconds.\n"
     ]
    },
    {
     "name": "stderr",
     "output_type": "stream",
     "text": [
      "Processing tweet batches:  28%|██▊       | 2004/7043 [1:10:54<2:51:20,  2.04s/it]"
     ]
    },
    {
     "name": "stdout",
     "output_type": "stream",
     "text": [
      "API key 2 rate limited. Waiting 0 seconds.\n",
      "API key 1 rate limited. Waiting 0 seconds.\n"
     ]
    },
    {
     "name": "stderr",
     "output_type": "stream",
     "text": [
      "Processing tweet batches:  28%|██▊       | 2006/7043 [1:10:57<2:37:13,  1.87s/it]"
     ]
    },
    {
     "name": "stdout",
     "output_type": "stream",
     "text": [
      "API key 1 rate limited. Waiting 0 seconds.\n"
     ]
    },
    {
     "name": "stderr",
     "output_type": "stream",
     "text": [
      "Processing tweet batches:  29%|██▊       | 2008/7043 [1:11:01<2:41:34,  1.93s/it]"
     ]
    },
    {
     "name": "stdout",
     "output_type": "stream",
     "text": [
      "API key 1 rate limited. Waiting 0 seconds.\n"
     ]
    },
    {
     "name": "stderr",
     "output_type": "stream",
     "text": [
      "Processing tweet batches:  29%|██▊       | 2009/7043 [1:11:03<2:43:24,  1.95s/it]"
     ]
    },
    {
     "name": "stdout",
     "output_type": "stream",
     "text": [
      "API key 2 rate limited. Waiting 0 seconds.\n",
      "API key 1 rate limited. Waiting 0 seconds.\n",
      "API key 1 rate limited. Waiting 0 seconds.\n"
     ]
    },
    {
     "name": "stderr",
     "output_type": "stream",
     "text": [
      "Processing tweet batches:  29%|██▊       | 2012/7043 [1:11:09<2:41:43,  1.93s/it]"
     ]
    },
    {
     "name": "stdout",
     "output_type": "stream",
     "text": [
      "API key 2 rate limited. Waiting 0 seconds.\n",
      "API key 1 rate limited. Waiting 0 seconds.\n"
     ]
    },
    {
     "name": "stderr",
     "output_type": "stream",
     "text": [
      "Processing tweet batches:  29%|██▊       | 2014/7043 [1:11:14<2:45:39,  1.98s/it]"
     ]
    },
    {
     "name": "stdout",
     "output_type": "stream",
     "text": [
      "API key 1 rate limited. Waiting 0 seconds.\n",
      "API key 1 rate limited. Waiting 0 seconds.\n"
     ]
    },
    {
     "name": "stderr",
     "output_type": "stream",
     "text": [
      "Processing tweet batches:  29%|██▊       | 2015/7043 [1:11:16<2:53:37,  2.07s/it]"
     ]
    },
    {
     "name": "stdout",
     "output_type": "stream",
     "text": [
      "API key 1 rate limited. Waiting 0 seconds.\n"
     ]
    },
    {
     "name": "stderr",
     "output_type": "stream",
     "text": [
      "Processing tweet batches:  29%|██▊       | 2016/7043 [1:11:19<3:07:58,  2.24s/it]"
     ]
    },
    {
     "name": "stdout",
     "output_type": "stream",
     "text": [
      "API key 1 rate limited. Waiting 0 seconds.\n"
     ]
    },
    {
     "name": "stderr",
     "output_type": "stream",
     "text": [
      "Processing tweet batches:  29%|██▊       | 2019/7043 [1:11:24<2:33:02,  1.83s/it]"
     ]
    },
    {
     "name": "stdout",
     "output_type": "stream",
     "text": [
      "API key 2 rate limited. Waiting 0 seconds.\n",
      "API key 1 rate limited. Waiting 0 seconds.\n",
      "API key 2 rate limited. Waiting 0 seconds.\n"
     ]
    },
    {
     "name": "stderr",
     "output_type": "stream",
     "text": [
      "Processing tweet batches:  29%|██▊       | 2020/7043 [1:11:26<2:33:31,  1.83s/it]"
     ]
    },
    {
     "name": "stdout",
     "output_type": "stream",
     "text": [
      "API key 1 rate limited. Waiting 0 seconds.\n"
     ]
    },
    {
     "name": "stderr",
     "output_type": "stream",
     "text": [
      "Processing tweet batches:  29%|██▊       | 2021/7043 [1:11:28<2:34:34,  1.85s/it]"
     ]
    },
    {
     "name": "stdout",
     "output_type": "stream",
     "text": [
      "API key 2 rate limited. Waiting 0 seconds.API key 1 rate limited. Waiting 0 seconds.\n",
      "\n",
      "API key 2 rate limited. Waiting 0 seconds.\n",
      "API key 2 rate limited. Waiting 0 seconds.\n"
     ]
    },
    {
     "name": "stderr",
     "output_type": "stream",
     "text": [
      "Processing tweet batches:  29%|██▊       | 2022/7043 [1:11:30<2:51:33,  2.05s/it]"
     ]
    },
    {
     "name": "stdout",
     "output_type": "stream",
     "text": [
      "API key 1 rate limited. Waiting 0 seconds.\n",
      "API key 1 rate limited. Waiting 0 seconds.\n",
      "API key 1 rate limited. Waiting 0 seconds.\n"
     ]
    },
    {
     "name": "stderr",
     "output_type": "stream",
     "text": [
      "Processing tweet batches:  29%|██▊       | 2024/7043 [1:11:34<2:35:35,  1.86s/it]"
     ]
    },
    {
     "name": "stdout",
     "output_type": "stream",
     "text": [
      "API key 2 rate limited. Waiting 0 seconds.\n",
      "\n",
      "Saved 8100 processed tweets to ../data/labeled_stock_tweets_partial.csv\n"
     ]
    },
    {
     "name": "stderr",
     "output_type": "stream",
     "text": [
      "Processing tweet batches:  29%|██▉       | 2025/7043 [1:11:36<2:43:34,  1.96s/it]"
     ]
    },
    {
     "name": "stdout",
     "output_type": "stream",
     "text": [
      "API key 2 rate limited. Waiting 0 seconds.\n",
      "API key 1 rate limited. Waiting 0 seconds.\n"
     ]
    },
    {
     "name": "stderr",
     "output_type": "stream",
     "text": [
      "Processing tweet batches:  29%|██▉       | 2026/7043 [1:11:38<2:56:56,  2.12s/it]"
     ]
    },
    {
     "name": "stdout",
     "output_type": "stream",
     "text": [
      "API key 1 rate limited. Waiting 0 seconds.\n",
      "API key 1 rate limited. Waiting 0 seconds.\n"
     ]
    },
    {
     "name": "stderr",
     "output_type": "stream",
     "text": [
      "Processing tweet batches:  29%|██▉       | 2027/7043 [1:11:41<3:07:44,  2.25s/it]"
     ]
    },
    {
     "name": "stdout",
     "output_type": "stream",
     "text": [
      "API key 2 rate limited. Waiting 0 seconds.\n"
     ]
    },
    {
     "name": "stderr",
     "output_type": "stream",
     "text": [
      "Processing tweet batches:  29%|██▉       | 2028/7043 [1:11:42<2:51:27,  2.05s/it]"
     ]
    },
    {
     "name": "stdout",
     "output_type": "stream",
     "text": [
      "API key 1 rate limited. Waiting 0 seconds.\n",
      "API key 1 rate limited. Waiting 0 seconds.\n"
     ]
    },
    {
     "name": "stderr",
     "output_type": "stream",
     "text": [
      "Processing tweet batches:  29%|██▉       | 2029/7043 [1:11:45<2:59:59,  2.15s/it]"
     ]
    },
    {
     "name": "stdout",
     "output_type": "stream",
     "text": [
      "API key 1 rate limited. Waiting 0 seconds.\n",
      "API key 1 rate limited. Waiting 0 seconds.\n"
     ]
    },
    {
     "name": "stderr",
     "output_type": "stream",
     "text": [
      "Processing tweet batches:  29%|██▉       | 2030/7043 [1:11:47<2:53:15,  2.07s/it]"
     ]
    },
    {
     "name": "stdout",
     "output_type": "stream",
     "text": [
      "API key 2 rate limited. Waiting 0 seconds.API key 1 rate limited. Waiting 0 seconds.\n",
      "\n"
     ]
    },
    {
     "name": "stderr",
     "output_type": "stream",
     "text": [
      "Processing tweet batches:  29%|██▉       | 2032/7043 [1:11:51<2:49:34,  2.03s/it]"
     ]
    },
    {
     "name": "stdout",
     "output_type": "stream",
     "text": [
      "API key 2 rate limited. Waiting 0 seconds.\n"
     ]
    },
    {
     "name": "stderr",
     "output_type": "stream",
     "text": [
      "Processing tweet batches:  29%|██▉       | 2033/7043 [1:11:53<2:47:33,  2.01s/it]"
     ]
    },
    {
     "name": "stdout",
     "output_type": "stream",
     "text": [
      "API key 2 rate limited. Waiting 0 seconds.\n"
     ]
    },
    {
     "name": "stderr",
     "output_type": "stream",
     "text": [
      "Processing tweet batches:  29%|██▉       | 2035/7043 [1:11:57<2:44:33,  1.97s/it]"
     ]
    },
    {
     "name": "stdout",
     "output_type": "stream",
     "text": [
      "API key 1 rate limited. Waiting 0 seconds.\n",
      "API key 1 rate limited. Waiting 0 seconds.\n"
     ]
    },
    {
     "name": "stderr",
     "output_type": "stream",
     "text": [
      "Processing tweet batches:  29%|██▉       | 2036/7043 [1:11:59<2:56:18,  2.11s/it]"
     ]
    },
    {
     "name": "stdout",
     "output_type": "stream",
     "text": [
      "API key 1 rate limited. Waiting 0 seconds.\n",
      "API key 1 rate limited. Waiting 0 seconds.\n"
     ]
    },
    {
     "name": "stderr",
     "output_type": "stream",
     "text": [
      "Processing tweet batches:  29%|██▉       | 2038/7043 [1:12:03<2:40:22,  1.92s/it]"
     ]
    },
    {
     "name": "stdout",
     "output_type": "stream",
     "text": [
      "API key 2 rate limited. Waiting 0 seconds.\n"
     ]
    },
    {
     "name": "stderr",
     "output_type": "stream",
     "text": [
      "Processing tweet batches:  29%|██▉       | 2040/7043 [1:12:08<3:02:33,  2.19s/it]"
     ]
    },
    {
     "name": "stdout",
     "output_type": "stream",
     "text": [
      "API key 1 rate limited. Waiting 0 seconds.\n",
      "API key 2 rate limited. Waiting 0 seconds.\n",
      "API key 1 rate limited. Waiting 0 seconds.\n"
     ]
    },
    {
     "name": "stderr",
     "output_type": "stream",
     "text": [
      "Processing tweet batches:  29%|██▉       | 2042/7043 [1:12:13<3:20:31,  2.41s/it]"
     ]
    },
    {
     "name": "stdout",
     "output_type": "stream",
     "text": [
      "API key 1 rate limited. Waiting 0 seconds.\n",
      "API key 1 rate limited. Waiting 0 seconds.\n",
      "API key 2 rate limited. Waiting 0 seconds.\n"
     ]
    },
    {
     "name": "stderr",
     "output_type": "stream",
     "text": [
      "Processing tweet batches:  29%|██▉       | 2044/7043 [1:12:18<3:08:01,  2.26s/it]"
     ]
    },
    {
     "name": "stdout",
     "output_type": "stream",
     "text": [
      "API key 1 rate limited. Waiting 0 seconds.\n",
      "API key 2 rate limited. Waiting 0 seconds.\n"
     ]
    },
    {
     "name": "stderr",
     "output_type": "stream",
     "text": [
      "Processing tweet batches:  29%|██▉       | 2045/7043 [1:12:19<2:52:05,  2.07s/it]"
     ]
    },
    {
     "name": "stdout",
     "output_type": "stream",
     "text": [
      "API key 2 rate limited. Waiting 0 seconds.\n",
      "API key 2 rate limited. Waiting 0 seconds.\n",
      "API key 1 rate limited. Waiting 0 seconds.\n"
     ]
    },
    {
     "name": "stderr",
     "output_type": "stream",
     "text": [
      "Processing tweet batches:  29%|██▉       | 2046/7043 [1:12:22<3:05:01,  2.22s/it]"
     ]
    },
    {
     "name": "stdout",
     "output_type": "stream",
     "text": [
      "API key 2 rate limited. Waiting 0 seconds.API key 1 rate limited. Waiting 0 seconds.\n",
      "\n",
      "API key 1 rate limited. Waiting 0 seconds.\n"
     ]
    },
    {
     "name": "stderr",
     "output_type": "stream",
     "text": [
      "Processing tweet batches:  29%|██▉       | 2047/7043 [1:12:24<3:03:04,  2.20s/it]"
     ]
    },
    {
     "name": "stdout",
     "output_type": "stream",
     "text": [
      "API key 1 rate limited. Waiting 0 seconds.\n"
     ]
    },
    {
     "name": "stderr",
     "output_type": "stream",
     "text": [
      "Processing tweet batches:  29%|██▉       | 2049/7043 [1:12:28<2:52:09,  2.07s/it]"
     ]
    },
    {
     "name": "stdout",
     "output_type": "stream",
     "text": [
      "\n",
      "Saved 8200 processed tweets to ../data/labeled_stock_tweets_partial.csv\n"
     ]
    },
    {
     "name": "stderr",
     "output_type": "stream",
     "text": [
      "Processing tweet batches:  29%|██▉       | 2050/7043 [1:12:30<2:44:45,  1.98s/it]"
     ]
    },
    {
     "name": "stdout",
     "output_type": "stream",
     "text": [
      "API key 2 rate limited. Waiting 0 seconds.\n",
      "API key 2 rate limited. Waiting 0 seconds.\n"
     ]
    },
    {
     "name": "stderr",
     "output_type": "stream",
     "text": [
      "Processing tweet batches:  29%|██▉       | 2051/7043 [1:12:32<2:45:46,  1.99s/it]"
     ]
    },
    {
     "name": "stdout",
     "output_type": "stream",
     "text": [
      "API key 1 rate limited. Waiting 0 seconds.\n"
     ]
    },
    {
     "name": "stderr",
     "output_type": "stream",
     "text": [
      "Processing tweet batches:  29%|██▉       | 2053/7043 [1:12:36<2:47:58,  2.02s/it]"
     ]
    },
    {
     "name": "stdout",
     "output_type": "stream",
     "text": [
      "API key 2 rate limited. Waiting 0 seconds.\n",
      "API key 1 rate limited. Waiting 0 seconds.\n"
     ]
    },
    {
     "name": "stderr",
     "output_type": "stream",
     "text": [
      "Processing tweet batches:  29%|██▉       | 2054/7043 [1:12:38<2:41:56,  1.95s/it]"
     ]
    },
    {
     "name": "stdout",
     "output_type": "stream",
     "text": [
      "API key 1 rate limited. Waiting 0 seconds.\n",
      "API key 2 rate limited. Waiting 0 seconds.\n"
     ]
    },
    {
     "name": "stderr",
     "output_type": "stream",
     "text": [
      "Processing tweet batches:  29%|██▉       | 2055/7043 [1:12:40<2:51:11,  2.06s/it]"
     ]
    },
    {
     "name": "stdout",
     "output_type": "stream",
     "text": [
      "API key 1 rate limited. Waiting 0 seconds.\n",
      "API key 1 rate limited. Waiting 0 seconds.\n",
      "API key 2 rate limited. Waiting 0 seconds.\n",
      "API key 1 rate limited. Waiting 0 seconds.\n"
     ]
    },
    {
     "name": "stderr",
     "output_type": "stream",
     "text": [
      "Processing tweet batches:  29%|██▉       | 2056/7043 [1:12:42<2:49:46,  2.04s/it]"
     ]
    },
    {
     "name": "stdout",
     "output_type": "stream",
     "text": [
      "API key 2 rate limited. Waiting 0 seconds.\n",
      "API key 1 rate limited. Waiting 0 seconds.\n",
      "API key 1 rate limited. Waiting 0 seconds.\n",
      "API key 2 rate limited. Waiting 0 seconds.\n",
      "API key 2 rate limited. Waiting 0 seconds.\n"
     ]
    },
    {
     "name": "stderr",
     "output_type": "stream",
     "text": [
      "Processing tweet batches:  29%|██▉       | 2057/7043 [1:12:45<3:03:36,  2.21s/it]"
     ]
    },
    {
     "name": "stdout",
     "output_type": "stream",
     "text": [
      "API key 2 rate limited. Waiting 0 seconds.\n",
      "API key 2 rate limited. Waiting 0 seconds.\n"
     ]
    },
    {
     "name": "stderr",
     "output_type": "stream",
     "text": [
      "Processing tweet batches:  29%|██▉       | 2059/7043 [1:12:49<2:49:07,  2.04s/it]"
     ]
    },
    {
     "name": "stdout",
     "output_type": "stream",
     "text": [
      "API key 1 rate limited. Waiting 0 seconds.API key 2 rate limited. Waiting 0 seconds.\n",
      "\n"
     ]
    },
    {
     "name": "stderr",
     "output_type": "stream",
     "text": [
      "Processing tweet batches:  29%|██▉       | 2060/7043 [1:12:50<2:40:49,  1.94s/it]"
     ]
    },
    {
     "name": "stdout",
     "output_type": "stream",
     "text": [
      "API key 2 rate limited. Waiting 0 seconds.\n"
     ]
    },
    {
     "name": "stderr",
     "output_type": "stream",
     "text": [
      "Processing tweet batches:  29%|██▉       | 2061/7043 [1:12:52<2:33:18,  1.85s/it]"
     ]
    },
    {
     "name": "stdout",
     "output_type": "stream",
     "text": [
      "API key 1 rate limited. Waiting 0 seconds.\n",
      "API key 1 rate limited. Waiting 0 seconds.\n",
      "API key 1 rate limited. Waiting 0 seconds.\n"
     ]
    },
    {
     "name": "stderr",
     "output_type": "stream",
     "text": [
      "Processing tweet batches:  29%|██▉       | 2062/7043 [1:12:54<2:33:18,  1.85s/it]"
     ]
    },
    {
     "name": "stdout",
     "output_type": "stream",
     "text": [
      "API key 2 rate limited. Waiting 0 seconds.\n"
     ]
    },
    {
     "name": "stderr",
     "output_type": "stream",
     "text": [
      "Processing tweet batches:  29%|██▉       | 2063/7043 [1:12:56<2:33:51,  1.85s/it]"
     ]
    },
    {
     "name": "stdout",
     "output_type": "stream",
     "text": [
      "API key 1 rate limited. Waiting 0 seconds.\n",
      "API key 1 rate limited. Waiting 0 seconds.\n"
     ]
    },
    {
     "name": "stderr",
     "output_type": "stream",
     "text": [
      "Processing tweet batches:  29%|██▉       | 2064/7043 [1:12:58<2:40:16,  1.93s/it]"
     ]
    },
    {
     "name": "stdout",
     "output_type": "stream",
     "text": [
      "API key 1 rate limited. Waiting 0 seconds.\n"
     ]
    },
    {
     "name": "stderr",
     "output_type": "stream",
     "text": [
      "Processing tweet batches:  29%|██▉       | 2065/7043 [1:13:00<2:38:57,  1.92s/it]"
     ]
    },
    {
     "name": "stdout",
     "output_type": "stream",
     "text": [
      "API key 1 rate limited. Waiting 0 seconds.API key 2 rate limited. Waiting 0 seconds.\n",
      "\n",
      "API key 1 rate limited. Waiting 0 seconds.\n",
      "API key 2 rate limited. Waiting 0 seconds.\n",
      "API key 2 rate limited. Waiting 0 seconds.\n",
      "API key 2 rate limited. Waiting 0 seconds.\n"
     ]
    },
    {
     "name": "stderr",
     "output_type": "stream",
     "text": [
      "Processing tweet batches:  29%|██▉       | 2068/7043 [1:13:06<2:47:45,  2.02s/it]"
     ]
    },
    {
     "name": "stdout",
     "output_type": "stream",
     "text": [
      "API key 1 rate limited. Waiting 0 seconds.\n",
      "API key 1 rate limited. Waiting 0 seconds.\n",
      "API key 1 rate limited. Waiting 0 seconds.\n"
     ]
    },
    {
     "name": "stderr",
     "output_type": "stream",
     "text": [
      "Processing tweet batches:  29%|██▉       | 2071/7043 [1:13:11<2:23:29,  1.73s/it]"
     ]
    },
    {
     "name": "stdout",
     "output_type": "stream",
     "text": [
      "API key 2 rate limited. Waiting 0 seconds.\n",
      "API key 2 rate limited. Waiting 0 seconds.\n"
     ]
    },
    {
     "name": "stderr",
     "output_type": "stream",
     "text": [
      "Processing tweet batches:  29%|██▉       | 2073/7043 [1:13:15<2:21:18,  1.71s/it]"
     ]
    },
    {
     "name": "stdout",
     "output_type": "stream",
     "text": [
      "API key 2 rate limited. Waiting 0 seconds.\n",
      "API key 1 rate limited. Waiting 0 seconds.\n",
      "API key 2 rate limited. Waiting 0 seconds.\n",
      "API key 1 rate limited. Waiting 0 seconds.\n"
     ]
    },
    {
     "name": "stderr",
     "output_type": "stream",
     "text": [
      "Processing tweet batches:  29%|██▉       | 2074/7043 [1:13:17<2:36:25,  1.89s/it]"
     ]
    },
    {
     "name": "stdout",
     "output_type": "stream",
     "text": [
      "API key 2 rate limited. Waiting 0 seconds.\n",
      "API key 1 rate limited. Waiting 0 seconds.\n",
      "\n",
      "Saved 8300 processed tweets to ../data/labeled_stock_tweets_partial.csv\n"
     ]
    },
    {
     "name": "stderr",
     "output_type": "stream",
     "text": [
      "Processing tweet batches:  29%|██▉       | 2076/7043 [1:13:21<2:33:10,  1.85s/it]"
     ]
    },
    {
     "name": "stdout",
     "output_type": "stream",
     "text": [
      "API key 1 rate limited. Waiting 0 seconds.\n"
     ]
    },
    {
     "name": "stderr",
     "output_type": "stream",
     "text": [
      "Processing tweet batches:  29%|██▉       | 2077/7043 [1:13:23<2:35:41,  1.88s/it]"
     ]
    },
    {
     "name": "stdout",
     "output_type": "stream",
     "text": [
      "API key 1 rate limited. Waiting 0 seconds.\n",
      "API key 1 rate limited. Waiting 0 seconds.\n",
      "API key 1 rate limited. Waiting 0 seconds.\n"
     ]
    },
    {
     "name": "stderr",
     "output_type": "stream",
     "text": [
      "Processing tweet batches:  30%|██▉       | 2078/7043 [1:13:25<2:42:24,  1.96s/it]"
     ]
    },
    {
     "name": "stdout",
     "output_type": "stream",
     "text": [
      "API key 2 rate limited. Waiting 0 seconds.\n"
     ]
    },
    {
     "name": "stderr",
     "output_type": "stream",
     "text": [
      "Processing tweet batches:  30%|██▉       | 2079/7043 [1:13:27<2:47:49,  2.03s/it]"
     ]
    },
    {
     "name": "stdout",
     "output_type": "stream",
     "text": [
      "API key 1 rate limited. Waiting 0 seconds.\n"
     ]
    },
    {
     "name": "stderr",
     "output_type": "stream",
     "text": [
      "Processing tweet batches:  30%|██▉       | 2080/7043 [1:13:29<2:42:07,  1.96s/it]"
     ]
    },
    {
     "name": "stdout",
     "output_type": "stream",
     "text": [
      "API key 1 rate limited. Waiting 0 seconds.\n"
     ]
    },
    {
     "name": "stderr",
     "output_type": "stream",
     "text": [
      "Processing tweet batches:  30%|██▉       | 2081/7043 [1:13:31<2:49:40,  2.05s/it]"
     ]
    },
    {
     "name": "stdout",
     "output_type": "stream",
     "text": [
      "API key 1 rate limited. Waiting 0 seconds.\n"
     ]
    },
    {
     "name": "stderr",
     "output_type": "stream",
     "text": [
      "Processing tweet batches:  30%|██▉       | 2082/7043 [1:13:33<2:40:50,  1.95s/it]"
     ]
    },
    {
     "name": "stdout",
     "output_type": "stream",
     "text": [
      "API key 1 rate limited. Waiting 0 seconds.\n"
     ]
    },
    {
     "name": "stderr",
     "output_type": "stream",
     "text": [
      "Processing tweet batches:  30%|██▉       | 2084/7043 [1:13:37<2:47:50,  2.03s/it]"
     ]
    },
    {
     "name": "stdout",
     "output_type": "stream",
     "text": [
      "API key 1 rate limited. Waiting 0 seconds.\n",
      "API key 1 rate limited. Waiting 0 seconds.\n",
      "API key 1 rate limited. Waiting 0 seconds.\n"
     ]
    },
    {
     "name": "stderr",
     "output_type": "stream",
     "text": [
      "Processing tweet batches:  30%|██▉       | 2086/7043 [1:13:42<3:01:00,  2.19s/it]"
     ]
    },
    {
     "name": "stdout",
     "output_type": "stream",
     "text": [
      "API key 2 rate limited. Waiting 0 seconds.API key 1 rate limited. Waiting 0 seconds.\n",
      "\n",
      "API key 1 rate limited. Waiting 0 seconds.\n"
     ]
    },
    {
     "name": "stderr",
     "output_type": "stream",
     "text": [
      "Processing tweet batches:  30%|██▉       | 2088/7043 [1:13:46<2:43:44,  1.98s/it]"
     ]
    },
    {
     "name": "stdout",
     "output_type": "stream",
     "text": [
      "API key 2 rate limited. Waiting 0 seconds.\n"
     ]
    },
    {
     "name": "stderr",
     "output_type": "stream",
     "text": [
      "Processing tweet batches:  30%|██▉       | 2089/7043 [1:13:47<2:38:14,  1.92s/it]"
     ]
    },
    {
     "name": "stdout",
     "output_type": "stream",
     "text": [
      "API key 1 rate limited. Waiting 0 seconds.\n",
      "API key 1 rate limited. Waiting 0 seconds.\n",
      "API key 2 rate limited. Waiting 0 seconds.\n",
      "API key 2 rate limited. Waiting 0 seconds.\n"
     ]
    },
    {
     "name": "stderr",
     "output_type": "stream",
     "text": [
      "Processing tweet batches:  30%|██▉       | 2090/7043 [1:13:50<2:59:30,  2.17s/it]"
     ]
    },
    {
     "name": "stdout",
     "output_type": "stream",
     "text": [
      "API key 1 rate limited. Waiting 0 seconds.\n"
     ]
    },
    {
     "name": "stderr",
     "output_type": "stream",
     "text": [
      "Processing tweet batches:  30%|██▉       | 2092/7043 [1:13:54<2:40:15,  1.94s/it]"
     ]
    },
    {
     "name": "stdout",
     "output_type": "stream",
     "text": [
      "API key 2 rate limited. Waiting 0 seconds.\n",
      "API key 1 rate limited. Waiting 0 seconds.\n"
     ]
    },
    {
     "name": "stderr",
     "output_type": "stream",
     "text": [
      "Processing tweet batches:  30%|██▉       | 2093/7043 [1:13:56<3:01:27,  2.20s/it]"
     ]
    },
    {
     "name": "stdout",
     "output_type": "stream",
     "text": [
      "API key 2 rate limited. Waiting 0 seconds.\n"
     ]
    },
    {
     "name": "stderr",
     "output_type": "stream",
     "text": [
      "Processing tweet batches:  30%|██▉       | 2094/7043 [1:13:58<2:47:01,  2.02s/it]"
     ]
    },
    {
     "name": "stdout",
     "output_type": "stream",
     "text": [
      "API key 2 rate limited. Waiting 0 seconds.\n"
     ]
    },
    {
     "name": "stderr",
     "output_type": "stream",
     "text": [
      "Processing tweet batches:  30%|██▉       | 2096/7043 [1:14:01<2:34:05,  1.87s/it]"
     ]
    },
    {
     "name": "stdout",
     "output_type": "stream",
     "text": [
      "API key 1 rate limited. Waiting 0 seconds.\n",
      "API key 1 rate limited. Waiting 0 seconds.\n"
     ]
    },
    {
     "name": "stderr",
     "output_type": "stream",
     "text": [
      "Processing tweet batches:  30%|██▉       | 2098/7043 [1:14:06<2:45:40,  2.01s/it]"
     ]
    },
    {
     "name": "stdout",
     "output_type": "stream",
     "text": [
      "API key 1 rate limited. Waiting 0 seconds.\n",
      "API key 1 rate limited. Waiting 0 seconds.\n",
      "API key 1 rate limited. Waiting 0 seconds.\n"
     ]
    },
    {
     "name": "stderr",
     "output_type": "stream",
     "text": [
      "Processing tweet batches:  30%|██▉       | 2099/7043 [1:14:08<2:41:21,  1.96s/it]"
     ]
    },
    {
     "name": "stdout",
     "output_type": "stream",
     "text": [
      "API key 2 rate limited. Waiting 0 seconds.\n",
      "\n",
      "Saved 8400 processed tweets to ../data/labeled_stock_tweets_partial.csv\n"
     ]
    },
    {
     "name": "stderr",
     "output_type": "stream",
     "text": [
      "Processing tweet batches:  30%|██▉       | 2100/7043 [1:14:10<2:53:14,  2.10s/it]"
     ]
    },
    {
     "name": "stdout",
     "output_type": "stream",
     "text": [
      "API key 1 rate limited. Waiting 0 seconds.\n"
     ]
    },
    {
     "name": "stderr",
     "output_type": "stream",
     "text": [
      "Processing tweet batches:  30%|██▉       | 2101/7043 [1:14:12<2:43:18,  1.98s/it]"
     ]
    },
    {
     "name": "stdout",
     "output_type": "stream",
     "text": [
      "API key 2 rate limited. Waiting 0 seconds.\n"
     ]
    },
    {
     "name": "stderr",
     "output_type": "stream",
     "text": [
      "Processing tweet batches:  30%|██▉       | 2102/7043 [1:14:14<2:45:52,  2.01s/it]"
     ]
    },
    {
     "name": "stdout",
     "output_type": "stream",
     "text": [
      "API key 2 rate limited. Waiting 0 seconds.\n",
      "API key 2 rate limited. Waiting 0 seconds.\n"
     ]
    },
    {
     "name": "stderr",
     "output_type": "stream",
     "text": [
      "Processing tweet batches:  30%|██▉       | 2103/7043 [1:14:16<2:45:27,  2.01s/it]"
     ]
    },
    {
     "name": "stdout",
     "output_type": "stream",
     "text": [
      "API key 2 rate limited. Waiting 0 seconds.\n",
      "API key 1 rate limited. Waiting 0 seconds.\n",
      "API key 1 rate limited. Waiting 0 seconds.\n",
      "API key 1 rate limited. Waiting 0 seconds.\n"
     ]
    },
    {
     "name": "stderr",
     "output_type": "stream",
     "text": [
      "Processing tweet batches:  30%|██▉       | 2106/7043 [1:14:22<2:34:27,  1.88s/it]"
     ]
    },
    {
     "name": "stdout",
     "output_type": "stream",
     "text": [
      "API key 2 rate limited. Waiting 0 seconds.API key 1 rate limited. Waiting 0 seconds.\n",
      "\n"
     ]
    },
    {
     "name": "stderr",
     "output_type": "stream",
     "text": [
      "Processing tweet batches:  30%|██▉       | 2107/7043 [1:14:24<2:41:07,  1.96s/it]"
     ]
    },
    {
     "name": "stdout",
     "output_type": "stream",
     "text": [
      "API key 2 rate limited. Waiting 0 seconds.\n"
     ]
    },
    {
     "name": "stderr",
     "output_type": "stream",
     "text": [
      "Processing tweet batches:  30%|██▉       | 2110/7043 [1:14:29<2:29:13,  1.82s/it]"
     ]
    },
    {
     "name": "stdout",
     "output_type": "stream",
     "text": [
      "API key 1 rate limited. Waiting 0 seconds.API key 2 rate limited. Waiting 0 seconds.\n",
      "\n",
      "API key 1 rate limited. Waiting 0 seconds.\n"
     ]
    },
    {
     "name": "stderr",
     "output_type": "stream",
     "text": [
      "Processing tweet batches:  30%|██▉       | 2112/7043 [1:14:34<2:46:45,  2.03s/it]"
     ]
    },
    {
     "name": "stdout",
     "output_type": "stream",
     "text": [
      "API key 2 rate limited. Waiting 0 seconds.API key 1 rate limited. Waiting 0 seconds.\n",
      "\n"
     ]
    },
    {
     "name": "stderr",
     "output_type": "stream",
     "text": [
      "Processing tweet batches:  30%|███       | 2113/7043 [1:14:36<2:39:05,  1.94s/it]"
     ]
    },
    {
     "name": "stdout",
     "output_type": "stream",
     "text": [
      "API key 2 rate limited. Waiting 0 seconds.API key 1 rate limited. Waiting 0 seconds.\n",
      "\n",
      "API key 2 rate limited. Waiting 0 seconds.\n"
     ]
    },
    {
     "name": "stderr",
     "output_type": "stream",
     "text": [
      "Processing tweet batches:  30%|███       | 2116/7043 [1:14:44<3:09:18,  2.31s/it]"
     ]
    },
    {
     "name": "stdout",
     "output_type": "stream",
     "text": [
      "API key 2 rate limited. Waiting 0 seconds.\n"
     ]
    },
    {
     "name": "stderr",
     "output_type": "stream",
     "text": [
      "Processing tweet batches:  30%|███       | 2117/7043 [1:14:46<3:02:44,  2.23s/it]"
     ]
    },
    {
     "name": "stdout",
     "output_type": "stream",
     "text": [
      "API key 2 rate limited. Waiting 0 seconds.\n",
      "API key 2 rate limited. Waiting 0 seconds.\n"
     ]
    },
    {
     "name": "stderr",
     "output_type": "stream",
     "text": [
      "Processing tweet batches:  30%|███       | 2120/7043 [1:14:52<2:40:54,  1.96s/it]"
     ]
    },
    {
     "name": "stdout",
     "output_type": "stream",
     "text": [
      "API key 2 rate limited. Waiting 0 seconds.\n"
     ]
    },
    {
     "name": "stderr",
     "output_type": "stream",
     "text": [
      "Processing tweet batches:  30%|███       | 2121/7043 [1:14:53<2:33:49,  1.88s/it]"
     ]
    },
    {
     "name": "stdout",
     "output_type": "stream",
     "text": [
      "API key 2 rate limited. Waiting 0 seconds.\n",
      "API key 2 rate limited. Waiting 0 seconds.API key 2 rate limited. Waiting 0 seconds.\n",
      "\n",
      "API key 2 rate limited. Waiting 0 seconds.\n"
     ]
    },
    {
     "name": "stderr",
     "output_type": "stream",
     "text": [
      "Processing tweet batches:  30%|███       | 2124/7043 [1:14:59<2:35:33,  1.90s/it]"
     ]
    },
    {
     "name": "stdout",
     "output_type": "stream",
     "text": [
      "\n",
      "Saved 8500 processed tweets to ../data/labeled_stock_tweets_partial.csv\n"
     ]
    },
    {
     "name": "stderr",
     "output_type": "stream",
     "text": [
      "Processing tweet batches:  30%|███       | 2125/7043 [1:15:00<2:23:46,  1.75s/it]"
     ]
    },
    {
     "name": "stdout",
     "output_type": "stream",
     "text": [
      "API key 1 rate limited. Waiting 0 seconds.\n"
     ]
    },
    {
     "name": "stderr",
     "output_type": "stream",
     "text": [
      "Processing tweet batches:  30%|███       | 2126/7043 [1:15:02<2:28:50,  1.82s/it]"
     ]
    },
    {
     "name": "stdout",
     "output_type": "stream",
     "text": [
      "API key 2 rate limited. Waiting 0 seconds.\n"
     ]
    },
    {
     "name": "stderr",
     "output_type": "stream",
     "text": [
      "Processing tweet batches:  30%|███       | 2127/7043 [1:15:04<2:35:31,  1.90s/it]"
     ]
    },
    {
     "name": "stdout",
     "output_type": "stream",
     "text": [
      "API key 2 rate limited. Waiting 0 seconds.\n"
     ]
    },
    {
     "name": "stderr",
     "output_type": "stream",
     "text": [
      "Processing tweet batches:  30%|███       | 2129/7043 [1:15:08<2:21:54,  1.73s/it]"
     ]
    },
    {
     "name": "stdout",
     "output_type": "stream",
     "text": [
      "API key 1 rate limited. Waiting 0 seconds.\n",
      "API key 1 rate limited. Waiting 0 seconds.\n"
     ]
    },
    {
     "name": "stderr",
     "output_type": "stream",
     "text": [
      "Processing tweet batches:  30%|███       | 2130/7043 [1:15:10<2:29:12,  1.82s/it]"
     ]
    },
    {
     "name": "stdout",
     "output_type": "stream",
     "text": [
      "API key 1 rate limited. Waiting 0 seconds.\n"
     ]
    },
    {
     "name": "stderr",
     "output_type": "stream",
     "text": [
      "Processing tweet batches:  30%|███       | 2132/7043 [1:15:13<2:21:16,  1.73s/it]"
     ]
    },
    {
     "name": "stdout",
     "output_type": "stream",
     "text": [
      "API key 2 rate limited. Waiting 0 seconds.\n",
      "API key 1 rate limited. Waiting 0 seconds.API key 2 rate limited. Waiting 0 seconds.\n",
      "\n",
      "API key 2 rate limited. Waiting 0 seconds.\n",
      "API key 1 rate limited. Waiting 0 seconds.\n"
     ]
    },
    {
     "name": "stderr",
     "output_type": "stream",
     "text": [
      "Processing tweet batches:  30%|███       | 2133/7043 [1:15:16<2:45:58,  2.03s/it]"
     ]
    },
    {
     "name": "stdout",
     "output_type": "stream",
     "text": [
      "API key 1 rate limited. Waiting 0 seconds.\n",
      "API key 1 rate limited. Waiting 0 seconds.\n",
      "API key 1 rate limited. Waiting 0 seconds.\n"
     ]
    },
    {
     "name": "stderr",
     "output_type": "stream",
     "text": [
      "Processing tweet batches:  30%|███       | 2134/7043 [1:15:18<2:50:11,  2.08s/it]"
     ]
    },
    {
     "name": "stdout",
     "output_type": "stream",
     "text": [
      "API key 1 rate limited. Waiting 0 seconds.\n"
     ]
    },
    {
     "name": "stderr",
     "output_type": "stream",
     "text": [
      "Processing tweet batches:  30%|███       | 2135/7043 [1:15:20<2:46:28,  2.04s/it]"
     ]
    },
    {
     "name": "stdout",
     "output_type": "stream",
     "text": [
      "API key 1 rate limited. Waiting 0 seconds.\n",
      "API key 1 rate limited. Waiting 0 seconds.\n"
     ]
    },
    {
     "name": "stderr",
     "output_type": "stream",
     "text": [
      "Processing tweet batches:  30%|███       | 2137/7043 [1:15:25<3:01:30,  2.22s/it]"
     ]
    },
    {
     "name": "stdout",
     "output_type": "stream",
     "text": [
      "API key 1 rate limited. Waiting 0 seconds.\n",
      "API key 1 rate limited. Waiting 0 seconds.\n",
      "API key 1 rate limited. Waiting 0 seconds.\n"
     ]
    },
    {
     "name": "stderr",
     "output_type": "stream",
     "text": [
      "Processing tweet batches:  30%|███       | 2138/7043 [1:15:27<2:49:42,  2.08s/it]"
     ]
    },
    {
     "name": "stdout",
     "output_type": "stream",
     "text": [
      "API key 2 rate limited. Waiting 0 seconds.\n"
     ]
    },
    {
     "name": "stderr",
     "output_type": "stream",
     "text": [
      "Processing tweet batches:  30%|███       | 2139/7043 [1:15:29<2:41:42,  1.98s/it]"
     ]
    },
    {
     "name": "stdout",
     "output_type": "stream",
     "text": [
      "API key 2 rate limited. Waiting 0 seconds.\n",
      "API key 1 rate limited. Waiting 0 seconds.\n",
      "API key 2 rate limited. Waiting 0 seconds.\n"
     ]
    },
    {
     "name": "stderr",
     "output_type": "stream",
     "text": [
      "Processing tweet batches:  30%|███       | 2140/7043 [1:15:30<2:36:22,  1.91s/it]"
     ]
    },
    {
     "name": "stdout",
     "output_type": "stream",
     "text": [
      "API key 2 rate limited. Waiting 0 seconds.\n"
     ]
    },
    {
     "name": "stderr",
     "output_type": "stream",
     "text": [
      "Processing tweet batches:  30%|███       | 2141/7043 [1:15:32<2:35:49,  1.91s/it]"
     ]
    },
    {
     "name": "stdout",
     "output_type": "stream",
     "text": [
      "API key 2 rate limited. Waiting 0 seconds.\n"
     ]
    },
    {
     "name": "stderr",
     "output_type": "stream",
     "text": [
      "Processing tweet batches:  30%|███       | 2142/7043 [1:15:34<2:43:33,  2.00s/it]"
     ]
    },
    {
     "name": "stdout",
     "output_type": "stream",
     "text": [
      "API key 1 rate limited. Waiting 0 seconds.\n",
      "API key 1 rate limited. Waiting 0 seconds.\n"
     ]
    },
    {
     "name": "stderr",
     "output_type": "stream",
     "text": [
      "Processing tweet batches:  30%|███       | 2143/7043 [1:15:36<2:35:53,  1.91s/it]"
     ]
    },
    {
     "name": "stdout",
     "output_type": "stream",
     "text": [
      "API key 1 rate limited. Waiting 0 seconds.\n",
      "API key 1 rate limited. Waiting 0 seconds.\n"
     ]
    },
    {
     "name": "stderr",
     "output_type": "stream",
     "text": [
      "Processing tweet batches:  30%|███       | 2144/7043 [1:15:38<2:43:56,  2.01s/it]"
     ]
    },
    {
     "name": "stdout",
     "output_type": "stream",
     "text": [
      "API key 1 rate limited. Waiting 0 seconds.\n"
     ]
    },
    {
     "name": "stderr",
     "output_type": "stream",
     "text": [
      "Processing tweet batches:  30%|███       | 2145/7043 [1:15:40<2:35:59,  1.91s/it]"
     ]
    },
    {
     "name": "stdout",
     "output_type": "stream",
     "text": [
      "API key 1 rate limited. Waiting 0 seconds.\n",
      "API key 2 rate limited. Waiting 0 seconds.\n",
      "API key 1 rate limited. Waiting 0 seconds.\n"
     ]
    },
    {
     "name": "stderr",
     "output_type": "stream",
     "text": [
      "Processing tweet batches:  30%|███       | 2146/7043 [1:15:42<2:39:50,  1.96s/it]"
     ]
    },
    {
     "name": "stdout",
     "output_type": "stream",
     "text": [
      "API key 2 rate limited. Waiting 0 seconds.\n",
      "API key 1 rate limited. Waiting 0 seconds.\n",
      "API key 2 rate limited. Waiting 0 seconds.\n",
      "API key 1 rate limited. Waiting 0 seconds.\n"
     ]
    },
    {
     "name": "stderr",
     "output_type": "stream",
     "text": [
      "Processing tweet batches:  30%|███       | 2147/7043 [1:15:44<2:45:06,  2.02s/it]"
     ]
    },
    {
     "name": "stdout",
     "output_type": "stream",
     "text": [
      "API key 1 rate limited. Waiting 0 seconds.\n",
      "API key 1 rate limited. Waiting 0 seconds.\n"
     ]
    },
    {
     "name": "stderr",
     "output_type": "stream",
     "text": [
      "Processing tweet batches:  30%|███       | 2148/7043 [1:15:46<2:41:21,  1.98s/it]"
     ]
    },
    {
     "name": "stdout",
     "output_type": "stream",
     "text": [
      "API key 2 rate limited. Waiting 0 seconds.\n"
     ]
    },
    {
     "name": "stderr",
     "output_type": "stream",
     "text": [
      "Processing tweet batches:  31%|███       | 2149/7043 [1:15:48<2:40:12,  1.96s/it]"
     ]
    },
    {
     "name": "stdout",
     "output_type": "stream",
     "text": [
      "\n",
      "Saved 8600 processed tweets to ../data/labeled_stock_tweets_partial.csv\n"
     ]
    },
    {
     "name": "stderr",
     "output_type": "stream",
     "text": [
      "Processing tweet batches:  31%|███       | 2150/7043 [1:15:50<2:29:06,  1.83s/it]"
     ]
    },
    {
     "name": "stdout",
     "output_type": "stream",
     "text": [
      "API key 2 rate limited. Waiting 0 seconds.\n",
      "API key 2 rate limited. Waiting 0 seconds.\n"
     ]
    },
    {
     "name": "stderr",
     "output_type": "stream",
     "text": [
      "Processing tweet batches:  31%|███       | 2151/7043 [1:15:52<2:33:21,  1.88s/it]"
     ]
    },
    {
     "name": "stdout",
     "output_type": "stream",
     "text": [
      "API key 1 rate limited. Waiting 0 seconds.\n",
      "API key 1 rate limited. Waiting 0 seconds.\n"
     ]
    },
    {
     "name": "stderr",
     "output_type": "stream",
     "text": [
      "Processing tweet batches:  31%|███       | 2152/7043 [1:15:53<2:31:19,  1.86s/it]"
     ]
    },
    {
     "name": "stdout",
     "output_type": "stream",
     "text": [
      "API key 1 rate limited. Waiting 0 seconds.\n"
     ]
    },
    {
     "name": "stderr",
     "output_type": "stream",
     "text": [
      "Processing tweet batches:  31%|███       | 2153/7043 [1:15:56<2:42:19,  1.99s/it]"
     ]
    },
    {
     "name": "stdout",
     "output_type": "stream",
     "text": [
      "API key 2 rate limited. Waiting 0 seconds.\n",
      "API key 2 rate limited. Waiting 0 seconds.\n"
     ]
    },
    {
     "name": "stderr",
     "output_type": "stream",
     "text": [
      "Processing tweet batches:  31%|███       | 2154/7043 [1:15:58<2:45:35,  2.03s/it]"
     ]
    },
    {
     "name": "stdout",
     "output_type": "stream",
     "text": [
      "API key 2 rate limited. Waiting 0 seconds.\n"
     ]
    },
    {
     "name": "stderr",
     "output_type": "stream",
     "text": [
      "Processing tweet batches:  31%|███       | 2155/7043 [1:16:00<2:38:59,  1.95s/it]"
     ]
    },
    {
     "name": "stdout",
     "output_type": "stream",
     "text": [
      "API key 1 rate limited. Waiting 0 seconds.\n",
      "API key 2 rate limited. Waiting 0 seconds.\n",
      "API key 2 rate limited. Waiting 0 seconds.\n"
     ]
    },
    {
     "name": "stderr",
     "output_type": "stream",
     "text": [
      "Processing tweet batches:  31%|███       | 2156/7043 [1:16:02<2:42:27,  1.99s/it]"
     ]
    },
    {
     "name": "stdout",
     "output_type": "stream",
     "text": [
      "API key 1 rate limited. Waiting 0 seconds.\n",
      "API key 1 rate limited. Waiting 0 seconds.\n"
     ]
    },
    {
     "name": "stderr",
     "output_type": "stream",
     "text": [
      "Processing tweet batches:  31%|███       | 2157/7043 [1:16:04<2:38:41,  1.95s/it]"
     ]
    },
    {
     "name": "stdout",
     "output_type": "stream",
     "text": [
      "API key 1 rate limited. Waiting 0 seconds.\n"
     ]
    },
    {
     "name": "stderr",
     "output_type": "stream",
     "text": [
      "Processing tweet batches:  31%|███       | 2158/7043 [1:16:05<2:29:10,  1.83s/it]"
     ]
    },
    {
     "name": "stdout",
     "output_type": "stream",
     "text": [
      "API key 1 rate limited. Waiting 0 seconds.\n"
     ]
    },
    {
     "name": "stderr",
     "output_type": "stream",
     "text": [
      "Processing tweet batches:  31%|███       | 2159/7043 [1:16:07<2:21:56,  1.74s/it]"
     ]
    },
    {
     "name": "stdout",
     "output_type": "stream",
     "text": [
      "API key 1 rate limited. Waiting 0 seconds.\n",
      "API key 1 rate limited. Waiting 0 seconds.\n"
     ]
    },
    {
     "name": "stderr",
     "output_type": "stream",
     "text": [
      "Processing tweet batches:  31%|███       | 2161/7043 [1:16:11<2:29:11,  1.83s/it]"
     ]
    },
    {
     "name": "stdout",
     "output_type": "stream",
     "text": [
      "API key 2 rate limited. Waiting 0 seconds.\n",
      "API key 1 rate limited. Waiting 0 seconds.\n"
     ]
    },
    {
     "name": "stderr",
     "output_type": "stream",
     "text": [
      "Processing tweet batches:  31%|███       | 2162/7043 [1:16:13<2:41:26,  1.98s/it]"
     ]
    },
    {
     "name": "stdout",
     "output_type": "stream",
     "text": [
      "API key 1 rate limited. Waiting 0 seconds.\n"
     ]
    },
    {
     "name": "stderr",
     "output_type": "stream",
     "text": [
      "Processing tweet batches:  31%|███       | 2164/7043 [1:16:17<2:41:49,  1.99s/it]"
     ]
    },
    {
     "name": "stdout",
     "output_type": "stream",
     "text": [
      "API key 1 rate limited. Waiting 0 seconds.\n",
      "API key 1 rate limited. Waiting 0 seconds.\n"
     ]
    },
    {
     "name": "stderr",
     "output_type": "stream",
     "text": [
      "Processing tweet batches:  31%|███       | 2166/7043 [1:16:21<2:31:30,  1.86s/it]"
     ]
    },
    {
     "name": "stdout",
     "output_type": "stream",
     "text": [
      "API key 2 rate limited. Waiting 0 seconds.\n"
     ]
    },
    {
     "name": "stderr",
     "output_type": "stream",
     "text": [
      "Processing tweet batches:  31%|███       | 2167/7043 [1:16:22<2:23:19,  1.76s/it]"
     ]
    },
    {
     "name": "stdout",
     "output_type": "stream",
     "text": [
      "API key 1 rate limited. Waiting 0 seconds.\n",
      "API key 1 rate limited. Waiting 0 seconds.\n"
     ]
    },
    {
     "name": "stderr",
     "output_type": "stream",
     "text": [
      "Processing tweet batches:  31%|███       | 2168/7043 [1:16:24<2:27:02,  1.81s/it]"
     ]
    },
    {
     "name": "stdout",
     "output_type": "stream",
     "text": [
      "API key 1 rate limited. Waiting 0 seconds.\n",
      "API key 1 rate limited. Waiting 0 seconds.\n"
     ]
    },
    {
     "name": "stderr",
     "output_type": "stream",
     "text": [
      "Processing tweet batches:  31%|███       | 2169/7043 [1:16:26<2:39:38,  1.97s/it]"
     ]
    },
    {
     "name": "stdout",
     "output_type": "stream",
     "text": [
      "API key 1 rate limited. Waiting 0 seconds.\n",
      "API key 1 rate limited. Waiting 0 seconds.\n"
     ]
    },
    {
     "name": "stderr",
     "output_type": "stream",
     "text": [
      "Processing tweet batches:  31%|███       | 2173/7043 [1:16:34<2:30:31,  1.85s/it]"
     ]
    },
    {
     "name": "stdout",
     "output_type": "stream",
     "text": [
      "API key 1 rate limited. Waiting 0 seconds.\n",
      "API key 2 rate limited. Waiting 0 seconds.\n"
     ]
    },
    {
     "name": "stderr",
     "output_type": "stream",
     "text": [
      "Processing tweet batches:  31%|███       | 2174/7043 [1:16:36<2:34:52,  1.91s/it]"
     ]
    },
    {
     "name": "stdout",
     "output_type": "stream",
     "text": [
      "API key 1 rate limited. Waiting 0 seconds.\n",
      "API key 2 rate limited. Waiting 0 seconds.\n",
      "API key 1 rate limited. Waiting 0 seconds.\n",
      "\n",
      "Saved 8700 processed tweets to ../data/labeled_stock_tweets_partial.csv\n"
     ]
    },
    {
     "name": "stderr",
     "output_type": "stream",
     "text": [
      "Processing tweet batches:  31%|███       | 2176/7043 [1:16:40<2:29:16,  1.84s/it]"
     ]
    },
    {
     "name": "stdout",
     "output_type": "stream",
     "text": [
      "API key 1 rate limited. Waiting 0 seconds.\n"
     ]
    },
    {
     "name": "stderr",
     "output_type": "stream",
     "text": [
      "Processing tweet batches:  31%|███       | 2177/7043 [1:16:41<2:27:54,  1.82s/it]"
     ]
    },
    {
     "name": "stdout",
     "output_type": "stream",
     "text": [
      "API key 2 rate limited. Waiting 0 seconds.\n"
     ]
    },
    {
     "name": "stderr",
     "output_type": "stream",
     "text": [
      "Processing tweet batches:  31%|███       | 2179/7043 [1:16:45<2:28:36,  1.83s/it]"
     ]
    },
    {
     "name": "stdout",
     "output_type": "stream",
     "text": [
      "API key 1 rate limited. Waiting 0 seconds.\n"
     ]
    },
    {
     "name": "stderr",
     "output_type": "stream",
     "text": [
      "Processing tweet batches:  31%|███       | 2180/7043 [1:16:47<2:35:43,  1.92s/it]"
     ]
    },
    {
     "name": "stdout",
     "output_type": "stream",
     "text": [
      "API key 1 rate limited. Waiting 0 seconds.\n",
      "API key 1 rate limited. Waiting 0 seconds.\n",
      "API key 1 rate limited. Waiting 0 seconds.\n"
     ]
    },
    {
     "name": "stderr",
     "output_type": "stream",
     "text": [
      "Processing tweet batches:  31%|███       | 2182/7043 [1:16:51<2:40:36,  1.98s/it]"
     ]
    },
    {
     "name": "stdout",
     "output_type": "stream",
     "text": [
      "API key 1 rate limited. Waiting 0 seconds.\n"
     ]
    },
    {
     "name": "stderr",
     "output_type": "stream",
     "text": [
      "Processing tweet batches:  31%|███       | 2183/7043 [1:16:53<2:40:54,  1.99s/it]"
     ]
    },
    {
     "name": "stdout",
     "output_type": "stream",
     "text": [
      "API key 2 rate limited. Waiting 0 seconds.\n",
      "API key 1 rate limited. Waiting 0 seconds.\n"
     ]
    },
    {
     "name": "stderr",
     "output_type": "stream",
     "text": [
      "Processing tweet batches:  31%|███       | 2184/7043 [1:16:55<2:36:58,  1.94s/it]"
     ]
    },
    {
     "name": "stdout",
     "output_type": "stream",
     "text": [
      "API key 2 rate limited. Waiting 0 seconds.\n",
      "API key 2 rate limited. Waiting 0 seconds.\n",
      "API key 2 rate limited. Waiting 0 seconds.API key 2 rate limited. Waiting 0 seconds.\n",
      "\n"
     ]
    },
    {
     "name": "stderr",
     "output_type": "stream",
     "text": [
      "Processing tweet batches:  31%|███       | 2185/7043 [1:16:57<2:34:28,  1.91s/it]"
     ]
    },
    {
     "name": "stdout",
     "output_type": "stream",
     "text": [
      "API key 1 rate limited. Waiting 0 seconds.\n",
      "API key 2 rate limited. Waiting 0 seconds.\n"
     ]
    },
    {
     "name": "stderr",
     "output_type": "stream",
     "text": [
      "Processing tweet batches:  31%|███       | 2187/7043 [1:17:01<2:36:11,  1.93s/it]"
     ]
    },
    {
     "name": "stdout",
     "output_type": "stream",
     "text": [
      "API key 2 rate limited. Waiting 0 seconds.\n"
     ]
    },
    {
     "name": "stderr",
     "output_type": "stream",
     "text": [
      "Processing tweet batches:  31%|███       | 2190/7043 [1:17:07<2:40:24,  1.98s/it]"
     ]
    },
    {
     "name": "stdout",
     "output_type": "stream",
     "text": [
      "API key 2 rate limited. Waiting 0 seconds.\n",
      "API key 1 rate limited. Waiting 0 seconds.\n"
     ]
    },
    {
     "name": "stderr",
     "output_type": "stream",
     "text": [
      "Processing tweet batches:  31%|███       | 2191/7043 [1:17:09<2:36:31,  1.94s/it]"
     ]
    },
    {
     "name": "stdout",
     "output_type": "stream",
     "text": [
      "API key 2 rate limited. Waiting 0 seconds.\n",
      "API key 2 rate limited. Waiting 0 seconds.\n",
      "API key 2 rate limited. Waiting 0 seconds.\n",
      "API key 2 rate limited. Waiting 0 seconds.\n"
     ]
    },
    {
     "name": "stderr",
     "output_type": "stream",
     "text": [
      "Processing tweet batches:  31%|███       | 2193/7043 [1:17:13<2:39:36,  1.97s/it]"
     ]
    },
    {
     "name": "stdout",
     "output_type": "stream",
     "text": [
      "API key 2 rate limited. Waiting 0 seconds.\n"
     ]
    },
    {
     "name": "stderr",
     "output_type": "stream",
     "text": [
      "Processing tweet batches:  31%|███       | 2194/7043 [1:17:15<2:45:17,  2.05s/it]"
     ]
    },
    {
     "name": "stdout",
     "output_type": "stream",
     "text": [
      "API key 2 rate limited. Waiting 0 seconds.\n",
      "API key 2 rate limited. Waiting 0 seconds.\n",
      "API key 2 rate limited. Waiting 0 seconds.\n"
     ]
    },
    {
     "name": "stderr",
     "output_type": "stream",
     "text": [
      "Processing tweet batches:  31%|███       | 2195/7043 [1:17:18<2:51:52,  2.13s/it]"
     ]
    },
    {
     "name": "stdout",
     "output_type": "stream",
     "text": [
      "API key 2 rate limited. Waiting 0 seconds.\n",
      "API key 2 rate limited. Waiting 0 seconds.\n"
     ]
    },
    {
     "name": "stderr",
     "output_type": "stream",
     "text": [
      "Processing tweet batches:  31%|███       | 2196/7043 [1:17:20<2:51:47,  2.13s/it]"
     ]
    },
    {
     "name": "stdout",
     "output_type": "stream",
     "text": [
      "API key 1 rate limited. Waiting 0 seconds.\n",
      "API key 1 rate limited. Waiting 0 seconds.\n"
     ]
    },
    {
     "name": "stderr",
     "output_type": "stream",
     "text": [
      "Processing tweet batches:  31%|███       | 2197/7043 [1:17:23<3:07:42,  2.32s/it]"
     ]
    },
    {
     "name": "stdout",
     "output_type": "stream",
     "text": [
      "API key 1 rate limited. Waiting 0 seconds.\n",
      "API key 1 rate limited. Waiting 0 seconds.\n"
     ]
    },
    {
     "name": "stderr",
     "output_type": "stream",
     "text": [
      "Processing tweet batches:  31%|███       | 2199/7043 [1:17:26<2:44:32,  2.04s/it]"
     ]
    },
    {
     "name": "stdout",
     "output_type": "stream",
     "text": [
      "API key 1 rate limited. Waiting 0 seconds.\n",
      "API key 1 rate limited. Waiting 0 seconds.\n",
      "\n",
      "Saved 8800 processed tweets to ../data/labeled_stock_tweets_partial.csv\n"
     ]
    },
    {
     "name": "stderr",
     "output_type": "stream",
     "text": [
      "Processing tweet batches:  31%|███       | 2200/7043 [1:17:28<2:44:06,  2.03s/it]"
     ]
    },
    {
     "name": "stdout",
     "output_type": "stream",
     "text": [
      "API key 2 rate limited. Waiting 0 seconds.\n",
      "API key 1 rate limited. Waiting 0 seconds.\n",
      "API key 1 rate limited. Waiting 0 seconds.\n"
     ]
    },
    {
     "name": "stderr",
     "output_type": "stream",
     "text": [
      "Processing tweet batches:  31%|███▏      | 2202/7043 [1:17:32<2:36:30,  1.94s/it]"
     ]
    },
    {
     "name": "stdout",
     "output_type": "stream",
     "text": [
      "API key 2 rate limited. Waiting 0 seconds.\n",
      "API key 1 rate limited. Waiting 0 seconds.\n",
      "API key 2 rate limited. Waiting 0 seconds.\n",
      "API key 1 rate limited. Waiting 0 seconds.\n",
      "API key 2 rate limited. Waiting 0 seconds.\n",
      "API key 1 rate limited. Waiting 0 seconds.\n"
     ]
    },
    {
     "name": "stderr",
     "output_type": "stream",
     "text": [
      "Processing tweet batches:  31%|███▏      | 2203/7043 [1:17:36<3:13:33,  2.40s/it]"
     ]
    },
    {
     "name": "stdout",
     "output_type": "stream",
     "text": [
      "API key 1 rate limited. Waiting 0 seconds.\n",
      "API key 1 rate limited. Waiting 0 seconds.\n"
     ]
    },
    {
     "name": "stderr",
     "output_type": "stream",
     "text": [
      "Processing tweet batches:  31%|███▏      | 2205/7043 [1:17:40<3:13:03,  2.39s/it]"
     ]
    },
    {
     "name": "stdout",
     "output_type": "stream",
     "text": [
      "API key 2 rate limited. Waiting 0 seconds.\n",
      "API key 2 rate limited. Waiting 0 seconds.API key 2 rate limited. Waiting 0 seconds.\n",
      "\n",
      "API key 1 rate limited. Waiting 0 seconds.\n"
     ]
    },
    {
     "name": "stderr",
     "output_type": "stream",
     "text": [
      "Processing tweet batches:  31%|███▏      | 2206/7043 [1:17:43<3:32:05,  2.63s/it]"
     ]
    },
    {
     "name": "stdout",
     "output_type": "stream",
     "text": [
      "API key 1 rate limited. Waiting 0 seconds.\n",
      "API key 1 rate limited. Waiting 0 seconds.\n"
     ]
    },
    {
     "name": "stderr",
     "output_type": "stream",
     "text": [
      "Processing tweet batches:  31%|███▏      | 2207/7043 [1:17:45<3:12:35,  2.39s/it]"
     ]
    },
    {
     "name": "stdout",
     "output_type": "stream",
     "text": [
      "API key 1 rate limited. Waiting 0 seconds.\n",
      "API key 1 rate limited. Waiting 0 seconds.\n"
     ]
    },
    {
     "name": "stderr",
     "output_type": "stream",
     "text": [
      "Processing tweet batches:  31%|███▏      | 2208/7043 [1:17:47<2:58:53,  2.22s/it]"
     ]
    },
    {
     "name": "stdout",
     "output_type": "stream",
     "text": [
      "API key 2 rate limited. Waiting 0 seconds.\n",
      "API key 1 rate limited. Waiting 0 seconds.\n",
      "API key 1 rate limited. Waiting 0 seconds.\n"
     ]
    },
    {
     "name": "stderr",
     "output_type": "stream",
     "text": [
      "Processing tweet batches:  31%|███▏      | 2209/7043 [1:17:49<3:00:27,  2.24s/it]"
     ]
    },
    {
     "name": "stdout",
     "output_type": "stream",
     "text": [
      "API key 2 rate limited. Waiting 0 seconds.\n",
      "API key 2 rate limited. Waiting 0 seconds.\n",
      "API key 2 rate limited. Waiting 0 seconds.\n"
     ]
    },
    {
     "name": "stderr",
     "output_type": "stream",
     "text": [
      "Processing tweet batches:  31%|███▏      | 2210/7043 [1:17:51<2:50:46,  2.12s/it]"
     ]
    },
    {
     "name": "stdout",
     "output_type": "stream",
     "text": [
      "API key 1 rate limited. Waiting 0 seconds.\n",
      "API key 1 rate limited. Waiting 0 seconds.\n"
     ]
    },
    {
     "name": "stderr",
     "output_type": "stream",
     "text": [
      "Processing tweet batches:  31%|███▏      | 2211/7043 [1:17:53<2:46:32,  2.07s/it]"
     ]
    },
    {
     "name": "stdout",
     "output_type": "stream",
     "text": [
      "API key 1 rate limited. Waiting 0 seconds.API key 2 rate limited. Waiting 0 seconds.\n",
      "\n",
      "API key 1 rate limited. Waiting 0 seconds.\n",
      "API key 1 rate limited. Waiting 0 seconds.\n"
     ]
    },
    {
     "name": "stderr",
     "output_type": "stream",
     "text": [
      "Processing tweet batches:  31%|███▏      | 2212/7043 [1:17:56<2:51:36,  2.13s/it]"
     ]
    },
    {
     "name": "stdout",
     "output_type": "stream",
     "text": [
      "API key 2 rate limited. Waiting 0 seconds.\n"
     ]
    },
    {
     "name": "stderr",
     "output_type": "stream",
     "text": [
      "Processing tweet batches:  31%|███▏      | 2214/7043 [1:17:59<2:39:21,  1.98s/it]"
     ]
    },
    {
     "name": "stdout",
     "output_type": "stream",
     "text": [
      "API key 2 rate limited. Waiting 0 seconds.\n",
      "API key 2 rate limited. Waiting 0 seconds.\n",
      "API key 2 rate limited. Waiting 0 seconds.\n",
      "API key 2 rate limited. Waiting 0 seconds.\n",
      "API key 2 rate limited. Waiting 0 seconds.\n",
      "API key 2 rate limited. Waiting 0 seconds.\n"
     ]
    },
    {
     "name": "stderr",
     "output_type": "stream",
     "text": [
      "Processing tweet batches:  31%|███▏      | 2216/7043 [1:18:03<2:34:02,  1.91s/it]"
     ]
    },
    {
     "name": "stdout",
     "output_type": "stream",
     "text": [
      "API key 1 rate limited. Waiting 0 seconds.\n",
      "API key 1 rate limited. Waiting 0 seconds.\n"
     ]
    },
    {
     "name": "stderr",
     "output_type": "stream",
     "text": [
      "Processing tweet batches:  31%|███▏      | 2217/7043 [1:18:05<2:44:37,  2.05s/it]"
     ]
    },
    {
     "name": "stdout",
     "output_type": "stream",
     "text": [
      "API key 1 rate limited. Waiting 0 seconds.\n",
      "API key 1 rate limited. Waiting 0 seconds.\n",
      "API key 2 rate limited. Waiting 0 seconds.\n",
      "API key 2 rate limited. Waiting 0 seconds.\n",
      "API key 2 rate limited. Waiting 0 seconds.\n"
     ]
    },
    {
     "name": "stderr",
     "output_type": "stream",
     "text": [
      "Processing tweet batches:  32%|███▏      | 2220/7043 [1:18:11<2:28:28,  1.85s/it]"
     ]
    },
    {
     "name": "stdout",
     "output_type": "stream",
     "text": [
      "API key 1 rate limited. Waiting 0 seconds.\n",
      "API key 2 rate limited. Waiting 0 seconds.\n",
      "API key 1 rate limited. Waiting 0 seconds.\n",
      "API key 1 rate limited. Waiting 0 seconds.\n"
     ]
    },
    {
     "name": "stderr",
     "output_type": "stream",
     "text": [
      "Processing tweet batches:  32%|███▏      | 2221/7043 [1:18:14<2:48:58,  2.10s/it]"
     ]
    },
    {
     "name": "stdout",
     "output_type": "stream",
     "text": [
      "API key 2 rate limited. Waiting 0 seconds.\n",
      "API key 2 rate limited. Waiting 0 seconds.\n"
     ]
    },
    {
     "name": "stderr",
     "output_type": "stream",
     "text": [
      "Processing tweet batches:  32%|███▏      | 2223/7043 [1:18:18<2:55:30,  2.18s/it]"
     ]
    },
    {
     "name": "stdout",
     "output_type": "stream",
     "text": [
      "API key 1 rate limited. Waiting 0 seconds.\n",
      "API key 1 rate limited. Waiting 0 seconds.\n",
      "API key 1 rate limited. Waiting 0 seconds.\n"
     ]
    },
    {
     "name": "stderr",
     "output_type": "stream",
     "text": [
      "Processing tweet batches:  32%|███▏      | 2224/7043 [1:18:20<2:52:17,  2.15s/it]"
     ]
    },
    {
     "name": "stdout",
     "output_type": "stream",
     "text": [
      "\n",
      "Saved 8900 processed tweets to ../data/labeled_stock_tweets_partial.csv\n"
     ]
    },
    {
     "name": "stderr",
     "output_type": "stream",
     "text": [
      "Processing tweet batches:  32%|███▏      | 2225/7043 [1:18:24<3:32:32,  2.65s/it]"
     ]
    },
    {
     "name": "stdout",
     "output_type": "stream",
     "text": [
      "API key 2 rate limited. Waiting 0 seconds.\n",
      "API key 2 rate limited. Waiting 0 seconds.\n"
     ]
    },
    {
     "name": "stderr",
     "output_type": "stream",
     "text": [
      "Processing tweet batches:  32%|███▏      | 2227/7043 [1:18:27<2:46:40,  2.08s/it]"
     ]
    },
    {
     "name": "stdout",
     "output_type": "stream",
     "text": [
      "API key 1 rate limited. Waiting 0 seconds.\n",
      "API key 2 rate limited. Waiting 0 seconds.\n",
      "API key 1 rate limited. Waiting 0 seconds.\n"
     ]
    },
    {
     "name": "stderr",
     "output_type": "stream",
     "text": [
      "Processing tweet batches:  32%|███▏      | 2228/7043 [1:18:29<2:50:28,  2.12s/it]"
     ]
    },
    {
     "name": "stdout",
     "output_type": "stream",
     "text": [
      "API key 1 rate limited. Waiting 0 seconds.\n"
     ]
    },
    {
     "name": "stderr",
     "output_type": "stream",
     "text": [
      "Processing tweet batches:  32%|███▏      | 2229/7043 [1:18:31<2:48:00,  2.09s/it]"
     ]
    },
    {
     "name": "stdout",
     "output_type": "stream",
     "text": [
      "API key 2 rate limited. Waiting 0 seconds.\n"
     ]
    },
    {
     "name": "stderr",
     "output_type": "stream",
     "text": [
      "Processing tweet batches:  32%|███▏      | 2230/7043 [1:18:34<2:47:07,  2.08s/it]"
     ]
    },
    {
     "name": "stdout",
     "output_type": "stream",
     "text": [
      "API key 1 rate limited. Waiting 0 seconds.\n",
      "API key 2 rate limited. Waiting 0 seconds.\n"
     ]
    },
    {
     "name": "stderr",
     "output_type": "stream",
     "text": [
      "Processing tweet batches:  32%|███▏      | 2231/7043 [1:18:35<2:39:37,  1.99s/it]"
     ]
    },
    {
     "name": "stdout",
     "output_type": "stream",
     "text": [
      "API key 1 rate limited. Waiting 0 seconds.\n"
     ]
    },
    {
     "name": "stderr",
     "output_type": "stream",
     "text": [
      "Processing tweet batches:  32%|███▏      | 2232/7043 [1:18:37<2:36:06,  1.95s/it]"
     ]
    },
    {
     "name": "stdout",
     "output_type": "stream",
     "text": [
      "API key 1 rate limited. Waiting 0 seconds.\n",
      "API key 1 rate limited. Waiting 0 seconds.\n",
      "API key 1 rate limited. Waiting 0 seconds.\n"
     ]
    },
    {
     "name": "stderr",
     "output_type": "stream",
     "text": [
      "Processing tweet batches:  32%|███▏      | 2233/7043 [1:18:40<2:45:42,  2.07s/it]"
     ]
    },
    {
     "name": "stdout",
     "output_type": "stream",
     "text": [
      "API key 1 rate limited. Waiting 0 seconds.\n"
     ]
    },
    {
     "name": "stderr",
     "output_type": "stream",
     "text": [
      "Processing tweet batches:  32%|███▏      | 2234/7043 [1:18:41<2:35:33,  1.94s/it]"
     ]
    },
    {
     "name": "stdout",
     "output_type": "stream",
     "text": [
      "API key 2 rate limited. Waiting 0 seconds.\n",
      "API key 1 rate limited. Waiting 0 seconds.\n",
      "API key 2 rate limited. Waiting 0 seconds.\n",
      "API key 2 rate limited. Waiting 0 seconds.\n"
     ]
    },
    {
     "name": "stderr",
     "output_type": "stream",
     "text": [
      "Processing tweet batches:  32%|███▏      | 2235/7043 [1:18:43<2:34:49,  1.93s/it]"
     ]
    },
    {
     "name": "stdout",
     "output_type": "stream",
     "text": [
      "API key 1 rate limited. Waiting 0 seconds.\n",
      "API key 1 rate limited. Waiting 0 seconds.\n",
      "API key 1 rate limited. Waiting 0 seconds.\n",
      "API key 1 rate limited. Waiting 0 seconds.\n"
     ]
    },
    {
     "name": "stderr",
     "output_type": "stream",
     "text": [
      "Processing tweet batches:  32%|███▏      | 2237/7043 [1:18:47<2:24:47,  1.81s/it]"
     ]
    },
    {
     "name": "stdout",
     "output_type": "stream",
     "text": [
      "API key 2 rate limited. Waiting 0 seconds.\n",
      "API key 1 rate limited. Waiting 0 seconds.\n"
     ]
    },
    {
     "name": "stderr",
     "output_type": "stream",
     "text": [
      "Processing tweet batches:  32%|███▏      | 2238/7043 [1:18:49<2:39:56,  2.00s/it]"
     ]
    },
    {
     "name": "stdout",
     "output_type": "stream",
     "text": [
      "API key 1 rate limited. Waiting 0 seconds.\n"
     ]
    },
    {
     "name": "stderr",
     "output_type": "stream",
     "text": [
      "Processing tweet batches:  32%|███▏      | 2239/7043 [1:18:51<2:44:30,  2.05s/it]"
     ]
    },
    {
     "name": "stdout",
     "output_type": "stream",
     "text": [
      "API key 2 rate limited. Waiting 0 seconds.\n"
     ]
    },
    {
     "name": "stderr",
     "output_type": "stream",
     "text": [
      "Processing tweet batches:  32%|███▏      | 2240/7043 [1:18:53<2:45:33,  2.07s/it]"
     ]
    },
    {
     "name": "stdout",
     "output_type": "stream",
     "text": [
      "API key 2 rate limited. Waiting 0 seconds.\n",
      "API key 1 rate limited. Waiting 0 seconds.\n",
      "API key 1 rate limited. Waiting 0 seconds.\n",
      "API key 1 rate limited. Waiting 0 seconds.\n"
     ]
    },
    {
     "name": "stderr",
     "output_type": "stream",
     "text": [
      "Processing tweet batches:  32%|███▏      | 2241/7043 [1:18:55<2:44:55,  2.06s/it]"
     ]
    },
    {
     "name": "stdout",
     "output_type": "stream",
     "text": [
      "API key 2 rate limited. Waiting 0 seconds.\n"
     ]
    },
    {
     "name": "stderr",
     "output_type": "stream",
     "text": [
      "Processing tweet batches:  32%|███▏      | 2242/7043 [1:18:57<2:34:56,  1.94s/it]"
     ]
    },
    {
     "name": "stdout",
     "output_type": "stream",
     "text": [
      "API key 2 rate limited. Waiting 0 seconds.\n",
      "API key 1 rate limited. Waiting 0 seconds.\n",
      "API key 2 rate limited. Waiting 0 seconds.\n",
      "API key 1 rate limited. Waiting 0 seconds.\n",
      "API key 1 rate limited. Waiting 0 seconds.\n"
     ]
    },
    {
     "name": "stderr",
     "output_type": "stream",
     "text": [
      "Processing tweet batches:  32%|███▏      | 2243/7043 [1:18:59<2:47:04,  2.09s/it]"
     ]
    },
    {
     "name": "stdout",
     "output_type": "stream",
     "text": [
      "API key 2 rate limited. Waiting 0 seconds.\n"
     ]
    },
    {
     "name": "stderr",
     "output_type": "stream",
     "text": [
      "Processing tweet batches:  32%|███▏      | 2244/7043 [1:19:01<2:42:43,  2.03s/it]"
     ]
    },
    {
     "name": "stdout",
     "output_type": "stream",
     "text": [
      "API key 2 rate limited. Waiting 0 seconds.\n",
      "API key 2 rate limited. Waiting 0 seconds.\n",
      "API key 2 rate limited. Waiting 0 seconds.\n"
     ]
    },
    {
     "name": "stderr",
     "output_type": "stream",
     "text": [
      "Processing tweet batches:  32%|███▏      | 2246/7043 [1:19:05<2:39:04,  1.99s/it]"
     ]
    },
    {
     "name": "stdout",
     "output_type": "stream",
     "text": [
      "API key 1 rate limited. Waiting 0 seconds.\n"
     ]
    },
    {
     "name": "stderr",
     "output_type": "stream",
     "text": [
      "Processing tweet batches:  32%|███▏      | 2247/7043 [1:19:07<2:35:43,  1.95s/it]"
     ]
    },
    {
     "name": "stdout",
     "output_type": "stream",
     "text": [
      "API key 1 rate limited. Waiting 0 seconds.API key 2 rate limited. Waiting 0 seconds.\n",
      "\n",
      "API key 1 rate limited. Waiting 0 seconds.\n",
      "API key 2 rate limited. Waiting 0 seconds.\n"
     ]
    },
    {
     "name": "stderr",
     "output_type": "stream",
     "text": [
      "Processing tweet batches:  32%|███▏      | 2248/7043 [1:19:10<2:51:14,  2.14s/it]"
     ]
    },
    {
     "name": "stdout",
     "output_type": "stream",
     "text": [
      "API key 2 rate limited. Waiting 0 seconds.\n",
      "API key 2 rate limited. Waiting 0 seconds.\n"
     ]
    },
    {
     "name": "stderr",
     "output_type": "stream",
     "text": [
      "Processing tweet batches:  32%|███▏      | 2249/7043 [1:19:12<2:54:09,  2.18s/it]"
     ]
    },
    {
     "name": "stdout",
     "output_type": "stream",
     "text": [
      "\n",
      "Saved 9000 processed tweets to ../data/labeled_stock_tweets_partial.csv\n"
     ]
    },
    {
     "name": "stderr",
     "output_type": "stream",
     "text": [
      "Processing tweet batches:  32%|███▏      | 2251/7043 [1:19:17<3:20:47,  2.51s/it]"
     ]
    },
    {
     "name": "stdout",
     "output_type": "stream",
     "text": [
      "API key 2 rate limited. Waiting 0 seconds.\n"
     ]
    },
    {
     "name": "stderr",
     "output_type": "stream",
     "text": [
      "Processing tweet batches:  32%|███▏      | 2253/7043 [1:19:22<3:02:46,  2.29s/it]"
     ]
    },
    {
     "name": "stdout",
     "output_type": "stream",
     "text": [
      "API key 1 rate limited. Waiting 0 seconds.\n"
     ]
    },
    {
     "name": "stderr",
     "output_type": "stream",
     "text": [
      "Processing tweet batches:  32%|███▏      | 2254/7043 [1:19:26<4:02:31,  3.04s/it]"
     ]
    },
    {
     "name": "stdout",
     "output_type": "stream",
     "text": [
      "API key 2 rate limited. Waiting 0 seconds.\n",
      "API key 2 rate limited. Waiting 0 seconds.\n",
      "API key 2 rate limited. Waiting 0 seconds.\n"
     ]
    },
    {
     "name": "stderr",
     "output_type": "stream",
     "text": [
      "Processing tweet batches:  32%|███▏      | 2256/7043 [1:19:30<3:10:59,  2.39s/it]"
     ]
    },
    {
     "name": "stdout",
     "output_type": "stream",
     "text": [
      "API key 2 rate limited. Waiting 0 seconds.\n"
     ]
    },
    {
     "name": "stderr",
     "output_type": "stream",
     "text": [
      "Processing tweet batches:  32%|███▏      | 2258/7043 [1:19:33<2:37:09,  1.97s/it]"
     ]
    },
    {
     "name": "stdout",
     "output_type": "stream",
     "text": [
      "API key 1 rate limited. Waiting 0 seconds.\n",
      "API key 1 rate limited. Waiting 0 seconds.\n",
      "API key 2 rate limited. Waiting 0 seconds.\n",
      "API key 1 rate limited. Waiting 0 seconds.\n",
      "API key 2 rate limited. Waiting 0 seconds.\n"
     ]
    },
    {
     "name": "stderr",
     "output_type": "stream",
     "text": [
      "Processing tweet batches:  32%|███▏      | 2259/7043 [1:19:35<2:40:50,  2.02s/it]"
     ]
    },
    {
     "name": "stdout",
     "output_type": "stream",
     "text": [
      "API key 2 rate limited. Waiting 0 seconds.\n"
     ]
    },
    {
     "name": "stderr",
     "output_type": "stream",
     "text": [
      "Processing tweet batches:  32%|███▏      | 2260/7043 [1:19:37<2:30:58,  1.89s/it]"
     ]
    },
    {
     "name": "stdout",
     "output_type": "stream",
     "text": [
      "API key 2 rate limited. Waiting 0 seconds.\n",
      "API key 2 rate limited. Waiting 0 seconds.\n"
     ]
    },
    {
     "name": "stderr",
     "output_type": "stream",
     "text": [
      "Processing tweet batches:  32%|███▏      | 2261/7043 [1:19:39<2:34:06,  1.93s/it]"
     ]
    },
    {
     "name": "stdout",
     "output_type": "stream",
     "text": [
      "API key 1 rate limited. Waiting 0 seconds.\n"
     ]
    },
    {
     "name": "stderr",
     "output_type": "stream",
     "text": [
      "Processing tweet batches:  32%|███▏      | 2263/7043 [1:19:43<2:30:50,  1.89s/it]"
     ]
    },
    {
     "name": "stdout",
     "output_type": "stream",
     "text": [
      "API key 2 rate limited. Waiting 0 seconds.\n",
      "API key 1 rate limited. Waiting 0 seconds.\n"
     ]
    },
    {
     "name": "stderr",
     "output_type": "stream",
     "text": [
      "Processing tweet batches:  32%|███▏      | 2264/7043 [1:19:45<2:39:03,  2.00s/it]"
     ]
    },
    {
     "name": "stdout",
     "output_type": "stream",
     "text": [
      "API key 2 rate limited. Waiting 0 seconds.\n"
     ]
    },
    {
     "name": "stderr",
     "output_type": "stream",
     "text": [
      "Processing tweet batches:  32%|███▏      | 2265/7043 [1:19:47<2:36:27,  1.96s/it]"
     ]
    },
    {
     "name": "stdout",
     "output_type": "stream",
     "text": [
      "API key 1 rate limited. Waiting 0 seconds.\n",
      "API key 2 rate limited. Waiting 0 seconds.\n"
     ]
    },
    {
     "name": "stderr",
     "output_type": "stream",
     "text": [
      "Processing tweet batches:  32%|███▏      | 2266/7043 [1:20:02<8:06:12,  6.11s/it]"
     ]
    },
    {
     "name": "stdout",
     "output_type": "stream",
     "text": [
      "API key 1 rate limited. Waiting 0 seconds.\n",
      "API key 1 rate limited. Waiting 0 seconds.\n",
      "API key 1 rate limited. Waiting 0 seconds.\n"
     ]
    },
    {
     "name": "stderr",
     "output_type": "stream",
     "text": [
      "Processing tweet batches:  32%|███▏      | 2267/7043 [1:20:04<6:21:35,  4.79s/it]"
     ]
    },
    {
     "name": "stdout",
     "output_type": "stream",
     "text": [
      "API key 1 rate limited. Waiting 0 seconds.\n",
      "API key 1 rate limited. Waiting 0 seconds.\n",
      "API key 1 rate limited. Waiting 0 seconds.\n"
     ]
    },
    {
     "name": "stderr",
     "output_type": "stream",
     "text": [
      "Processing tweet batches:  32%|███▏      | 2268/7043 [1:20:06<5:16:34,  3.98s/it]"
     ]
    },
    {
     "name": "stdout",
     "output_type": "stream",
     "text": [
      "API key 1 rate limited. Waiting 0 seconds.\n"
     ]
    },
    {
     "name": "stderr",
     "output_type": "stream",
     "text": [
      "Processing tweet batches:  32%|███▏      | 2269/7043 [1:20:08<4:31:33,  3.41s/it]"
     ]
    },
    {
     "name": "stdout",
     "output_type": "stream",
     "text": [
      "API key 2 rate limited. Waiting 0 seconds.\n",
      "API key 1 rate limited. Waiting 0 seconds.\n"
     ]
    },
    {
     "name": "stderr",
     "output_type": "stream",
     "text": [
      "Processing tweet batches:  32%|███▏      | 2270/7043 [1:20:10<3:48:34,  2.87s/it]"
     ]
    },
    {
     "name": "stdout",
     "output_type": "stream",
     "text": [
      "API key 1 rate limited. Waiting 0 seconds.API key 2 rate limited. Waiting 0 seconds.\n",
      "\n",
      "API key 2 rate limited. Waiting 0 seconds.\n"
     ]
    },
    {
     "name": "stderr",
     "output_type": "stream",
     "text": [
      "Processing tweet batches:  32%|███▏      | 2271/7043 [1:20:12<3:35:12,  2.71s/it]"
     ]
    },
    {
     "name": "stdout",
     "output_type": "stream",
     "text": [
      "API key 1 rate limited. Waiting 0 seconds.\n",
      "API key 1 rate limited. Waiting 0 seconds.\n",
      "API key 1 rate limited. Waiting 0 seconds.\n"
     ]
    },
    {
     "name": "stderr",
     "output_type": "stream",
     "text": [
      "Processing tweet batches:  32%|███▏      | 2273/7043 [1:20:16<3:04:45,  2.32s/it]"
     ]
    },
    {
     "name": "stdout",
     "output_type": "stream",
     "text": [
      "API key 1 rate limited. Waiting 0 seconds.\n"
     ]
    },
    {
     "name": "stderr",
     "output_type": "stream",
     "text": [
      "Processing tweet batches:  32%|███▏      | 2274/7043 [1:20:19<3:09:13,  2.38s/it]"
     ]
    },
    {
     "name": "stdout",
     "output_type": "stream",
     "text": [
      "API key 2 rate limited. Waiting 0 seconds.\n",
      "API key 1 rate limited. Waiting 0 seconds.\n",
      "\n",
      "Saved 9100 processed tweets to ../data/labeled_stock_tweets_partial.csv\n"
     ]
    },
    {
     "name": "stderr",
     "output_type": "stream",
     "text": [
      "Processing tweet batches:  32%|███▏      | 2275/7043 [1:20:21<3:03:10,  2.31s/it]"
     ]
    },
    {
     "name": "stdout",
     "output_type": "stream",
     "text": [
      "API key 1 rate limited. Waiting 0 seconds.\n",
      "API key 1 rate limited. Waiting 0 seconds.\n"
     ]
    },
    {
     "name": "stderr",
     "output_type": "stream",
     "text": [
      "Processing tweet batches:  32%|███▏      | 2276/7043 [1:20:23<3:02:37,  2.30s/it]"
     ]
    },
    {
     "name": "stdout",
     "output_type": "stream",
     "text": [
      "API key 1 rate limited. Waiting 0 seconds.\n",
      "API key 1 rate limited. Waiting 0 seconds.\n",
      "API key 1 rate limited. Waiting 0 seconds.\n"
     ]
    },
    {
     "name": "stderr",
     "output_type": "stream",
     "text": [
      "Processing tweet batches:  32%|███▏      | 2277/7043 [1:20:26<3:07:02,  2.35s/it]"
     ]
    },
    {
     "name": "stdout",
     "output_type": "stream",
     "text": [
      "API key 1 rate limited. Waiting 0 seconds.\n"
     ]
    },
    {
     "name": "stderr",
     "output_type": "stream",
     "text": [
      "Processing tweet batches:  32%|███▏      | 2278/7043 [1:20:27<2:47:43,  2.11s/it]"
     ]
    },
    {
     "name": "stdout",
     "output_type": "stream",
     "text": [
      "API key 1 rate limited. Waiting 0 seconds.\n",
      "API key 2 rate limited. Waiting 0 seconds.\n"
     ]
    },
    {
     "name": "stderr",
     "output_type": "stream",
     "text": [
      "Processing tweet batches:  32%|███▏      | 2281/7043 [1:20:32<2:31:46,  1.91s/it]"
     ]
    },
    {
     "name": "stdout",
     "output_type": "stream",
     "text": [
      "API key 2 rate limited. Waiting 0 seconds.\n",
      "API key 1 rate limited. Waiting 0 seconds.\n",
      "API key 1 rate limited. Waiting 0 seconds.\n",
      "API key 1 rate limited. Waiting 0 seconds.\n"
     ]
    },
    {
     "name": "stderr",
     "output_type": "stream",
     "text": [
      "Processing tweet batches:  32%|███▏      | 2283/7043 [1:20:37<2:44:01,  2.07s/it]"
     ]
    },
    {
     "name": "stdout",
     "output_type": "stream",
     "text": [
      "API key 2 rate limited. Waiting 0 seconds.\n"
     ]
    },
    {
     "name": "stderr",
     "output_type": "stream",
     "text": [
      "Processing tweet batches:  32%|███▏      | 2284/7043 [1:20:39<2:33:50,  1.94s/it]"
     ]
    },
    {
     "name": "stdout",
     "output_type": "stream",
     "text": [
      "API key 2 rate limited. Waiting 0 seconds.\n"
     ]
    },
    {
     "name": "stderr",
     "output_type": "stream",
     "text": [
      "Processing tweet batches:  32%|███▏      | 2285/7043 [1:20:41<2:36:16,  1.97s/it]"
     ]
    },
    {
     "name": "stdout",
     "output_type": "stream",
     "text": [
      "API key 1 rate limited. Waiting 0 seconds.\n"
     ]
    },
    {
     "name": "stderr",
     "output_type": "stream",
     "text": [
      "Processing tweet batches:  32%|███▏      | 2286/7043 [1:20:42<2:30:16,  1.90s/it]"
     ]
    },
    {
     "name": "stdout",
     "output_type": "stream",
     "text": [
      "API key 2 rate limited. Waiting 0 seconds.\n",
      "API key 2 rate limited. Waiting 0 seconds.\n"
     ]
    },
    {
     "name": "stderr",
     "output_type": "stream",
     "text": [
      "Processing tweet batches:  32%|███▏      | 2287/7043 [1:20:44<2:28:05,  1.87s/it]"
     ]
    },
    {
     "name": "stdout",
     "output_type": "stream",
     "text": [
      "API key 1 rate limited. Waiting 0 seconds.\n",
      "API key 2 rate limited. Waiting 0 seconds.\n",
      "API key 1 rate limited. Waiting 0 seconds.\n"
     ]
    },
    {
     "name": "stderr",
     "output_type": "stream",
     "text": [
      "Processing tweet batches:  32%|███▏      | 2288/7043 [1:20:46<2:28:50,  1.88s/it]"
     ]
    },
    {
     "name": "stdout",
     "output_type": "stream",
     "text": [
      "API key 1 rate limited. Waiting 0 seconds.\n",
      "API key 1 rate limited. Waiting 0 seconds.\n",
      "API key 1 rate limited. Waiting 0 seconds.\n"
     ]
    },
    {
     "name": "stderr",
     "output_type": "stream",
     "text": [
      "Processing tweet batches:  33%|███▎      | 2290/7043 [1:20:50<2:22:20,  1.80s/it]"
     ]
    },
    {
     "name": "stdout",
     "output_type": "stream",
     "text": [
      "API key 2 rate limited. Waiting 0 seconds.\n",
      "API key 1 rate limited. Waiting 0 seconds.\n"
     ]
    },
    {
     "name": "stderr",
     "output_type": "stream",
     "text": [
      "Processing tweet batches:  33%|███▎      | 2291/7043 [1:20:52<2:27:17,  1.86s/it]"
     ]
    },
    {
     "name": "stdout",
     "output_type": "stream",
     "text": [
      "API key 1 rate limited. Waiting 0 seconds.\n"
     ]
    },
    {
     "name": "stderr",
     "output_type": "stream",
     "text": [
      "Processing tweet batches:  33%|███▎      | 2292/7043 [1:20:54<2:32:51,  1.93s/it]"
     ]
    },
    {
     "name": "stdout",
     "output_type": "stream",
     "text": [
      "API key 1 rate limited. Waiting 0 seconds.\n",
      "API key 2 rate limited. Waiting 0 seconds.\n",
      "API key 1 rate limited. Waiting 0 seconds.\n",
      "API key 2 rate limited. Waiting 0 seconds.\n",
      "API key 2 rate limited. Waiting 0 seconds.\n"
     ]
    },
    {
     "name": "stderr",
     "output_type": "stream",
     "text": [
      "Processing tweet batches:  33%|███▎      | 2295/7043 [1:20:59<2:14:01,  1.69s/it]"
     ]
    },
    {
     "name": "stdout",
     "output_type": "stream",
     "text": [
      "API key 2 rate limited. Waiting 0 seconds.\n",
      "API key 1 rate limited. Waiting 0 seconds.\n",
      "API key 2 rate limited. Waiting 0 seconds.\n",
      "API key 1 rate limited. Waiting 0 seconds.\n"
     ]
    },
    {
     "name": "stderr",
     "output_type": "stream",
     "text": [
      "Processing tweet batches:  33%|███▎      | 2297/7043 [1:21:06<3:23:18,  2.57s/it]"
     ]
    },
    {
     "name": "stdout",
     "output_type": "stream",
     "text": [
      "API key 1 rate limited. Waiting 0 seconds.\n"
     ]
    },
    {
     "name": "stderr",
     "output_type": "stream",
     "text": [
      "Processing tweet batches:  33%|███▎      | 2298/7043 [1:21:08<3:08:45,  2.39s/it]"
     ]
    },
    {
     "name": "stdout",
     "output_type": "stream",
     "text": [
      "API key 1 rate limited. Waiting 0 seconds.\n",
      "API key 2 rate limited. Waiting 0 seconds.\n"
     ]
    },
    {
     "name": "stderr",
     "output_type": "stream",
     "text": [
      "Processing tweet batches:  33%|███▎      | 2299/7043 [1:21:10<3:00:06,  2.28s/it]"
     ]
    },
    {
     "name": "stdout",
     "output_type": "stream",
     "text": [
      "\n",
      "Saved 9200 processed tweets to ../data/labeled_stock_tweets_partial.csv\n"
     ]
    },
    {
     "name": "stderr",
     "output_type": "stream",
     "text": [
      "Processing tweet batches:  33%|███▎      | 2301/7043 [1:21:13<2:38:55,  2.01s/it]"
     ]
    },
    {
     "name": "stdout",
     "output_type": "stream",
     "text": [
      "API key 1 rate limited. Waiting 0 seconds.\n"
     ]
    },
    {
     "name": "stderr",
     "output_type": "stream",
     "text": [
      "Processing tweet batches:  33%|███▎      | 2302/7043 [1:21:15<2:35:14,  1.96s/it]"
     ]
    },
    {
     "name": "stdout",
     "output_type": "stream",
     "text": [
      "API key 1 rate limited. Waiting 0 seconds.\n",
      "API key 1 rate limited. Waiting 0 seconds.\n",
      "API key 1 rate limited. Waiting 0 seconds.\n",
      "API key 1 rate limited. Waiting 0 seconds.\n"
     ]
    },
    {
     "name": "stderr",
     "output_type": "stream",
     "text": [
      "Processing tweet batches:  33%|███▎      | 2303/7043 [1:21:17<2:46:48,  2.11s/it]"
     ]
    },
    {
     "name": "stdout",
     "output_type": "stream",
     "text": [
      "API key 2 rate limited. Waiting 0 seconds.\n"
     ]
    },
    {
     "name": "stderr",
     "output_type": "stream",
     "text": [
      "Processing tweet batches:  33%|███▎      | 2304/7043 [1:21:19<2:36:14,  1.98s/it]"
     ]
    },
    {
     "name": "stdout",
     "output_type": "stream",
     "text": [
      "API key 2 rate limited. Waiting 0 seconds.API key 1 rate limited. Waiting 0 seconds.\n",
      "\n",
      "API key 1 rate limited. Waiting 0 seconds.\n",
      "API key 1 rate limited. Waiting 0 seconds.\n"
     ]
    },
    {
     "name": "stderr",
     "output_type": "stream",
     "text": [
      "Processing tweet batches:  33%|███▎      | 2305/7043 [1:21:21<2:32:08,  1.93s/it]"
     ]
    },
    {
     "name": "stdout",
     "output_type": "stream",
     "text": [
      "API key 1 rate limited. Waiting 0 seconds.\n",
      "API key 1 rate limited. Waiting 0 seconds.\n"
     ]
    },
    {
     "name": "stderr",
     "output_type": "stream",
     "text": [
      "Processing tweet batches:  33%|███▎      | 2307/7043 [1:21:25<2:26:31,  1.86s/it]"
     ]
    },
    {
     "name": "stdout",
     "output_type": "stream",
     "text": [
      "API key 1 rate limited. Waiting 0 seconds.\n"
     ]
    },
    {
     "name": "stderr",
     "output_type": "stream",
     "text": [
      "Processing tweet batches:  33%|███▎      | 2308/7043 [1:21:27<2:30:29,  1.91s/it]"
     ]
    },
    {
     "name": "stdout",
     "output_type": "stream",
     "text": [
      "API key 1 rate limited. Waiting 0 seconds.\n",
      "API key 1 rate limited. Waiting 0 seconds.\n"
     ]
    },
    {
     "name": "stderr",
     "output_type": "stream",
     "text": [
      "Processing tweet batches:  33%|███▎      | 2309/7043 [1:21:29<2:32:57,  1.94s/it]"
     ]
    },
    {
     "name": "stdout",
     "output_type": "stream",
     "text": [
      "API key 2 rate limited. Waiting 0 seconds.\n",
      "API key 2 rate limited. Waiting 0 seconds.\n",
      "API key 2 rate limited. Waiting 0 seconds.\n",
      "API key 2 rate limited. Waiting 0 seconds.\n"
     ]
    },
    {
     "name": "stderr",
     "output_type": "stream",
     "text": [
      "Processing tweet batches:  33%|███▎      | 2310/7043 [1:21:31<2:38:17,  2.01s/it]"
     ]
    },
    {
     "name": "stdout",
     "output_type": "stream",
     "text": [
      "API key 2 rate limited. Waiting 0 seconds.\n",
      "API key 2 rate limited. Waiting 0 seconds.\n"
     ]
    },
    {
     "name": "stderr",
     "output_type": "stream",
     "text": [
      "Processing tweet batches:  33%|███▎      | 2311/7043 [1:21:33<2:34:16,  1.96s/it]"
     ]
    },
    {
     "name": "stdout",
     "output_type": "stream",
     "text": [
      "API key 2 rate limited. Waiting 0 seconds.\n",
      "API key 2 rate limited. Waiting 0 seconds.\n",
      "API key 2 rate limited. Waiting 0 seconds.\n"
     ]
    },
    {
     "name": "stderr",
     "output_type": "stream",
     "text": [
      "Processing tweet batches:  33%|███▎      | 2312/7043 [1:21:34<2:28:23,  1.88s/it]"
     ]
    },
    {
     "name": "stdout",
     "output_type": "stream",
     "text": [
      "API key 2 rate limited. Waiting 0 seconds.\n"
     ]
    },
    {
     "name": "stderr",
     "output_type": "stream",
     "text": [
      "Processing tweet batches:  33%|███▎      | 2314/7043 [1:21:38<2:16:22,  1.73s/it]"
     ]
    },
    {
     "name": "stdout",
     "output_type": "stream",
     "text": [
      "API key 2 rate limited. Waiting 0 seconds.\n",
      "API key 2 rate limited. Waiting 0 seconds.\n"
     ]
    },
    {
     "name": "stderr",
     "output_type": "stream",
     "text": [
      "Processing tweet batches:  33%|███▎      | 2316/7043 [1:21:42<2:29:23,  1.90s/it]"
     ]
    },
    {
     "name": "stdout",
     "output_type": "stream",
     "text": [
      "API key 1 rate limited. Waiting 0 seconds.\n"
     ]
    },
    {
     "name": "stderr",
     "output_type": "stream",
     "text": [
      "Processing tweet batches:  33%|███▎      | 2317/7043 [1:21:44<2:37:32,  2.00s/it]"
     ]
    },
    {
     "name": "stdout",
     "output_type": "stream",
     "text": [
      "API key 1 rate limited. Waiting 0 seconds.\n",
      "API key 2 rate limited. Waiting 0 seconds.API key 1 rate limited. Waiting 0 seconds.\n",
      "\n"
     ]
    },
    {
     "name": "stderr",
     "output_type": "stream",
     "text": [
      "Processing tweet batches:  33%|███▎      | 2318/7043 [1:21:46<2:44:26,  2.09s/it]"
     ]
    },
    {
     "name": "stdout",
     "output_type": "stream",
     "text": [
      "API key 2 rate limited. Waiting 0 seconds.\n",
      "API key 2 rate limited. Waiting 0 seconds.\n"
     ]
    },
    {
     "name": "stderr",
     "output_type": "stream",
     "text": [
      "Processing tweet batches:  33%|███▎      | 2319/7043 [1:21:49<2:45:45,  2.11s/it]"
     ]
    },
    {
     "name": "stdout",
     "output_type": "stream",
     "text": [
      "API key 2 rate limited. Waiting 0 seconds.API key 1 rate limited. Waiting 0 seconds.\n",
      "\n",
      "API key 2 rate limited. Waiting 0 seconds.\n",
      "API key 2 rate limited. Waiting 0 seconds.\n"
     ]
    },
    {
     "name": "stderr",
     "output_type": "stream",
     "text": [
      "Processing tweet batches:  33%|███▎      | 2320/7043 [1:21:51<2:55:11,  2.23s/it]"
     ]
    },
    {
     "name": "stdout",
     "output_type": "stream",
     "text": [
      "API key 2 rate limited. Waiting 0 seconds.\n"
     ]
    },
    {
     "name": "stderr",
     "output_type": "stream",
     "text": [
      "Processing tweet batches:  33%|███▎      | 2321/7043 [1:21:53<2:51:32,  2.18s/it]"
     ]
    },
    {
     "name": "stdout",
     "output_type": "stream",
     "text": [
      "API key 2 rate limited. Waiting 0 seconds.\n",
      "API key 2 rate limited. Waiting 0 seconds.\n",
      "API key 1 rate limited. Waiting 0 seconds.\n",
      "API key 2 rate limited. Waiting 0 seconds.\n"
     ]
    },
    {
     "name": "stderr",
     "output_type": "stream",
     "text": [
      "Processing tweet batches:  33%|███▎      | 2323/7043 [1:21:56<2:27:56,  1.88s/it]"
     ]
    },
    {
     "name": "stdout",
     "output_type": "stream",
     "text": [
      "API key 1 rate limited. Waiting 0 seconds.API key 2 rate limited. Waiting 0 seconds.\n",
      "\n",
      "API key 2 rate limited. Waiting 0 seconds.\n",
      "API key 2 rate limited. Waiting 0 seconds.\n",
      "API key 2 rate limited. Waiting 0 seconds.\n"
     ]
    },
    {
     "name": "stderr",
     "output_type": "stream",
     "text": [
      "Processing tweet batches:  33%|███▎      | 2324/7043 [1:21:59<2:50:27,  2.17s/it]"
     ]
    },
    {
     "name": "stdout",
     "output_type": "stream",
     "text": [
      "API key 2 rate limited. Waiting 0 seconds.API key 1 rate limited. Waiting 0 seconds.\n",
      "\n",
      "\n",
      "Saved 9300 processed tweets to ../data/labeled_stock_tweets_partial.csv\n"
     ]
    },
    {
     "name": "stderr",
     "output_type": "stream",
     "text": [
      "Processing tweet batches:  33%|███▎      | 2325/7043 [1:22:01<2:44:58,  2.10s/it]"
     ]
    },
    {
     "name": "stdout",
     "output_type": "stream",
     "text": [
      "API key 1 rate limited. Waiting 0 seconds.\n"
     ]
    },
    {
     "name": "stderr",
     "output_type": "stream",
     "text": [
      "Processing tweet batches:  33%|███▎      | 2327/7043 [1:22:05<2:38:51,  2.02s/it]"
     ]
    },
    {
     "name": "stdout",
     "output_type": "stream",
     "text": [
      "API key 2 rate limited. Waiting 0 seconds.\n",
      "API key 1 rate limited. Waiting 0 seconds.\n"
     ]
    },
    {
     "name": "stderr",
     "output_type": "stream",
     "text": [
      "Processing tweet batches:  33%|███▎      | 2328/7043 [1:22:07<2:44:30,  2.09s/it]"
     ]
    },
    {
     "name": "stdout",
     "output_type": "stream",
     "text": [
      "API key 2 rate limited. Waiting 0 seconds.\n"
     ]
    },
    {
     "name": "stderr",
     "output_type": "stream",
     "text": [
      "Processing tweet batches:  33%|███▎      | 2329/7043 [1:22:09<2:36:06,  1.99s/it]"
     ]
    },
    {
     "name": "stdout",
     "output_type": "stream",
     "text": [
      "API key 1 rate limited. Waiting 0 seconds.API key 2 rate limited. Waiting 0 seconds.\n",
      "\n",
      "API key 2 rate limited. Waiting 0 seconds.API key 1 rate limited. Waiting 0 seconds.\n",
      "\n",
      "API key 1 rate limited. Waiting 0 seconds.API key 2 rate limited. Waiting 0 seconds.\n",
      "\n"
     ]
    },
    {
     "name": "stderr",
     "output_type": "stream",
     "text": [
      "Processing tweet batches:  33%|███▎      | 2330/7043 [1:22:12<2:44:48,  2.10s/it]"
     ]
    },
    {
     "name": "stdout",
     "output_type": "stream",
     "text": [
      "API key 1 rate limited. Waiting 0 seconds.\n"
     ]
    },
    {
     "name": "stderr",
     "output_type": "stream",
     "text": [
      "Processing tweet batches:  33%|███▎      | 2331/7043 [1:22:13<2:32:16,  1.94s/it]"
     ]
    },
    {
     "name": "stdout",
     "output_type": "stream",
     "text": [
      "API key 1 rate limited. Waiting 0 seconds.\n",
      "API key 1 rate limited. Waiting 0 seconds.\n",
      "API key 1 rate limited. Waiting 0 seconds.\n"
     ]
    },
    {
     "name": "stderr",
     "output_type": "stream",
     "text": [
      "Processing tweet batches:  33%|███▎      | 2333/7043 [1:22:17<2:29:19,  1.90s/it]"
     ]
    },
    {
     "name": "stdout",
     "output_type": "stream",
     "text": [
      "API key 2 rate limited. Waiting 0 seconds.\n"
     ]
    },
    {
     "name": "stderr",
     "output_type": "stream",
     "text": [
      "Processing tweet batches:  33%|███▎      | 2334/7043 [1:22:19<2:28:15,  1.89s/it]"
     ]
    },
    {
     "name": "stdout",
     "output_type": "stream",
     "text": [
      "API key 1 rate limited. Waiting 0 seconds.\n"
     ]
    },
    {
     "name": "stderr",
     "output_type": "stream",
     "text": [
      "Processing tweet batches:  33%|███▎      | 2335/7043 [1:22:21<2:32:07,  1.94s/it]"
     ]
    },
    {
     "name": "stdout",
     "output_type": "stream",
     "text": [
      "API key 1 rate limited. Waiting 0 seconds.\n",
      "API key 2 rate limited. Waiting 0 seconds.\n",
      "API key 1 rate limited. Waiting 0 seconds.\n",
      "API key 2 rate limited. Waiting 0 seconds.\n",
      "API key 1 rate limited. Waiting 0 seconds.\n"
     ]
    },
    {
     "name": "stderr",
     "output_type": "stream",
     "text": [
      "Processing tweet batches:  33%|███▎      | 2336/7043 [1:22:27<4:13:05,  3.23s/it]"
     ]
    },
    {
     "name": "stdout",
     "output_type": "stream",
     "text": [
      "API key 2 rate limited. Waiting 0 seconds.\n",
      "API key 2 rate limited. Waiting 0 seconds.\n"
     ]
    },
    {
     "name": "stderr",
     "output_type": "stream",
     "text": [
      "Processing tweet batches:  33%|███▎      | 2337/7043 [1:22:29<3:47:50,  2.90s/it]"
     ]
    },
    {
     "name": "stdout",
     "output_type": "stream",
     "text": [
      "API key 2 rate limited. Waiting 0 seconds.\n",
      "API key 2 rate limited. Waiting 0 seconds.\n"
     ]
    },
    {
     "name": "stderr",
     "output_type": "stream",
     "text": [
      "Processing tweet batches:  33%|███▎      | 2338/7043 [1:22:31<3:21:31,  2.57s/it]"
     ]
    },
    {
     "name": "stdout",
     "output_type": "stream",
     "text": [
      "API key 1 rate limited. Waiting 0 seconds.\n",
      "API key 2 rate limited. Waiting 0 seconds.\n",
      "API key 1 rate limited. Waiting 0 seconds.\n",
      "API key 2 rate limited. Waiting 0 seconds.\n",
      "API key 1 rate limited. Waiting 0 seconds.\n",
      "API key 2 rate limited. Waiting 0 seconds.\n"
     ]
    },
    {
     "name": "stderr",
     "output_type": "stream",
     "text": [
      "Processing tweet batches:  33%|███▎      | 2339/7043 [1:22:33<3:16:35,  2.51s/it]"
     ]
    },
    {
     "name": "stdout",
     "output_type": "stream",
     "text": [
      "API key 2 rate limited. Waiting 0 seconds.\n",
      "API key 2 rate limited. Waiting 0 seconds.\n",
      "API key 2 rate limited. Waiting 0 seconds.\n",
      "API key 1 rate limited. Waiting 0 seconds.\n",
      "API key 1 rate limited. Waiting 0 seconds.\n",
      "API key 1 rate limited. Waiting 0 seconds.\n"
     ]
    },
    {
     "name": "stderr",
     "output_type": "stream",
     "text": [
      "Processing tweet batches:  33%|███▎      | 2341/7043 [1:22:37<2:46:49,  2.13s/it]"
     ]
    },
    {
     "name": "stdout",
     "output_type": "stream",
     "text": [
      "API key 2 rate limited. Waiting 0 seconds.\n"
     ]
    },
    {
     "name": "stderr",
     "output_type": "stream",
     "text": [
      "Processing tweet batches:  33%|███▎      | 2342/7043 [1:22:39<2:44:33,  2.10s/it]"
     ]
    },
    {
     "name": "stdout",
     "output_type": "stream",
     "text": [
      "API key 2 rate limited. Waiting 0 seconds.API key 1 rate limited. Waiting 0 seconds.\n",
      "\n"
     ]
    },
    {
     "name": "stderr",
     "output_type": "stream",
     "text": [
      "Processing tweet batches:  33%|███▎      | 2343/7043 [1:22:41<2:40:52,  2.05s/it]"
     ]
    },
    {
     "name": "stdout",
     "output_type": "stream",
     "text": [
      "API key 2 rate limited. Waiting 0 seconds.\n",
      "API key 2 rate limited. Waiting 0 seconds.\n",
      "API key 2 rate limited. Waiting 0 seconds.\n"
     ]
    },
    {
     "name": "stderr",
     "output_type": "stream",
     "text": [
      "Processing tweet batches:  33%|███▎      | 2344/7043 [1:22:43<2:32:28,  1.95s/it]"
     ]
    },
    {
     "name": "stdout",
     "output_type": "stream",
     "text": [
      "API key 1 rate limited. Waiting 0 seconds.\n",
      "API key 1 rate limited. Waiting 0 seconds.\n",
      "API key 1 rate limited. Waiting 0 seconds.\n"
     ]
    },
    {
     "name": "stderr",
     "output_type": "stream",
     "text": [
      "Processing tweet batches:  33%|███▎      | 2345/7043 [1:22:45<2:40:04,  2.04s/it]"
     ]
    },
    {
     "name": "stdout",
     "output_type": "stream",
     "text": [
      "API key 2 rate limited. Waiting 0 seconds.\n",
      "API key 1 rate limited. Waiting 0 seconds.\n",
      "API key 1 rate limited. Waiting 0 seconds.\n",
      "API key 1 rate limited. Waiting 0 seconds.\n"
     ]
    },
    {
     "name": "stderr",
     "output_type": "stream",
     "text": [
      "Processing tweet batches:  33%|███▎      | 2347/7043 [1:22:53<3:38:33,  2.79s/it]"
     ]
    },
    {
     "name": "stdout",
     "output_type": "stream",
     "text": [
      "API key 2 rate limited. Waiting 0 seconds.API key 1 rate limited. Waiting 0 seconds.\n",
      "\n"
     ]
    },
    {
     "name": "stderr",
     "output_type": "stream",
     "text": [
      "Processing tweet batches:  33%|███▎      | 2348/7043 [1:22:55<3:17:21,  2.52s/it]"
     ]
    },
    {
     "name": "stdout",
     "output_type": "stream",
     "text": [
      "API key 2 rate limited. Waiting 0 seconds.API key 1 rate limited. Waiting 0 seconds.\n",
      "\n"
     ]
    },
    {
     "name": "stderr",
     "output_type": "stream",
     "text": [
      "Processing tweet batches:  33%|███▎      | 2349/7043 [1:22:56<3:01:46,  2.32s/it]"
     ]
    },
    {
     "name": "stdout",
     "output_type": "stream",
     "text": [
      "API key 2 rate limited. Waiting 0 seconds.\n",
      "API key 1 rate limited. Waiting 0 seconds.\n",
      "\n",
      "Saved 9400 processed tweets to ../data/labeled_stock_tweets_partial.csv\n"
     ]
    },
    {
     "name": "stderr",
     "output_type": "stream",
     "text": [
      "Processing tweet batches:  33%|███▎      | 2350/7043 [1:22:59<3:03:09,  2.34s/it]"
     ]
    },
    {
     "name": "stdout",
     "output_type": "stream",
     "text": [
      "API key 1 rate limited. Waiting 0 seconds.API key 2 rate limited. Waiting 0 seconds.\n",
      "\n",
      "API key 2 rate limited. Waiting 0 seconds.\n"
     ]
    },
    {
     "name": "stderr",
     "output_type": "stream",
     "text": [
      "Processing tweet batches:  33%|███▎      | 2351/7043 [1:23:01<2:58:59,  2.29s/it]"
     ]
    },
    {
     "name": "stdout",
     "output_type": "stream",
     "text": [
      "API key 1 rate limited. Waiting 0 seconds.\n"
     ]
    },
    {
     "name": "stderr",
     "output_type": "stream",
     "text": [
      "Processing tweet batches:  33%|███▎      | 2353/7043 [1:23:05<2:37:27,  2.01s/it]"
     ]
    },
    {
     "name": "stdout",
     "output_type": "stream",
     "text": [
      "API key 2 rate limited. Waiting 0 seconds.\n",
      "API key 2 rate limited. Waiting 0 seconds.\n",
      "API key 2 rate limited. Waiting 0 seconds.\n"
     ]
    },
    {
     "name": "stderr",
     "output_type": "stream",
     "text": [
      "Processing tweet batches:  33%|███▎      | 2355/7043 [1:23:09<2:37:06,  2.01s/it]"
     ]
    },
    {
     "name": "stdout",
     "output_type": "stream",
     "text": [
      "API key 1 rate limited. Waiting 0 seconds.\n"
     ]
    },
    {
     "name": "stderr",
     "output_type": "stream",
     "text": [
      "Processing tweet batches:  33%|███▎      | 2358/7043 [1:23:15<2:33:45,  1.97s/it]"
     ]
    },
    {
     "name": "stdout",
     "output_type": "stream",
     "text": [
      "API key 1 rate limited. Waiting 0 seconds.\n"
     ]
    },
    {
     "name": "stderr",
     "output_type": "stream",
     "text": [
      "Processing tweet batches:  33%|███▎      | 2359/7043 [1:23:17<2:32:53,  1.96s/it]"
     ]
    },
    {
     "name": "stdout",
     "output_type": "stream",
     "text": [
      "API key 1 rate limited. Waiting 0 seconds.API key 2 rate limited. Waiting 0 seconds.\n",
      "\n",
      "API key 2 rate limited. Waiting 0 seconds.\n"
     ]
    },
    {
     "name": "stderr",
     "output_type": "stream",
     "text": [
      "Processing tweet batches:  34%|███▎      | 2360/7043 [1:23:19<2:40:24,  2.06s/it]"
     ]
    },
    {
     "name": "stdout",
     "output_type": "stream",
     "text": [
      "API key 2 rate limited. Waiting 0 seconds.\n",
      "API key 2 rate limited. Waiting 0 seconds.\n",
      "API key 2 rate limited. Waiting 0 seconds.\n"
     ]
    },
    {
     "name": "stderr",
     "output_type": "stream",
     "text": [
      "Processing tweet batches:  34%|███▎      | 2361/7043 [1:23:21<2:35:48,  2.00s/it]"
     ]
    },
    {
     "name": "stdout",
     "output_type": "stream",
     "text": [
      "API key 1 rate limited. Waiting 0 seconds.\n",
      "API key 1 rate limited. Waiting 0 seconds.\n",
      "API key 1 rate limited. Waiting 0 seconds.\n",
      "API key 1 rate limited. Waiting 0 seconds.\n"
     ]
    },
    {
     "name": "stderr",
     "output_type": "stream",
     "text": [
      "Processing tweet batches:  34%|███▎      | 2362/7043 [1:23:23<2:44:25,  2.11s/it]"
     ]
    },
    {
     "name": "stdout",
     "output_type": "stream",
     "text": [
      "API key 2 rate limited. Waiting 0 seconds.API key 1 rate limited. Waiting 0 seconds.\n",
      "\n",
      "API key 2 rate limited. Waiting 0 seconds.API key 1 rate limited. Waiting 0 seconds.\n",
      "\n",
      "API key 1 rate limited. Waiting 0 seconds.\n"
     ]
    },
    {
     "name": "stderr",
     "output_type": "stream",
     "text": [
      "Processing tweet batches:  34%|███▎      | 2364/7043 [1:23:27<2:38:23,  2.03s/it]"
     ]
    },
    {
     "name": "stdout",
     "output_type": "stream",
     "text": [
      "API key 1 rate limited. Waiting 0 seconds.\n"
     ]
    },
    {
     "name": "stderr",
     "output_type": "stream",
     "text": [
      "Processing tweet batches:  34%|███▎      | 2367/7043 [1:23:34<2:41:20,  2.07s/it]"
     ]
    },
    {
     "name": "stdout",
     "output_type": "stream",
     "text": [
      "API key 1 rate limited. Waiting 0 seconds.\n",
      "API key 2 rate limited. Waiting 0 seconds.\n"
     ]
    },
    {
     "name": "stderr",
     "output_type": "stream",
     "text": [
      "Processing tweet batches:  34%|███▎      | 2370/7043 [1:23:39<2:13:07,  1.71s/it]"
     ]
    },
    {
     "name": "stdout",
     "output_type": "stream",
     "text": [
      "API key 2 rate limited. Waiting 0 seconds.\n",
      "API key 2 rate limited. Waiting 0 seconds.\n",
      "API key 2 rate limited. Waiting 0 seconds.\n",
      "API key 2 rate limited. Waiting 0 seconds.\n",
      "API key 2 rate limited. Waiting 0 seconds.\n"
     ]
    },
    {
     "name": "stderr",
     "output_type": "stream",
     "text": [
      "Processing tweet batches:  34%|███▎      | 2372/7043 [1:23:44<2:52:58,  2.22s/it]"
     ]
    },
    {
     "name": "stdout",
     "output_type": "stream",
     "text": [
      "API key 1 rate limited. Waiting 0 seconds.\n",
      "API key 1 rate limited. Waiting 0 seconds.\n"
     ]
    },
    {
     "name": "stderr",
     "output_type": "stream",
     "text": [
      "Processing tweet batches:  34%|███▎      | 2373/7043 [1:23:46<2:57:55,  2.29s/it]"
     ]
    },
    {
     "name": "stdout",
     "output_type": "stream",
     "text": [
      "API key 1 rate limited. Waiting 0 seconds.\n"
     ]
    },
    {
     "name": "stderr",
     "output_type": "stream",
     "text": [
      "Processing tweet batches:  34%|███▎      | 2374/7043 [1:23:48<2:45:48,  2.13s/it]"
     ]
    },
    {
     "name": "stdout",
     "output_type": "stream",
     "text": [
      "API key 1 rate limited. Waiting 0 seconds.\n",
      "API key 1 rate limited. Waiting 0 seconds.\n",
      "API key 1 rate limited. Waiting 0 seconds.\n",
      "API key 1 rate limited. Waiting 0 seconds.\n",
      "\n",
      "Saved 9500 processed tweets to ../data/labeled_stock_tweets_partial.csv\n"
     ]
    },
    {
     "name": "stderr",
     "output_type": "stream",
     "text": [
      "Processing tweet batches:  34%|███▎      | 2375/7043 [1:23:50<2:55:21,  2.25s/it]"
     ]
    },
    {
     "name": "stdout",
     "output_type": "stream",
     "text": [
      "API key 2 rate limited. Waiting 0 seconds.\n"
     ]
    },
    {
     "name": "stderr",
     "output_type": "stream",
     "text": [
      "Processing tweet batches:  34%|███▎      | 2376/7043 [1:23:52<2:41:23,  2.07s/it]"
     ]
    },
    {
     "name": "stdout",
     "output_type": "stream",
     "text": [
      "API key 2 rate limited. Waiting 0 seconds.\n",
      "API key 1 rate limited. Waiting 0 seconds.\n",
      "API key 1 rate limited. Waiting 0 seconds.\n"
     ]
    },
    {
     "name": "stderr",
     "output_type": "stream",
     "text": [
      "Processing tweet batches:  34%|███▎      | 2377/7043 [1:23:54<2:48:33,  2.17s/it]"
     ]
    },
    {
     "name": "stdout",
     "output_type": "stream",
     "text": [
      "API key 1 rate limited. Waiting 0 seconds.\n",
      "API key 1 rate limited. Waiting 0 seconds.\n",
      "API key 2 rate limited. Waiting 0 seconds.\n",
      "API key 2 rate limited. Waiting 0 seconds.\n",
      "API key 2 rate limited. Waiting 0 seconds.\n"
     ]
    },
    {
     "name": "stderr",
     "output_type": "stream",
     "text": [
      "Processing tweet batches:  34%|███▍      | 2378/7043 [1:23:56<2:41:19,  2.07s/it]"
     ]
    },
    {
     "name": "stdout",
     "output_type": "stream",
     "text": [
      "API key 1 rate limited. Waiting 0 seconds.\n"
     ]
    },
    {
     "name": "stderr",
     "output_type": "stream",
     "text": [
      "Processing tweet batches:  34%|███▍      | 2379/7043 [1:23:58<2:38:32,  2.04s/it]"
     ]
    },
    {
     "name": "stdout",
     "output_type": "stream",
     "text": [
      "API key 2 rate limited. Waiting 0 seconds.\n",
      "API key 1 rate limited. Waiting 0 seconds.\n",
      "API key 1 rate limited. Waiting 0 seconds.\n"
     ]
    },
    {
     "name": "stderr",
     "output_type": "stream",
     "text": [
      "Processing tweet batches:  34%|███▍      | 2380/7043 [1:24:01<2:45:10,  2.13s/it]"
     ]
    },
    {
     "name": "stdout",
     "output_type": "stream",
     "text": [
      "API key 1 rate limited. Waiting 0 seconds.\n"
     ]
    },
    {
     "name": "stderr",
     "output_type": "stream",
     "text": [
      "Processing tweet batches:  34%|███▍      | 2381/7043 [1:24:02<2:34:47,  1.99s/it]"
     ]
    },
    {
     "name": "stdout",
     "output_type": "stream",
     "text": [
      "API key 2 rate limited. Waiting 0 seconds.\n",
      "API key 2 rate limited. Waiting 0 seconds.\n",
      "API key 2 rate limited. Waiting 0 seconds.\n"
     ]
    },
    {
     "name": "stderr",
     "output_type": "stream",
     "text": [
      "Processing tweet batches:  34%|███▍      | 2382/7043 [1:24:05<2:46:48,  2.15s/it]"
     ]
    },
    {
     "name": "stdout",
     "output_type": "stream",
     "text": [
      "API key 2 rate limited. Waiting 0 seconds.\n"
     ]
    },
    {
     "name": "stderr",
     "output_type": "stream",
     "text": [
      "Processing tweet batches:  34%|███▍      | 2385/7043 [1:24:11<2:41:55,  2.09s/it]"
     ]
    },
    {
     "name": "stdout",
     "output_type": "stream",
     "text": [
      "API key 1 rate limited. Waiting 0 seconds.\n",
      "API key 2 rate limited. Waiting 0 seconds.\n"
     ]
    },
    {
     "name": "stderr",
     "output_type": "stream",
     "text": [
      "Processing tweet batches:  34%|███▍      | 2386/7043 [1:24:12<2:30:13,  1.94s/it]"
     ]
    },
    {
     "name": "stdout",
     "output_type": "stream",
     "text": [
      "API key 2 rate limited. Waiting 0 seconds.\n"
     ]
    },
    {
     "name": "stderr",
     "output_type": "stream",
     "text": [
      "Processing tweet batches:  34%|███▍      | 2387/7043 [1:24:14<2:26:22,  1.89s/it]"
     ]
    },
    {
     "name": "stdout",
     "output_type": "stream",
     "text": [
      "API key 2 rate limited. Waiting 0 seconds.\n",
      "API key 2 rate limited. Waiting 0 seconds.\n"
     ]
    },
    {
     "name": "stderr",
     "output_type": "stream",
     "text": [
      "Processing tweet batches:  34%|███▍      | 2388/7043 [1:24:16<2:33:08,  1.97s/it]"
     ]
    },
    {
     "name": "stdout",
     "output_type": "stream",
     "text": [
      "API key 2 rate limited. Waiting 0 seconds.\n",
      "API key 2 rate limited. Waiting 0 seconds.\n",
      "API key 2 rate limited. Waiting 0 seconds.\n"
     ]
    },
    {
     "name": "stderr",
     "output_type": "stream",
     "text": [
      "Processing tweet batches:  34%|███▍      | 2389/7043 [1:24:19<2:37:51,  2.04s/it]"
     ]
    },
    {
     "name": "stdout",
     "output_type": "stream",
     "text": [
      "API key 1 rate limited. Waiting 0 seconds.\n",
      "API key 2 rate limited. Waiting 0 seconds.\n"
     ]
    },
    {
     "name": "stderr",
     "output_type": "stream",
     "text": [
      "Processing tweet batches:  34%|███▍      | 2390/7043 [1:24:27<5:17:17,  4.09s/it]"
     ]
    },
    {
     "name": "stdout",
     "output_type": "stream",
     "text": [
      "API key 1 rate limited. Waiting 0 seconds.\n",
      "API key 1 rate limited. Waiting 0 seconds.\n"
     ]
    },
    {
     "name": "stderr",
     "output_type": "stream",
     "text": [
      "Processing tweet batches:  34%|███▍      | 2392/7043 [1:24:31<3:54:12,  3.02s/it]"
     ]
    },
    {
     "name": "stdout",
     "output_type": "stream",
     "text": [
      "API key 2 rate limited. Waiting 0 seconds.\n"
     ]
    },
    {
     "name": "stderr",
     "output_type": "stream",
     "text": [
      "Processing tweet batches:  34%|███▍      | 2394/7043 [1:24:35<2:57:01,  2.28s/it]"
     ]
    },
    {
     "name": "stdout",
     "output_type": "stream",
     "text": [
      "API key 1 rate limited. Waiting 0 seconds.\n"
     ]
    },
    {
     "name": "stderr",
     "output_type": "stream",
     "text": [
      "Processing tweet batches:  34%|███▍      | 2395/7043 [1:24:36<2:46:05,  2.14s/it]"
     ]
    },
    {
     "name": "stdout",
     "output_type": "stream",
     "text": [
      "API key 2 rate limited. Waiting 0 seconds.API key 1 rate limited. Waiting 0 seconds.\n",
      "\n",
      "API key 1 rate limited. Waiting 0 seconds.\n",
      "API key 2 rate limited. Waiting 0 seconds.\n",
      "API key 1 rate limited. Waiting 0 seconds.\n",
      "API key 1 rate limited. Waiting 0 seconds.\n",
      "API key 1 rate limited. Waiting 0 seconds.\n"
     ]
    },
    {
     "name": "stderr",
     "output_type": "stream",
     "text": [
      "Processing tweet batches:  34%|███▍      | 2396/7043 [1:24:39<3:05:05,  2.39s/it]"
     ]
    },
    {
     "name": "stdout",
     "output_type": "stream",
     "text": [
      "API key 1 rate limited. Waiting 0 seconds.\n",
      "API key 1 rate limited. Waiting 0 seconds.\n",
      "API key 2 rate limited. Waiting 0 seconds.\n",
      "API key 2 rate limited. Waiting 0 seconds.\n",
      "API key 2 rate limited. Waiting 0 seconds.\n"
     ]
    },
    {
     "name": "stderr",
     "output_type": "stream",
     "text": [
      "Processing tweet batches:  34%|███▍      | 2397/7043 [1:24:41<2:54:16,  2.25s/it]"
     ]
    },
    {
     "name": "stdout",
     "output_type": "stream",
     "text": [
      "API key 2 rate limited. Waiting 0 seconds.\n",
      "API key 2 rate limited. Waiting 0 seconds.\n"
     ]
    },
    {
     "name": "stderr",
     "output_type": "stream",
     "text": [
      "Processing tweet batches:  34%|███▍      | 2399/7043 [1:24:45<2:33:05,  1.98s/it]"
     ]
    },
    {
     "name": "stdout",
     "output_type": "stream",
     "text": [
      "API key 1 rate limited. Waiting 0 seconds.\n",
      "API key 1 rate limited. Waiting 0 seconds.\n",
      "\n",
      "Saved 9600 processed tweets to ../data/labeled_stock_tweets_partial.csv\n"
     ]
    },
    {
     "name": "stderr",
     "output_type": "stream",
     "text": [
      "Processing tweet batches:  34%|███▍      | 2401/7043 [1:24:49<2:29:37,  1.93s/it]"
     ]
    },
    {
     "name": "stdout",
     "output_type": "stream",
     "text": [
      "API key 2 rate limited. Waiting 0 seconds.\n",
      "API key 2 rate limited. Waiting 0 seconds.\n"
     ]
    },
    {
     "name": "stderr",
     "output_type": "stream",
     "text": [
      "Processing tweet batches:  34%|███▍      | 2402/7043 [1:24:51<2:34:24,  2.00s/it]"
     ]
    },
    {
     "name": "stdout",
     "output_type": "stream",
     "text": [
      "API key 1 rate limited. Waiting 0 seconds.\n",
      "API key 1 rate limited. Waiting 0 seconds.\n",
      "API key 1 rate limited. Waiting 0 seconds.\n"
     ]
    },
    {
     "name": "stderr",
     "output_type": "stream",
     "text": [
      "Processing tweet batches:  34%|███▍      | 2403/7043 [1:24:53<2:41:43,  2.09s/it]"
     ]
    },
    {
     "name": "stdout",
     "output_type": "stream",
     "text": [
      "API key 2 rate limited. Waiting 0 seconds.\n"
     ]
    },
    {
     "name": "stderr",
     "output_type": "stream",
     "text": [
      "Processing tweet batches:  34%|███▍      | 2405/7043 [1:24:57<2:33:15,  1.98s/it]"
     ]
    },
    {
     "name": "stdout",
     "output_type": "stream",
     "text": [
      "API key 2 rate limited. Waiting 0 seconds.\n",
      "API key 1 rate limited. Waiting 0 seconds.\n",
      "API key 1 rate limited. Waiting 0 seconds.\n"
     ]
    },
    {
     "name": "stderr",
     "output_type": "stream",
     "text": [
      "Processing tweet batches:  34%|███▍      | 2407/7043 [1:25:01<2:21:05,  1.83s/it]"
     ]
    },
    {
     "name": "stdout",
     "output_type": "stream",
     "text": [
      "API key 1 rate limited. Waiting 0 seconds.API key 2 rate limited. Waiting 0 seconds.\n",
      "\n",
      "API key 1 rate limited. Waiting 0 seconds.\n",
      "API key 1 rate limited. Waiting 0 seconds.\n"
     ]
    },
    {
     "name": "stderr",
     "output_type": "stream",
     "text": [
      "Processing tweet batches:  34%|███▍      | 2408/7043 [1:25:03<2:35:39,  2.01s/it]"
     ]
    },
    {
     "name": "stdout",
     "output_type": "stream",
     "text": [
      "API key 1 rate limited. Waiting 0 seconds.\n"
     ]
    },
    {
     "name": "stderr",
     "output_type": "stream",
     "text": [
      "Processing tweet batches:  34%|███▍      | 2409/7043 [1:25:05<2:34:02,  1.99s/it]"
     ]
    },
    {
     "name": "stdout",
     "output_type": "stream",
     "text": [
      "API key 1 rate limited. Waiting 0 seconds.\n",
      "API key 2 rate limited. Waiting 0 seconds.\n"
     ]
    },
    {
     "name": "stderr",
     "output_type": "stream",
     "text": [
      "Processing tweet batches:  34%|███▍      | 2410/7043 [1:25:07<2:30:33,  1.95s/it]"
     ]
    },
    {
     "name": "stdout",
     "output_type": "stream",
     "text": [
      "API key 2 rate limited. Waiting 0 seconds.\n"
     ]
    },
    {
     "name": "stderr",
     "output_type": "stream",
     "text": [
      "Processing tweet batches:  34%|███▍      | 2412/7043 [1:25:10<2:22:15,  1.84s/it]"
     ]
    },
    {
     "name": "stdout",
     "output_type": "stream",
     "text": [
      "API key 2 rate limited. Waiting 0 seconds.\n"
     ]
    },
    {
     "name": "stderr",
     "output_type": "stream",
     "text": [
      "Processing tweet batches:  34%|███▍      | 2413/7043 [1:25:12<2:24:47,  1.88s/it]"
     ]
    },
    {
     "name": "stdout",
     "output_type": "stream",
     "text": [
      "API key 2 rate limited. Waiting 0 seconds.\n"
     ]
    },
    {
     "name": "stderr",
     "output_type": "stream",
     "text": [
      "Processing tweet batches:  34%|███▍      | 2413/7043 [1:25:13<2:43:31,  2.12s/it]\n"
     ]
    },
    {
     "ename": "KeyboardInterrupt",
     "evalue": "",
     "output_type": "error",
     "traceback": [
      "\u001b[31m---------------------------------------------------------------------------\u001b[39m",
      "\u001b[31mKeyboardInterrupt\u001b[39m                         Traceback (most recent call last)",
      "\u001b[36mCell\u001b[39m\u001b[36m \u001b[39m\u001b[32mIn[28]\u001b[39m\u001b[32m, line 11\u001b[39m\n\u001b[32m      8\u001b[39m RATE_LIMIT_WAIT = \u001b[32m0\u001b[39m  \u001b[38;5;66;03m# Default wait time in seconds when rate limited\u001b[39;00m\n\u001b[32m     10\u001b[39m \u001b[38;5;66;03m# Process tweets using concurrent API keys\u001b[39;00m\n\u001b[32m---> \u001b[39m\u001b[32m11\u001b[39m sentiments = \u001b[43mprocess_tweets_concurrent\u001b[49m\u001b[43m(\u001b[49m\n\u001b[32m     12\u001b[39m \u001b[43m    \u001b[49m\u001b[43mtweets\u001b[49m\u001b[43m,\u001b[49m\u001b[43m \u001b[49m\n\u001b[32m     13\u001b[39m \u001b[43m    \u001b[49m\u001b[43mbatch_size\u001b[49m\u001b[43m=\u001b[49m\u001b[43mBATCH_SIZE\u001b[49m\u001b[43m,\u001b[49m\u001b[43m \u001b[49m\n\u001b[32m     14\u001b[39m \u001b[43m    \u001b[49m\u001b[43mmax_workers\u001b[49m\u001b[43m=\u001b[49m\u001b[43mMAX_WORKERS\u001b[49m\u001b[43m,\u001b[49m\n\u001b[32m     15\u001b[39m \u001b[43m    \u001b[49m\u001b[43msave_every\u001b[49m\u001b[43m=\u001b[49m\u001b[43mSAVE_EVERY\u001b[49m\u001b[43m,\u001b[49m\n\u001b[32m     16\u001b[39m \u001b[43m    \u001b[49m\u001b[43mrate_limit_wait\u001b[49m\u001b[43m=\u001b[49m\u001b[43mRATE_LIMIT_WAIT\u001b[49m\n\u001b[32m     17\u001b[39m \u001b[43m)\u001b[49m\n\u001b[32m     19\u001b[39m \u001b[38;5;66;03m# Add sentiments to the DataFrame\u001b[39;00m\n\u001b[32m     20\u001b[39m sample_df = sample_df.with_columns(pl.Series(name=\u001b[33m'\u001b[39m\u001b[33msentiment\u001b[39m\u001b[33m'\u001b[39m, values=sentiments))\n",
      "\u001b[36mCell\u001b[39m\u001b[36m \u001b[39m\u001b[32mIn[27]\u001b[39m\u001b[32m, line 164\u001b[39m, in \u001b[36mprocess_tweets_concurrent\u001b[39m\u001b[34m(tweets, batch_size, max_workers, save_every, rate_limit_wait)\u001b[39m\n\u001b[32m    161\u001b[39m \u001b[38;5;28;01mfor\u001b[39;00m batch_idx, batch \u001b[38;5;129;01min\u001b[39;00m \u001b[38;5;28menumerate\u001b[39m(tqdm(batches, desc=\u001b[33m\"\u001b[39m\u001b[33mProcessing tweet batches\u001b[39m\u001b[33m\"\u001b[39m)):\n\u001b[32m    162\u001b[39m     \u001b[38;5;28;01mtry\u001b[39;00m:\n\u001b[32m    163\u001b[39m         \u001b[38;5;66;03m# Process batch\u001b[39;00m\n\u001b[32m--> \u001b[39m\u001b[32m164\u001b[39m         results = \u001b[38;5;28mlist\u001b[39m(executor.map(process_tweet_with_key, batch))\n\u001b[32m    166\u001b[39m         \u001b[38;5;66;03m# Update results\u001b[39;00m\n\u001b[32m    167\u001b[39m         \u001b[38;5;28;01mfor\u001b[39;00m idx, sentiment \u001b[38;5;129;01min\u001b[39;00m results:\n",
      "\u001b[36mFile \u001b[39m\u001b[32m~/anaconda3/envs/PIRAS/lib/python3.11/concurrent/futures/_base.py:619\u001b[39m, in \u001b[36mExecutor.map.<locals>.result_iterator\u001b[39m\u001b[34m()\u001b[39m\n\u001b[32m    616\u001b[39m \u001b[38;5;28;01mwhile\u001b[39;00m fs:\n\u001b[32m    617\u001b[39m     \u001b[38;5;66;03m# Careful not to keep a reference to the popped future\u001b[39;00m\n\u001b[32m    618\u001b[39m     \u001b[38;5;28;01mif\u001b[39;00m timeout \u001b[38;5;129;01mis\u001b[39;00m \u001b[38;5;28;01mNone\u001b[39;00m:\n\u001b[32m--> \u001b[39m\u001b[32m619\u001b[39m         \u001b[38;5;28;01myield\u001b[39;00m \u001b[43m_result_or_cancel\u001b[49m\u001b[43m(\u001b[49m\u001b[43mfs\u001b[49m\u001b[43m.\u001b[49m\u001b[43mpop\u001b[49m\u001b[43m(\u001b[49m\u001b[43m)\u001b[49m\u001b[43m)\u001b[49m\n\u001b[32m    620\u001b[39m     \u001b[38;5;28;01melse\u001b[39;00m:\n\u001b[32m    621\u001b[39m         \u001b[38;5;28;01myield\u001b[39;00m _result_or_cancel(fs.pop(), end_time - time.monotonic())\n",
      "\u001b[36mFile \u001b[39m\u001b[32m~/anaconda3/envs/PIRAS/lib/python3.11/concurrent/futures/_base.py:317\u001b[39m, in \u001b[36m_result_or_cancel\u001b[39m\u001b[34m(***failed resolving arguments***)\u001b[39m\n\u001b[32m    315\u001b[39m \u001b[38;5;28;01mtry\u001b[39;00m:\n\u001b[32m    316\u001b[39m     \u001b[38;5;28;01mtry\u001b[39;00m:\n\u001b[32m--> \u001b[39m\u001b[32m317\u001b[39m         \u001b[38;5;28;01mreturn\u001b[39;00m \u001b[43mfut\u001b[49m\u001b[43m.\u001b[49m\u001b[43mresult\u001b[49m\u001b[43m(\u001b[49m\u001b[43mtimeout\u001b[49m\u001b[43m)\u001b[49m\n\u001b[32m    318\u001b[39m     \u001b[38;5;28;01mfinally\u001b[39;00m:\n\u001b[32m    319\u001b[39m         fut.cancel()\n",
      "\u001b[36mFile \u001b[39m\u001b[32m~/anaconda3/envs/PIRAS/lib/python3.11/concurrent/futures/_base.py:451\u001b[39m, in \u001b[36mFuture.result\u001b[39m\u001b[34m(self, timeout)\u001b[39m\n\u001b[32m    448\u001b[39m \u001b[38;5;28;01melif\u001b[39;00m \u001b[38;5;28mself\u001b[39m._state == FINISHED:\n\u001b[32m    449\u001b[39m     \u001b[38;5;28;01mreturn\u001b[39;00m \u001b[38;5;28mself\u001b[39m.__get_result()\n\u001b[32m--> \u001b[39m\u001b[32m451\u001b[39m \u001b[38;5;28;43mself\u001b[39;49m\u001b[43m.\u001b[49m\u001b[43m_condition\u001b[49m\u001b[43m.\u001b[49m\u001b[43mwait\u001b[49m\u001b[43m(\u001b[49m\u001b[43mtimeout\u001b[49m\u001b[43m)\u001b[49m\n\u001b[32m    453\u001b[39m \u001b[38;5;28;01mif\u001b[39;00m \u001b[38;5;28mself\u001b[39m._state \u001b[38;5;129;01min\u001b[39;00m [CANCELLED, CANCELLED_AND_NOTIFIED]:\n\u001b[32m    454\u001b[39m     \u001b[38;5;28;01mraise\u001b[39;00m CancelledError()\n",
      "\u001b[36mFile \u001b[39m\u001b[32m~/anaconda3/envs/PIRAS/lib/python3.11/threading.py:320\u001b[39m, in \u001b[36mCondition.wait\u001b[39m\u001b[34m(self, timeout)\u001b[39m\n\u001b[32m    318\u001b[39m \u001b[38;5;28;01mtry\u001b[39;00m:    \u001b[38;5;66;03m# restore state no matter what (e.g., KeyboardInterrupt)\u001b[39;00m\n\u001b[32m    319\u001b[39m     \u001b[38;5;28;01mif\u001b[39;00m timeout \u001b[38;5;129;01mis\u001b[39;00m \u001b[38;5;28;01mNone\u001b[39;00m:\n\u001b[32m--> \u001b[39m\u001b[32m320\u001b[39m         \u001b[43mwaiter\u001b[49m\u001b[43m.\u001b[49m\u001b[43macquire\u001b[49m\u001b[43m(\u001b[49m\u001b[43m)\u001b[49m\n\u001b[32m    321\u001b[39m         gotit = \u001b[38;5;28;01mTrue\u001b[39;00m\n\u001b[32m    322\u001b[39m     \u001b[38;5;28;01melse\u001b[39;00m:\n",
      "\u001b[31mKeyboardInterrupt\u001b[39m: "
     ]
    }
   ],
   "source": [
    "# Process tweets using the concurrent approach\n",
    "tweets = sample_df[tweet_column].to_list()\n",
    "\n",
    "# Define parameters\n",
    "BATCH_SIZE = 4  # Number of tweets to process in each batch\n",
    "MAX_WORKERS = 2  # Number of concurrent workers (match to number of API keys)\n",
    "SAVE_EVERY = 100  # Save results every N tweets processed\n",
    "RATE_LIMIT_WAIT = 0  # Default wait time in seconds when rate limited\n",
    "\n",
    "# Process tweets using concurrent API keys\n",
    "sentiments = process_tweets_concurrent(\n",
    "    tweets, \n",
    "    batch_size=BATCH_SIZE, \n",
    "    max_workers=MAX_WORKERS,\n",
    "    save_every=SAVE_EVERY,\n",
    "    rate_limit_wait=RATE_LIMIT_WAIT\n",
    ")\n",
    "\n",
    "# Add sentiments to the DataFrame\n",
    "sample_df = sample_df.with_columns(pl.Series(name='sentiment', values=sentiments))\n",
    "\n",
    "# Display the results\n",
    "sample_df.select([tweet_column, 'sentiment']).head(10)\n"
   ]
  },
  {
   "cell_type": "code",
   "execution_count": null,
   "metadata": {},
   "outputs": [],
   "source": [
    "# Save the labeled data\n",
    "output_path = \"../data/labeled_stock_tweets.csv\"\n",
    "os.makedirs(os.path.dirname(output_path), exist_ok=True)\n",
    "sample_df.write_csv(output_path)\n",
    "print(f\"\\nSaved labeled data to {output_path}\")\n",
    "\n",
    "# Display some examples of each sentiment\n",
    "print(\"\\nExamples for each sentiment:\")\n",
    "for sentiment in ['STRONGLY_POSITIVE', 'POSITIVE', 'NEUTRAL', 'NEGATIVE', 'STRONGLY_NEGATIVE']:\n",
    "    examples = sample_df.filter(pl.col(\"sentiment\") == sentiment).sample(1, seed=42)\n",
    "    if examples.shape[0] > 0:\n",
    "        print(f\"\\n{sentiment}:\\n{examples[0, tweet_column]}\")"
   ]
  }
 ],
 "metadata": {
  "kernelspec": {
   "display_name": "Python 3",
   "language": "python",
   "name": "python3"
  },
  "language_info": {
   "codemirror_mode": {
    "name": "ipython",
    "version": 3
   },
   "file_extension": ".py",
   "mimetype": "text/x-python",
   "name": "python",
   "nbconvert_exporter": "python",
   "pygments_lexer": "ipython3",
   "version": "3.11.0"
  }
 },
 "nbformat": 4,
 "nbformat_minor": 4
}
